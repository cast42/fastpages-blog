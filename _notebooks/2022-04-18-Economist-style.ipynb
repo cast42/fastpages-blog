{
  "cells": [
    {
      "cell_type": "markdown",
      "metadata": {
        "id": "2zk7fiheyOKK"
      },
      "source": [
        "# \"Reconstructing Economist graph with Altair\"\n",
        "> \"#30DayChartChallenge #altair #day12\"\n",
        "\n",
        "- toc: true\n",
        "- branch: master\n",
        "- badges: true\n",
        "- comments: true\n",
        "- author: Lode Nachtergaele\n",
        "- categories: [cast42, jupyter, altair]\n",
        "- image: images/Economist_stye%3B_30dayschartchallenge_day12.png"
      ]
    },
    {
      "cell_type": "markdown",
      "metadata": {
        "id": "rN8Opb2dvCik"
      },
      "source": [
        "In an Economist article [\"The metamorphosis: How Jeremy Corbyn took control of Labour\"](https://www.economist.com/britain/2016/08/13/the-metamorphosis), the following graph appeared:\n",
        "<img src=\"https://www.economist.com/img/b/400/363/90/sites/default/files/20160813_BRC304_0.png\">\n",
        "\n",
        "Later, [Sarah Leo](https://twitter.com/misssarahleo?lang=nl), data visualiser at The Economist, improved the graph to:\n",
        "<img src='https://miro.medium.com/max/875/1*9QE_yL3boSLqopJkSBfL5A.png'>\n",
        "The rationale behind this improvement is discussed in her article: ['Mistakes, we made a few'](\n",
        "https://medium.economist.com/mistakes-weve-drawn-a-few-8cdd8a42d368).\n",
        "\n",
        "In this article, I show how visualisation library Altair can be used to reconstruct the improved graph."
      ]
    },
    {
      "cell_type": "code",
      "execution_count": 3,
      "metadata": {
        "id": "TKcpE4-2u8tS"
      },
      "outputs": [
        {
          "ename": "ModuleNotFoundError",
          "evalue": "No module named 'altair'",
          "output_type": "error",
          "traceback": [
            "\u001b[0;31m---------------------------------------------------------------------------\u001b[0m",
            "\u001b[0;31mModuleNotFoundError\u001b[0m                       Traceback (most recent call last)",
            "\u001b[1;32m/Users/lode/Downloads/2022-04-18-Economist-style.ipynb Cell 3'\u001b[0m in \u001b[0;36m<module>\u001b[0;34m\u001b[0m\n\u001b[1;32m      <a href='vscode-notebook-cell:/Users/lode/Downloads/2022-04-18-Economist-style.ipynb#ch0000002?line=0'>1</a>\u001b[0m \u001b[39mimport\u001b[39;00m \u001b[39mnumpy\u001b[39;00m \u001b[39mas\u001b[39;00m \u001b[39mnp\u001b[39;00m\n\u001b[1;32m      <a href='vscode-notebook-cell:/Users/lode/Downloads/2022-04-18-Economist-style.ipynb#ch0000002?line=1'>2</a>\u001b[0m \u001b[39mimport\u001b[39;00m \u001b[39mpandas\u001b[39;00m \u001b[39mas\u001b[39;00m \u001b[39mpd\u001b[39;00m\n\u001b[0;32m----> <a href='vscode-notebook-cell:/Users/lode/Downloads/2022-04-18-Economist-style.ipynb#ch0000002?line=2'>3</a>\u001b[0m \u001b[39mimport\u001b[39;00m \u001b[39maltair\u001b[39;00m \u001b[39mas\u001b[39;00m \u001b[39malt\u001b[39;00m\n",
            "\u001b[0;31mModuleNotFoundError\u001b[0m: No module named 'altair'"
          ]
        }
      ],
      "source": [
        "import numpy as np\n",
        "import pandas as pd\n",
        "import altair as alt"
      ]
    },
    {
      "cell_type": "markdown",
      "metadata": {
        "id": "3DhGQ6BTvefm"
      },
      "source": [
        "Read the data for the graph into a Pandas dataframe:"
      ]
    },
    {
      "cell_type": "code",
      "execution_count": null,
      "metadata": {
        "id": "BCSYpm8IvG1_"
      },
      "outputs": [],
      "source": [
        "df = pd.read_csv('http://infographics.economist.com/databank/Economist_corbyn.csv').dropna()"
      ]
    },
    {
      "cell_type": "markdown",
      "metadata": {
        "id": "QQs-mx5dvgNy"
      },
      "source": [
        "This is how the data looks:"
      ]
    },
    {
      "cell_type": "code",
      "execution_count": null,
      "metadata": {
        "colab": {
          "base_uri": "https://localhost:8080/",
          "height": 238
        },
        "id": "eeIXlpzevkMU",
        "outputId": "2bbd8b3a-8ad4-400b-ea0d-0ae352309ca3"
      },
      "outputs": [],
      "source": [
        "df"
      ]
    },
    {
      "cell_type": "markdown",
      "metadata": {
        "id": "38kO6oplvp7J"
      },
      "source": [
        "A standard bar graph in Altair gives this:"
      ]
    },
    {
      "cell_type": "code",
      "execution_count": null,
      "metadata": {
        "colab": {
          "base_uri": "https://localhost:8080/",
          "height": 183
        },
        "id": "lo12273Bvot0",
        "outputId": "72b83543-4e10-4481-8e9f-825f7d292618"
      },
      "outputs": [],
      "source": [
        "alt.Chart(df).mark_bar().encode(\n",
        "    x='Average number of likes per Facebook post 2016:Q',\n",
        "    y='Page:O'\n",
        ")"
      ]
    },
    {
      "cell_type": "markdown",
      "metadata": {
        "id": "b3Bk5A23vwAs"
      },
      "source": [
        "The message of the graph is that Jerermy Corbyn has by far the most likes per Facebook post in 2016. There are a number of improvements possible:\n",
        "\n",
        "The number on the x-axis are multiple of thousands. In spirit of removing as much inkt as possible, let's rescale the x-asis with factor 1000.\n",
        "The label 'Page' on the y-axis is superfluous. Let's remove it."
      ]
    },
    {
      "cell_type": "code",
      "execution_count": null,
      "metadata": {
        "id": "BdgwUPRZv3Wt"
      },
      "outputs": [],
      "source": [
        "df['page1k'] = df['Average number of likes per Facebook post 2016']/1000.0"
      ]
    },
    {
      "cell_type": "markdown",
      "metadata": {
        "id": "9KjStY7-v-bW"
      },
      "source": [
        "After scaling the graphs looks like this:"
      ]
    },
    {
      "cell_type": "code",
      "execution_count": null,
      "metadata": {
        "colab": {
          "base_uri": "https://localhost:8080/",
          "height": 183
        },
        "id": "iKwuouoOv9sd",
        "outputId": "4be22b76-7add-4db6-9258-4cef60296362"
      },
      "outputs": [],
      "source": [
        "alt.Chart(df).mark_bar().encode(\n",
        "    x=alt.X('page1k', title='Average number of likes per Facebook post 2016'),\n",
        "    y=alt.Y('Page:O', title='')\n",
        ")"
      ]
    },
    {
      "cell_type": "markdown",
      "metadata": {
        "id": "3ZfXTfoBwHYE"
      },
      "source": [
        "A third improvement is to sort the bars from high to low. This supports the message, Jeremy Corbyn has the most clicks."
      ]
    },
    {
      "cell_type": "code",
      "execution_count": null,
      "metadata": {
        "colab": {
          "base_uri": "https://localhost:8080/",
          "height": 183
        },
        "id": "U2309n98wK6e",
        "outputId": "e995225b-1d7e-4cf5-8be4-48585b81736d"
      },
      "outputs": [],
      "source": [
        "alt.Chart(df).mark_bar().encode(\n",
        "    x=alt.X('page1k:Q', title='Average number of likes per Facebook post 2016'),\n",
        "    y=alt.Y('Page:O', title='', sort=alt.EncodingSortField(\n",
        "            field=\"Average number of likes per Facebook post 2016:Q\",  # The field to use for the sort\n",
        "            op=\"sum\",  # The operation to run on the field prior to sorting\n",
        "            order=\"ascending\"  # The order to sort in\n",
        "        ))\n",
        ")"
      ]
    },
    {
      "cell_type": "markdown",
      "metadata": {
        "id": "LrsuensNwR_z"
      },
      "source": [
        "Now, we see that we have to many ticks on the x-axis. We can add a scale and map the x-axis to integers to cope with that. While adding markup for the x-axis, we add orient='top'. That move the xlabel text to the top of the graph."
      ]
    },
    {
      "cell_type": "code",
      "execution_count": null,
      "metadata": {
        "colab": {
          "base_uri": "https://localhost:8080/",
          "height": 183
        },
        "id": "Po25n3yswN8s",
        "outputId": "be4c0072-8753-4796-fea9-4a09a02208c1"
      },
      "outputs": [],
      "source": [
        "alt.Chart(df).mark_bar().encode(\n",
        "    x=alt.X('page1k:Q', title='Average number of likes per Facebook post 2016',\n",
        "            axis=alt.Axis(title='Average number of likes per Facebook post 2016', orient=\"top\", format='d', values=[1,2,3,4,5,6]),\n",
        "            scale=alt.Scale(round=True, domain=[0,6])),\n",
        "    y=alt.Y('Page:O', title='', sort=alt.EncodingSortField(\n",
        "            field=\"Average number of likes per Facebook post 2016:Q\",  # The field to use for the sort\n",
        "            op=\"sum\",  # The operation to run on the field prior to sorting\n",
        "            order=\"ascending\"  # The order to sort in\n",
        "        ))\n",
        ")"
      ]
    },
    {
      "cell_type": "markdown",
      "metadata": {
        "id": "2bpxOJz5wdek"
      },
      "source": [
        "Now, we want to remove the x-axis itself as it adds nothing extra. We do that by putting the stroke at None in the configure_view. We also adjust the x-axis title to make clear the numbers are multiples of thousands."
      ]
    },
    {
      "cell_type": "code",
      "execution_count": null,
      "metadata": {
        "colab": {
          "base_uri": "https://localhost:8080/",
          "height": 183
        },
        "id": "9iIPCDyLwe1u",
        "outputId": "9b1afaba-2e17-4569-d5e8-e33594473fde"
      },
      "outputs": [],
      "source": [
        "alt.Chart(df).mark_bar().encode(\n",
        "    x=alt.X('page1k:Q', title=\"Average number of likes per Facebook post 2016  ('000)\",\n",
        "            axis=alt.Axis(title='Average number of likes per Facebook post 2016', orient=\"top\", format='d', values=[1,2,3,4,5,6]),\n",
        "            scale=alt.Scale(round=True, domain=[0,6])),\n",
        "    y=alt.Y('Page:O', title='', sort=alt.EncodingSortField(\n",
        "            field=\"Average number of likes per Facebook post 2016:Q\",  # The field to use for the sort\n",
        "            op=\"sum\",  # The operation to run on the field prior to sorting\n",
        "            order=\"ascending\"  # The order to sort in\n",
        "        ))\n",
        ").configure_view(\n",
        "    stroke=None, # Remove box around graph\n",
        ")"
      ]
    },
    {
      "cell_type": "markdown",
      "metadata": {
        "id": "V4OunriowmUs"
      },
      "source": [
        "Next we try to left align the y-axis labels:"
      ]
    },
    {
      "cell_type": "code",
      "execution_count": null,
      "metadata": {
        "colab": {
          "base_uri": "https://localhost:8080/",
          "height": 183
        },
        "id": "BGcac09Iwlf0",
        "outputId": "746f9432-985c-48a7-b364-c1bde479a3e1"
      },
      "outputs": [],
      "source": [
        "alt.Chart(df).mark_bar().encode(\n",
        "    x=alt.X('page1k:Q',\n",
        "            axis=alt.Axis(title=\"Average number of likes per Facebook post 2016  ('000)\", orient=\"top\", format='d', values=[1,2,3,4,5,6]),\n",
        "            scale=alt.Scale(round=True, domain=[0,6])),\n",
        "    y=alt.Y('Page:O', title='', sort=alt.EncodingSortField(\n",
        "            field=\"Average number of likes per Facebook post 2016:Q\",  # The field to use for the sort\n",
        "            op=\"sum\",  # The operation to run on the field prior to sorting\n",
        "            order=\"ascending\"  # The order to sort in\n",
        "        ))\n",
        ").configure_view(\n",
        "    stroke=None, # Remove box around graph\n",
        ").configure_axisY(\n",
        "    labelPadding=70, \n",
        "    labelAlign='left'\n",
        ")"
      ]
    },
    {
      "cell_type": "markdown",
      "metadata": {
        "id": "8YxwE9d0ws41"
      },
      "source": [
        "Now, we apply the Economist style:"
      ]
    },
    {
      "cell_type": "code",
      "execution_count": null,
      "metadata": {
        "colab": {
          "base_uri": "https://localhost:8080/",
          "height": 317
        },
        "id": "OpWMcxOCvJB3",
        "outputId": "d4a148c5-5cca-4f85-b02a-717651f50b8e"
      },
      "outputs": [],
      "source": [
        "square = alt.Chart().mark_rect(width=50, height=18, color='#EB111A', xOffset=-105, yOffset=10)\n",
        "\n",
        "bars = alt.Chart(df).mark_bar().encode(\n",
        "    x=alt.X('page1k:Q',\n",
        "            axis=alt.Axis(title=\"\", orient=\"top\", format='d', values=[1,2,3,4,5,6], labelFontSize=14),\n",
        "            scale=alt.Scale(round=True, domain=[0,6])),\n",
        "    y=alt.Y('Page:O', title='', sort=alt.EncodingSortField(\n",
        "            field=\"Average number of likes per Facebook post 2016:Q\",  # The field to use for the sort\n",
        "            op=\"sum\",  # The operation to run on the field prior to sorting\n",
        "            order=\"ascending\"  # The order to sort in\n",
        "        ),\n",
        "        # Based on https://stackoverflow.com/questions/66684882/color-some-x-labels-in-altair-plot\n",
        "        axis=alt.Axis(labelFontSize=14, labelFontStyle=alt.condition('datum.value == \"Jeremy Corbyn\"', alt.value('bold'), alt.value('italic'))))\n",
        ").properties(title={\n",
        "      \"text\": [\"Left Click\", ], \n",
        "      \"subtitle\": [\"Average number of likes per Facebook post\\n\", \"2016, '000\"],\n",
        "      \"align\": 'left',\n",
        "      \"anchor\": 'start'\n",
        "    }\n",
        ")\n",
        "\n",
        "source = alt.Chart(\n",
        "    {\"values\": [{\"text\": \"Source: Facebook\"}]}\n",
        ").mark_text(size=12, align='left', dx=-120, color='darkgrey').encode(\n",
        "    text=\"text:N\"\n",
        ")\n",
        "\n",
        "# from https://stackoverflow.com/questions/57244390/has-anyone-figured-out-a-workaround-to-add-a-subtitle-to-an-altair-generated-cha\n",
        "chart = alt.vconcat(\n",
        "    square,\n",
        "    bars,\n",
        "    source\n",
        ").configure_concat(\n",
        "    spacing=0\n",
        ").configure(\n",
        "    background='#D9E9F0'\n",
        ").configure_view(\n",
        "    stroke=None, # Remove box around graph\n",
        ").configure_axisY(\n",
        "    labelPadding=110,\n",
        "    labelAlign='left',\n",
        "    ticks=False,\n",
        "    grid=False\n",
        ").configure_title(\n",
        "    fontSize=22,\n",
        "    subtitleFontSize=18,\n",
        "    offset=30,\n",
        "    dy=30\n",
        ")\n",
        "\n",
        "chart"
      ]
    },
    {
      "cell_type": "markdown",
      "metadata": {
        "id": "lwqHvroQwvNB"
      },
      "source": [
        "The only thing, I could not reproduce with Altair is the light bar around the the first label and bar. For those final touches I think it's better to export the graph and add those finishing touches with a tool such as Inkscape or Illustrator."
      ]
    }
  ],
  "metadata": {
    "colab": {
      "name": "2022-04-18-Economist_style.ipynb",
      "provenance": []
    },
    "kernelspec": {
      "display_name": "Python 3",
      "name": "python3"
    },
    "language_info": {
      "codemirror_mode": {
        "name": "ipython",
        "version": 3
      },
      "file_extension": ".py",
      "mimetype": "text/x-python",
      "name": "python",
      "nbconvert_exporter": "python",
      "pygments_lexer": "ipython3",
      "version": "3.10.2"
    }
  },
  "nbformat": 4,
  "nbformat_minor": 0
}
