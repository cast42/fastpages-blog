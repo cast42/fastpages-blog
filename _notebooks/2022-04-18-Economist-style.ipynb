{
  "nbformat": 4,
  "nbformat_minor": 0,
  "metadata": {
    "colab": {
      "name": "2022-04-18-Economist_style.ipynb",
      "provenance": []
    },
    "kernelspec": {
      "name": "python3",
      "display_name": "Python 3"
    },
    "language_info": {
      "name": "python"
    }
  },
  "cells": [
    {
      "cell_type": "markdown",
      "source": [
        "# Reconstructing Economist graph with Altair\",\n",
        "> #30dayschartchallenge #altair #day12\n",
        "\n",
        "- toc: true\n",
        "- branch: master\n",
        "- badges: true\n",
        "- comments: true\n",
        "- author: Lode Nachtergaele\n",
        "- categories: [cast42, jupyter, altair]"
      ],
      "metadata": {
        "id": "2zk7fiheyOKK"
      }
    },
    {
      "cell_type": "markdown",
      "source": [
        "In an Economist article [\"The metamorphosis: How Jeremy Corbyn took control of Labour\"](https://www.economist.com/britain/2016/08/13/the-metamorphosis), the following graph appeared:\n",
        "<img src=\"https://www.economist.com/img/b/400/363/90/sites/default/files/20160813_BRC304_0.png\">\n",
        "\n",
        "Later, [Sarah Leo](https://twitter.com/misssarahleo?lang=nl), data visualiser at The Economist, improved the graph to:\n",
        "<img src='https://miro.medium.com/max/875/1*9QE_yL3boSLqopJkSBfL5A.png'>\n",
        "The rationale behind this improvement is discussed in her article: ['Mistakes, we made a few'](\n",
        "https://medium.economist.com/mistakes-weve-drawn-a-few-8cdd8a42d368).\n",
        "\n",
        "In this article, I show how visualisation library Altair can be used to reconstruct the improved graph."
      ],
      "metadata": {
        "id": "rN8Opb2dvCik"
      }
    },
    {
      "cell_type": "code",
      "source": [
        "import numpy as np\n",
        "import pandas as pd\n",
        "import altair as alt"
      ],
      "metadata": {
        "id": "TKcpE4-2u8tS"
      },
      "execution_count": 2,
      "outputs": []
    },
    {
      "cell_type": "markdown",
      "source": [
        "Read the data for the graph into a Pandas dataframe:"
      ],
      "metadata": {
        "id": "3DhGQ6BTvefm"
      }
    },
    {
      "cell_type": "code",
      "source": [
        "df = pd.read_csv('http://infographics.economist.com/databank/Economist_corbyn.csv').dropna()"
      ],
      "metadata": {
        "id": "BCSYpm8IvG1_"
      },
      "execution_count": 5,
      "outputs": []
    },
    {
      "cell_type": "markdown",
      "source": [
        "This is how the data looks:"
      ],
      "metadata": {
        "id": "QQs-mx5dvgNy"
      }
    },
    {
      "cell_type": "code",
      "source": [
        "df"
      ],
      "metadata": {
        "colab": {
          "base_uri": "https://localhost:8080/",
          "height": 238
        },
        "id": "eeIXlpzevkMU",
        "outputId": "2bbd8b3a-8ad4-400b-ea0d-0ae352309ca3"
      },
      "execution_count": 6,
      "outputs": [
        {
          "output_type": "execute_result",
          "data": {
            "text/plain": [
              "            Page  Average number of likes per Facebook post 2016\n",
              "0  Jeremy Corbyn                                          5210.0\n",
              "1   Labour Party                                           845.0\n",
              "2       Momentum                                           229.0\n",
              "3     Owen Smith                                           127.0\n",
              "4  Andy Burnham                                            105.0\n",
              "5  Saving Labour                                            56.0"
            ],
            "text/html": [
              "\n",
              "  <div id=\"df-114f8e98-f360-4811-924f-924c9798a69b\">\n",
              "    <div class=\"colab-df-container\">\n",
              "      <div>\n",
              "<style scoped>\n",
              "    .dataframe tbody tr th:only-of-type {\n",
              "        vertical-align: middle;\n",
              "    }\n",
              "\n",
              "    .dataframe tbody tr th {\n",
              "        vertical-align: top;\n",
              "    }\n",
              "\n",
              "    .dataframe thead th {\n",
              "        text-align: right;\n",
              "    }\n",
              "</style>\n",
              "<table border=\"1\" class=\"dataframe\">\n",
              "  <thead>\n",
              "    <tr style=\"text-align: right;\">\n",
              "      <th></th>\n",
              "      <th>Page</th>\n",
              "      <th>Average number of likes per Facebook post 2016</th>\n",
              "    </tr>\n",
              "  </thead>\n",
              "  <tbody>\n",
              "    <tr>\n",
              "      <th>0</th>\n",
              "      <td>Jeremy Corbyn</td>\n",
              "      <td>5210.0</td>\n",
              "    </tr>\n",
              "    <tr>\n",
              "      <th>1</th>\n",
              "      <td>Labour Party</td>\n",
              "      <td>845.0</td>\n",
              "    </tr>\n",
              "    <tr>\n",
              "      <th>2</th>\n",
              "      <td>Momentum</td>\n",
              "      <td>229.0</td>\n",
              "    </tr>\n",
              "    <tr>\n",
              "      <th>3</th>\n",
              "      <td>Owen Smith</td>\n",
              "      <td>127.0</td>\n",
              "    </tr>\n",
              "    <tr>\n",
              "      <th>4</th>\n",
              "      <td>Andy Burnham</td>\n",
              "      <td>105.0</td>\n",
              "    </tr>\n",
              "    <tr>\n",
              "      <th>5</th>\n",
              "      <td>Saving Labour</td>\n",
              "      <td>56.0</td>\n",
              "    </tr>\n",
              "  </tbody>\n",
              "</table>\n",
              "</div>\n",
              "      <button class=\"colab-df-convert\" onclick=\"convertToInteractive('df-114f8e98-f360-4811-924f-924c9798a69b')\"\n",
              "              title=\"Convert this dataframe to an interactive table.\"\n",
              "              style=\"display:none;\">\n",
              "        \n",
              "  <svg xmlns=\"http://www.w3.org/2000/svg\" height=\"24px\"viewBox=\"0 0 24 24\"\n",
              "       width=\"24px\">\n",
              "    <path d=\"M0 0h24v24H0V0z\" fill=\"none\"/>\n",
              "    <path d=\"M18.56 5.44l.94 2.06.94-2.06 2.06-.94-2.06-.94-.94-2.06-.94 2.06-2.06.94zm-11 1L8.5 8.5l.94-2.06 2.06-.94-2.06-.94L8.5 2.5l-.94 2.06-2.06.94zm10 10l.94 2.06.94-2.06 2.06-.94-2.06-.94-.94-2.06-.94 2.06-2.06.94z\"/><path d=\"M17.41 7.96l-1.37-1.37c-.4-.4-.92-.59-1.43-.59-.52 0-1.04.2-1.43.59L10.3 9.45l-7.72 7.72c-.78.78-.78 2.05 0 2.83L4 21.41c.39.39.9.59 1.41.59.51 0 1.02-.2 1.41-.59l7.78-7.78 2.81-2.81c.8-.78.8-2.07 0-2.86zM5.41 20L4 18.59l7.72-7.72 1.47 1.35L5.41 20z\"/>\n",
              "  </svg>\n",
              "      </button>\n",
              "      \n",
              "  <style>\n",
              "    .colab-df-container {\n",
              "      display:flex;\n",
              "      flex-wrap:wrap;\n",
              "      gap: 12px;\n",
              "    }\n",
              "\n",
              "    .colab-df-convert {\n",
              "      background-color: #E8F0FE;\n",
              "      border: none;\n",
              "      border-radius: 50%;\n",
              "      cursor: pointer;\n",
              "      display: none;\n",
              "      fill: #1967D2;\n",
              "      height: 32px;\n",
              "      padding: 0 0 0 0;\n",
              "      width: 32px;\n",
              "    }\n",
              "\n",
              "    .colab-df-convert:hover {\n",
              "      background-color: #E2EBFA;\n",
              "      box-shadow: 0px 1px 2px rgba(60, 64, 67, 0.3), 0px 1px 3px 1px rgba(60, 64, 67, 0.15);\n",
              "      fill: #174EA6;\n",
              "    }\n",
              "\n",
              "    [theme=dark] .colab-df-convert {\n",
              "      background-color: #3B4455;\n",
              "      fill: #D2E3FC;\n",
              "    }\n",
              "\n",
              "    [theme=dark] .colab-df-convert:hover {\n",
              "      background-color: #434B5C;\n",
              "      box-shadow: 0px 1px 3px 1px rgba(0, 0, 0, 0.15);\n",
              "      filter: drop-shadow(0px 1px 2px rgba(0, 0, 0, 0.3));\n",
              "      fill: #FFFFFF;\n",
              "    }\n",
              "  </style>\n",
              "\n",
              "      <script>\n",
              "        const buttonEl =\n",
              "          document.querySelector('#df-114f8e98-f360-4811-924f-924c9798a69b button.colab-df-convert');\n",
              "        buttonEl.style.display =\n",
              "          google.colab.kernel.accessAllowed ? 'block' : 'none';\n",
              "\n",
              "        async function convertToInteractive(key) {\n",
              "          const element = document.querySelector('#df-114f8e98-f360-4811-924f-924c9798a69b');\n",
              "          const dataTable =\n",
              "            await google.colab.kernel.invokeFunction('convertToInteractive',\n",
              "                                                     [key], {});\n",
              "          if (!dataTable) return;\n",
              "\n",
              "          const docLinkHtml = 'Like what you see? Visit the ' +\n",
              "            '<a target=\"_blank\" href=https://colab.research.google.com/notebooks/data_table.ipynb>data table notebook</a>'\n",
              "            + ' to learn more about interactive tables.';\n",
              "          element.innerHTML = '';\n",
              "          dataTable['output_type'] = 'display_data';\n",
              "          await google.colab.output.renderOutput(dataTable, element);\n",
              "          const docLink = document.createElement('div');\n",
              "          docLink.innerHTML = docLinkHtml;\n",
              "          element.appendChild(docLink);\n",
              "        }\n",
              "      </script>\n",
              "    </div>\n",
              "  </div>\n",
              "  "
            ]
          },
          "metadata": {},
          "execution_count": 6
        }
      ]
    },
    {
      "cell_type": "markdown",
      "source": [
        "A standard bar graph in Altair gives this:"
      ],
      "metadata": {
        "id": "38kO6oplvp7J"
      }
    },
    {
      "cell_type": "code",
      "source": [
        "alt.Chart(df).mark_bar().encode(\n",
        "    x='Average number of likes per Facebook post 2016:Q',\n",
        "    y='Page:O'\n",
        ")"
      ],
      "metadata": {
        "colab": {
          "base_uri": "https://localhost:8080/",
          "height": 183
        },
        "id": "lo12273Bvot0",
        "outputId": "72b83543-4e10-4481-8e9f-825f7d292618"
      },
      "execution_count": 7,
      "outputs": [
        {
          "output_type": "execute_result",
          "data": {
            "text/html": [
              "\n",
              "<div id=\"altair-viz-2c43cc0f9b1f4fc7b0a1bbdd488be15d\"></div>\n",
              "<script type=\"text/javascript\">\n",
              "  var VEGA_DEBUG = (typeof VEGA_DEBUG == \"undefined\") ? {} : VEGA_DEBUG;\n",
              "  (function(spec, embedOpt){\n",
              "    let outputDiv = document.currentScript.previousElementSibling;\n",
              "    if (outputDiv.id !== \"altair-viz-2c43cc0f9b1f4fc7b0a1bbdd488be15d\") {\n",
              "      outputDiv = document.getElementById(\"altair-viz-2c43cc0f9b1f4fc7b0a1bbdd488be15d\");\n",
              "    }\n",
              "    const paths = {\n",
              "      \"vega\": \"https://cdn.jsdelivr.net/npm//vega@5?noext\",\n",
              "      \"vega-lib\": \"https://cdn.jsdelivr.net/npm//vega-lib?noext\",\n",
              "      \"vega-lite\": \"https://cdn.jsdelivr.net/npm//vega-lite@4.17.0?noext\",\n",
              "      \"vega-embed\": \"https://cdn.jsdelivr.net/npm//vega-embed@6?noext\",\n",
              "    };\n",
              "\n",
              "    function maybeLoadScript(lib, version) {\n",
              "      var key = `${lib.replace(\"-\", \"\")}_version`;\n",
              "      return (VEGA_DEBUG[key] == version) ?\n",
              "        Promise.resolve(paths[lib]) :\n",
              "        new Promise(function(resolve, reject) {\n",
              "          var s = document.createElement('script');\n",
              "          document.getElementsByTagName(\"head\")[0].appendChild(s);\n",
              "          s.async = true;\n",
              "          s.onload = () => {\n",
              "            VEGA_DEBUG[key] = version;\n",
              "            return resolve(paths[lib]);\n",
              "          };\n",
              "          s.onerror = () => reject(`Error loading script: ${paths[lib]}`);\n",
              "          s.src = paths[lib];\n",
              "        });\n",
              "    }\n",
              "\n",
              "    function showError(err) {\n",
              "      outputDiv.innerHTML = `<div class=\"error\" style=\"color:red;\">${err}</div>`;\n",
              "      throw err;\n",
              "    }\n",
              "\n",
              "    function displayChart(vegaEmbed) {\n",
              "      vegaEmbed(outputDiv, spec, embedOpt)\n",
              "        .catch(err => showError(`Javascript Error: ${err.message}<br>This usually means there's a typo in your chart specification. See the javascript console for the full traceback.`));\n",
              "    }\n",
              "\n",
              "    if(typeof define === \"function\" && define.amd) {\n",
              "      requirejs.config({paths});\n",
              "      require([\"vega-embed\"], displayChart, err => showError(`Error loading script: ${err.message}`));\n",
              "    } else {\n",
              "      maybeLoadScript(\"vega\", \"5\")\n",
              "        .then(() => maybeLoadScript(\"vega-lite\", \"4.17.0\"))\n",
              "        .then(() => maybeLoadScript(\"vega-embed\", \"6\"))\n",
              "        .catch(showError)\n",
              "        .then(() => displayChart(vegaEmbed));\n",
              "    }\n",
              "  })({\"config\": {\"view\": {\"continuousWidth\": 400, \"continuousHeight\": 300}}, \"data\": {\"name\": \"data-37b1b21769609e0260f58cacd3f745f7\"}, \"mark\": \"bar\", \"encoding\": {\"x\": {\"field\": \"Average number of likes per Facebook post 2016\", \"type\": \"quantitative\"}, \"y\": {\"field\": \"Page\", \"type\": \"ordinal\"}}, \"$schema\": \"https://vega.github.io/schema/vega-lite/v4.17.0.json\", \"datasets\": {\"data-37b1b21769609e0260f58cacd3f745f7\": [{\"Page\": \"Jeremy Corbyn\", \"Average number of likes per Facebook post 2016\": 5210.0}, {\"Page\": \"Labour Party\", \"Average number of likes per Facebook post 2016\": 845.0}, {\"Page\": \"Momentum\", \"Average number of likes per Facebook post 2016\": 229.0}, {\"Page\": \"Owen Smith\", \"Average number of likes per Facebook post 2016\": 127.0}, {\"Page\": \"Andy Burnham \", \"Average number of likes per Facebook post 2016\": 105.0}, {\"Page\": \"Saving Labour\", \"Average number of likes per Facebook post 2016\": 56.0}]}}, {\"mode\": \"vega-lite\"});\n",
              "</script>"
            ],
            "text/plain": [
              "alt.Chart(...)"
            ]
          },
          "metadata": {},
          "execution_count": 7
        }
      ]
    },
    {
      "cell_type": "markdown",
      "source": [
        "The message of the graph is that Jerermy Corbyn has by far the most likes per Facebook post in 2016. There are a number of improvements possible:\n",
        "\n",
        "The number on the x-axis are multiple of thousands. In spirit of removing as much inkt as possible, let's rescale the x-asis with factor 1000.\n",
        "The label 'Page' on the y-axis is superfluous. Let's remove it."
      ],
      "metadata": {
        "id": "b3Bk5A23vwAs"
      }
    },
    {
      "cell_type": "code",
      "source": [
        "df['page1k'] = df['Average number of likes per Facebook post 2016']/1000.0"
      ],
      "metadata": {
        "id": "BdgwUPRZv3Wt"
      },
      "execution_count": 8,
      "outputs": []
    },
    {
      "cell_type": "markdown",
      "source": [
        "After scaling the graphs looks like this:"
      ],
      "metadata": {
        "id": "9KjStY7-v-bW"
      }
    },
    {
      "cell_type": "code",
      "source": [
        "alt.Chart(df).mark_bar().encode(\n",
        "    x=alt.X('page1k', title='Average number of likes per Facebook post 2016'),\n",
        "    y=alt.Y('Page:O', title='')\n",
        ")"
      ],
      "metadata": {
        "colab": {
          "base_uri": "https://localhost:8080/",
          "height": 183
        },
        "id": "iKwuouoOv9sd",
        "outputId": "4be22b76-7add-4db6-9258-4cef60296362"
      },
      "execution_count": 9,
      "outputs": [
        {
          "output_type": "execute_result",
          "data": {
            "text/html": [
              "\n",
              "<div id=\"altair-viz-9fbb1c4aa35f4d049679e7fd7dbde8d9\"></div>\n",
              "<script type=\"text/javascript\">\n",
              "  var VEGA_DEBUG = (typeof VEGA_DEBUG == \"undefined\") ? {} : VEGA_DEBUG;\n",
              "  (function(spec, embedOpt){\n",
              "    let outputDiv = document.currentScript.previousElementSibling;\n",
              "    if (outputDiv.id !== \"altair-viz-9fbb1c4aa35f4d049679e7fd7dbde8d9\") {\n",
              "      outputDiv = document.getElementById(\"altair-viz-9fbb1c4aa35f4d049679e7fd7dbde8d9\");\n",
              "    }\n",
              "    const paths = {\n",
              "      \"vega\": \"https://cdn.jsdelivr.net/npm//vega@5?noext\",\n",
              "      \"vega-lib\": \"https://cdn.jsdelivr.net/npm//vega-lib?noext\",\n",
              "      \"vega-lite\": \"https://cdn.jsdelivr.net/npm//vega-lite@4.17.0?noext\",\n",
              "      \"vega-embed\": \"https://cdn.jsdelivr.net/npm//vega-embed@6?noext\",\n",
              "    };\n",
              "\n",
              "    function maybeLoadScript(lib, version) {\n",
              "      var key = `${lib.replace(\"-\", \"\")}_version`;\n",
              "      return (VEGA_DEBUG[key] == version) ?\n",
              "        Promise.resolve(paths[lib]) :\n",
              "        new Promise(function(resolve, reject) {\n",
              "          var s = document.createElement('script');\n",
              "          document.getElementsByTagName(\"head\")[0].appendChild(s);\n",
              "          s.async = true;\n",
              "          s.onload = () => {\n",
              "            VEGA_DEBUG[key] = version;\n",
              "            return resolve(paths[lib]);\n",
              "          };\n",
              "          s.onerror = () => reject(`Error loading script: ${paths[lib]}`);\n",
              "          s.src = paths[lib];\n",
              "        });\n",
              "    }\n",
              "\n",
              "    function showError(err) {\n",
              "      outputDiv.innerHTML = `<div class=\"error\" style=\"color:red;\">${err}</div>`;\n",
              "      throw err;\n",
              "    }\n",
              "\n",
              "    function displayChart(vegaEmbed) {\n",
              "      vegaEmbed(outputDiv, spec, embedOpt)\n",
              "        .catch(err => showError(`Javascript Error: ${err.message}<br>This usually means there's a typo in your chart specification. See the javascript console for the full traceback.`));\n",
              "    }\n",
              "\n",
              "    if(typeof define === \"function\" && define.amd) {\n",
              "      requirejs.config({paths});\n",
              "      require([\"vega-embed\"], displayChart, err => showError(`Error loading script: ${err.message}`));\n",
              "    } else {\n",
              "      maybeLoadScript(\"vega\", \"5\")\n",
              "        .then(() => maybeLoadScript(\"vega-lite\", \"4.17.0\"))\n",
              "        .then(() => maybeLoadScript(\"vega-embed\", \"6\"))\n",
              "        .catch(showError)\n",
              "        .then(() => displayChart(vegaEmbed));\n",
              "    }\n",
              "  })({\"config\": {\"view\": {\"continuousWidth\": 400, \"continuousHeight\": 300}}, \"data\": {\"name\": \"data-1913a809e59f1dfc25bb5719e6f7f706\"}, \"mark\": \"bar\", \"encoding\": {\"x\": {\"field\": \"page1k\", \"title\": \"Average number of likes per Facebook post 2016\", \"type\": \"quantitative\"}, \"y\": {\"field\": \"Page\", \"title\": \"\", \"type\": \"ordinal\"}}, \"$schema\": \"https://vega.github.io/schema/vega-lite/v4.17.0.json\", \"datasets\": {\"data-1913a809e59f1dfc25bb5719e6f7f706\": [{\"Page\": \"Jeremy Corbyn\", \"Average number of likes per Facebook post 2016\": 5210.0, \"page1k\": 5.21}, {\"Page\": \"Labour Party\", \"Average number of likes per Facebook post 2016\": 845.0, \"page1k\": 0.845}, {\"Page\": \"Momentum\", \"Average number of likes per Facebook post 2016\": 229.0, \"page1k\": 0.229}, {\"Page\": \"Owen Smith\", \"Average number of likes per Facebook post 2016\": 127.0, \"page1k\": 0.127}, {\"Page\": \"Andy Burnham \", \"Average number of likes per Facebook post 2016\": 105.0, \"page1k\": 0.105}, {\"Page\": \"Saving Labour\", \"Average number of likes per Facebook post 2016\": 56.0, \"page1k\": 0.056}]}}, {\"mode\": \"vega-lite\"});\n",
              "</script>"
            ],
            "text/plain": [
              "alt.Chart(...)"
            ]
          },
          "metadata": {},
          "execution_count": 9
        }
      ]
    },
    {
      "cell_type": "markdown",
      "source": [
        "A third improvement is to sort the bars from high to low. This supports the message, Jeremy Corbyn has the most clicks."
      ],
      "metadata": {
        "id": "3ZfXTfoBwHYE"
      }
    },
    {
      "cell_type": "code",
      "source": [
        "alt.Chart(df).mark_bar().encode(\n",
        "    x=alt.X('page1k:Q', title='Average number of likes per Facebook post 2016'),\n",
        "    y=alt.Y('Page:O', title='', sort=alt.EncodingSortField(\n",
        "            field=\"Average number of likes per Facebook post 2016:Q\",  # The field to use for the sort\n",
        "            op=\"sum\",  # The operation to run on the field prior to sorting\n",
        "            order=\"ascending\"  # The order to sort in\n",
        "        ))\n",
        ")"
      ],
      "metadata": {
        "colab": {
          "base_uri": "https://localhost:8080/",
          "height": 183
        },
        "id": "U2309n98wK6e",
        "outputId": "e995225b-1d7e-4cf5-8be4-48585b81736d"
      },
      "execution_count": 10,
      "outputs": [
        {
          "output_type": "execute_result",
          "data": {
            "text/html": [
              "\n",
              "<div id=\"altair-viz-abdfa1bd01064b5abf9aa12713e3c025\"></div>\n",
              "<script type=\"text/javascript\">\n",
              "  var VEGA_DEBUG = (typeof VEGA_DEBUG == \"undefined\") ? {} : VEGA_DEBUG;\n",
              "  (function(spec, embedOpt){\n",
              "    let outputDiv = document.currentScript.previousElementSibling;\n",
              "    if (outputDiv.id !== \"altair-viz-abdfa1bd01064b5abf9aa12713e3c025\") {\n",
              "      outputDiv = document.getElementById(\"altair-viz-abdfa1bd01064b5abf9aa12713e3c025\");\n",
              "    }\n",
              "    const paths = {\n",
              "      \"vega\": \"https://cdn.jsdelivr.net/npm//vega@5?noext\",\n",
              "      \"vega-lib\": \"https://cdn.jsdelivr.net/npm//vega-lib?noext\",\n",
              "      \"vega-lite\": \"https://cdn.jsdelivr.net/npm//vega-lite@4.17.0?noext\",\n",
              "      \"vega-embed\": \"https://cdn.jsdelivr.net/npm//vega-embed@6?noext\",\n",
              "    };\n",
              "\n",
              "    function maybeLoadScript(lib, version) {\n",
              "      var key = `${lib.replace(\"-\", \"\")}_version`;\n",
              "      return (VEGA_DEBUG[key] == version) ?\n",
              "        Promise.resolve(paths[lib]) :\n",
              "        new Promise(function(resolve, reject) {\n",
              "          var s = document.createElement('script');\n",
              "          document.getElementsByTagName(\"head\")[0].appendChild(s);\n",
              "          s.async = true;\n",
              "          s.onload = () => {\n",
              "            VEGA_DEBUG[key] = version;\n",
              "            return resolve(paths[lib]);\n",
              "          };\n",
              "          s.onerror = () => reject(`Error loading script: ${paths[lib]}`);\n",
              "          s.src = paths[lib];\n",
              "        });\n",
              "    }\n",
              "\n",
              "    function showError(err) {\n",
              "      outputDiv.innerHTML = `<div class=\"error\" style=\"color:red;\">${err}</div>`;\n",
              "      throw err;\n",
              "    }\n",
              "\n",
              "    function displayChart(vegaEmbed) {\n",
              "      vegaEmbed(outputDiv, spec, embedOpt)\n",
              "        .catch(err => showError(`Javascript Error: ${err.message}<br>This usually means there's a typo in your chart specification. See the javascript console for the full traceback.`));\n",
              "    }\n",
              "\n",
              "    if(typeof define === \"function\" && define.amd) {\n",
              "      requirejs.config({paths});\n",
              "      require([\"vega-embed\"], displayChart, err => showError(`Error loading script: ${err.message}`));\n",
              "    } else {\n",
              "      maybeLoadScript(\"vega\", \"5\")\n",
              "        .then(() => maybeLoadScript(\"vega-lite\", \"4.17.0\"))\n",
              "        .then(() => maybeLoadScript(\"vega-embed\", \"6\"))\n",
              "        .catch(showError)\n",
              "        .then(() => displayChart(vegaEmbed));\n",
              "    }\n",
              "  })({\"config\": {\"view\": {\"continuousWidth\": 400, \"continuousHeight\": 300}}, \"data\": {\"name\": \"data-1913a809e59f1dfc25bb5719e6f7f706\"}, \"mark\": \"bar\", \"encoding\": {\"x\": {\"field\": \"page1k\", \"title\": \"Average number of likes per Facebook post 2016\", \"type\": \"quantitative\"}, \"y\": {\"field\": \"Page\", \"sort\": {\"field\": \"Average number of likes per Facebook post 2016:Q\", \"op\": \"sum\", \"order\": \"ascending\"}, \"title\": \"\", \"type\": \"ordinal\"}}, \"$schema\": \"https://vega.github.io/schema/vega-lite/v4.17.0.json\", \"datasets\": {\"data-1913a809e59f1dfc25bb5719e6f7f706\": [{\"Page\": \"Jeremy Corbyn\", \"Average number of likes per Facebook post 2016\": 5210.0, \"page1k\": 5.21}, {\"Page\": \"Labour Party\", \"Average number of likes per Facebook post 2016\": 845.0, \"page1k\": 0.845}, {\"Page\": \"Momentum\", \"Average number of likes per Facebook post 2016\": 229.0, \"page1k\": 0.229}, {\"Page\": \"Owen Smith\", \"Average number of likes per Facebook post 2016\": 127.0, \"page1k\": 0.127}, {\"Page\": \"Andy Burnham \", \"Average number of likes per Facebook post 2016\": 105.0, \"page1k\": 0.105}, {\"Page\": \"Saving Labour\", \"Average number of likes per Facebook post 2016\": 56.0, \"page1k\": 0.056}]}}, {\"mode\": \"vega-lite\"});\n",
              "</script>"
            ],
            "text/plain": [
              "alt.Chart(...)"
            ]
          },
          "metadata": {},
          "execution_count": 10
        }
      ]
    },
    {
      "cell_type": "markdown",
      "source": [
        "Now, we see that we have to many ticks on the x-axis. We can add a scale and map the x-axis to integers to cope with that. While adding markup for the x-axis, we add orient='top'. That move the xlabel text to the top of the graph."
      ],
      "metadata": {
        "id": "LrsuensNwR_z"
      }
    },
    {
      "cell_type": "code",
      "source": [
        "alt.Chart(df).mark_bar().encode(\n",
        "    x=alt.X('page1k:Q', title='Average number of likes per Facebook post 2016',\n",
        "            axis=alt.Axis(title='Average number of likes per Facebook post 2016', orient=\"top\", format='d', values=[1,2,3,4,5,6]),\n",
        "            scale=alt.Scale(round=True, domain=[0,6])),\n",
        "    y=alt.Y('Page:O', title='', sort=alt.EncodingSortField(\n",
        "            field=\"Average number of likes per Facebook post 2016:Q\",  # The field to use for the sort\n",
        "            op=\"sum\",  # The operation to run on the field prior to sorting\n",
        "            order=\"ascending\"  # The order to sort in\n",
        "        ))\n",
        ")"
      ],
      "metadata": {
        "colab": {
          "base_uri": "https://localhost:8080/",
          "height": 183
        },
        "id": "Po25n3yswN8s",
        "outputId": "be4c0072-8753-4796-fea9-4a09a02208c1"
      },
      "execution_count": 11,
      "outputs": [
        {
          "output_type": "execute_result",
          "data": {
            "text/html": [
              "\n",
              "<div id=\"altair-viz-25168a8b2cd4446e811fa86595f890de\"></div>\n",
              "<script type=\"text/javascript\">\n",
              "  var VEGA_DEBUG = (typeof VEGA_DEBUG == \"undefined\") ? {} : VEGA_DEBUG;\n",
              "  (function(spec, embedOpt){\n",
              "    let outputDiv = document.currentScript.previousElementSibling;\n",
              "    if (outputDiv.id !== \"altair-viz-25168a8b2cd4446e811fa86595f890de\") {\n",
              "      outputDiv = document.getElementById(\"altair-viz-25168a8b2cd4446e811fa86595f890de\");\n",
              "    }\n",
              "    const paths = {\n",
              "      \"vega\": \"https://cdn.jsdelivr.net/npm//vega@5?noext\",\n",
              "      \"vega-lib\": \"https://cdn.jsdelivr.net/npm//vega-lib?noext\",\n",
              "      \"vega-lite\": \"https://cdn.jsdelivr.net/npm//vega-lite@4.17.0?noext\",\n",
              "      \"vega-embed\": \"https://cdn.jsdelivr.net/npm//vega-embed@6?noext\",\n",
              "    };\n",
              "\n",
              "    function maybeLoadScript(lib, version) {\n",
              "      var key = `${lib.replace(\"-\", \"\")}_version`;\n",
              "      return (VEGA_DEBUG[key] == version) ?\n",
              "        Promise.resolve(paths[lib]) :\n",
              "        new Promise(function(resolve, reject) {\n",
              "          var s = document.createElement('script');\n",
              "          document.getElementsByTagName(\"head\")[0].appendChild(s);\n",
              "          s.async = true;\n",
              "          s.onload = () => {\n",
              "            VEGA_DEBUG[key] = version;\n",
              "            return resolve(paths[lib]);\n",
              "          };\n",
              "          s.onerror = () => reject(`Error loading script: ${paths[lib]}`);\n",
              "          s.src = paths[lib];\n",
              "        });\n",
              "    }\n",
              "\n",
              "    function showError(err) {\n",
              "      outputDiv.innerHTML = `<div class=\"error\" style=\"color:red;\">${err}</div>`;\n",
              "      throw err;\n",
              "    }\n",
              "\n",
              "    function displayChart(vegaEmbed) {\n",
              "      vegaEmbed(outputDiv, spec, embedOpt)\n",
              "        .catch(err => showError(`Javascript Error: ${err.message}<br>This usually means there's a typo in your chart specification. See the javascript console for the full traceback.`));\n",
              "    }\n",
              "\n",
              "    if(typeof define === \"function\" && define.amd) {\n",
              "      requirejs.config({paths});\n",
              "      require([\"vega-embed\"], displayChart, err => showError(`Error loading script: ${err.message}`));\n",
              "    } else {\n",
              "      maybeLoadScript(\"vega\", \"5\")\n",
              "        .then(() => maybeLoadScript(\"vega-lite\", \"4.17.0\"))\n",
              "        .then(() => maybeLoadScript(\"vega-embed\", \"6\"))\n",
              "        .catch(showError)\n",
              "        .then(() => displayChart(vegaEmbed));\n",
              "    }\n",
              "  })({\"config\": {\"view\": {\"continuousWidth\": 400, \"continuousHeight\": 300}}, \"data\": {\"name\": \"data-1913a809e59f1dfc25bb5719e6f7f706\"}, \"mark\": \"bar\", \"encoding\": {\"x\": {\"axis\": {\"format\": \"d\", \"orient\": \"top\", \"title\": \"Average number of likes per Facebook post 2016\", \"values\": [1, 2, 3, 4, 5, 6]}, \"field\": \"page1k\", \"scale\": {\"domain\": [0, 6], \"round\": true}, \"title\": \"Average number of likes per Facebook post 2016\", \"type\": \"quantitative\"}, \"y\": {\"field\": \"Page\", \"sort\": {\"field\": \"Average number of likes per Facebook post 2016:Q\", \"op\": \"sum\", \"order\": \"ascending\"}, \"title\": \"\", \"type\": \"ordinal\"}}, \"$schema\": \"https://vega.github.io/schema/vega-lite/v4.17.0.json\", \"datasets\": {\"data-1913a809e59f1dfc25bb5719e6f7f706\": [{\"Page\": \"Jeremy Corbyn\", \"Average number of likes per Facebook post 2016\": 5210.0, \"page1k\": 5.21}, {\"Page\": \"Labour Party\", \"Average number of likes per Facebook post 2016\": 845.0, \"page1k\": 0.845}, {\"Page\": \"Momentum\", \"Average number of likes per Facebook post 2016\": 229.0, \"page1k\": 0.229}, {\"Page\": \"Owen Smith\", \"Average number of likes per Facebook post 2016\": 127.0, \"page1k\": 0.127}, {\"Page\": \"Andy Burnham \", \"Average number of likes per Facebook post 2016\": 105.0, \"page1k\": 0.105}, {\"Page\": \"Saving Labour\", \"Average number of likes per Facebook post 2016\": 56.0, \"page1k\": 0.056}]}}, {\"mode\": \"vega-lite\"});\n",
              "</script>"
            ],
            "text/plain": [
              "alt.Chart(...)"
            ]
          },
          "metadata": {},
          "execution_count": 11
        }
      ]
    },
    {
      "cell_type": "markdown",
      "source": [
        "Now, we want to remove the x-axis itself as it adds nothing extra. We do that by putting the stroke at None in the configure_view. We also adjust the x-axis title to make clear the numbers are multiples of thousands."
      ],
      "metadata": {
        "id": "2bpxOJz5wdek"
      }
    },
    {
      "cell_type": "code",
      "source": [
        "alt.Chart(df).mark_bar().encode(\n",
        "    x=alt.X('page1k:Q', title=\"Average number of likes per Facebook post 2016  ('000)\",\n",
        "            axis=alt.Axis(title='Average number of likes per Facebook post 2016', orient=\"top\", format='d', values=[1,2,3,4,5,6]),\n",
        "            scale=alt.Scale(round=True, domain=[0,6])),\n",
        "    y=alt.Y('Page:O', title='', sort=alt.EncodingSortField(\n",
        "            field=\"Average number of likes per Facebook post 2016:Q\",  # The field to use for the sort\n",
        "            op=\"sum\",  # The operation to run on the field prior to sorting\n",
        "            order=\"ascending\"  # The order to sort in\n",
        "        ))\n",
        ").configure_view(\n",
        "    stroke=None, # Remove box around graph\n",
        ")"
      ],
      "metadata": {
        "colab": {
          "base_uri": "https://localhost:8080/",
          "height": 183
        },
        "id": "9iIPCDyLwe1u",
        "outputId": "9b1afaba-2e17-4569-d5e8-e33594473fde"
      },
      "execution_count": 12,
      "outputs": [
        {
          "output_type": "execute_result",
          "data": {
            "text/html": [
              "\n",
              "<div id=\"altair-viz-8611685166fa48028747ca0379e79c3b\"></div>\n",
              "<script type=\"text/javascript\">\n",
              "  var VEGA_DEBUG = (typeof VEGA_DEBUG == \"undefined\") ? {} : VEGA_DEBUG;\n",
              "  (function(spec, embedOpt){\n",
              "    let outputDiv = document.currentScript.previousElementSibling;\n",
              "    if (outputDiv.id !== \"altair-viz-8611685166fa48028747ca0379e79c3b\") {\n",
              "      outputDiv = document.getElementById(\"altair-viz-8611685166fa48028747ca0379e79c3b\");\n",
              "    }\n",
              "    const paths = {\n",
              "      \"vega\": \"https://cdn.jsdelivr.net/npm//vega@5?noext\",\n",
              "      \"vega-lib\": \"https://cdn.jsdelivr.net/npm//vega-lib?noext\",\n",
              "      \"vega-lite\": \"https://cdn.jsdelivr.net/npm//vega-lite@4.17.0?noext\",\n",
              "      \"vega-embed\": \"https://cdn.jsdelivr.net/npm//vega-embed@6?noext\",\n",
              "    };\n",
              "\n",
              "    function maybeLoadScript(lib, version) {\n",
              "      var key = `${lib.replace(\"-\", \"\")}_version`;\n",
              "      return (VEGA_DEBUG[key] == version) ?\n",
              "        Promise.resolve(paths[lib]) :\n",
              "        new Promise(function(resolve, reject) {\n",
              "          var s = document.createElement('script');\n",
              "          document.getElementsByTagName(\"head\")[0].appendChild(s);\n",
              "          s.async = true;\n",
              "          s.onload = () => {\n",
              "            VEGA_DEBUG[key] = version;\n",
              "            return resolve(paths[lib]);\n",
              "          };\n",
              "          s.onerror = () => reject(`Error loading script: ${paths[lib]}`);\n",
              "          s.src = paths[lib];\n",
              "        });\n",
              "    }\n",
              "\n",
              "    function showError(err) {\n",
              "      outputDiv.innerHTML = `<div class=\"error\" style=\"color:red;\">${err}</div>`;\n",
              "      throw err;\n",
              "    }\n",
              "\n",
              "    function displayChart(vegaEmbed) {\n",
              "      vegaEmbed(outputDiv, spec, embedOpt)\n",
              "        .catch(err => showError(`Javascript Error: ${err.message}<br>This usually means there's a typo in your chart specification. See the javascript console for the full traceback.`));\n",
              "    }\n",
              "\n",
              "    if(typeof define === \"function\" && define.amd) {\n",
              "      requirejs.config({paths});\n",
              "      require([\"vega-embed\"], displayChart, err => showError(`Error loading script: ${err.message}`));\n",
              "    } else {\n",
              "      maybeLoadScript(\"vega\", \"5\")\n",
              "        .then(() => maybeLoadScript(\"vega-lite\", \"4.17.0\"))\n",
              "        .then(() => maybeLoadScript(\"vega-embed\", \"6\"))\n",
              "        .catch(showError)\n",
              "        .then(() => displayChart(vegaEmbed));\n",
              "    }\n",
              "  })({\"config\": {\"view\": {\"continuousWidth\": 400, \"continuousHeight\": 300, \"stroke\": null}}, \"data\": {\"name\": \"data-1913a809e59f1dfc25bb5719e6f7f706\"}, \"mark\": \"bar\", \"encoding\": {\"x\": {\"axis\": {\"format\": \"d\", \"orient\": \"top\", \"title\": \"Average number of likes per Facebook post 2016\", \"values\": [1, 2, 3, 4, 5, 6]}, \"field\": \"page1k\", \"scale\": {\"domain\": [0, 6], \"round\": true}, \"title\": \"Average number of likes per Facebook post 2016  ('000)\", \"type\": \"quantitative\"}, \"y\": {\"field\": \"Page\", \"sort\": {\"field\": \"Average number of likes per Facebook post 2016:Q\", \"op\": \"sum\", \"order\": \"ascending\"}, \"title\": \"\", \"type\": \"ordinal\"}}, \"$schema\": \"https://vega.github.io/schema/vega-lite/v4.17.0.json\", \"datasets\": {\"data-1913a809e59f1dfc25bb5719e6f7f706\": [{\"Page\": \"Jeremy Corbyn\", \"Average number of likes per Facebook post 2016\": 5210.0, \"page1k\": 5.21}, {\"Page\": \"Labour Party\", \"Average number of likes per Facebook post 2016\": 845.0, \"page1k\": 0.845}, {\"Page\": \"Momentum\", \"Average number of likes per Facebook post 2016\": 229.0, \"page1k\": 0.229}, {\"Page\": \"Owen Smith\", \"Average number of likes per Facebook post 2016\": 127.0, \"page1k\": 0.127}, {\"Page\": \"Andy Burnham \", \"Average number of likes per Facebook post 2016\": 105.0, \"page1k\": 0.105}, {\"Page\": \"Saving Labour\", \"Average number of likes per Facebook post 2016\": 56.0, \"page1k\": 0.056}]}}, {\"mode\": \"vega-lite\"});\n",
              "</script>"
            ],
            "text/plain": [
              "alt.Chart(...)"
            ]
          },
          "metadata": {},
          "execution_count": 12
        }
      ]
    },
    {
      "cell_type": "markdown",
      "source": [
        "Next we try to left align the y-axis labels:"
      ],
      "metadata": {
        "id": "V4OunriowmUs"
      }
    },
    {
      "cell_type": "code",
      "source": [
        "alt.Chart(df).mark_bar().encode(\n",
        "    x=alt.X('page1k:Q',\n",
        "            axis=alt.Axis(title=\"Average number of likes per Facebook post 2016  ('000)\", orient=\"top\", format='d', values=[1,2,3,4,5,6]),\n",
        "            scale=alt.Scale(round=True, domain=[0,6])),\n",
        "    y=alt.Y('Page:O', title='', sort=alt.EncodingSortField(\n",
        "            field=\"Average number of likes per Facebook post 2016:Q\",  # The field to use for the sort\n",
        "            op=\"sum\",  # The operation to run on the field prior to sorting\n",
        "            order=\"ascending\"  # The order to sort in\n",
        "        ))\n",
        ").configure_view(\n",
        "    stroke=None, # Remove box around graph\n",
        ").configure_axisY(\n",
        "    labelPadding=70, \n",
        "    labelAlign='left'\n",
        ")"
      ],
      "metadata": {
        "colab": {
          "base_uri": "https://localhost:8080/",
          "height": 183
        },
        "id": "BGcac09Iwlf0",
        "outputId": "746f9432-985c-48a7-b364-c1bde479a3e1"
      },
      "execution_count": 13,
      "outputs": [
        {
          "output_type": "execute_result",
          "data": {
            "text/html": [
              "\n",
              "<div id=\"altair-viz-ae09f99f19d245a5a1ed7a11013fcbcf\"></div>\n",
              "<script type=\"text/javascript\">\n",
              "  var VEGA_DEBUG = (typeof VEGA_DEBUG == \"undefined\") ? {} : VEGA_DEBUG;\n",
              "  (function(spec, embedOpt){\n",
              "    let outputDiv = document.currentScript.previousElementSibling;\n",
              "    if (outputDiv.id !== \"altair-viz-ae09f99f19d245a5a1ed7a11013fcbcf\") {\n",
              "      outputDiv = document.getElementById(\"altair-viz-ae09f99f19d245a5a1ed7a11013fcbcf\");\n",
              "    }\n",
              "    const paths = {\n",
              "      \"vega\": \"https://cdn.jsdelivr.net/npm//vega@5?noext\",\n",
              "      \"vega-lib\": \"https://cdn.jsdelivr.net/npm//vega-lib?noext\",\n",
              "      \"vega-lite\": \"https://cdn.jsdelivr.net/npm//vega-lite@4.17.0?noext\",\n",
              "      \"vega-embed\": \"https://cdn.jsdelivr.net/npm//vega-embed@6?noext\",\n",
              "    };\n",
              "\n",
              "    function maybeLoadScript(lib, version) {\n",
              "      var key = `${lib.replace(\"-\", \"\")}_version`;\n",
              "      return (VEGA_DEBUG[key] == version) ?\n",
              "        Promise.resolve(paths[lib]) :\n",
              "        new Promise(function(resolve, reject) {\n",
              "          var s = document.createElement('script');\n",
              "          document.getElementsByTagName(\"head\")[0].appendChild(s);\n",
              "          s.async = true;\n",
              "          s.onload = () => {\n",
              "            VEGA_DEBUG[key] = version;\n",
              "            return resolve(paths[lib]);\n",
              "          };\n",
              "          s.onerror = () => reject(`Error loading script: ${paths[lib]}`);\n",
              "          s.src = paths[lib];\n",
              "        });\n",
              "    }\n",
              "\n",
              "    function showError(err) {\n",
              "      outputDiv.innerHTML = `<div class=\"error\" style=\"color:red;\">${err}</div>`;\n",
              "      throw err;\n",
              "    }\n",
              "\n",
              "    function displayChart(vegaEmbed) {\n",
              "      vegaEmbed(outputDiv, spec, embedOpt)\n",
              "        .catch(err => showError(`Javascript Error: ${err.message}<br>This usually means there's a typo in your chart specification. See the javascript console for the full traceback.`));\n",
              "    }\n",
              "\n",
              "    if(typeof define === \"function\" && define.amd) {\n",
              "      requirejs.config({paths});\n",
              "      require([\"vega-embed\"], displayChart, err => showError(`Error loading script: ${err.message}`));\n",
              "    } else {\n",
              "      maybeLoadScript(\"vega\", \"5\")\n",
              "        .then(() => maybeLoadScript(\"vega-lite\", \"4.17.0\"))\n",
              "        .then(() => maybeLoadScript(\"vega-embed\", \"6\"))\n",
              "        .catch(showError)\n",
              "        .then(() => displayChart(vegaEmbed));\n",
              "    }\n",
              "  })({\"config\": {\"view\": {\"continuousWidth\": 400, \"continuousHeight\": 300, \"stroke\": null}, \"axisY\": {\"labelAlign\": \"left\", \"labelPadding\": 70}}, \"data\": {\"name\": \"data-1913a809e59f1dfc25bb5719e6f7f706\"}, \"mark\": \"bar\", \"encoding\": {\"x\": {\"axis\": {\"format\": \"d\", \"orient\": \"top\", \"title\": \"Average number of likes per Facebook post 2016  ('000)\", \"values\": [1, 2, 3, 4, 5, 6]}, \"field\": \"page1k\", \"scale\": {\"domain\": [0, 6], \"round\": true}, \"type\": \"quantitative\"}, \"y\": {\"field\": \"Page\", \"sort\": {\"field\": \"Average number of likes per Facebook post 2016:Q\", \"op\": \"sum\", \"order\": \"ascending\"}, \"title\": \"\", \"type\": \"ordinal\"}}, \"$schema\": \"https://vega.github.io/schema/vega-lite/v4.17.0.json\", \"datasets\": {\"data-1913a809e59f1dfc25bb5719e6f7f706\": [{\"Page\": \"Jeremy Corbyn\", \"Average number of likes per Facebook post 2016\": 5210.0, \"page1k\": 5.21}, {\"Page\": \"Labour Party\", \"Average number of likes per Facebook post 2016\": 845.0, \"page1k\": 0.845}, {\"Page\": \"Momentum\", \"Average number of likes per Facebook post 2016\": 229.0, \"page1k\": 0.229}, {\"Page\": \"Owen Smith\", \"Average number of likes per Facebook post 2016\": 127.0, \"page1k\": 0.127}, {\"Page\": \"Andy Burnham \", \"Average number of likes per Facebook post 2016\": 105.0, \"page1k\": 0.105}, {\"Page\": \"Saving Labour\", \"Average number of likes per Facebook post 2016\": 56.0, \"page1k\": 0.056}]}}, {\"mode\": \"vega-lite\"});\n",
              "</script>"
            ],
            "text/plain": [
              "alt.Chart(...)"
            ]
          },
          "metadata": {},
          "execution_count": 13
        }
      ]
    },
    {
      "cell_type": "markdown",
      "source": [
        "Now, we apply the Economist style:"
      ],
      "metadata": {
        "id": "8YxwE9d0ws41"
      }
    },
    {
      "cell_type": "code",
      "source": [
        "square = alt.Chart().mark_rect(width=50, height=18, color='#EB111A', xOffset=-105, yOffset=10)\n",
        "\n",
        "bars = alt.Chart(df).mark_bar().encode(\n",
        "    x=alt.X('page1k:Q',\n",
        "            axis=alt.Axis(title=\"\", orient=\"top\", format='d', values=[1,2,3,4,5,6], labelFontSize=14),\n",
        "            scale=alt.Scale(round=True, domain=[0,6])),\n",
        "    y=alt.Y('Page:O', title='', sort=alt.EncodingSortField(\n",
        "            field=\"Average number of likes per Facebook post 2016:Q\",  # The field to use for the sort\n",
        "            op=\"sum\",  # The operation to run on the field prior to sorting\n",
        "            order=\"ascending\"  # The order to sort in\n",
        "        ),\n",
        "        # Based on https://stackoverflow.com/questions/66684882/color-some-x-labels-in-altair-plot\n",
        "        axis=alt.Axis(labelFontSize=14, labelFontStyle=alt.condition('datum.value == \"Jeremy Corbyn\"', alt.value('bold'), alt.value('italic'))))\n",
        ").properties(title={\n",
        "      \"text\": [\"Left Click\", ], \n",
        "      \"subtitle\": [\"Average number of likes per Facebook post\\n\", \"2016, '000\"],\n",
        "      \"align\": 'left',\n",
        "      \"anchor\": 'start'\n",
        "    }\n",
        ")\n",
        "\n",
        "source = alt.Chart(\n",
        "    {\"values\": [{\"text\": \"Source: Facebook\"}]}\n",
        ").mark_text(size=12, align='left', dx=-120, color='darkgrey').encode(\n",
        "    text=\"text:N\"\n",
        ")\n",
        "\n",
        "# from https://stackoverflow.com/questions/57244390/has-anyone-figured-out-a-workaround-to-add-a-subtitle-to-an-altair-generated-cha\n",
        "chart = alt.vconcat(\n",
        "    square,\n",
        "    bars,\n",
        "    source\n",
        ").configure_concat(\n",
        "    spacing=0\n",
        ").configure(\n",
        "    background='#D9E9F0'\n",
        ").configure_view(\n",
        "    stroke=None, # Remove box around graph\n",
        ").configure_axisY(\n",
        "    labelPadding=110,\n",
        "    labelAlign='left',\n",
        "    ticks=False,\n",
        "    grid=False\n",
        ").configure_title(\n",
        "    fontSize=22,\n",
        "    subtitleFontSize=18,\n",
        "    offset=30,\n",
        "    dy=30\n",
        ")\n",
        "\n",
        "chart"
      ],
      "metadata": {
        "colab": {
          "base_uri": "https://localhost:8080/",
          "height": 317
        },
        "id": "OpWMcxOCvJB3",
        "outputId": "d4a148c5-5cca-4f85-b02a-717651f50b8e"
      },
      "execution_count": 16,
      "outputs": [
        {
          "output_type": "execute_result",
          "data": {
            "text/html": [
              "\n",
              "<div id=\"altair-viz-7edb00b6db6c4c6d965cbea5edad9e33\"></div>\n",
              "<script type=\"text/javascript\">\n",
              "  var VEGA_DEBUG = (typeof VEGA_DEBUG == \"undefined\") ? {} : VEGA_DEBUG;\n",
              "  (function(spec, embedOpt){\n",
              "    let outputDiv = document.currentScript.previousElementSibling;\n",
              "    if (outputDiv.id !== \"altair-viz-7edb00b6db6c4c6d965cbea5edad9e33\") {\n",
              "      outputDiv = document.getElementById(\"altair-viz-7edb00b6db6c4c6d965cbea5edad9e33\");\n",
              "    }\n",
              "    const paths = {\n",
              "      \"vega\": \"https://cdn.jsdelivr.net/npm//vega@5?noext\",\n",
              "      \"vega-lib\": \"https://cdn.jsdelivr.net/npm//vega-lib?noext\",\n",
              "      \"vega-lite\": \"https://cdn.jsdelivr.net/npm//vega-lite@4.17.0?noext\",\n",
              "      \"vega-embed\": \"https://cdn.jsdelivr.net/npm//vega-embed@6?noext\",\n",
              "    };\n",
              "\n",
              "    function maybeLoadScript(lib, version) {\n",
              "      var key = `${lib.replace(\"-\", \"\")}_version`;\n",
              "      return (VEGA_DEBUG[key] == version) ?\n",
              "        Promise.resolve(paths[lib]) :\n",
              "        new Promise(function(resolve, reject) {\n",
              "          var s = document.createElement('script');\n",
              "          document.getElementsByTagName(\"head\")[0].appendChild(s);\n",
              "          s.async = true;\n",
              "          s.onload = () => {\n",
              "            VEGA_DEBUG[key] = version;\n",
              "            return resolve(paths[lib]);\n",
              "          };\n",
              "          s.onerror = () => reject(`Error loading script: ${paths[lib]}`);\n",
              "          s.src = paths[lib];\n",
              "        });\n",
              "    }\n",
              "\n",
              "    function showError(err) {\n",
              "      outputDiv.innerHTML = `<div class=\"error\" style=\"color:red;\">${err}</div>`;\n",
              "      throw err;\n",
              "    }\n",
              "\n",
              "    function displayChart(vegaEmbed) {\n",
              "      vegaEmbed(outputDiv, spec, embedOpt)\n",
              "        .catch(err => showError(`Javascript Error: ${err.message}<br>This usually means there's a typo in your chart specification. See the javascript console for the full traceback.`));\n",
              "    }\n",
              "\n",
              "    if(typeof define === \"function\" && define.amd) {\n",
              "      requirejs.config({paths});\n",
              "      require([\"vega-embed\"], displayChart, err => showError(`Error loading script: ${err.message}`));\n",
              "    } else {\n",
              "      maybeLoadScript(\"vega\", \"5\")\n",
              "        .then(() => maybeLoadScript(\"vega-lite\", \"4.17.0\"))\n",
              "        .then(() => maybeLoadScript(\"vega-embed\", \"6\"))\n",
              "        .catch(showError)\n",
              "        .then(() => displayChart(vegaEmbed));\n",
              "    }\n",
              "  })({\"config\": {\"view\": {\"continuousWidth\": 400, \"continuousHeight\": 300, \"stroke\": null}, \"axisY\": {\"grid\": false, \"labelAlign\": \"left\", \"labelPadding\": 110, \"ticks\": false}, \"background\": \"#D9E9F0\", \"title\": {\"dy\": 30, \"fontSize\": 22, \"offset\": 30, \"subtitleFontSize\": 18}}, \"vconcat\": [{\"data\": {\"name\": \"empty\"}, \"mark\": {\"type\": \"rect\", \"color\": \"#EB111A\", \"height\": 18, \"width\": 50, \"xOffset\": -105, \"yOffset\": 10}}, {\"data\": {\"name\": \"data-1913a809e59f1dfc25bb5719e6f7f706\"}, \"mark\": \"bar\", \"encoding\": {\"x\": {\"axis\": {\"format\": \"d\", \"labelFontSize\": 14, \"orient\": \"top\", \"title\": \"\", \"values\": [1, 2, 3, 4, 5, 6]}, \"field\": \"page1k\", \"scale\": {\"domain\": [0, 6], \"round\": true}, \"type\": \"quantitative\"}, \"y\": {\"axis\": {\"labelFontSize\": 14, \"labelFontStyle\": {\"condition\": {\"test\": \"datum.value == \\\"Jeremy Corbyn\\\"\", \"value\": \"bold\"}, \"value\": \"italic\"}}, \"field\": \"Page\", \"sort\": {\"field\": \"Average number of likes per Facebook post 2016:Q\", \"op\": \"sum\", \"order\": \"ascending\"}, \"title\": \"\", \"type\": \"ordinal\"}}, \"title\": {\"text\": [\"Left Click\"], \"subtitle\": [\"Average number of likes per Facebook post\\n\", \"2016, '000\"], \"align\": \"left\", \"anchor\": \"start\"}}, {\"data\": {\"name\": \"data-a4de834d9d3c210d2fa4d84e065850aa\"}, \"mark\": {\"type\": \"text\", \"align\": \"left\", \"color\": \"darkgrey\", \"dx\": -120, \"size\": 12}, \"encoding\": {\"text\": {\"field\": \"text\", \"type\": \"nominal\"}}}], \"$schema\": \"https://vega.github.io/schema/vega-lite/v4.17.0.json\", \"datasets\": {\"empty\": [{}], \"data-1913a809e59f1dfc25bb5719e6f7f706\": [{\"Page\": \"Jeremy Corbyn\", \"Average number of likes per Facebook post 2016\": 5210.0, \"page1k\": 5.21}, {\"Page\": \"Labour Party\", \"Average number of likes per Facebook post 2016\": 845.0, \"page1k\": 0.845}, {\"Page\": \"Momentum\", \"Average number of likes per Facebook post 2016\": 229.0, \"page1k\": 0.229}, {\"Page\": \"Owen Smith\", \"Average number of likes per Facebook post 2016\": 127.0, \"page1k\": 0.127}, {\"Page\": \"Andy Burnham \", \"Average number of likes per Facebook post 2016\": 105.0, \"page1k\": 0.105}, {\"Page\": \"Saving Labour\", \"Average number of likes per Facebook post 2016\": 56.0, \"page1k\": 0.056}], \"data-a4de834d9d3c210d2fa4d84e065850aa\": [{\"text\": \"Source: Facebook\"}]}}, {\"mode\": \"vega-lite\"});\n",
              "</script>"
            ],
            "text/plain": [
              "alt.VConcatChart(...)"
            ]
          },
          "metadata": {},
          "execution_count": 16
        }
      ]
    },
    {
      "cell_type": "markdown",
      "source": [
        "The only thing, I could not reproduce with Altair is the light bar around the the first label and bar. For those final touches I think it's better to export the graph and add those finishing touches with a tool such as Inkscape or Illustrator."
      ],
      "metadata": {
        "id": "lwqHvroQwvNB"
      }
    },
    {
      "cell_type": "code",
      "source": [
        ""
      ],
      "metadata": {
        "id": "QVuwhaBtxLTD"
      },
      "execution_count": null,
      "outputs": []
    }
  ]
}