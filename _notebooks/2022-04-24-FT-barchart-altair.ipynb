{
  "nbformat": 4,
  "nbformat_minor": 0,
  "metadata": {
    "colab": {
      "name": "2022-04-24-FT-barchart-altair.ipynb",
      "provenance": [],
      "collapsed_sections": []
    },
    "kernelspec": {
      "name": "python3",
      "display_name": "Python 3"
    },
    "language_info": {
      "name": "python"
    }
  },
  "cells": [
    {
      "cell_type": "markdown",
      "source": [
        "# \"Bar chart made in Altair with Financial Times style\"\n",
        "> \"#30DayChartChallenge #Day24 Themeday: Financial times\"\n",
        "\n",
        "- toc: true\n",
        "- branch: master\n",
        "- badges: true\n",
        "- comments: true\n",
        "- author: Lode Nachtergaele\n",
        "- categories: [cast42, altair]\n",
        "- image: images/barchart_FT_style_altair.png"
      ],
      "metadata": {
        "id": "Ie_nXgP5TaGg"
      }
    },
    {
      "cell_type": "code",
      "execution_count": 1,
      "metadata": {
        "id": "pfHfjQb6TAJi"
      },
      "outputs": [],
      "source": [
        "import pandas as pd\n",
        "import altair as alt"
      ]
    },
    {
      "cell_type": "markdown",
      "source": [
        "The #30DayChartChallenge Day 24 calls for Financial Times themed charts. The bar chart that I will try to reproduce in Altair was published in the article: [\"Financial warfare: will there be a backlash against the dollar?\"](https://www.ft.com/content/220db8f2-2980-410f-aab8-f471369ac3cf)\n",
        "\n",
        "This is the graph (without FT background) to we want to reproduce:\n",
        "![](https://www.ft.com/__origami/service/image/v2/images/raw/https%3A%2F%2Fd6c748xw2pzm8.cloudfront.net%2Fprod%2Ff4926320-b74a-11ec-ac86-5174c5daccd3-standard.png?dpr=1&fit=scale-down&quality=highest&source=next&width=700 \"Credit: ft.com\")\n",
        "\n",
        "I digitized the heights of yhe bars with [WebplotDigitizer](https://apps.automeris.io/wpd/):"
      ],
      "metadata": {
        "id": "JMvVgswgUr0n"
      }
    },
    {
      "cell_type": "code",
      "source": [
        "data = \"\"\"Bar0, 3.23\n",
        "Bar1, 1.27\n",
        "Bar2, 1.02\n",
        "Bar3, 0.570\n",
        "Bar4, 0.553\n",
        "Bar5, 0.497\n",
        "Bar6, 0.467\n",
        "Bar7, 0.440\n",
        "Bar8, 0.420\n",
        "Bar9, 0.413\n",
        "Bar10, 0.317\n",
        "Bar11, 0.0433\"\"\"\n",
        "\n",
        "data_values = [float(x.split()[1]) for x in data.splitlines()]"
      ],
      "metadata": {
        "id": "7_T6_4dYUs0k"
      },
      "execution_count": 2,
      "outputs": []
    },
    {
      "cell_type": "markdown",
      "source": [
        "I put the values into a Pandas dataframe:"
      ],
      "metadata": {
        "id": "3zBecidnV7FO"
      }
    },
    {
      "cell_type": "code",
      "source": [
        "source = pd.DataFrame({\n",
        "    'label': ['China', 'Japan', 'Switserland', 'India', 'Taiwan', 'Hong Kong', 'Russia', 'South Korea', 'Saudi Arabia', 'Singapore', 'Eurozone', 'US'],\n",
        "    'val': data_values\n",
        "})"
      ],
      "metadata": {
        "id": "KVyQHlp_V5ii"
      },
      "execution_count": 3,
      "outputs": []
    },
    {
      "cell_type": "markdown",
      "source": [
        "Now we build the graph and alter it's style to resemble the Financial Times style:"
      ],
      "metadata": {
        "id": "xHcdw895krjb"
      }
    },
    {
      "cell_type": "code",
      "source": [
        "square = alt.Chart().mark_rect(width=80, height=5, color='black', xOffset=-112, yOffset=10)\n",
        "\n",
        "bars = alt.Chart(source).mark_bar(color='#174C7F', size=30).encode(\n",
        "    x=alt.X('val:Q', title='', axis=alt.Axis(tickCount=6, domain=False, labelColor='darkgray'), scale=alt.Scale(domain=[0, 3.0])),\n",
        "    y=alt.Y('label:N', title='', sort=alt.EncodingSortField(\n",
        "            field=\"val:Q\",  # The field to use for the sort\n",
        "            op=\"sum\",  # The operation to run on the field prior to sorting\n",
        "            order=\"ascending\"  # The order to sort in\n",
        "        ), axis=alt.Axis(domainColor='lightgray',\n",
        "                         labelFontSize=18, labelColor='darkgray', labelPadding=5,\n",
        "                         labelFontStyle='Bold',\n",
        "                         tickSize=18, tickColor='lightgray'))\n",
        ").properties(title={\n",
        "      \"text\": [\"The biggest holders of FX reserves\", ], \n",
        "      \"subtitle\": [\"Official foreign exchange reserve (Jan 2022, $tn)\"],\n",
        "      \"align\": 'left',\n",
        "      \"anchor\": 'start'\n",
        "    },\n",
        "    width=700,\n",
        "    height=512\n",
        ")\n",
        "\n",
        "source_text = alt.Chart(\n",
        "    {\"values\": [{\"text\": \"Source: IMF, © FT\"}]}\n",
        ").mark_text(size=12, align='left', dx=-140, color='darkgrey').encode(\n",
        "    text=\"text:N\"\n",
        ")\n",
        "\n",
        "# from https://stackoverflow.com/questions/57244390/has-anyone-figured-out-a-workaround-to-add-a-subtitle-to-an-altair-generated-cha\n",
        "chart = alt.vconcat(\n",
        "    square,\n",
        "    bars,\n",
        "    source_text\n",
        ").configure_concat(\n",
        "    spacing=0\n",
        ").configure(\n",
        "    background='#fff1e5',\n",
        ").configure_view(\n",
        "    stroke=None, # Remove box around graph\n",
        ").configure_title(\n",
        "    # font='metricweb',\n",
        "    fontSize=22,\n",
        "    fontWeight=400,\n",
        "    subtitleFontSize=18,\n",
        "    subtitleColor='darkgray',\n",
        "    subtitleFontWeight=400,\n",
        "    subtitlePadding=15,\n",
        "    offset=80,\n",
        "    dy=40\n",
        ")\n",
        "\n",
        "chart"
      ],
      "metadata": {
        "colab": {
          "base_uri": "https://localhost:8080/",
          "height": 737
        },
        "id": "msqIs5cLWBbo",
        "outputId": "22b921e2-84c8-4e57-d2c4-d397c4b6669c"
      },
      "execution_count": 4,
      "outputs": [
        {
          "output_type": "execute_result",
          "data": {
            "text/html": [
              "\n",
              "<div id=\"altair-viz-80793582b97e479ca5b66521e9670b81\"></div>\n",
              "<script type=\"text/javascript\">\n",
              "  var VEGA_DEBUG = (typeof VEGA_DEBUG == \"undefined\") ? {} : VEGA_DEBUG;\n",
              "  (function(spec, embedOpt){\n",
              "    let outputDiv = document.currentScript.previousElementSibling;\n",
              "    if (outputDiv.id !== \"altair-viz-80793582b97e479ca5b66521e9670b81\") {\n",
              "      outputDiv = document.getElementById(\"altair-viz-80793582b97e479ca5b66521e9670b81\");\n",
              "    }\n",
              "    const paths = {\n",
              "      \"vega\": \"https://cdn.jsdelivr.net/npm//vega@5?noext\",\n",
              "      \"vega-lib\": \"https://cdn.jsdelivr.net/npm//vega-lib?noext\",\n",
              "      \"vega-lite\": \"https://cdn.jsdelivr.net/npm//vega-lite@4.17.0?noext\",\n",
              "      \"vega-embed\": \"https://cdn.jsdelivr.net/npm//vega-embed@6?noext\",\n",
              "    };\n",
              "\n",
              "    function maybeLoadScript(lib, version) {\n",
              "      var key = `${lib.replace(\"-\", \"\")}_version`;\n",
              "      return (VEGA_DEBUG[key] == version) ?\n",
              "        Promise.resolve(paths[lib]) :\n",
              "        new Promise(function(resolve, reject) {\n",
              "          var s = document.createElement('script');\n",
              "          document.getElementsByTagName(\"head\")[0].appendChild(s);\n",
              "          s.async = true;\n",
              "          s.onload = () => {\n",
              "            VEGA_DEBUG[key] = version;\n",
              "            return resolve(paths[lib]);\n",
              "          };\n",
              "          s.onerror = () => reject(`Error loading script: ${paths[lib]}`);\n",
              "          s.src = paths[lib];\n",
              "        });\n",
              "    }\n",
              "\n",
              "    function showError(err) {\n",
              "      outputDiv.innerHTML = `<div class=\"error\" style=\"color:red;\">${err}</div>`;\n",
              "      throw err;\n",
              "    }\n",
              "\n",
              "    function displayChart(vegaEmbed) {\n",
              "      vegaEmbed(outputDiv, spec, embedOpt)\n",
              "        .catch(err => showError(`Javascript Error: ${err.message}<br>This usually means there's a typo in your chart specification. See the javascript console for the full traceback.`));\n",
              "    }\n",
              "\n",
              "    if(typeof define === \"function\" && define.amd) {\n",
              "      requirejs.config({paths});\n",
              "      require([\"vega-embed\"], displayChart, err => showError(`Error loading script: ${err.message}`));\n",
              "    } else {\n",
              "      maybeLoadScript(\"vega\", \"5\")\n",
              "        .then(() => maybeLoadScript(\"vega-lite\", \"4.17.0\"))\n",
              "        .then(() => maybeLoadScript(\"vega-embed\", \"6\"))\n",
              "        .catch(showError)\n",
              "        .then(() => displayChart(vegaEmbed));\n",
              "    }\n",
              "  })({\"config\": {\"view\": {\"continuousWidth\": 400, \"continuousHeight\": 300, \"stroke\": null}, \"background\": \"#fff1e5\", \"title\": {\"dy\": 40, \"fontSize\": 22, \"fontWeight\": 400, \"offset\": 80, \"subtitleColor\": \"darkgray\", \"subtitleFontSize\": 18, \"subtitleFontWeight\": 400, \"subtitlePadding\": 15}}, \"vconcat\": [{\"data\": {\"name\": \"empty\"}, \"mark\": {\"type\": \"rect\", \"color\": \"black\", \"height\": 5, \"width\": 80, \"xOffset\": -112, \"yOffset\": 10}}, {\"data\": {\"name\": \"data-df71ec9f3957c236109e455bd72c3eb3\"}, \"mark\": {\"type\": \"bar\", \"color\": \"#174C7F\", \"size\": 30}, \"encoding\": {\"x\": {\"axis\": {\"domain\": false, \"labelColor\": \"darkgray\", \"tickCount\": 6}, \"field\": \"val\", \"scale\": {\"domain\": [0, 3.0]}, \"title\": \"\", \"type\": \"quantitative\"}, \"y\": {\"axis\": {\"domainColor\": \"lightgray\", \"labelColor\": \"darkgray\", \"labelFontSize\": 18, \"labelFontStyle\": \"Bold\", \"labelPadding\": 5, \"tickColor\": \"lightgray\", \"tickSize\": 18}, \"field\": \"label\", \"sort\": {\"field\": \"val:Q\", \"op\": \"sum\", \"order\": \"ascending\"}, \"title\": \"\", \"type\": \"nominal\"}}, \"height\": 512, \"title\": {\"text\": [\"The biggest holders of FX reserves\"], \"subtitle\": [\"Official foreign exchange reserve (Jan 2022, $tn)\"], \"align\": \"left\", \"anchor\": \"start\"}, \"width\": 700}, {\"data\": {\"name\": \"data-0a30ac8e3706e989ddfc777785723af1\"}, \"mark\": {\"type\": \"text\", \"align\": \"left\", \"color\": \"darkgrey\", \"dx\": -140, \"size\": 12}, \"encoding\": {\"text\": {\"field\": \"text\", \"type\": \"nominal\"}}}], \"$schema\": \"https://vega.github.io/schema/vega-lite/v4.17.0.json\", \"datasets\": {\"empty\": [{}], \"data-df71ec9f3957c236109e455bd72c3eb3\": [{\"label\": \"China\", \"val\": 3.23}, {\"label\": \"Japan\", \"val\": 1.27}, {\"label\": \"Switserland\", \"val\": 1.02}, {\"label\": \"India\", \"val\": 0.57}, {\"label\": \"Taiwan\", \"val\": 0.553}, {\"label\": \"Hong Kong\", \"val\": 0.497}, {\"label\": \"Russia\", \"val\": 0.467}, {\"label\": \"South Korea\", \"val\": 0.44}, {\"label\": \"Saudi Arabia\", \"val\": 0.42}, {\"label\": \"Singapore\", \"val\": 0.413}, {\"label\": \"Eurozone\", \"val\": 0.317}, {\"label\": \"US\", \"val\": 0.0433}], \"data-0a30ac8e3706e989ddfc777785723af1\": [{\"text\": \"Source: IMF, \\u00a9 FT\"}]}}, {\"mode\": \"vega-lite\"});\n",
              "</script>"
            ],
            "text/plain": [
              "alt.VConcatChart(...)"
            ]
          },
          "metadata": {},
          "execution_count": 4
        }
      ]
    },
    {
      "cell_type": "markdown",
      "source": [
        "# Trying to use the offical Financial Times fonts"
      ],
      "metadata": {
        "id": "TBqnczchjQcj"
      }
    },
    {
      "cell_type": "markdown",
      "source": [
        "The chart looks quit similar to the original. Biggest difference is the typography. The Financial times uses its own Metric Web and Financier Display Web fonts and Altair can only use fonts available in the browser. \n",
        "\n",
        "The fonts could be made available via CSS:\n",
        "\n",
        "```css\n",
        "@font-face {\n",
        "    font-family: 'metricweb';\n",
        "    src: url('https://www.ft.com/__origami/service/build/v2/files/o-fonts-assets@1.5.0/MetricWeb-Regular.woff2''\n",
        ");\n",
        "}\n",
        "```"
      ],
      "metadata": {
        "id": "BNhohJUDWJF4"
      }
    },
    {
      "cell_type": "code",
      "source": [
        "from IPython.display import HTML\n",
        "from google.colab.output import _publish as publish\n",
        "publish.css(\"\"\"@font-face {\n",
        "    font-family: 'metricweb', sans-serif;\n",
        "    src: url('https://www.ft.com/__origami/service/build/v2/files/o-fonts-assets@1.5.0/MetricWeb-Regular.woff2') format('woff2');\n",
        "}\"\"\")"
      ],
      "metadata": {
        "colab": {
          "base_uri": "https://localhost:8080/",
          "height": 17
        },
        "id": "h679PEQlWE3n",
        "outputId": "5b681067-8d3d-4f5f-9c41-a92c613b9353"
      },
      "execution_count": 5,
      "outputs": [
        {
          "output_type": "display_data",
          "data": {
            "text/plain": [
              "<IPython.core.display.HTML object>"
            ],
            "text/html": [
              "<style>@font-face {\n",
              "    font-family: 'metricweb', sans-serif;\n",
              "    src: url('https://www.ft.com/__origami/service/build/v2/files/o-fonts-assets@1.5.0/MetricWeb-Regular.woff2') format('woff2');\n",
              "}</style>"
            ]
          },
          "metadata": {}
        }
      ]
    },
    {
      "cell_type": "code",
      "source": [
        "square = alt.Chart().mark_rect(width=80, height=5, color='black', xOffset=-112, yOffset=10)\n",
        "\n",
        "bars = alt.Chart(source).mark_bar(color='#174C7F', size=30).encode(\n",
        "    x=alt.X('val:Q', title='', axis=alt.Axis(tickCount=6, domain=False), scale=alt.Scale(domain=[0, 3.0])),\n",
        "    y=alt.Y('label:N', title='', sort=alt.EncodingSortField(\n",
        "            field=\"val:Q\",  # The field to use for the sort\n",
        "            op=\"sum\",  # The operation to run on the field prior to sorting\n",
        "            order=\"ascending\"  # The order to sort in\n",
        "        ), axis=alt.Axis(domainColor='lightgray',\n",
        "                         labelFontSize=18, labelColor='darkgray', labelPadding=5,\n",
        "                         labelFontStyle='Bold',\n",
        "                         tickSize=18, tickColor='lightgray'))\n",
        ").properties(title={\n",
        "      \"text\": [\"The biggest holders of FX reserves\", ], \n",
        "      \"subtitle\": [\"Official foreign exchange reserve (Jan 2022, $tn)\"],\n",
        "      \"align\": 'left',\n",
        "      \"anchor\": 'start'\n",
        "    },\n",
        "    width=700,\n",
        "    height=512\n",
        ")\n",
        "\n",
        "source_text = alt.Chart(\n",
        "    {\"values\": [{\"text\": \"Source: IMF, © FT\"}]}\n",
        ").mark_text(size=12, align='left', dx=-140, color='darkgrey').encode(\n",
        "    text=\"text:N\"\n",
        ")\n",
        "\n",
        "# from https://stackoverflow.com/questions/57244390/has-anyone-figured-out-a-workaround-to-add-a-subtitle-to-an-altair-generated-cha\n",
        "chart = alt.vconcat(\n",
        "    square,\n",
        "    bars,\n",
        "    source_text\n",
        ").configure_concat(\n",
        "    spacing=0\n",
        ").configure(\n",
        "    background='#fff1e5',\n",
        ").configure_view(\n",
        "    stroke=None, # Remove box around graph\n",
        ").configure_title(\n",
        "    font='metricweb',\n",
        "    fontSize=22,\n",
        "    fontWeight=400,\n",
        "    subtitleFont='metricweb',\n",
        "    subtitleFontSize=18,\n",
        "    subtitleColor='darkgray',\n",
        "    subtitleFontWeight=400,\n",
        "    subtitlePadding=15,\n",
        "    offset=80,\n",
        "    dy=40\n",
        ")\n",
        "\n",
        "chart"
      ],
      "metadata": {
        "colab": {
          "base_uri": "https://localhost:8080/",
          "height": 737
        },
        "id": "VJiPYJFRdFq3",
        "outputId": "90b2180a-596e-410e-d6fb-5e0e75a83168"
      },
      "execution_count": 6,
      "outputs": [
        {
          "output_type": "execute_result",
          "data": {
            "text/html": [
              "\n",
              "<div id=\"altair-viz-4e3b9cb8f81842a7953a6fb0fb834a7f\"></div>\n",
              "<script type=\"text/javascript\">\n",
              "  var VEGA_DEBUG = (typeof VEGA_DEBUG == \"undefined\") ? {} : VEGA_DEBUG;\n",
              "  (function(spec, embedOpt){\n",
              "    let outputDiv = document.currentScript.previousElementSibling;\n",
              "    if (outputDiv.id !== \"altair-viz-4e3b9cb8f81842a7953a6fb0fb834a7f\") {\n",
              "      outputDiv = document.getElementById(\"altair-viz-4e3b9cb8f81842a7953a6fb0fb834a7f\");\n",
              "    }\n",
              "    const paths = {\n",
              "      \"vega\": \"https://cdn.jsdelivr.net/npm//vega@5?noext\",\n",
              "      \"vega-lib\": \"https://cdn.jsdelivr.net/npm//vega-lib?noext\",\n",
              "      \"vega-lite\": \"https://cdn.jsdelivr.net/npm//vega-lite@4.17.0?noext\",\n",
              "      \"vega-embed\": \"https://cdn.jsdelivr.net/npm//vega-embed@6?noext\",\n",
              "    };\n",
              "\n",
              "    function maybeLoadScript(lib, version) {\n",
              "      var key = `${lib.replace(\"-\", \"\")}_version`;\n",
              "      return (VEGA_DEBUG[key] == version) ?\n",
              "        Promise.resolve(paths[lib]) :\n",
              "        new Promise(function(resolve, reject) {\n",
              "          var s = document.createElement('script');\n",
              "          document.getElementsByTagName(\"head\")[0].appendChild(s);\n",
              "          s.async = true;\n",
              "          s.onload = () => {\n",
              "            VEGA_DEBUG[key] = version;\n",
              "            return resolve(paths[lib]);\n",
              "          };\n",
              "          s.onerror = () => reject(`Error loading script: ${paths[lib]}`);\n",
              "          s.src = paths[lib];\n",
              "        });\n",
              "    }\n",
              "\n",
              "    function showError(err) {\n",
              "      outputDiv.innerHTML = `<div class=\"error\" style=\"color:red;\">${err}</div>`;\n",
              "      throw err;\n",
              "    }\n",
              "\n",
              "    function displayChart(vegaEmbed) {\n",
              "      vegaEmbed(outputDiv, spec, embedOpt)\n",
              "        .catch(err => showError(`Javascript Error: ${err.message}<br>This usually means there's a typo in your chart specification. See the javascript console for the full traceback.`));\n",
              "    }\n",
              "\n",
              "    if(typeof define === \"function\" && define.amd) {\n",
              "      requirejs.config({paths});\n",
              "      require([\"vega-embed\"], displayChart, err => showError(`Error loading script: ${err.message}`));\n",
              "    } else {\n",
              "      maybeLoadScript(\"vega\", \"5\")\n",
              "        .then(() => maybeLoadScript(\"vega-lite\", \"4.17.0\"))\n",
              "        .then(() => maybeLoadScript(\"vega-embed\", \"6\"))\n",
              "        .catch(showError)\n",
              "        .then(() => displayChart(vegaEmbed));\n",
              "    }\n",
              "  })({\"config\": {\"view\": {\"continuousWidth\": 400, \"continuousHeight\": 300, \"stroke\": null}, \"background\": \"#fff1e5\", \"title\": {\"dy\": 40, \"font\": \"metricweb\", \"fontSize\": 22, \"fontWeight\": 400, \"offset\": 80, \"subtitleColor\": \"darkgray\", \"subtitleFont\": \"metricweb\", \"subtitleFontSize\": 18, \"subtitleFontWeight\": 400, \"subtitlePadding\": 15}}, \"vconcat\": [{\"data\": {\"name\": \"empty\"}, \"mark\": {\"type\": \"rect\", \"color\": \"black\", \"height\": 5, \"width\": 80, \"xOffset\": -112, \"yOffset\": 10}}, {\"data\": {\"name\": \"data-df71ec9f3957c236109e455bd72c3eb3\"}, \"mark\": {\"type\": \"bar\", \"color\": \"#174C7F\", \"size\": 30}, \"encoding\": {\"x\": {\"axis\": {\"domain\": false, \"tickCount\": 6}, \"field\": \"val\", \"scale\": {\"domain\": [0, 3.0]}, \"title\": \"\", \"type\": \"quantitative\"}, \"y\": {\"axis\": {\"domainColor\": \"lightgray\", \"labelColor\": \"darkgray\", \"labelFontSize\": 18, \"labelFontStyle\": \"Bold\", \"labelPadding\": 5, \"tickColor\": \"lightgray\", \"tickSize\": 18}, \"field\": \"label\", \"sort\": {\"field\": \"val:Q\", \"op\": \"sum\", \"order\": \"ascending\"}, \"title\": \"\", \"type\": \"nominal\"}}, \"height\": 512, \"title\": {\"text\": [\"The biggest holders of FX reserves\"], \"subtitle\": [\"Official foreign exchange reserve (Jan 2022, $tn)\"], \"align\": \"left\", \"anchor\": \"start\"}, \"width\": 700}, {\"data\": {\"name\": \"data-0a30ac8e3706e989ddfc777785723af1\"}, \"mark\": {\"type\": \"text\", \"align\": \"left\", \"color\": \"darkgrey\", \"dx\": -140, \"size\": 12}, \"encoding\": {\"text\": {\"field\": \"text\", \"type\": \"nominal\"}}}], \"$schema\": \"https://vega.github.io/schema/vega-lite/v4.17.0.json\", \"datasets\": {\"empty\": [{}], \"data-df71ec9f3957c236109e455bd72c3eb3\": [{\"label\": \"China\", \"val\": 3.23}, {\"label\": \"Japan\", \"val\": 1.27}, {\"label\": \"Switserland\", \"val\": 1.02}, {\"label\": \"India\", \"val\": 0.57}, {\"label\": \"Taiwan\", \"val\": 0.553}, {\"label\": \"Hong Kong\", \"val\": 0.497}, {\"label\": \"Russia\", \"val\": 0.467}, {\"label\": \"South Korea\", \"val\": 0.44}, {\"label\": \"Saudi Arabia\", \"val\": 0.42}, {\"label\": \"Singapore\", \"val\": 0.413}, {\"label\": \"Eurozone\", \"val\": 0.317}, {\"label\": \"US\", \"val\": 0.0433}], \"data-0a30ac8e3706e989ddfc777785723af1\": [{\"text\": \"Source: IMF, \\u00a9 FT\"}]}}, {\"mode\": \"vega-lite\"});\n",
              "</script>"
            ],
            "text/plain": [
              "alt.VConcatChart(...)"
            ]
          },
          "metadata": {},
          "execution_count": 6
        }
      ]
    },
    {
      "cell_type": "markdown",
      "source": [
        "For the moment the font does not look at all to be Metric web :-(\n",
        "\n",
        "A second minor difference are the alignment of the 0.0 and 3.0 labels of the x-axis. In the orginal, those labels are centered. Altair aligns 0.0 to the left and 3.0 to the right."
      ],
      "metadata": {
        "id": "PygK47tPjds2"
      }
    },
    {
      "cell_type": "code",
      "source": [
        ""
      ],
      "metadata": {
        "id": "Tn8RviRTdlcb"
      },
      "execution_count": 6,
      "outputs": []
    }
  ]
}