{
  "nbformat": 4,
  "nbformat_minor": 0,
  "metadata": {
    "colab": {
      "name": "2020-04-24-talk-datascience-levuen-explain-clustering.ipynb",
      "provenance": [],
      "collapsed_sections": []
    },
    "kernelspec": {
      "name": "python3",
      "display_name": "Python 3"
    }
  },
  "cells": [
    {
      "cell_type": "markdown",
      "metadata": {
        "id": "0SpYPe3Aemcd",
        "colab_type": "text"
      },
      "source": [
        "# My talk at data science leuven\n",
        "> Links to video and slides of the talk and thanking people.\n",
        "- toc:true\n",
        "- branch: master\n",
        "- badges: true\n",
        "- comments: true\n",
        "- author: Lode Nachtergaele\n",
        "- categories: [cast42, dsleuven, clustering, altair, shap]\n",
        "\n",
        "\n",
        "## Talk material\n",
        "\n",
        "On 23 April 2020, I was invited for a talk at [Data science Leuven](https://www.meetup.com/nl-NL/Data-Science-Leuven/).\n",
        "I talked about how you can explore and explain the results of a clustering exercise.\n",
        "The target audience are data scientist that that have notions of how to cluster data and that want to improve their skills. \n"
      ]
    },
    {
      "cell_type": "markdown",
      "metadata": {
        "id": "LqFMH1sCelJa",
        "colab_type": "text"
      },
      "source": [
        "The video is recorded on Youtube:\n",
        "\n",
        "> youtube https://youtu.be/hk0arqhcX9U?t=4950\n",
        "\n",
        "\n",
        " "
      ]
    },
    {
      "cell_type": "markdown",
      "metadata": {
        "id": "AoL7ChGOfxIn",
        "colab_type": "text"
      },
      "source": [
        "  You can see the slides here: [slides](https://docs.google.com/presentation/d/1JNcbzKXeRWiTbevgsb1GtlPpBale8iKQjQV-BcSS1Vk/edit?usp=sharing)\n",
        "  \n",
        "  "
      ]
    },
    {
      "cell_type": "markdown",
      "metadata": {
        "id": "CXvRp9lxgI8U",
        "colab_type": "text"
      },
      "source": [
        "The talk itself is based on this [notebook](https://cast42.github.io/blog/datascience/python/clustering/altair/shap/2020/04/23/_04_23_explain_clusters_to_business.html) that appeared this the blog yesterday and that I used to demo during the talk.\n",
        "\n",
        "  The host of the conference was [Istvan Hajnal](https://twitter.com/IstvanHajnal). He said the following: \n",
        "  \n",
        "  > twitter https://twitter.com/dsleuven/status/1253391470444371968\n",
        "\n",
        "\n",
        "He also took the R out of my family name NachteRgaele. Troubles with R, it's becoming a story of my life... :joy: Behind the scene [Kris Peeters](https://twitter.com/peeterskris) calmly took the heat of doing the live streaming. :+1: Big thanks to the whole Data Science Leuven team that is doing all this on voluntary basis.\n",
        "\n"
      ]
    },
    {
      "cell_type": "markdown",
      "metadata": {
        "id": "5Ie7NOcrgNMv",
        "colab_type": "text"
      },
      "source": [
        "## Standing on the shoulders of the giants\n",
        "\n",
        "This talks was not possible without the awesome [Altair](https://altair-viz.github.io/) visualisation library made by [Jake VanderPlas](http://vanderplas.com/). Secondly, it builds upon the open source [Shap](https://github.com/slundberg/shap) library made by Scott Lundberg. Those two libraries had a major impact on my daily work as datascientist at Colruyt group. They inspired me in trying to give back to the open source community with this talk. :metal:\n",
        "\n",
        "If you want to learn how to use Altair I recommend the tutorial made by [Vincent Warmerdam](https://twitter.com/fishnets88) on his calm code site: (https://calmcode.io/altair/introduction.htm)\n",
        "\n",
        "I would also like to thank my collegues at work who endured the dry-run of this talk and who made the suggestion to try to use a classifier to explain the clustering result. Top team!\n",
        "\n"
      ]
    },
    {
      "cell_type": "markdown",
      "metadata": {
        "id": "5v6PyPMJgPXv",
        "colab_type": "text"
      },
      "source": [
        "## Awesome fastpages\n",
        "\n",
        "Finally, this blog is build with the awesome fastpages. I can now share a rendered Jupyter notebook, with working interactive demos, that can be opened in [My binder](https://mybinder.org/) or [Google Colab](https://research.google.com/colaboratory/faq.html) with one click on a button. This means that readers can directly tinker around with the code and methods discussed in the talk. All you need is a browser and an internet connection. So thank you [Jeremy Howard](https://twitter.com/jeremyphoward), [Hamel Husain](https://twitter.com/HamelHusain), and the [fastdotai](https://twitter.com/fastdotai) team. I will cast for two how awesome this is."
      ]
    }
  ]
}