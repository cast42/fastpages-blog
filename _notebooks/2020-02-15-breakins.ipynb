{
 "cells": [
  {
   "cell_type": "markdown",
   "metadata": {
    "colab_type": "text",
    "id": "N0b-ScGsralL"
   },
   "source": [
    "# Evolution of burglary in Leuven. Is the trend downwards ?\n",
    "> Evolution of burglary in Leuven. Is the trend downwards ?\n",
    "\n",
    "- toc:true\n",
    "- branch: master\n",
    "- badges: true\n",
    "- comments: true\n",
    "- author: Lode Nachtergaele\n",
    "- categories: [cast42, jupyter, altair]"
   ]
  },
  {
   "cell_type": "markdown",
   "metadata": {
    "colab_type": "text",
    "id": "E7YozDvW7gj0"
   },
   "source": [
    "The local police shared [a graph](https://www.politie.be/5388/nieuws/inbraken-op-leuvens-grondgebied-zijn-in-2019-opnieuw-gedaald) with the number of break-ins in Leuven per year.  The article shows a graph with a downwards trendline. Can we conclude that the number of breakins is showing a downward trend based on those numbers? Let's construct a dataframe with the data from the graph."
   ]
  },
  {
   "cell_type": "code",
   "execution_count": 1,
   "metadata": {
    "colab": {},
    "colab_type": "code",
    "id": "eqmvYOKSrSCC"
   },
   "outputs": [],
   "source": [
    "import numpy as np\n",
    "import pandas as pd\n",
    "import altair as alt\n",
    "\n",
    "df = pd.DataFrame({'year_int':[y for y in range(2006, 2020)], \n",
    "                  'breakins':[1133,834,953,891,1006,1218,992,1079,1266,1112,713,669,730,644]})\n",
    "df['year'] = pd.to_datetime(df['year_int'], format='%Y')"
   ]
  },
  {
   "cell_type": "code",
   "execution_count": 2,
   "metadata": {
    "colab": {
     "base_uri": "https://localhost:8080/",
     "height": 380
    },
    "colab_type": "code",
    "id": "atADMElatqst",
    "outputId": "e0057f5b-eb72-41c3-d26e-763a274a5d7c"
   },
   "outputs": [
    {
     "data": {
      "text/html": [
       "\n",
       "<div id=\"altair-viz-649b49ee9d1f44799a0e200be12c8f06\"></div>\n",
       "<script type=\"text/javascript\">\n",
       "  (function(spec, embedOpt){\n",
       "    let outputDiv = document.currentScript.previousElementSibling;\n",
       "    if (outputDiv.id !== \"altair-viz-649b49ee9d1f44799a0e200be12c8f06\") {\n",
       "      outputDiv = document.getElementById(\"altair-viz-649b49ee9d1f44799a0e200be12c8f06\");\n",
       "    }\n",
       "    const paths = {\n",
       "      \"vega\": \"https://cdn.jsdelivr.net/npm//vega@5?noext\",\n",
       "      \"vega-lib\": \"https://cdn.jsdelivr.net/npm//vega-lib?noext\",\n",
       "      \"vega-lite\": \"https://cdn.jsdelivr.net/npm//vega-lite@4.8.1?noext\",\n",
       "      \"vega-embed\": \"https://cdn.jsdelivr.net/npm//vega-embed@6?noext\",\n",
       "    };\n",
       "\n",
       "    function loadScript(lib) {\n",
       "      return new Promise(function(resolve, reject) {\n",
       "        var s = document.createElement('script');\n",
       "        s.src = paths[lib];\n",
       "        s.async = true;\n",
       "        s.onload = () => resolve(paths[lib]);\n",
       "        s.onerror = () => reject(`Error loading script: ${paths[lib]}`);\n",
       "        document.getElementsByTagName(\"head\")[0].appendChild(s);\n",
       "      });\n",
       "    }\n",
       "\n",
       "    function showError(err) {\n",
       "      outputDiv.innerHTML = `<div class=\"error\" style=\"color:red;\">${err}</div>`;\n",
       "      throw err;\n",
       "    }\n",
       "\n",
       "    function displayChart(vegaEmbed) {\n",
       "      vegaEmbed(outputDiv, spec, embedOpt)\n",
       "        .catch(err => showError(`Javascript Error: ${err.message}<br>This usually means there's a typo in your chart specification. See the javascript console for the full traceback.`));\n",
       "    }\n",
       "\n",
       "    if(typeof define === \"function\" && define.amd) {\n",
       "      requirejs.config({paths});\n",
       "      require([\"vega-embed\"], displayChart, err => showError(`Error loading script: ${err.message}`));\n",
       "    } else if (typeof vegaEmbed === \"function\") {\n",
       "      displayChart(vegaEmbed);\n",
       "    } else {\n",
       "      loadScript(\"vega\")\n",
       "        .then(() => loadScript(\"vega-lite\"))\n",
       "        .then(() => loadScript(\"vega-embed\"))\n",
       "        .catch(showError)\n",
       "        .then(() => displayChart(vegaEmbed));\n",
       "    }\n",
       "  })({\"config\": {\"view\": {\"continuousWidth\": 400, \"continuousHeight\": 300}}, \"layer\": [{\"mark\": {\"type\": \"line\", \"point\": true}, \"encoding\": {\"tooltip\": {\"type\": \"quantitative\", \"field\": \"breakins\"}, \"x\": {\"type\": \"temporal\", \"field\": \"year\"}, \"y\": {\"type\": \"quantitative\", \"field\": \"breakins\"}}}, {\"mark\": {\"type\": \"line\", \"color\": \"green\"}, \"encoding\": {\"tooltip\": {\"type\": \"quantitative\", \"field\": \"breakins\"}, \"x\": {\"type\": \"temporal\", \"field\": \"year\"}, \"y\": {\"type\": \"quantitative\", \"field\": \"breakins\"}}, \"title\": \"Regression trend on the number breakins per year in Leuven\", \"transform\": [{\"on\": \"year\", \"regression\": \"breakins\"}]}], \"data\": {\"name\": \"data-e69c4a4577c6a9d2a03c89854c9a4599\"}, \"$schema\": \"https://vega.github.io/schema/vega-lite/v4.8.1.json\", \"datasets\": {\"data-e69c4a4577c6a9d2a03c89854c9a4599\": [{\"year_int\": 2006, \"breakins\": 1133, \"year\": \"2006-01-01T00:00:00\"}, {\"year_int\": 2007, \"breakins\": 834, \"year\": \"2007-01-01T00:00:00\"}, {\"year_int\": 2008, \"breakins\": 953, \"year\": \"2008-01-01T00:00:00\"}, {\"year_int\": 2009, \"breakins\": 891, \"year\": \"2009-01-01T00:00:00\"}, {\"year_int\": 2010, \"breakins\": 1006, \"year\": \"2010-01-01T00:00:00\"}, {\"year_int\": 2011, \"breakins\": 1218, \"year\": \"2011-01-01T00:00:00\"}, {\"year_int\": 2012, \"breakins\": 992, \"year\": \"2012-01-01T00:00:00\"}, {\"year_int\": 2013, \"breakins\": 1079, \"year\": \"2013-01-01T00:00:00\"}, {\"year_int\": 2014, \"breakins\": 1266, \"year\": \"2014-01-01T00:00:00\"}, {\"year_int\": 2015, \"breakins\": 1112, \"year\": \"2015-01-01T00:00:00\"}, {\"year_int\": 2016, \"breakins\": 713, \"year\": \"2016-01-01T00:00:00\"}, {\"year_int\": 2017, \"breakins\": 669, \"year\": \"2017-01-01T00:00:00\"}, {\"year_int\": 2018, \"breakins\": 730, \"year\": \"2018-01-01T00:00:00\"}, {\"year_int\": 2019, \"breakins\": 644, \"year\": \"2019-01-01T00:00:00\"}]}}, {\"mode\": \"vega-lite\"});\n",
       "</script>"
      ],
      "text/plain": [
       "alt.LayerChart(...)"
      ]
     },
     "execution_count": 2,
     "metadata": {},
     "output_type": "execute_result"
    }
   ],
   "source": [
    "points = alt.Chart(df).mark_line(point=True).encode(\n",
    "    x='year', y='breakins', tooltip='breakins'\n",
    ")\n",
    "points + points.transform_regression('year', 'breakins').mark_line(\n",
    "    color='green'\n",
    ").properties(\n",
    "    title='Regression trend on the number breakins per year in Leuven'\n",
    ")"
   ]
  },
  {
   "cell_type": "markdown",
   "metadata": {
    "colab_type": "text",
    "id": "hjaIm7HW14i9"
   },
   "source": [
    "The article claims that the number of breakins stabilizes the last years. Let's perform a local regression to check that."
   ]
  },
  {
   "cell_type": "code",
   "execution_count": 3,
   "metadata": {
    "colab": {
     "base_uri": "https://localhost:8080/",
     "height": 380
    },
    "colab_type": "code",
    "id": "svOYjcpv149m",
    "outputId": "e1491ecf-eb05-4f18-f7bc-6dc8aec3bc63"
   },
   "outputs": [
    {
     "data": {
      "text/html": [
       "\n",
       "<div id=\"altair-viz-524d27ed46b142359cdc597a05a024eb\"></div>\n",
       "<script type=\"text/javascript\">\n",
       "  (function(spec, embedOpt){\n",
       "    let outputDiv = document.currentScript.previousElementSibling;\n",
       "    if (outputDiv.id !== \"altair-viz-524d27ed46b142359cdc597a05a024eb\") {\n",
       "      outputDiv = document.getElementById(\"altair-viz-524d27ed46b142359cdc597a05a024eb\");\n",
       "    }\n",
       "    const paths = {\n",
       "      \"vega\": \"https://cdn.jsdelivr.net/npm//vega@5?noext\",\n",
       "      \"vega-lib\": \"https://cdn.jsdelivr.net/npm//vega-lib?noext\",\n",
       "      \"vega-lite\": \"https://cdn.jsdelivr.net/npm//vega-lite@4.8.1?noext\",\n",
       "      \"vega-embed\": \"https://cdn.jsdelivr.net/npm//vega-embed@6?noext\",\n",
       "    };\n",
       "\n",
       "    function loadScript(lib) {\n",
       "      return new Promise(function(resolve, reject) {\n",
       "        var s = document.createElement('script');\n",
       "        s.src = paths[lib];\n",
       "        s.async = true;\n",
       "        s.onload = () => resolve(paths[lib]);\n",
       "        s.onerror = () => reject(`Error loading script: ${paths[lib]}`);\n",
       "        document.getElementsByTagName(\"head\")[0].appendChild(s);\n",
       "      });\n",
       "    }\n",
       "\n",
       "    function showError(err) {\n",
       "      outputDiv.innerHTML = `<div class=\"error\" style=\"color:red;\">${err}</div>`;\n",
       "      throw err;\n",
       "    }\n",
       "\n",
       "    function displayChart(vegaEmbed) {\n",
       "      vegaEmbed(outputDiv, spec, embedOpt)\n",
       "        .catch(err => showError(`Javascript Error: ${err.message}<br>This usually means there's a typo in your chart specification. See the javascript console for the full traceback.`));\n",
       "    }\n",
       "\n",
       "    if(typeof define === \"function\" && define.amd) {\n",
       "      requirejs.config({paths});\n",
       "      require([\"vega-embed\"], displayChart, err => showError(`Error loading script: ${err.message}`));\n",
       "    } else if (typeof vegaEmbed === \"function\") {\n",
       "      displayChart(vegaEmbed);\n",
       "    } else {\n",
       "      loadScript(\"vega\")\n",
       "        .then(() => loadScript(\"vega-lite\"))\n",
       "        .then(() => loadScript(\"vega-embed\"))\n",
       "        .catch(showError)\n",
       "        .then(() => displayChart(vegaEmbed));\n",
       "    }\n",
       "  })({\"config\": {\"view\": {\"continuousWidth\": 400, \"continuousHeight\": 300}}, \"layer\": [{\"mark\": {\"type\": \"line\", \"point\": true}, \"encoding\": {\"tooltip\": {\"type\": \"quantitative\", \"field\": \"breakins\"}, \"x\": {\"type\": \"temporal\", \"field\": \"year\"}, \"y\": {\"type\": \"quantitative\", \"field\": \"breakins\"}}}, {\"mark\": {\"type\": \"line\", \"color\": \"green\"}, \"encoding\": {\"tooltip\": {\"type\": \"quantitative\", \"field\": \"breakins\"}, \"x\": {\"type\": \"temporal\", \"field\": \"year\"}, \"y\": {\"type\": \"quantitative\", \"field\": \"breakins\"}}, \"title\": \"Local regression trend on the number breakins per year in Leuven\", \"transform\": [{\"loess\": \"breakins\", \"on\": \"year\"}]}], \"data\": {\"name\": \"data-e69c4a4577c6a9d2a03c89854c9a4599\"}, \"$schema\": \"https://vega.github.io/schema/vega-lite/v4.8.1.json\", \"datasets\": {\"data-e69c4a4577c6a9d2a03c89854c9a4599\": [{\"year_int\": 2006, \"breakins\": 1133, \"year\": \"2006-01-01T00:00:00\"}, {\"year_int\": 2007, \"breakins\": 834, \"year\": \"2007-01-01T00:00:00\"}, {\"year_int\": 2008, \"breakins\": 953, \"year\": \"2008-01-01T00:00:00\"}, {\"year_int\": 2009, \"breakins\": 891, \"year\": \"2009-01-01T00:00:00\"}, {\"year_int\": 2010, \"breakins\": 1006, \"year\": \"2010-01-01T00:00:00\"}, {\"year_int\": 2011, \"breakins\": 1218, \"year\": \"2011-01-01T00:00:00\"}, {\"year_int\": 2012, \"breakins\": 992, \"year\": \"2012-01-01T00:00:00\"}, {\"year_int\": 2013, \"breakins\": 1079, \"year\": \"2013-01-01T00:00:00\"}, {\"year_int\": 2014, \"breakins\": 1266, \"year\": \"2014-01-01T00:00:00\"}, {\"year_int\": 2015, \"breakins\": 1112, \"year\": \"2015-01-01T00:00:00\"}, {\"year_int\": 2016, \"breakins\": 713, \"year\": \"2016-01-01T00:00:00\"}, {\"year_int\": 2017, \"breakins\": 669, \"year\": \"2017-01-01T00:00:00\"}, {\"year_int\": 2018, \"breakins\": 730, \"year\": \"2018-01-01T00:00:00\"}, {\"year_int\": 2019, \"breakins\": 644, \"year\": \"2019-01-01T00:00:00\"}]}}, {\"mode\": \"vega-lite\"});\n",
       "</script>"
      ],
      "text/plain": [
       "alt.LayerChart(...)"
      ]
     },
     "execution_count": 3,
     "metadata": {},
     "output_type": "execute_result"
    }
   ],
   "source": [
    "# https://opendatascience.com/local-regression-in-python\n",
    "# Loess: https://gist.github.com/AllenDowney/818f6153ef316aee80467c51faee80f8\n",
    "points + points.transform_loess('year', 'breakins').mark_line(\n",
    "    color='green'\n",
    ").properties(\n",
    "    title='Local regression trend on the number breakins per year in Leuven'\n",
    ")"
   ]
  },
  {
   "cell_type": "markdown",
   "metadata": {
    "colab_type": "text",
    "id": "0Zfwy6g42Kbu"
   },
   "source": [
    "But what about the trend line? Are we sure the trend is negative ? Bring in the code based on the blogpost [The hacker's guide to uncertainty estimates](https://erikbern.com/2018/10/08/the-hackers-guide-to-uncertainty-estimates.html) to estimate the uncertainty.:"
   ]
  },
  {
   "cell_type": "code",
   "execution_count": 4,
   "metadata": {
    "colab": {},
    "colab_type": "code",
    "id": "EnLiz9Ratrj8"
   },
   "outputs": [],
   "source": [
    "# Code from: https://erikbern.com/2018/10/08/the-hackers-guide-to-uncertainty-estimates.html\n",
    "import scipy.optimize\n",
    "import random\n",
    "\n",
    "def model(xs, k, m):\n",
    "    return k * xs + m\n",
    "\n",
    "def neg_log_likelihood(tup, xs, ys):\n",
    "    # Since sigma > 0, we use use log(sigma) as the parameter instead.\n",
    "    # That way we have an unconstrained problem.\n",
    "    k, m, log_sigma = tup\n",
    "    sigma = np.exp(log_sigma)\n",
    "    delta = model(xs, k, m) - ys\n",
    "    return len(xs)/2*np.log(2*np.pi*sigma**2) + \\\n",
    "        np.dot(delta, delta) / (2*sigma**2)\n",
    "\n",
    "def confidence_bands(xs, ys, nr_bootstrap):\n",
    "    curves = []\n",
    "    xys = list(zip(xs, ys))\n",
    "    for i in range(nr_bootstrap):\n",
    "        # sample with replacement\n",
    "        bootstrap = [random.choice(xys) for _ in xys]\n",
    "        xs_bootstrap = np.array([x for x, y in bootstrap])\n",
    "        ys_bootstrap = np.array([y for x, y in bootstrap])\n",
    "        k_hat, m_hat, log_sigma_hat = scipy.optimize.minimize(\n",
    "          neg_log_likelihood, (0, 0, 0), args=(xs_bootstrap, ys_bootstrap)\n",
    "        ).x\n",
    "        curves.append(\n",
    "          model(xs, k_hat, m_hat) +\n",
    "          # Note what's going on here: we're _adding_ the random term\n",
    "          # to the predictions!\n",
    "          np.exp(log_sigma_hat) * np.random.normal(size=xs.shape)\n",
    "        )\n",
    "    lo, hi = np.percentile(curves, (2.5, 97.5), axis=0)\n",
    "    return lo, hi"
   ]
  },
  {
   "cell_type": "code",
   "execution_count": 5,
   "metadata": {
    "colab": {
     "base_uri": "https://localhost:8080/",
     "height": 370
    },
    "colab_type": "code",
    "id": "Ucf0aPAJ5hna",
    "outputId": "a81afbca-aeb5-4b4d-fd23-24675208d945"
   },
   "outputs": [
    {
     "data": {
      "text/html": [
       "\n",
       "<div id=\"altair-viz-56dc093b04d8402a94d0ac71f2593c00\"></div>\n",
       "<script type=\"text/javascript\">\n",
       "  (function(spec, embedOpt){\n",
       "    let outputDiv = document.currentScript.previousElementSibling;\n",
       "    if (outputDiv.id !== \"altair-viz-56dc093b04d8402a94d0ac71f2593c00\") {\n",
       "      outputDiv = document.getElementById(\"altair-viz-56dc093b04d8402a94d0ac71f2593c00\");\n",
       "    }\n",
       "    const paths = {\n",
       "      \"vega\": \"https://cdn.jsdelivr.net/npm//vega@5?noext\",\n",
       "      \"vega-lib\": \"https://cdn.jsdelivr.net/npm//vega-lib?noext\",\n",
       "      \"vega-lite\": \"https://cdn.jsdelivr.net/npm//vega-lite@4.8.1?noext\",\n",
       "      \"vega-embed\": \"https://cdn.jsdelivr.net/npm//vega-embed@6?noext\",\n",
       "    };\n",
       "\n",
       "    function loadScript(lib) {\n",
       "      return new Promise(function(resolve, reject) {\n",
       "        var s = document.createElement('script');\n",
       "        s.src = paths[lib];\n",
       "        s.async = true;\n",
       "        s.onload = () => resolve(paths[lib]);\n",
       "        s.onerror = () => reject(`Error loading script: ${paths[lib]}`);\n",
       "        document.getElementsByTagName(\"head\")[0].appendChild(s);\n",
       "      });\n",
       "    }\n",
       "\n",
       "    function showError(err) {\n",
       "      outputDiv.innerHTML = `<div class=\"error\" style=\"color:red;\">${err}</div>`;\n",
       "      throw err;\n",
       "    }\n",
       "\n",
       "    function displayChart(vegaEmbed) {\n",
       "      vegaEmbed(outputDiv, spec, embedOpt)\n",
       "        .catch(err => showError(`Javascript Error: ${err.message}<br>This usually means there's a typo in your chart specification. See the javascript console for the full traceback.`));\n",
       "    }\n",
       "\n",
       "    if(typeof define === \"function\" && define.amd) {\n",
       "      requirejs.config({paths});\n",
       "      require([\"vega-embed\"], displayChart, err => showError(`Error loading script: ${err.message}`));\n",
       "    } else if (typeof vegaEmbed === \"function\") {\n",
       "      displayChart(vegaEmbed);\n",
       "    } else {\n",
       "      loadScript(\"vega\")\n",
       "        .then(() => loadScript(\"vega-lite\"))\n",
       "        .then(() => loadScript(\"vega-embed\"))\n",
       "        .catch(showError)\n",
       "        .then(() => displayChart(vegaEmbed));\n",
       "    }\n",
       "  })({\"config\": {\"view\": {\"continuousWidth\": 400, \"continuousHeight\": 300}}, \"layer\": [{\"mark\": \"area\", \"encoding\": {\"color\": {\"value\": \"lightblue\"}, \"opacity\": {\"value\": 0.6}, \"x\": {\"type\": \"temporal\", \"field\": \"year\", \"title\": \"\"}, \"y\": {\"type\": \"quantitative\", \"field\": \"lo\"}, \"y2\": {\"field\": \"hi\", \"title\": \"\"}}}, {\"mark\": {\"type\": \"line\", \"point\": true}, \"encoding\": {\"tooltip\": {\"type\": \"quantitative\", \"field\": \"breakins\"}, \"x\": {\"type\": \"temporal\", \"field\": \"year\"}, \"y\": {\"type\": \"quantitative\", \"field\": \"breakins\"}}}, {\"mark\": {\"type\": \"line\", \"color\": \"red\"}, \"encoding\": {\"tooltip\": {\"type\": \"quantitative\", \"field\": \"breakins\"}, \"x\": {\"type\": \"temporal\", \"field\": \"year\"}, \"y\": {\"type\": \"quantitative\", \"field\": \"breakins\"}}, \"title\": \"95% Confidence band of the number of breakins per year in Leuven\", \"transform\": [{\"on\": \"year\", \"regression\": \"breakins\"}]}], \"data\": {\"name\": \"data-8fd2b6cf615cc0d07dec80616bd3be4e\"}, \"$schema\": \"https://vega.github.io/schema/vega-lite/v4.8.1.json\", \"datasets\": {\"data-8fd2b6cf615cc0d07dec80616bd3be4e\": [{\"year_int\": 2006, \"breakins\": 1133, \"year\": \"2006-01-01T00:00:00\", \"lo\": 682.3099189747738, \"hi\": 1440.1937739145749}, {\"year_int\": 2007, \"breakins\": 834, \"year\": \"2007-01-01T00:00:00\", \"lo\": 827.6367340730125, \"hi\": 1486.4533262933012}, {\"year_int\": 2008, \"breakins\": 953, \"year\": \"2008-01-01T00:00:00\", \"lo\": 767.7635624924901, \"hi\": 1413.1424597103937}, {\"year_int\": 2009, \"breakins\": 891, \"year\": \"2009-01-01T00:00:00\", \"lo\": 790.4391898489782, \"hi\": 1419.3697631793243}, {\"year_int\": 2010, \"breakins\": 1006, \"year\": \"2010-01-01T00:00:00\", \"lo\": 708.9776311994685, \"hi\": 1343.5757675169857}, {\"year_int\": 2011, \"breakins\": 1218, \"year\": \"2011-01-01T00:00:00\", \"lo\": 727.1312799998013, \"hi\": 1309.4075604214133}, {\"year_int\": 2012, \"breakins\": 992, \"year\": \"2012-01-01T00:00:00\", \"lo\": 648.99978279176, \"hi\": 1290.1317136935718}, {\"year_int\": 2013, \"breakins\": 1079, \"year\": \"2013-01-01T00:00:00\", \"lo\": 654.8634472984102, \"hi\": 1235.404320558902}, {\"year_int\": 2014, \"breakins\": 1266, \"year\": \"2014-01-01T00:00:00\", \"lo\": 610.3003882798392, \"hi\": 1215.073440406832}, {\"year_int\": 2015, \"breakins\": 1112, \"year\": \"2015-01-01T00:00:00\", \"lo\": 577.2201952999367, \"hi\": 1261.770162301932}, {\"year_int\": 2016, \"breakins\": 713, \"year\": \"2016-01-01T00:00:00\", \"lo\": 593.6374616517471, \"hi\": 1220.5302754770032}, {\"year_int\": 2017, \"breakins\": 669, \"year\": \"2017-01-01T00:00:00\", \"lo\": 549.4776941065223, \"hi\": 1225.3267389185412}, {\"year_int\": 2018, \"breakins\": 730, \"year\": \"2018-01-01T00:00:00\", \"lo\": 506.8580347349176, \"hi\": 1102.1741859626663}, {\"year_int\": 2019, \"breakins\": 644, \"year\": \"2019-01-01T00:00:00\", \"lo\": 508.7175615577154, \"hi\": 1180.8263041098646}]}}, {\"mode\": \"vega-lite\"});\n",
       "</script>"
      ],
      "text/plain": [
       "alt.LayerChart(...)"
      ]
     },
     "execution_count": 5,
     "metadata": {},
     "output_type": "execute_result"
    }
   ],
   "source": [
    "# Make a plot with a confidence band\n",
    "df['lo'], df['hi'] = confidence_bands(df.index, df['breakins'], 100)\n",
    "\n",
    "ci = alt.Chart(df).mark_area().encode(\n",
    "    x=alt.X('year:T', title=''),\n",
    "    y=alt.Y('lo:Q'),\n",
    "    y2=alt.Y2('hi:Q', title=''),\n",
    "    color=alt.value('lightblue'),\n",
    "    opacity=alt.value(0.6)\n",
    ")\n",
    "\n",
    "chart = alt.Chart(df).mark_line(point=True).encode(\n",
    "    x='year', y='breakins', tooltip='breakins'\n",
    ")\n",
    "ci + chart  + chart.transform_regression('year', 'breakins').mark_line(\n",
    "    color='red'\n",
    ").properties(\n",
    "    title='95% Confidence band of the number of breakins per year in Leuven'\n",
    ")"
   ]
  },
  {
   "cell_type": "markdown",
   "metadata": {
    "colab_type": "text",
    "id": "29Mcoe2E2sFN"
   },
   "source": [
    "On the above chart, we see that a possitive trend might be possible as well."
   ]
  },
  {
   "cell_type": "markdown",
   "metadata": {
    "colab_type": "text",
    "id": "RXhoHMVQDjW1"
   },
   "source": [
    "# Linear regression\n",
    "\n",
    "Let's perform a linear regression with statsmodel to calculate the confidence interval on the slope of the regression line."
   ]
  },
  {
   "cell_type": "code",
   "execution_count": 6,
   "metadata": {
    "colab": {},
    "colab_type": "code",
    "id": "X9lCnTdY6sDh"
   },
   "outputs": [],
   "source": [
    "import statsmodels.formula.api as smf"
   ]
  },
  {
   "cell_type": "code",
   "execution_count": 7,
   "metadata": {
    "colab": {},
    "colab_type": "code",
    "id": "0morZWKYB0VV"
   },
   "outputs": [],
   "source": [
    "results = smf.ols('breakins ~ index', data=df.reset_index()).fit()"
   ]
  },
  {
   "cell_type": "code",
   "execution_count": 8,
   "metadata": {
    "colab": {
     "base_uri": "https://localhost:8080/",
     "height": 68
    },
    "colab_type": "code",
    "id": "CgOqd8HcB-Ip",
    "outputId": "e310329c-a5ea-4085-f957-c7026c90a015"
   },
   "outputs": [
    {
     "data": {
      "text/plain": [
       "Intercept    1096.314286\n",
       "index         -23.169231\n",
       "dtype: float64"
      ]
     },
     "execution_count": 8,
     "metadata": {},
     "output_type": "execute_result"
    }
   ],
   "source": [
    "results.params"
   ]
  },
  {
   "cell_type": "markdown",
   "metadata": {
    "colab_type": "text",
    "id": "C6p07syg1nFJ"
   },
   "source": [
    "The most likely slope of the trend line is 23.17 breakins per year. But how sure are we that the trend is heading down ?"
   ]
  },
  {
   "cell_type": "code",
   "execution_count": 9,
   "metadata": {
    "colab": {
     "base_uri": "https://localhost:8080/",
     "height": 478
    },
    "colab_type": "code",
    "id": "RGSYBEwJB_BU",
    "outputId": "5940d17c-8c81-46ce-c2a7-97868ac86c69"
   },
   "outputs": [
    {
     "name": "stderr",
     "output_type": "stream",
     "text": [
      "C:\\Users\\lnh6dt5\\AppData\\Local\\Continuum\\anaconda3\\lib\\site-packages\\scipy\\stats\\stats.py:1535: UserWarning: kurtosistest only valid for n>=20 ... continuing anyway, n=14\n",
      "  \"anyway, n=%i\" % int(n))\n"
     ]
    },
    {
     "data": {
      "text/html": [
       "<table class=\"simpletable\">\n",
       "<caption>OLS Regression Results</caption>\n",
       "<tr>\n",
       "  <th>Dep. Variable:</th>        <td>breakins</td>     <th>  R-squared:         </th> <td>   0.223</td>\n",
       "</tr>\n",
       "<tr>\n",
       "  <th>Model:</th>                   <td>OLS</td>       <th>  Adj. R-squared:    </th> <td>   0.159</td>\n",
       "</tr>\n",
       "<tr>\n",
       "  <th>Method:</th>             <td>Least Squares</td>  <th>  F-statistic:       </th> <td>   3.451</td>\n",
       "</tr>\n",
       "<tr>\n",
       "  <th>Date:</th>             <td>Sun, 19 Apr 2020</td> <th>  Prob (F-statistic):</th>  <td>0.0879</td> \n",
       "</tr>\n",
       "<tr>\n",
       "  <th>Time:</th>                 <td>10:26:45</td>     <th>  Log-Likelihood:    </th> <td> -92.105</td>\n",
       "</tr>\n",
       "<tr>\n",
       "  <th>No. Observations:</th>      <td>    14</td>      <th>  AIC:               </th> <td>   188.2</td>\n",
       "</tr>\n",
       "<tr>\n",
       "  <th>Df Residuals:</th>          <td>    12</td>      <th>  BIC:               </th> <td>   189.5</td>\n",
       "</tr>\n",
       "<tr>\n",
       "  <th>Df Model:</th>              <td>     1</td>      <th>                     </th>     <td> </td>   \n",
       "</tr>\n",
       "<tr>\n",
       "  <th>Covariance Type:</th>      <td>nonrobust</td>    <th>                     </th>     <td> </td>   \n",
       "</tr>\n",
       "</table>\n",
       "<table class=\"simpletable\">\n",
       "<tr>\n",
       "      <td></td>         <th>coef</th>     <th>std err</th>      <th>t</th>      <th>P>|t|</th>  <th>[0.025</th>    <th>0.975]</th>  \n",
       "</tr>\n",
       "<tr>\n",
       "  <th>Intercept</th> <td> 1096.3143</td> <td>   95.396</td> <td>   11.492</td> <td> 0.000</td> <td>  888.465</td> <td> 1304.164</td>\n",
       "</tr>\n",
       "<tr>\n",
       "  <th>index</th>     <td>  -23.1692</td> <td>   12.472</td> <td>   -1.858</td> <td> 0.088</td> <td>  -50.344</td> <td>    4.006</td>\n",
       "</tr>\n",
       "</table>\n",
       "<table class=\"simpletable\">\n",
       "<tr>\n",
       "  <th>Omnibus:</th>       <td> 1.503</td> <th>  Durbin-Watson:     </th> <td>   1.035</td>\n",
       "</tr>\n",
       "<tr>\n",
       "  <th>Prob(Omnibus):</th> <td> 0.472</td> <th>  Jarque-Bera (JB):  </th> <td>   1.196</td>\n",
       "</tr>\n",
       "<tr>\n",
       "  <th>Skew:</th>          <td> 0.577</td> <th>  Prob(JB):          </th> <td>   0.550</td>\n",
       "</tr>\n",
       "<tr>\n",
       "  <th>Kurtosis:</th>      <td> 2.153</td> <th>  Cond. No.          </th> <td>    14.7</td>\n",
       "</tr>\n",
       "</table><br/><br/>Warnings:<br/>[1] Standard Errors assume that the covariance matrix of the errors is correctly specified."
      ],
      "text/plain": [
       "<class 'statsmodels.iolib.summary.Summary'>\n",
       "\"\"\"\n",
       "                            OLS Regression Results                            \n",
       "==============================================================================\n",
       "Dep. Variable:               breakins   R-squared:                       0.223\n",
       "Model:                            OLS   Adj. R-squared:                  0.159\n",
       "Method:                 Least Squares   F-statistic:                     3.451\n",
       "Date:                Sun, 19 Apr 2020   Prob (F-statistic):             0.0879\n",
       "Time:                        10:26:45   Log-Likelihood:                -92.105\n",
       "No. Observations:                  14   AIC:                             188.2\n",
       "Df Residuals:                      12   BIC:                             189.5\n",
       "Df Model:                           1                                         \n",
       "Covariance Type:            nonrobust                                         \n",
       "==============================================================================\n",
       "                 coef    std err          t      P>|t|      [0.025      0.975]\n",
       "------------------------------------------------------------------------------\n",
       "Intercept   1096.3143     95.396     11.492      0.000     888.465    1304.164\n",
       "index        -23.1692     12.472     -1.858      0.088     -50.344       4.006\n",
       "==============================================================================\n",
       "Omnibus:                        1.503   Durbin-Watson:                   1.035\n",
       "Prob(Omnibus):                  0.472   Jarque-Bera (JB):                1.196\n",
       "Skew:                           0.577   Prob(JB):                        0.550\n",
       "Kurtosis:                       2.153   Cond. No.                         14.7\n",
       "==============================================================================\n",
       "\n",
       "Warnings:\n",
       "[1] Standard Errors assume that the covariance matrix of the errors is correctly specified.\n",
       "\"\"\""
      ]
     },
     "execution_count": 9,
     "metadata": {},
     "output_type": "execute_result"
    }
   ],
   "source": [
    "results.summary()"
   ]
  },
  {
   "cell_type": "markdown",
   "metadata": {
    "colab_type": "text",
    "id": "t7eNg5O-D13k"
   },
   "source": [
    "The analysis reveals that the slope of the best fitting regression line is 23 breakins less per year. However, the confidence interval of the trend is between -50.344 and 4.006. Also the p)value of the regression coefficient is 0.088. Meaning we have eight percent chance that the negative trend is by accident. Hence, based on the current data we are not 95% percent sure the trend is downwards. Hence we can not conclude, based on this data, that there is a negative trend. This corresponds with the width of the 95% certainty band drawn that allows for an upward trend line:"
   ]
  },
  {
   "cell_type": "code",
   "execution_count": 10,
   "metadata": {
    "colab": {
     "base_uri": "https://localhost:8080/",
     "height": 111
    },
    "colab_type": "code",
    "id": "tVcY9leOvvFO",
    "outputId": "3b0ef212-c323-4d45-9a3b-18dcb719624f"
   },
   "outputs": [
    {
     "data": {
      "text/html": [
       "<div>\n",
       "<style scoped>\n",
       "    .dataframe tbody tr th:only-of-type {\n",
       "        vertical-align: middle;\n",
       "    }\n",
       "\n",
       "    .dataframe tbody tr th {\n",
       "        vertical-align: top;\n",
       "    }\n",
       "\n",
       "    .dataframe thead th {\n",
       "        text-align: right;\n",
       "    }\n",
       "</style>\n",
       "<table border=\"1\" class=\"dataframe\">\n",
       "  <thead>\n",
       "    <tr style=\"text-align: right;\">\n",
       "      <th></th>\n",
       "      <th>0</th>\n",
       "      <th>1</th>\n",
       "    </tr>\n",
       "  </thead>\n",
       "  <tbody>\n",
       "    <tr>\n",
       "      <th>Intercept</th>\n",
       "      <td>888.464586</td>\n",
       "      <td>1304.163986</td>\n",
       "    </tr>\n",
       "    <tr>\n",
       "      <th>index</th>\n",
       "      <td>-50.344351</td>\n",
       "      <td>4.005889</td>\n",
       "    </tr>\n",
       "  </tbody>\n",
       "</table>\n",
       "</div>"
      ],
      "text/plain": [
       "                    0            1\n",
       "Intercept  888.464586  1304.163986\n",
       "index      -50.344351     4.005889"
      ]
     },
     "execution_count": 10,
     "metadata": {},
     "output_type": "execute_result"
    }
   ],
   "source": [
    "# Here are the confidence intervals of the regression\n",
    "results.conf_int()"
   ]
  },
  {
   "cell_type": "code",
   "execution_count": 11,
   "metadata": {
    "colab": {
     "base_uri": "https://localhost:8080/",
     "height": 370
    },
    "colab_type": "code",
    "id": "6Do5SXX5yjkI",
    "outputId": "70fbed75-b957-4ed1-eff7-eda1c713d96e"
   },
   "outputs": [
    {
     "data": {
      "text/html": [
       "\n",
       "<div id=\"altair-viz-9136ba2616714a16adfdcaf66be8277b\"></div>\n",
       "<script type=\"text/javascript\">\n",
       "  (function(spec, embedOpt){\n",
       "    let outputDiv = document.currentScript.previousElementSibling;\n",
       "    if (outputDiv.id !== \"altair-viz-9136ba2616714a16adfdcaf66be8277b\") {\n",
       "      outputDiv = document.getElementById(\"altair-viz-9136ba2616714a16adfdcaf66be8277b\");\n",
       "    }\n",
       "    const paths = {\n",
       "      \"vega\": \"https://cdn.jsdelivr.net/npm//vega@5?noext\",\n",
       "      \"vega-lib\": \"https://cdn.jsdelivr.net/npm//vega-lib?noext\",\n",
       "      \"vega-lite\": \"https://cdn.jsdelivr.net/npm//vega-lite@4.8.1?noext\",\n",
       "      \"vega-embed\": \"https://cdn.jsdelivr.net/npm//vega-embed@6?noext\",\n",
       "    };\n",
       "\n",
       "    function loadScript(lib) {\n",
       "      return new Promise(function(resolve, reject) {\n",
       "        var s = document.createElement('script');\n",
       "        s.src = paths[lib];\n",
       "        s.async = true;\n",
       "        s.onload = () => resolve(paths[lib]);\n",
       "        s.onerror = () => reject(`Error loading script: ${paths[lib]}`);\n",
       "        document.getElementsByTagName(\"head\")[0].appendChild(s);\n",
       "      });\n",
       "    }\n",
       "\n",
       "    function showError(err) {\n",
       "      outputDiv.innerHTML = `<div class=\"error\" style=\"color:red;\">${err}</div>`;\n",
       "      throw err;\n",
       "    }\n",
       "\n",
       "    function displayChart(vegaEmbed) {\n",
       "      vegaEmbed(outputDiv, spec, embedOpt)\n",
       "        .catch(err => showError(`Javascript Error: ${err.message}<br>This usually means there's a typo in your chart specification. See the javascript console for the full traceback.`));\n",
       "    }\n",
       "\n",
       "    if(typeof define === \"function\" && define.amd) {\n",
       "      requirejs.config({paths});\n",
       "      require([\"vega-embed\"], displayChart, err => showError(`Error loading script: ${err.message}`));\n",
       "    } else if (typeof vegaEmbed === \"function\") {\n",
       "      displayChart(vegaEmbed);\n",
       "    } else {\n",
       "      loadScript(\"vega\")\n",
       "        .then(() => loadScript(\"vega-lite\"))\n",
       "        .then(() => loadScript(\"vega-embed\"))\n",
       "        .catch(showError)\n",
       "        .then(() => displayChart(vegaEmbed));\n",
       "    }\n",
       "  })({\"config\": {\"view\": {\"continuousWidth\": 400, \"continuousHeight\": 300}}, \"layer\": [{\"mark\": \"area\", \"encoding\": {\"color\": {\"value\": \"lightblue\"}, \"opacity\": {\"value\": 0.6}, \"x\": {\"type\": \"temporal\", \"field\": \"year\", \"title\": \"\"}, \"y\": {\"type\": \"quantitative\", \"field\": \"lo\"}, \"y2\": {\"field\": \"hi\", \"title\": \"\"}}}, {\"mark\": {\"type\": \"line\", \"point\": true}, \"encoding\": {\"tooltip\": {\"type\": \"quantitative\", \"field\": \"breakins\"}, \"x\": {\"type\": \"temporal\", \"field\": \"year\"}, \"y\": {\"type\": \"quantitative\", \"field\": \"breakins\"}}}, {\"mark\": {\"type\": \"line\", \"color\": \"red\"}, \"encoding\": {\"tooltip\": {\"type\": \"quantitative\", \"field\": \"breakins\"}, \"x\": {\"type\": \"temporal\", \"field\": \"year\"}, \"y\": {\"type\": \"quantitative\", \"field\": \"breakins\"}}, \"transform\": [{\"on\": \"year\", \"regression\": \"breakins\"}]}, {\"data\": {\"name\": \"data-4de61dc9bf5700a168cfe5e53e79ee67\"}, \"mark\": {\"type\": \"line\", \"color\": \"green\", \"strokeDash\": [10, 10]}, \"encoding\": {\"x\": {\"type\": \"temporal\", \"field\": \"year\"}, \"y\": {\"type\": \"quantitative\", \"field\": \"breakins\", \"title\": \"Number of breakins per year\"}}}], \"data\": {\"name\": \"data-8fd2b6cf615cc0d07dec80616bd3be4e\"}, \"title\": \"Trend analysis on the number of breakins per year in Leuven, Belgium\", \"$schema\": \"https://vega.github.io/schema/vega-lite/v4.8.1.json\", \"datasets\": {\"data-8fd2b6cf615cc0d07dec80616bd3be4e\": [{\"year_int\": 2006, \"breakins\": 1133, \"year\": \"2006-01-01T00:00:00\", \"lo\": 682.3099189747738, \"hi\": 1440.1937739145749}, {\"year_int\": 2007, \"breakins\": 834, \"year\": \"2007-01-01T00:00:00\", \"lo\": 827.6367340730125, \"hi\": 1486.4533262933012}, {\"year_int\": 2008, \"breakins\": 953, \"year\": \"2008-01-01T00:00:00\", \"lo\": 767.7635624924901, \"hi\": 1413.1424597103937}, {\"year_int\": 2009, \"breakins\": 891, \"year\": \"2009-01-01T00:00:00\", \"lo\": 790.4391898489782, \"hi\": 1419.3697631793243}, {\"year_int\": 2010, \"breakins\": 1006, \"year\": \"2010-01-01T00:00:00\", \"lo\": 708.9776311994685, \"hi\": 1343.5757675169857}, {\"year_int\": 2011, \"breakins\": 1218, \"year\": \"2011-01-01T00:00:00\", \"lo\": 727.1312799998013, \"hi\": 1309.4075604214133}, {\"year_int\": 2012, \"breakins\": 992, \"year\": \"2012-01-01T00:00:00\", \"lo\": 648.99978279176, \"hi\": 1290.1317136935718}, {\"year_int\": 2013, \"breakins\": 1079, \"year\": \"2013-01-01T00:00:00\", \"lo\": 654.8634472984102, \"hi\": 1235.404320558902}, {\"year_int\": 2014, \"breakins\": 1266, \"year\": \"2014-01-01T00:00:00\", \"lo\": 610.3003882798392, \"hi\": 1215.073440406832}, {\"year_int\": 2015, \"breakins\": 1112, \"year\": \"2015-01-01T00:00:00\", \"lo\": 577.2201952999367, \"hi\": 1261.770162301932}, {\"year_int\": 2016, \"breakins\": 713, \"year\": \"2016-01-01T00:00:00\", \"lo\": 593.6374616517471, \"hi\": 1220.5302754770032}, {\"year_int\": 2017, \"breakins\": 669, \"year\": \"2017-01-01T00:00:00\", \"lo\": 549.4776941065223, \"hi\": 1225.3267389185412}, {\"year_int\": 2018, \"breakins\": 730, \"year\": \"2018-01-01T00:00:00\", \"lo\": 506.8580347349176, \"hi\": 1102.1741859626663}, {\"year_int\": 2019, \"breakins\": 644, \"year\": \"2019-01-01T00:00:00\", \"lo\": 508.7175615577154, \"hi\": 1180.8263041098646}], \"data-4de61dc9bf5700a168cfe5e53e79ee67\": [{\"year\": \"2006-01-01T00:00:00\", \"breakins\": 1096.314285714286}, {\"year\": \"2019-01-01T00:00:00\", \"breakins\": 1152.3967336789888}]}}, {\"mode\": \"vega-lite\"});\n",
       "</script>"
      ],
      "text/plain": [
       "alt.LayerChart(...)"
      ]
     },
     "execution_count": 11,
     "metadata": {},
     "output_type": "execute_result"
    }
   ],
   "source": [
    "y_low  = results.params['Intercept'] # ?ost likely value of the intercept\n",
    "y_high = results.params['Intercept'] + results.conf_int()[1]['index'] * df.shape[0] # Value of upward trend for the last year\n",
    "df_upward_trend = pd.DataFrame({'year':[df['year'].min(), df['year'].max()], \n",
    "                                'breakins':[y_low, y_high]})\n",
    "possible_upwards_trend = alt.Chart(df_upward_trend).mark_line(\n",
    "    color='green',\n",
    "    strokeDash=[10,10]\n",
    ").encode(\n",
    "    x='year:T',\n",
    "    y=alt.Y('breakins:Q',\n",
    "    title='Number of breakins per year')\n",
    ")\n",
    "\n",
    "points = alt.Chart(df).mark_line(point=True).encode(x='year', y='breakins', tooltip='breakins')\n",
    "(ci + points  + points.transform_regression('year', 'breakins').mark_line(color='red') \n",
    "              + possible_upwards_trend).properties(\n",
    "    title='Trend analysis on the number of breakins per year in Leuven, Belgium'\n",
    ")"
   ]
  },
  {
   "cell_type": "markdown",
   "metadata": {
    "colab_type": "text",
    "id": "73Xg1hDvzEKT"
   },
   "source": [
    "In the above graph, we see that a slight positive trend (green dashed line) is in the 95% confidence band on the regression coefficient. We are not sure that the trend on the number of breakins is downwards."
   ]
  },
  {
   "cell_type": "code",
   "execution_count": null,
   "metadata": {
    "colab": {},
    "colab_type": "code",
    "id": "Q5fAHnojyroo"
   },
   "outputs": [],
   "source": []
  }
 ],
 "metadata": {
  "colab": {
   "authorship_tag": "ABX9TyNbOGLGAsqOnv0/jsTZvNf/",
   "collapsed_sections": [],
   "include_colab_link": true,
   "name": "2020-02-15-breakins.ipynb",
   "provenance": []
  },
  "kernelspec": {
   "display_name": "Python 3",
   "language": "python",
   "name": "python3"
  },
  "language_info": {
   "codemirror_mode": {
    "name": "ipython",
    "version": 3
   },
   "file_extension": ".py",
   "mimetype": "text/x-python",
   "name": "python",
   "nbconvert_exporter": "python",
   "pygments_lexer": "ipython3",
   "version": "3.6.5"
  }
 },
 "nbformat": 4,
 "nbformat_minor": 1
}
