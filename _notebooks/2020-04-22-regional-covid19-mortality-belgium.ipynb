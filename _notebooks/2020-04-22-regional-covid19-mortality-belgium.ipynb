{
  "nbformat": 4,
  "nbformat_minor": 0,
  "metadata": {
    "colab": {
      "name": "2020-04-22-regional-covid19-mortality-belgium.ipynb",
      "provenance": []
    },
    "kernelspec": {
      "name": "python3",
      "display_name": "Python 3"
    }
  },
  "cells": [
    {
      "cell_type": "markdown",
      "metadata": {
        "id": "lz7J93DGbDh6",
        "colab_type": "text"
      },
      "source": [
        "# Regional covid-19 mortality in Belgium per gender and age\n",
        "> Combines the mortality number of the last 10 year with those of covid-19 this year.\n",
        "- toc:true\n",
        "- branch: master\n",
        "- badges: true\n",
        "- comments: true\n",
        "- author: Lode Nachtergaele\n",
        "- categories: [cast42, jupyter, covid19, Belgium, altair]"
      ]
    },
    {
      "cell_type": "code",
      "metadata": {
        "id": "RZ0wx-0cbFE5",
        "colab_type": "code",
        "colab": {}
      },
      "source": [
        "# Import pandas for data wrangling and Altair for plotting\n",
        "import pandas as pd\n",
        "import altair as alt"
      ],
      "execution_count": 0,
      "outputs": []
    },
    {
      "cell_type": "code",
      "metadata": {
        "id": "INBUgVsfcSnO",
        "colab_type": "code",
        "colab": {}
      },
      "source": [
        "df_tot_sc = pd.read_excel('https://epistat.sciensano.be/Data/COVID19BE.xlsx')"
      ],
      "execution_count": 0,
      "outputs": []
    },
    {
      "cell_type": "code",
      "metadata": {
        "id": "NAdJ2IhsbPus",
        "colab_type": "code",
        "colab": {}
      },
      "source": [
        "df_inhab = pd.read_excel('https://statbel.fgov.be/sites/default/files/files/opendata/bevolking%20naar%20woonplaats%2C%20nationaliteit%20burgelijke%20staat%20%2C%20leeftijd%20en%20geslacht/TF_SOC_POP_STRUCT_2019.xlsx')"
      ],
      "execution_count": 0,
      "outputs": []
    },
    {
      "cell_type": "code",
      "metadata": {
        "id": "xS2_djnUbSqh",
        "colab_type": "code",
        "outputId": "db04791b-7635-4980-ded4-dd21b0811b2c",
        "colab": {
          "base_uri": "https://localhost:8080/",
          "height": 590
        }
      },
      "source": [
        "df_inhab"
      ],
      "execution_count": 0,
      "outputs": [
        {
          "output_type": "execute_result",
          "data": {
            "text/html": [
              "<div>\n",
              "<style scoped>\n",
              "    .dataframe tbody tr th:only-of-type {\n",
              "        vertical-align: middle;\n",
              "    }\n",
              "\n",
              "    .dataframe tbody tr th {\n",
              "        vertical-align: top;\n",
              "    }\n",
              "\n",
              "    .dataframe thead th {\n",
              "        text-align: right;\n",
              "    }\n",
              "</style>\n",
              "<table border=\"1\" class=\"dataframe\">\n",
              "  <thead>\n",
              "    <tr style=\"text-align: right;\">\n",
              "      <th></th>\n",
              "      <th>CD_REFNIS</th>\n",
              "      <th>TX_DESCR_NL</th>\n",
              "      <th>TX_DESCR_FR</th>\n",
              "      <th>CD_DSTR_REFNIS</th>\n",
              "      <th>TX_ADM_DSTR_DESCR_NL</th>\n",
              "      <th>TX_ADM_DSTR_DESCR_FR</th>\n",
              "      <th>CD_PROV_REFNIS</th>\n",
              "      <th>TX_PROV_DESCR_NL</th>\n",
              "      <th>TX_PROV_DESCR_FR</th>\n",
              "      <th>CD_RGN_REFNIS</th>\n",
              "      <th>TX_RGN_DESCR_NL</th>\n",
              "      <th>TX_RGN_DESCR_FR</th>\n",
              "      <th>CD_SEX</th>\n",
              "      <th>CD_NATLTY</th>\n",
              "      <th>TX_NATLTY_NL</th>\n",
              "      <th>TX_NATLTY_FR</th>\n",
              "      <th>CD_CIV_STS</th>\n",
              "      <th>TX_CIV_STS_NL</th>\n",
              "      <th>TX_CIV_STS_FR</th>\n",
              "      <th>CD_AGE</th>\n",
              "      <th>MS_POPULATION</th>\n",
              "    </tr>\n",
              "  </thead>\n",
              "  <tbody>\n",
              "    <tr>\n",
              "      <th>0</th>\n",
              "      <td>11001</td>\n",
              "      <td>Aartselaar</td>\n",
              "      <td>Aartselaar</td>\n",
              "      <td>11000</td>\n",
              "      <td>Arrondissement Antwerpen</td>\n",
              "      <td>Arrondissement d’Anvers</td>\n",
              "      <td>10000.0</td>\n",
              "      <td>Provincie Antwerpen</td>\n",
              "      <td>Province d’Anvers</td>\n",
              "      <td>2000</td>\n",
              "      <td>Vlaams Gewest</td>\n",
              "      <td>Région flamande</td>\n",
              "      <td>F</td>\n",
              "      <td>BEL</td>\n",
              "      <td>Belgen</td>\n",
              "      <td>Belges</td>\n",
              "      <td>4</td>\n",
              "      <td>Gescheiden</td>\n",
              "      <td>Divorcé</td>\n",
              "      <td>69</td>\n",
              "      <td>11</td>\n",
              "    </tr>\n",
              "    <tr>\n",
              "      <th>1</th>\n",
              "      <td>11001</td>\n",
              "      <td>Aartselaar</td>\n",
              "      <td>Aartselaar</td>\n",
              "      <td>11000</td>\n",
              "      <td>Arrondissement Antwerpen</td>\n",
              "      <td>Arrondissement d’Anvers</td>\n",
              "      <td>10000.0</td>\n",
              "      <td>Provincie Antwerpen</td>\n",
              "      <td>Province d’Anvers</td>\n",
              "      <td>2000</td>\n",
              "      <td>Vlaams Gewest</td>\n",
              "      <td>Région flamande</td>\n",
              "      <td>F</td>\n",
              "      <td>BEL</td>\n",
              "      <td>Belgen</td>\n",
              "      <td>Belges</td>\n",
              "      <td>4</td>\n",
              "      <td>Gescheiden</td>\n",
              "      <td>Divorcé</td>\n",
              "      <td>80</td>\n",
              "      <td>3</td>\n",
              "    </tr>\n",
              "    <tr>\n",
              "      <th>2</th>\n",
              "      <td>11001</td>\n",
              "      <td>Aartselaar</td>\n",
              "      <td>Aartselaar</td>\n",
              "      <td>11000</td>\n",
              "      <td>Arrondissement Antwerpen</td>\n",
              "      <td>Arrondissement d’Anvers</td>\n",
              "      <td>10000.0</td>\n",
              "      <td>Provincie Antwerpen</td>\n",
              "      <td>Province d’Anvers</td>\n",
              "      <td>2000</td>\n",
              "      <td>Vlaams Gewest</td>\n",
              "      <td>Région flamande</td>\n",
              "      <td>M</td>\n",
              "      <td>BEL</td>\n",
              "      <td>Belgen</td>\n",
              "      <td>Belges</td>\n",
              "      <td>4</td>\n",
              "      <td>Gescheiden</td>\n",
              "      <td>Divorcé</td>\n",
              "      <td>30</td>\n",
              "      <td>2</td>\n",
              "    </tr>\n",
              "    <tr>\n",
              "      <th>3</th>\n",
              "      <td>11001</td>\n",
              "      <td>Aartselaar</td>\n",
              "      <td>Aartselaar</td>\n",
              "      <td>11000</td>\n",
              "      <td>Arrondissement Antwerpen</td>\n",
              "      <td>Arrondissement d’Anvers</td>\n",
              "      <td>10000.0</td>\n",
              "      <td>Provincie Antwerpen</td>\n",
              "      <td>Province d’Anvers</td>\n",
              "      <td>2000</td>\n",
              "      <td>Vlaams Gewest</td>\n",
              "      <td>Région flamande</td>\n",
              "      <td>F</td>\n",
              "      <td>BEL</td>\n",
              "      <td>Belgen</td>\n",
              "      <td>Belges</td>\n",
              "      <td>4</td>\n",
              "      <td>Gescheiden</td>\n",
              "      <td>Divorcé</td>\n",
              "      <td>48</td>\n",
              "      <td>26</td>\n",
              "    </tr>\n",
              "    <tr>\n",
              "      <th>4</th>\n",
              "      <td>11001</td>\n",
              "      <td>Aartselaar</td>\n",
              "      <td>Aartselaar</td>\n",
              "      <td>11000</td>\n",
              "      <td>Arrondissement Antwerpen</td>\n",
              "      <td>Arrondissement d’Anvers</td>\n",
              "      <td>10000.0</td>\n",
              "      <td>Provincie Antwerpen</td>\n",
              "      <td>Province d’Anvers</td>\n",
              "      <td>2000</td>\n",
              "      <td>Vlaams Gewest</td>\n",
              "      <td>Région flamande</td>\n",
              "      <td>F</td>\n",
              "      <td>BEL</td>\n",
              "      <td>Belgen</td>\n",
              "      <td>Belges</td>\n",
              "      <td>4</td>\n",
              "      <td>Gescheiden</td>\n",
              "      <td>Divorcé</td>\n",
              "      <td>76</td>\n",
              "      <td>2</td>\n",
              "    </tr>\n",
              "    <tr>\n",
              "      <th>...</th>\n",
              "      <td>...</td>\n",
              "      <td>...</td>\n",
              "      <td>...</td>\n",
              "      <td>...</td>\n",
              "      <td>...</td>\n",
              "      <td>...</td>\n",
              "      <td>...</td>\n",
              "      <td>...</td>\n",
              "      <td>...</td>\n",
              "      <td>...</td>\n",
              "      <td>...</td>\n",
              "      <td>...</td>\n",
              "      <td>...</td>\n",
              "      <td>...</td>\n",
              "      <td>...</td>\n",
              "      <td>...</td>\n",
              "      <td>...</td>\n",
              "      <td>...</td>\n",
              "      <td>...</td>\n",
              "      <td>...</td>\n",
              "      <td>...</td>\n",
              "    </tr>\n",
              "    <tr>\n",
              "      <th>463376</th>\n",
              "      <td>93090</td>\n",
              "      <td>Viroinval</td>\n",
              "      <td>Viroinval</td>\n",
              "      <td>93000</td>\n",
              "      <td>Arrondissement Philippeville</td>\n",
              "      <td>Arrondissement de Philippeville</td>\n",
              "      <td>90000.0</td>\n",
              "      <td>Provincie Namen</td>\n",
              "      <td>Province de Namur</td>\n",
              "      <td>3000</td>\n",
              "      <td>Waals Gewest</td>\n",
              "      <td>Région wallonne</td>\n",
              "      <td>F</td>\n",
              "      <td>BEL</td>\n",
              "      <td>Belgen</td>\n",
              "      <td>Belges</td>\n",
              "      <td>3</td>\n",
              "      <td>Weduwstaat</td>\n",
              "      <td>Veuf</td>\n",
              "      <td>73</td>\n",
              "      <td>10</td>\n",
              "    </tr>\n",
              "    <tr>\n",
              "      <th>463377</th>\n",
              "      <td>93090</td>\n",
              "      <td>Viroinval</td>\n",
              "      <td>Viroinval</td>\n",
              "      <td>93000</td>\n",
              "      <td>Arrondissement Philippeville</td>\n",
              "      <td>Arrondissement de Philippeville</td>\n",
              "      <td>90000.0</td>\n",
              "      <td>Provincie Namen</td>\n",
              "      <td>Province de Namur</td>\n",
              "      <td>3000</td>\n",
              "      <td>Waals Gewest</td>\n",
              "      <td>Région wallonne</td>\n",
              "      <td>M</td>\n",
              "      <td>BEL</td>\n",
              "      <td>Belgen</td>\n",
              "      <td>Belges</td>\n",
              "      <td>3</td>\n",
              "      <td>Weduwstaat</td>\n",
              "      <td>Veuf</td>\n",
              "      <td>64</td>\n",
              "      <td>1</td>\n",
              "    </tr>\n",
              "    <tr>\n",
              "      <th>463378</th>\n",
              "      <td>93090</td>\n",
              "      <td>Viroinval</td>\n",
              "      <td>Viroinval</td>\n",
              "      <td>93000</td>\n",
              "      <td>Arrondissement Philippeville</td>\n",
              "      <td>Arrondissement de Philippeville</td>\n",
              "      <td>90000.0</td>\n",
              "      <td>Provincie Namen</td>\n",
              "      <td>Province de Namur</td>\n",
              "      <td>3000</td>\n",
              "      <td>Waals Gewest</td>\n",
              "      <td>Région wallonne</td>\n",
              "      <td>M</td>\n",
              "      <td>BEL</td>\n",
              "      <td>Belgen</td>\n",
              "      <td>Belges</td>\n",
              "      <td>3</td>\n",
              "      <td>Weduwstaat</td>\n",
              "      <td>Veuf</td>\n",
              "      <td>86</td>\n",
              "      <td>3</td>\n",
              "    </tr>\n",
              "    <tr>\n",
              "      <th>463379</th>\n",
              "      <td>93090</td>\n",
              "      <td>Viroinval</td>\n",
              "      <td>Viroinval</td>\n",
              "      <td>93000</td>\n",
              "      <td>Arrondissement Philippeville</td>\n",
              "      <td>Arrondissement de Philippeville</td>\n",
              "      <td>90000.0</td>\n",
              "      <td>Provincie Namen</td>\n",
              "      <td>Province de Namur</td>\n",
              "      <td>3000</td>\n",
              "      <td>Waals Gewest</td>\n",
              "      <td>Région wallonne</td>\n",
              "      <td>M</td>\n",
              "      <td>ETR</td>\n",
              "      <td>niet-Belgen</td>\n",
              "      <td>non-Belges</td>\n",
              "      <td>3</td>\n",
              "      <td>Weduwstaat</td>\n",
              "      <td>Veuf</td>\n",
              "      <td>74</td>\n",
              "      <td>1</td>\n",
              "    </tr>\n",
              "    <tr>\n",
              "      <th>463380</th>\n",
              "      <td>93090</td>\n",
              "      <td>Viroinval</td>\n",
              "      <td>Viroinval</td>\n",
              "      <td>93000</td>\n",
              "      <td>Arrondissement Philippeville</td>\n",
              "      <td>Arrondissement de Philippeville</td>\n",
              "      <td>90000.0</td>\n",
              "      <td>Provincie Namen</td>\n",
              "      <td>Province de Namur</td>\n",
              "      <td>3000</td>\n",
              "      <td>Waals Gewest</td>\n",
              "      <td>Région wallonne</td>\n",
              "      <td>M</td>\n",
              "      <td>BEL</td>\n",
              "      <td>Belgen</td>\n",
              "      <td>Belges</td>\n",
              "      <td>3</td>\n",
              "      <td>Weduwstaat</td>\n",
              "      <td>Veuf</td>\n",
              "      <td>52</td>\n",
              "      <td>1</td>\n",
              "    </tr>\n",
              "  </tbody>\n",
              "</table>\n",
              "<p>463381 rows × 21 columns</p>\n",
              "</div>"
            ],
            "text/plain": [
              "        CD_REFNIS TX_DESCR_NL TX_DESCR_FR  ...  TX_CIV_STS_FR CD_AGE MS_POPULATION\n",
              "0           11001  Aartselaar  Aartselaar  ...        Divorcé     69            11\n",
              "1           11001  Aartselaar  Aartselaar  ...        Divorcé     80             3\n",
              "2           11001  Aartselaar  Aartselaar  ...        Divorcé     30             2\n",
              "3           11001  Aartselaar  Aartselaar  ...        Divorcé     48            26\n",
              "4           11001  Aartselaar  Aartselaar  ...        Divorcé     76             2\n",
              "...           ...         ...         ...  ...            ...    ...           ...\n",
              "463376      93090   Viroinval   Viroinval  ...           Veuf     73            10\n",
              "463377      93090   Viroinval   Viroinval  ...           Veuf     64             1\n",
              "463378      93090   Viroinval   Viroinval  ...           Veuf     86             3\n",
              "463379      93090   Viroinval   Viroinval  ...           Veuf     74             1\n",
              "463380      93090   Viroinval   Viroinval  ...           Veuf     52             1\n",
              "\n",
              "[463381 rows x 21 columns]"
            ]
          },
          "metadata": {
            "tags": []
          },
          "execution_count": 5
        }
      ]
    },
    {
      "cell_type": "code",
      "metadata": {
        "id": "x4GIj5sHbVGy",
        "colab_type": "code",
        "outputId": "bfcfa628-4697-41a4-913b-839c8def1fc2",
        "colab": {
          "base_uri": "https://localhost:8080/",
          "height": 101
        }
      },
      "source": [
        "inhab_provence = df_inhab['TX_PROV_DESCR_NL'].dropna().unique()\n",
        "inhab_provence"
      ],
      "execution_count": 0,
      "outputs": [
        {
          "output_type": "execute_result",
          "data": {
            "text/plain": [
              "array(['Provincie Antwerpen', 'Provincie Vlaams-Brabant',\n",
              "       'Provincie Waals-Brabant', 'Provincie West-Vlaanderen',\n",
              "       'Provincie Oost-Vlaanderen', 'Provincie Henegouwen',\n",
              "       'Provincie Luik', 'Provincie Limburg', 'Provincie Luxemburg',\n",
              "       'Provincie Namen'], dtype=object)"
            ]
          },
          "metadata": {
            "tags": []
          },
          "execution_count": 6
        }
      ]
    },
    {
      "cell_type": "code",
      "metadata": {
        "id": "Rb9lAHrFbZqB",
        "colab_type": "code",
        "outputId": "56ecef6b-f31c-498c-c7a5-c06a37a4b10c",
        "colab": {
          "base_uri": "https://localhost:8080/",
          "height": 67
        }
      },
      "source": [
        "sc_provence = df_tot_sc['PROVINCE'].unique()\n",
        "sc_provence"
      ],
      "execution_count": 0,
      "outputs": [
        {
          "output_type": "execute_result",
          "data": {
            "text/plain": [
              "array(['Brussels', 'Liège', 'Limburg', 'OostVlaanderen', 'VlaamsBrabant',\n",
              "       'Antwerpen', 'WestVlaanderen', 'BrabantWallon', 'Hainaut', 'Namur',\n",
              "       nan, 'Luxembourg'], dtype=object)"
            ]
          },
          "metadata": {
            "tags": []
          },
          "execution_count": 7
        }
      ]
    },
    {
      "cell_type": "code",
      "metadata": {
        "id": "Zwusw2zgbzVf",
        "colab_type": "code",
        "outputId": "473d2904-9d15-40f3-b441-07d545ec370a",
        "colab": {
          "base_uri": "https://localhost:8080/",
          "height": 185
        }
      },
      "source": [
        "[p.split()[1] for p in inhab_provence]"
      ],
      "execution_count": 0,
      "outputs": [
        {
          "output_type": "execute_result",
          "data": {
            "text/plain": [
              "['Antwerpen',\n",
              " 'Vlaams-Brabant',\n",
              " 'Waals-Brabant',\n",
              " 'West-Vlaanderen',\n",
              " 'Oost-Vlaanderen',\n",
              " 'Henegouwen',\n",
              " 'Luik',\n",
              " 'Limburg',\n",
              " 'Luxemburg',\n",
              " 'Namen']"
            ]
          },
          "metadata": {
            "tags": []
          },
          "execution_count": 8
        }
      ]
    },
    {
      "cell_type": "code",
      "metadata": {
        "id": "vxUnonNQb0Mp",
        "colab_type": "code",
        "colab": {}
      },
      "source": [
        "map_statbel_provence_to_sc_provence = {'Provincie Antwerpen':'Antwerpen', 'Provincie Vlaams-Brabant':'VlaamsBrabant',\n",
        "       'Provincie Waals-Brabant':'BrabantWallon', 'Provincie West-Vlaanderen':'WestVlaanderen',\n",
        "       'Provincie Oost-Vlaanderen':'OostVlaanderen', 'Provincie Henegouwen':'Hainaut',\n",
        "       'Provincie Luik':'Liège', 'Provincie Limburg':'Limburg', 'Provincie Luxemburg':'Luxembourg',\n",
        "       'Provincie Namen':'Namur'}"
      ],
      "execution_count": 0,
      "outputs": []
    },
    {
      "cell_type": "code",
      "metadata": {
        "id": "Uoa-IEFOb584",
        "colab_type": "code",
        "colab": {}
      },
      "source": [
        "df_inhab['sc_provence'] = df_inhab['TX_PROV_DESCR_NL'].map(map_statbel_provence_to_sc_provence)"
      ],
      "execution_count": 0,
      "outputs": []
    },
    {
      "cell_type": "code",
      "metadata": {
        "id": "Ql1IUfJ1cwTX",
        "colab_type": "code",
        "outputId": "fbaaaaf2-aae7-456d-f084-3fefc108dfac",
        "colab": {
          "base_uri": "https://localhost:8080/",
          "height": 50
        }
      },
      "source": [
        "df_tot_sc['AGEGROUP'].unique()"
      ],
      "execution_count": 0,
      "outputs": [
        {
          "output_type": "execute_result",
          "data": {
            "text/plain": [
              "array(['10-19', '20-29', '30-39', '40-49', '50-59', '70-79', '60-69',\n",
              "       '0-9', '90+', '80-89', nan], dtype=object)"
            ]
          },
          "metadata": {
            "tags": []
          },
          "execution_count": 11
        }
      ]
    },
    {
      "cell_type": "code",
      "metadata": {
        "id": "wQXKofwjchBa",
        "colab_type": "code",
        "colab": {}
      },
      "source": [
        "df_inhab['AGEGROUP'] =pd.cut(df_inhab['CD_AGE'], bins=[0,10,20,30,40,50,60,70,80,90,200], labels=['0-9','10-19','20-29','30-39','40-49','50-59','60-69','70-79','80-89','90+'], include_lowest=True)"
      ],
      "execution_count": 0,
      "outputs": []
    },
    {
      "cell_type": "code",
      "metadata": {
        "id": "0KEWjDqnb88q",
        "colab_type": "code",
        "colab": {}
      },
      "source": [
        "df_inhab_gender_prov = df_inhab.groupby(['sc_provence', 'CD_SEX', 'AGEGROUP'])['MS_POPULATION'].sum().reset_index()"
      ],
      "execution_count": 0,
      "outputs": []
    },
    {
      "cell_type": "code",
      "metadata": {
        "id": "e46N1fTEdOEB",
        "colab_type": "code",
        "colab": {}
      },
      "source": [
        "df_inhab_gender_prov_cases = pd.merge(df_inhab_gender_prov, df_tot_sc.dropna(), left_on=['sc_provence', 'AGEGROUP', 'CD_SEX'], right_on=['PROVINCE', 'AGEGROUP', 'SEX'])"
      ],
      "execution_count": 0,
      "outputs": []
    },
    {
      "cell_type": "code",
      "metadata": {
        "id": "iQNz5SZPdgaz",
        "colab_type": "code",
        "outputId": "0e861150-3832-42d8-9ce6-98cc1e3d4f2f",
        "colab": {
          "base_uri": "https://localhost:8080/",
          "height": 195
        }
      },
      "source": [
        "df_inhab_gender_prov_cases.head()"
      ],
      "execution_count": 0,
      "outputs": [
        {
          "output_type": "execute_result",
          "data": {
            "text/html": [
              "<div>\n",
              "<style scoped>\n",
              "    .dataframe tbody tr th:only-of-type {\n",
              "        vertical-align: middle;\n",
              "    }\n",
              "\n",
              "    .dataframe tbody tr th {\n",
              "        vertical-align: top;\n",
              "    }\n",
              "\n",
              "    .dataframe thead th {\n",
              "        text-align: right;\n",
              "    }\n",
              "</style>\n",
              "<table border=\"1\" class=\"dataframe\">\n",
              "  <thead>\n",
              "    <tr style=\"text-align: right;\">\n",
              "      <th></th>\n",
              "      <th>sc_provence</th>\n",
              "      <th>CD_SEX</th>\n",
              "      <th>AGEGROUP</th>\n",
              "      <th>MS_POPULATION</th>\n",
              "      <th>DATE</th>\n",
              "      <th>PROVINCE</th>\n",
              "      <th>REGION</th>\n",
              "      <th>SEX</th>\n",
              "      <th>CASES</th>\n",
              "    </tr>\n",
              "  </thead>\n",
              "  <tbody>\n",
              "    <tr>\n",
              "      <th>0</th>\n",
              "      <td>Antwerpen</td>\n",
              "      <td>F</td>\n",
              "      <td>0-9</td>\n",
              "      <td>113851</td>\n",
              "      <td>2020-03-05</td>\n",
              "      <td>Antwerpen</td>\n",
              "      <td>Flanders</td>\n",
              "      <td>F</td>\n",
              "      <td>1</td>\n",
              "    </tr>\n",
              "    <tr>\n",
              "      <th>1</th>\n",
              "      <td>Antwerpen</td>\n",
              "      <td>F</td>\n",
              "      <td>0-9</td>\n",
              "      <td>113851</td>\n",
              "      <td>2020-03-18</td>\n",
              "      <td>Antwerpen</td>\n",
              "      <td>Flanders</td>\n",
              "      <td>F</td>\n",
              "      <td>1</td>\n",
              "    </tr>\n",
              "    <tr>\n",
              "      <th>2</th>\n",
              "      <td>Antwerpen</td>\n",
              "      <td>F</td>\n",
              "      <td>0-9</td>\n",
              "      <td>113851</td>\n",
              "      <td>2020-03-26</td>\n",
              "      <td>Antwerpen</td>\n",
              "      <td>Flanders</td>\n",
              "      <td>F</td>\n",
              "      <td>1</td>\n",
              "    </tr>\n",
              "    <tr>\n",
              "      <th>3</th>\n",
              "      <td>Antwerpen</td>\n",
              "      <td>F</td>\n",
              "      <td>0-9</td>\n",
              "      <td>113851</td>\n",
              "      <td>2020-03-30</td>\n",
              "      <td>Antwerpen</td>\n",
              "      <td>Flanders</td>\n",
              "      <td>F</td>\n",
              "      <td>1</td>\n",
              "    </tr>\n",
              "    <tr>\n",
              "      <th>4</th>\n",
              "      <td>Antwerpen</td>\n",
              "      <td>F</td>\n",
              "      <td>0-9</td>\n",
              "      <td>113851</td>\n",
              "      <td>2020-04-03</td>\n",
              "      <td>Antwerpen</td>\n",
              "      <td>Flanders</td>\n",
              "      <td>F</td>\n",
              "      <td>1</td>\n",
              "    </tr>\n",
              "  </tbody>\n",
              "</table>\n",
              "</div>"
            ],
            "text/plain": [
              "  sc_provence CD_SEX AGEGROUP  MS_POPULATION  ...   PROVINCE    REGION SEX CASES\n",
              "0   Antwerpen      F      0-9         113851  ...  Antwerpen  Flanders   F     1\n",
              "1   Antwerpen      F      0-9         113851  ...  Antwerpen  Flanders   F     1\n",
              "2   Antwerpen      F      0-9         113851  ...  Antwerpen  Flanders   F     1\n",
              "3   Antwerpen      F      0-9         113851  ...  Antwerpen  Flanders   F     1\n",
              "4   Antwerpen      F      0-9         113851  ...  Antwerpen  Flanders   F     1\n",
              "\n",
              "[5 rows x 9 columns]"
            ]
          },
          "metadata": {
            "tags": []
          },
          "execution_count": 15
        }
      ]
    },
    {
      "cell_type": "code",
      "metadata": {
        "id": "QODcwscSgWED",
        "colab_type": "code",
        "outputId": "c1c3ffba-4d65-405f-add4-11d7d879384e",
        "colab": {
          "base_uri": "https://localhost:8080/",
          "height": 402
        }
      },
      "source": [
        "df_plot = df_inhab_gender_prov_cases.groupby(['SEX', 'AGEGROUP', 'PROVINCE']).agg(CASES = ('CASES', 'sum'), MS_POPULATION=('MS_POPULATION', 'first')).reset_index()\n",
        "df_plot"
      ],
      "execution_count": 0,
      "outputs": [
        {
          "output_type": "execute_result",
          "data": {
            "text/html": [
              "<div>\n",
              "<style scoped>\n",
              "    .dataframe tbody tr th:only-of-type {\n",
              "        vertical-align: middle;\n",
              "    }\n",
              "\n",
              "    .dataframe tbody tr th {\n",
              "        vertical-align: top;\n",
              "    }\n",
              "\n",
              "    .dataframe thead th {\n",
              "        text-align: right;\n",
              "    }\n",
              "</style>\n",
              "<table border=\"1\" class=\"dataframe\">\n",
              "  <thead>\n",
              "    <tr style=\"text-align: right;\">\n",
              "      <th></th>\n",
              "      <th>SEX</th>\n",
              "      <th>AGEGROUP</th>\n",
              "      <th>PROVINCE</th>\n",
              "      <th>CASES</th>\n",
              "      <th>MS_POPULATION</th>\n",
              "    </tr>\n",
              "  </thead>\n",
              "  <tbody>\n",
              "    <tr>\n",
              "      <th>0</th>\n",
              "      <td>F</td>\n",
              "      <td>0-9</td>\n",
              "      <td>Antwerpen</td>\n",
              "      <td>9</td>\n",
              "      <td>113851</td>\n",
              "    </tr>\n",
              "    <tr>\n",
              "      <th>1</th>\n",
              "      <td>F</td>\n",
              "      <td>0-9</td>\n",
              "      <td>BrabantWallon</td>\n",
              "      <td>3</td>\n",
              "      <td>23744</td>\n",
              "    </tr>\n",
              "    <tr>\n",
              "      <th>2</th>\n",
              "      <td>F</td>\n",
              "      <td>0-9</td>\n",
              "      <td>Hainaut</td>\n",
              "      <td>11</td>\n",
              "      <td>81075</td>\n",
              "    </tr>\n",
              "    <tr>\n",
              "      <th>3</th>\n",
              "      <td>F</td>\n",
              "      <td>0-9</td>\n",
              "      <td>Limburg</td>\n",
              "      <td>11</td>\n",
              "      <td>48102</td>\n",
              "    </tr>\n",
              "    <tr>\n",
              "      <th>4</th>\n",
              "      <td>F</td>\n",
              "      <td>0-9</td>\n",
              "      <td>Liège</td>\n",
              "      <td>19</td>\n",
              "      <td>67479</td>\n",
              "    </tr>\n",
              "    <tr>\n",
              "      <th>...</th>\n",
              "      <td>...</td>\n",
              "      <td>...</td>\n",
              "      <td>...</td>\n",
              "      <td>...</td>\n",
              "      <td>...</td>\n",
              "    </tr>\n",
              "    <tr>\n",
              "      <th>195</th>\n",
              "      <td>M</td>\n",
              "      <td>90+</td>\n",
              "      <td>Luxembourg</td>\n",
              "      <td>17</td>\n",
              "      <td>469</td>\n",
              "    </tr>\n",
              "    <tr>\n",
              "      <th>196</th>\n",
              "      <td>M</td>\n",
              "      <td>90+</td>\n",
              "      <td>Namur</td>\n",
              "      <td>27</td>\n",
              "      <td>827</td>\n",
              "    </tr>\n",
              "    <tr>\n",
              "      <th>197</th>\n",
              "      <td>M</td>\n",
              "      <td>90+</td>\n",
              "      <td>OostVlaanderen</td>\n",
              "      <td>102</td>\n",
              "      <td>3105</td>\n",
              "    </tr>\n",
              "    <tr>\n",
              "      <th>198</th>\n",
              "      <td>M</td>\n",
              "      <td>90+</td>\n",
              "      <td>VlaamsBrabant</td>\n",
              "      <td>129</td>\n",
              "      <td>2611</td>\n",
              "    </tr>\n",
              "    <tr>\n",
              "      <th>199</th>\n",
              "      <td>M</td>\n",
              "      <td>90+</td>\n",
              "      <td>WestVlaanderen</td>\n",
              "      <td>121</td>\n",
              "      <td>3292</td>\n",
              "    </tr>\n",
              "  </tbody>\n",
              "</table>\n",
              "<p>200 rows × 5 columns</p>\n",
              "</div>"
            ],
            "text/plain": [
              "    SEX AGEGROUP        PROVINCE  CASES  MS_POPULATION\n",
              "0     F      0-9       Antwerpen      9         113851\n",
              "1     F      0-9   BrabantWallon      3          23744\n",
              "2     F      0-9         Hainaut     11          81075\n",
              "3     F      0-9         Limburg     11          48102\n",
              "4     F      0-9           Liège     19          67479\n",
              "..   ..      ...             ...    ...            ...\n",
              "195   M      90+      Luxembourg     17            469\n",
              "196   M      90+           Namur     27            827\n",
              "197   M      90+  OostVlaanderen    102           3105\n",
              "198   M      90+   VlaamsBrabant    129           2611\n",
              "199   M      90+  WestVlaanderen    121           3292\n",
              "\n",
              "[200 rows x 5 columns]"
            ]
          },
          "metadata": {
            "tags": []
          },
          "execution_count": 16
        }
      ]
    },
    {
      "cell_type": "code",
      "metadata": {
        "id": "GMzz-0BPiGzo",
        "colab_type": "code",
        "outputId": "5abc327d-932a-4fd0-cc56-0786d3c32ed4",
        "colab": {
          "base_uri": "https://localhost:8080/",
          "height": 67
        }
      },
      "source": [
        "df_plot['PROVINCE'].unique()"
      ],
      "execution_count": 0,
      "outputs": [
        {
          "output_type": "execute_result",
          "data": {
            "text/plain": [
              "array(['Antwerpen', 'BrabantWallon', 'Hainaut', 'Limburg', 'Liège',\n",
              "       'Luxembourg', 'Namur', 'OostVlaanderen', 'VlaamsBrabant',\n",
              "       'WestVlaanderen'], dtype=object)"
            ]
          },
          "metadata": {
            "tags": []
          },
          "execution_count": 17
        }
      ]
    },
    {
      "cell_type": "code",
      "metadata": {
        "id": "PTfKzst2glYn",
        "colab_type": "code",
        "outputId": "d158f3d1-2726-4f58-d6b1-060a4b066ad7",
        "colab": {
          "base_uri": "https://localhost:8080/",
          "height": 452
        }
      },
      "source": [
        "alt.Chart(df_plot).mark_bar().encode(x='AGEGROUP:N', y='CASES', color='SEX:N', column='PROVINCE:N')"
      ],
      "execution_count": 0,
      "outputs": [
        {
          "output_type": "execute_result",
          "data": {
            "text/plain": [
              "alt.Chart(...)"
            ],
            "text/html": [
              "\n",
              "<div id=\"altair-viz-886320b6e1244ff3b5e3263d78744d40\"></div>\n",
              "<script type=\"text/javascript\">\n",
              "  (function(spec, embedOpt){\n",
              "    let outputDiv = document.currentScript.previousElementSibling;\n",
              "    if (outputDiv.id !== \"altair-viz-886320b6e1244ff3b5e3263d78744d40\") {\n",
              "      outputDiv = document.getElementById(\"altair-viz-886320b6e1244ff3b5e3263d78744d40\");\n",
              "    }\n",
              "    const paths = {\n",
              "      \"vega\": \"https://cdn.jsdelivr.net/npm//vega@5?noext\",\n",
              "      \"vega-lib\": \"https://cdn.jsdelivr.net/npm//vega-lib?noext\",\n",
              "      \"vega-lite\": \"https://cdn.jsdelivr.net/npm//vega-lite@4.8.1?noext\",\n",
              "      \"vega-embed\": \"https://cdn.jsdelivr.net/npm//vega-embed@6?noext\",\n",
              "    };\n",
              "\n",
              "    function loadScript(lib) {\n",
              "      return new Promise(function(resolve, reject) {\n",
              "        var s = document.createElement('script');\n",
              "        s.src = paths[lib];\n",
              "        s.async = true;\n",
              "        s.onload = () => resolve(paths[lib]);\n",
              "        s.onerror = () => reject(`Error loading script: ${paths[lib]}`);\n",
              "        document.getElementsByTagName(\"head\")[0].appendChild(s);\n",
              "      });\n",
              "    }\n",
              "\n",
              "    function showError(err) {\n",
              "      outputDiv.innerHTML = `<div class=\"error\" style=\"color:red;\">${err}</div>`;\n",
              "      throw err;\n",
              "    }\n",
              "\n",
              "    function displayChart(vegaEmbed) {\n",
              "      vegaEmbed(outputDiv, spec, embedOpt)\n",
              "        .catch(err => showError(`Javascript Error: ${err.message}<br>This usually means there's a typo in your chart specification. See the javascript console for the full traceback.`));\n",
              "    }\n",
              "\n",
              "    if(typeof define === \"function\" && define.amd) {\n",
              "      requirejs.config({paths});\n",
              "      require([\"vega-embed\"], displayChart, err => showError(`Error loading script: ${err.message}`));\n",
              "    } else if (typeof vegaEmbed === \"function\") {\n",
              "      displayChart(vegaEmbed);\n",
              "    } else {\n",
              "      loadScript(\"vega\")\n",
              "        .then(() => loadScript(\"vega-lite\"))\n",
              "        .then(() => loadScript(\"vega-embed\"))\n",
              "        .catch(showError)\n",
              "        .then(() => displayChart(vegaEmbed));\n",
              "    }\n",
              "  })({\"config\": {\"view\": {\"continuousWidth\": 400, \"continuousHeight\": 300}}, \"data\": {\"name\": \"data-29d222b951085bbf99de7ab1bfa9a22c\"}, \"mark\": \"bar\", \"encoding\": {\"color\": {\"type\": \"nominal\", \"field\": \"SEX\"}, \"column\": {\"type\": \"nominal\", \"field\": \"PROVINCE\"}, \"x\": {\"type\": \"nominal\", \"field\": \"AGEGROUP\"}, \"y\": {\"type\": \"quantitative\", \"field\": \"CASES\"}}, \"$schema\": \"https://vega.github.io/schema/vega-lite/v4.8.1.json\", \"datasets\": {\"data-29d222b951085bbf99de7ab1bfa9a22c\": [{\"SEX\": \"F\", \"AGEGROUP\": \"0-9\", \"PROVINCE\": \"Antwerpen\", \"CASES\": 9, \"MS_POPULATION\": 113851}, {\"SEX\": \"F\", \"AGEGROUP\": \"0-9\", \"PROVINCE\": \"BrabantWallon\", \"CASES\": 3, \"MS_POPULATION\": 23744}, {\"SEX\": \"F\", \"AGEGROUP\": \"0-9\", \"PROVINCE\": \"Hainaut\", \"CASES\": 11, \"MS_POPULATION\": 81075}, {\"SEX\": \"F\", \"AGEGROUP\": \"0-9\", \"PROVINCE\": \"Limburg\", \"CASES\": 11, \"MS_POPULATION\": 48102}, {\"SEX\": \"F\", \"AGEGROUP\": \"0-9\", \"PROVINCE\": \"Li\\u00e8ge\", \"CASES\": 19, \"MS_POPULATION\": 67479}, {\"SEX\": \"F\", \"AGEGROUP\": \"0-9\", \"PROVINCE\": \"Luxembourg\", \"CASES\": 3, \"MS_POPULATION\": 17834}, {\"SEX\": \"F\", \"AGEGROUP\": \"0-9\", \"PROVINCE\": \"Namur\", \"CASES\": 4, \"MS_POPULATION\": 29270}, {\"SEX\": \"F\", \"AGEGROUP\": \"0-9\", \"PROVINCE\": \"OostVlaanderen\", \"CASES\": 7, \"MS_POPULATION\": 88120}, {\"SEX\": \"F\", \"AGEGROUP\": \"0-9\", \"PROVINCE\": \"VlaamsBrabant\", \"CASES\": 9, \"MS_POPULATION\": 69061}, {\"SEX\": \"F\", \"AGEGROUP\": \"0-9\", \"PROVINCE\": \"WestVlaanderen\", \"CASES\": 7, \"MS_POPULATION\": 63579}, {\"SEX\": \"F\", \"AGEGROUP\": \"10-19\", \"PROVINCE\": \"Antwerpen\", \"CASES\": 26, \"MS_POPULATION\": 97741}, {\"SEX\": \"F\", \"AGEGROUP\": \"10-19\", \"PROVINCE\": \"BrabantWallon\", \"CASES\": 5, \"MS_POPULATION\": 24368}, {\"SEX\": \"F\", \"AGEGROUP\": \"10-19\", \"PROVINCE\": \"Hainaut\", \"CASES\": 18, \"MS_POPULATION\": 78804}, {\"SEX\": \"F\", \"AGEGROUP\": \"10-19\", \"PROVINCE\": \"Limburg\", \"CASES\": 21, \"MS_POPULATION\": 43943}, {\"SEX\": \"F\", \"AGEGROUP\": \"10-19\", \"PROVINCE\": \"Li\\u00e8ge\", \"CASES\": 22, \"MS_POPULATION\": 62761}, {\"SEX\": \"F\", \"AGEGROUP\": \"10-19\", \"PROVINCE\": \"Luxembourg\", \"CASES\": 10, \"MS_POPULATION\": 17617}, {\"SEX\": \"F\", \"AGEGROUP\": \"10-19\", \"PROVINCE\": \"Namur\", \"CASES\": 5, \"MS_POPULATION\": 28987}, {\"SEX\": \"F\", \"AGEGROUP\": \"10-19\", \"PROVINCE\": \"OostVlaanderen\", \"CASES\": 38, \"MS_POPULATION\": 79353}, {\"SEX\": \"F\", \"AGEGROUP\": \"10-19\", \"PROVINCE\": \"VlaamsBrabant\", \"CASES\": 22, \"MS_POPULATION\": 64641}, {\"SEX\": \"F\", \"AGEGROUP\": \"10-19\", \"PROVINCE\": \"WestVlaanderen\", \"CASES\": 25, \"MS_POPULATION\": 59104}, {\"SEX\": \"F\", \"AGEGROUP\": \"20-29\", \"PROVINCE\": \"Antwerpen\", \"CASES\": 299, \"MS_POPULATION\": 114364}, {\"SEX\": \"F\", \"AGEGROUP\": \"20-29\", \"PROVINCE\": \"BrabantWallon\", \"CASES\": 58, \"MS_POPULATION\": 23892}, {\"SEX\": \"F\", \"AGEGROUP\": \"20-29\", \"PROVINCE\": \"Hainaut\", \"CASES\": 257, \"MS_POPULATION\": 80946}, {\"SEX\": \"F\", \"AGEGROUP\": \"20-29\", \"PROVINCE\": \"Limburg\", \"CASES\": 294, \"MS_POPULATION\": 49202}, {\"SEX\": \"F\", \"AGEGROUP\": \"20-29\", \"PROVINCE\": \"Li\\u00e8ge\", \"CASES\": 339, \"MS_POPULATION\": 70284}, {\"SEX\": \"F\", \"AGEGROUP\": \"20-29\", \"PROVINCE\": \"Luxembourg\", \"CASES\": 75, \"MS_POPULATION\": 17671}, {\"SEX\": \"F\", \"AGEGROUP\": \"20-29\", \"PROVINCE\": \"Namur\", \"CASES\": 106, \"MS_POPULATION\": 30639}, {\"SEX\": \"F\", \"AGEGROUP\": \"20-29\", \"PROVINCE\": \"OostVlaanderen\", \"CASES\": 318, \"MS_POPULATION\": 92829}, {\"SEX\": \"F\", \"AGEGROUP\": \"20-29\", \"PROVINCE\": \"VlaamsBrabant\", \"CASES\": 230, \"MS_POPULATION\": 67228}, {\"SEX\": \"F\", \"AGEGROUP\": \"20-29\", \"PROVINCE\": \"WestVlaanderen\", \"CASES\": 311, \"MS_POPULATION\": 67252}, {\"SEX\": \"F\", \"AGEGROUP\": \"30-39\", \"PROVINCE\": \"Antwerpen\", \"CASES\": 342, \"MS_POPULATION\": 120901}, {\"SEX\": \"F\", \"AGEGROUP\": \"30-39\", \"PROVINCE\": \"BrabantWallon\", \"CASES\": 78, \"MS_POPULATION\": 24455}, {\"SEX\": \"F\", \"AGEGROUP\": \"30-39\", \"PROVINCE\": \"Hainaut\", \"CASES\": 401, \"MS_POPULATION\": 83728}, {\"SEX\": \"F\", \"AGEGROUP\": \"30-39\", \"PROVINCE\": \"Limburg\", \"CASES\": 322, \"MS_POPULATION\": 55322}, {\"SEX\": \"F\", \"AGEGROUP\": \"30-39\", \"PROVINCE\": \"Li\\u00e8ge\", \"CASES\": 465, \"MS_POPULATION\": 70295}, {\"SEX\": \"F\", \"AGEGROUP\": \"30-39\", \"PROVINCE\": \"Luxembourg\", \"CASES\": 95, \"MS_POPULATION\": 17849}, {\"SEX\": \"F\", \"AGEGROUP\": \"30-39\", \"PROVINCE\": \"Namur\", \"CASES\": 116, \"MS_POPULATION\": 31144}, {\"SEX\": \"F\", \"AGEGROUP\": \"30-39\", \"PROVINCE\": \"OostVlaanderen\", \"CASES\": 324, \"MS_POPULATION\": 97907}, {\"SEX\": \"F\", \"AGEGROUP\": \"30-39\", \"PROVINCE\": \"VlaamsBrabant\", \"CASES\": 246, \"MS_POPULATION\": 72520}, {\"SEX\": \"F\", \"AGEGROUP\": \"30-39\", \"PROVINCE\": \"WestVlaanderen\", \"CASES\": 316, \"MS_POPULATION\": 68094}, {\"SEX\": \"F\", \"AGEGROUP\": \"40-49\", \"PROVINCE\": \"Antwerpen\", \"CASES\": 348, \"MS_POPULATION\": 117869}, {\"SEX\": \"F\", \"AGEGROUP\": \"40-49\", \"PROVINCE\": \"BrabantWallon\", \"CASES\": 103, \"MS_POPULATION\": 28346}, {\"SEX\": \"F\", \"AGEGROUP\": \"40-49\", \"PROVINCE\": \"Hainaut\", \"CASES\": 457, \"MS_POPULATION\": 90877}, {\"SEX\": \"F\", \"AGEGROUP\": \"40-49\", \"PROVINCE\": \"Limburg\", \"CASES\": 372, \"MS_POPULATION\": 57203}, {\"SEX\": \"F\", \"AGEGROUP\": \"40-49\", \"PROVINCE\": \"Li\\u00e8ge\", \"CASES\": 453, \"MS_POPULATION\": 71565}, {\"SEX\": \"F\", \"AGEGROUP\": \"40-49\", \"PROVINCE\": \"Luxembourg\", \"CASES\": 93, \"MS_POPULATION\": 18961}, {\"SEX\": \"F\", \"AGEGROUP\": \"40-49\", \"PROVINCE\": \"Namur\", \"CASES\": 152, \"MS_POPULATION\": 32384}, {\"SEX\": \"F\", \"AGEGROUP\": \"40-49\", \"PROVINCE\": \"OostVlaanderen\", \"CASES\": 450, \"MS_POPULATION\": 99714}, {\"SEX\": \"F\", \"AGEGROUP\": \"40-49\", \"PROVINCE\": \"VlaamsBrabant\", \"CASES\": 362, \"MS_POPULATION\": 77657}, {\"SEX\": \"F\", \"AGEGROUP\": \"40-49\", \"PROVINCE\": \"WestVlaanderen\", \"CASES\": 385, \"MS_POPULATION\": 73584}, {\"SEX\": \"F\", \"AGEGROUP\": \"50-59\", \"PROVINCE\": \"Antwerpen\", \"CASES\": 419, \"MS_POPULATION\": 129704}, {\"SEX\": \"F\", \"AGEGROUP\": \"50-59\", \"PROVINCE\": \"BrabantWallon\", \"CASES\": 93, \"MS_POPULATION\": 29056}, {\"SEX\": \"F\", \"AGEGROUP\": \"50-59\", \"PROVINCE\": \"Hainaut\", \"CASES\": 413, \"MS_POPULATION\": 93332}, {\"SEX\": \"F\", \"AGEGROUP\": \"50-59\", \"PROVINCE\": \"Limburg\", \"CASES\": 472, \"MS_POPULATION\": 66159}, {\"SEX\": \"F\", \"AGEGROUP\": \"50-59\", \"PROVINCE\": \"Li\\u00e8ge\", \"CASES\": 440, \"MS_POPULATION\": 76876}, {\"SEX\": \"F\", \"AGEGROUP\": \"50-59\", \"PROVINCE\": \"Luxembourg\", \"CASES\": 84, \"MS_POPULATION\": 19137}, {\"SEX\": \"F\", \"AGEGROUP\": \"50-59\", \"PROVINCE\": \"Namur\", \"CASES\": 128, \"MS_POPULATION\": 34850}, {\"SEX\": \"F\", \"AGEGROUP\": \"50-59\", \"PROVINCE\": \"OostVlaanderen\", \"CASES\": 474, \"MS_POPULATION\": 105453}, {\"SEX\": \"F\", \"AGEGROUP\": \"50-59\", \"PROVINCE\": \"VlaamsBrabant\", \"CASES\": 387, \"MS_POPULATION\": 81649}, {\"SEX\": \"F\", \"AGEGROUP\": \"50-59\", \"PROVINCE\": \"WestVlaanderen\", \"CASES\": 470, \"MS_POPULATION\": 85817}, {\"SEX\": \"F\", \"AGEGROUP\": \"60-69\", \"PROVINCE\": \"Antwerpen\", \"CASES\": 227, \"MS_POPULATION\": 105349}, {\"SEX\": \"F\", \"AGEGROUP\": \"60-69\", \"PROVINCE\": \"BrabantWallon\", \"CASES\": 54, \"MS_POPULATION\": 24653}, {\"SEX\": \"F\", \"AGEGROUP\": \"60-69\", \"PROVINCE\": \"Hainaut\", \"CASES\": 212, \"MS_POPULATION\": 84127}, {\"SEX\": \"F\", \"AGEGROUP\": \"60-69\", \"PROVINCE\": \"Limburg\", \"CASES\": 221, \"MS_POPULATION\": 55216}, {\"SEX\": \"F\", \"AGEGROUP\": \"60-69\", \"PROVINCE\": \"Li\\u00e8ge\", \"CASES\": 243, \"MS_POPULATION\": 66973}, {\"SEX\": \"F\", \"AGEGROUP\": \"60-69\", \"PROVINCE\": \"Luxembourg\", \"CASES\": 49, \"MS_POPULATION\": 15653}, {\"SEX\": \"F\", \"AGEGROUP\": \"60-69\", \"PROVINCE\": \"Namur\", \"CASES\": 47, \"MS_POPULATION\": 30550}, {\"SEX\": \"F\", \"AGEGROUP\": \"60-69\", \"PROVINCE\": \"OostVlaanderen\", \"CASES\": 207, \"MS_POPULATION\": 86777}, {\"SEX\": \"F\", \"AGEGROUP\": \"60-69\", \"PROVINCE\": \"VlaamsBrabant\", \"CASES\": 177, \"MS_POPULATION\": 65934}, {\"SEX\": \"F\", \"AGEGROUP\": \"60-69\", \"PROVINCE\": \"WestVlaanderen\", \"CASES\": 190, \"MS_POPULATION\": 77019}, {\"SEX\": \"F\", \"AGEGROUP\": \"70-79\", \"PROVINCE\": \"Antwerpen\", \"CASES\": 303, \"MS_POPULATION\": 77129}, {\"SEX\": \"F\", \"AGEGROUP\": \"70-79\", \"PROVINCE\": \"BrabantWallon\", \"CASES\": 46, \"MS_POPULATION\": 16999}, {\"SEX\": \"F\", \"AGEGROUP\": \"70-79\", \"PROVINCE\": \"Hainaut\", \"CASES\": 273, \"MS_POPULATION\": 54498}, {\"SEX\": \"F\", \"AGEGROUP\": \"70-79\", \"PROVINCE\": \"Limburg\", \"CASES\": 280, \"MS_POPULATION\": 36984}, {\"SEX\": \"F\", \"AGEGROUP\": \"70-79\", \"PROVINCE\": \"Li\\u00e8ge\", \"CASES\": 298, \"MS_POPULATION\": 45051}, {\"SEX\": \"F\", \"AGEGROUP\": \"70-79\", \"PROVINCE\": \"Luxembourg\", \"CASES\": 65, \"MS_POPULATION\": 9923}, {\"SEX\": \"F\", \"AGEGROUP\": \"70-79\", \"PROVINCE\": \"Namur\", \"CASES\": 78, \"MS_POPULATION\": 19409}, {\"SEX\": \"F\", \"AGEGROUP\": \"70-79\", \"PROVINCE\": \"OostVlaanderen\", \"CASES\": 278, \"MS_POPULATION\": 64518}, {\"SEX\": \"F\", \"AGEGROUP\": \"70-79\", \"PROVINCE\": \"VlaamsBrabant\", \"CASES\": 205, \"MS_POPULATION\": 47305}, {\"SEX\": \"F\", \"AGEGROUP\": \"70-79\", \"PROVINCE\": \"WestVlaanderen\", \"CASES\": 262, \"MS_POPULATION\": 60688}, {\"SEX\": \"F\", \"AGEGROUP\": \"80-89\", \"PROVINCE\": \"Antwerpen\", \"CASES\": 627, \"MS_POPULATION\": 49568}, {\"SEX\": \"F\", \"AGEGROUP\": \"80-89\", \"PROVINCE\": \"BrabantWallon\", \"CASES\": 100, \"MS_POPULATION\": 9920}, {\"SEX\": \"F\", \"AGEGROUP\": \"80-89\", \"PROVINCE\": \"Hainaut\", \"CASES\": 572, \"MS_POPULATION\": 34639}, {\"SEX\": \"F\", \"AGEGROUP\": \"80-89\", \"PROVINCE\": \"Limburg\", \"CASES\": 626, \"MS_POPULATION\": 22709}, {\"SEX\": \"F\", \"AGEGROUP\": \"80-89\", \"PROVINCE\": \"Li\\u00e8ge\", \"CASES\": 659, \"MS_POPULATION\": 28095}, {\"SEX\": \"F\", \"AGEGROUP\": \"80-89\", \"PROVINCE\": \"Luxembourg\", \"CASES\": 151, \"MS_POPULATION\": 6857}, {\"SEX\": \"F\", \"AGEGROUP\": \"80-89\", \"PROVINCE\": \"Namur\", \"CASES\": 204, \"MS_POPULATION\": 12219}, {\"SEX\": \"F\", \"AGEGROUP\": \"80-89\", \"PROVINCE\": \"OostVlaanderen\", \"CASES\": 687, \"MS_POPULATION\": 43514}, {\"SEX\": \"F\", \"AGEGROUP\": \"80-89\", \"PROVINCE\": \"VlaamsBrabant\", \"CASES\": 550, \"MS_POPULATION\": 31804}, {\"SEX\": \"F\", \"AGEGROUP\": \"80-89\", \"PROVINCE\": \"WestVlaanderen\", \"CASES\": 638, \"MS_POPULATION\": 39736}, {\"SEX\": \"F\", \"AGEGROUP\": \"90+\", \"PROVINCE\": \"Antwerpen\", \"CASES\": 388, \"MS_POPULATION\": 9763}, {\"SEX\": \"F\", \"AGEGROUP\": \"90+\", \"PROVINCE\": \"BrabantWallon\", \"CASES\": 66, \"MS_POPULATION\": 2250}, {\"SEX\": \"F\", \"AGEGROUP\": \"90+\", \"PROVINCE\": \"Hainaut\", \"CASES\": 330, \"MS_POPULATION\": 8030}, {\"SEX\": \"F\", \"AGEGROUP\": \"90+\", \"PROVINCE\": \"Limburg\", \"CASES\": 355, \"MS_POPULATION\": 3938}, {\"SEX\": \"F\", \"AGEGROUP\": \"90+\", \"PROVINCE\": \"Li\\u00e8ge\", \"CASES\": 352, \"MS_POPULATION\": 5838}, {\"SEX\": \"F\", \"AGEGROUP\": \"90+\", \"PROVINCE\": \"Luxembourg\", \"CASES\": 81, \"MS_POPULATION\": 1447}, {\"SEX\": \"F\", \"AGEGROUP\": \"90+\", \"PROVINCE\": \"Namur\", \"CASES\": 104, \"MS_POPULATION\": 2672}, {\"SEX\": \"F\", \"AGEGROUP\": \"90+\", \"PROVINCE\": \"OostVlaanderen\", \"CASES\": 392, \"MS_POPULATION\": 8570}, {\"SEX\": \"F\", \"AGEGROUP\": \"90+\", \"PROVINCE\": \"VlaamsBrabant\", \"CASES\": 346, \"MS_POPULATION\": 6362}, {\"SEX\": \"F\", \"AGEGROUP\": \"90+\", \"PROVINCE\": \"WestVlaanderen\", \"CASES\": 360, \"MS_POPULATION\": 8230}, {\"SEX\": \"M\", \"AGEGROUP\": \"0-9\", \"PROVINCE\": \"Antwerpen\", \"CASES\": 24, \"MS_POPULATION\": 119457}, {\"SEX\": \"M\", \"AGEGROUP\": \"0-9\", \"PROVINCE\": \"BrabantWallon\", \"CASES\": 1, \"MS_POPULATION\": 24910}, {\"SEX\": \"M\", \"AGEGROUP\": \"0-9\", \"PROVINCE\": \"Hainaut\", \"CASES\": 13, \"MS_POPULATION\": 85344}, {\"SEX\": \"M\", \"AGEGROUP\": \"0-9\", \"PROVINCE\": \"Limburg\", \"CASES\": 7, \"MS_POPULATION\": 50436}, {\"SEX\": \"M\", \"AGEGROUP\": \"0-9\", \"PROVINCE\": \"Li\\u00e8ge\", \"CASES\": 17, \"MS_POPULATION\": 70112}, {\"SEX\": \"M\", \"AGEGROUP\": \"0-9\", \"PROVINCE\": \"Luxembourg\", \"CASES\": 2, \"MS_POPULATION\": 18737}, {\"SEX\": \"M\", \"AGEGROUP\": \"0-9\", \"PROVINCE\": \"Namur\", \"CASES\": 2, \"MS_POPULATION\": 30497}, {\"SEX\": \"M\", \"AGEGROUP\": \"0-9\", \"PROVINCE\": \"OostVlaanderen\", \"CASES\": 8, \"MS_POPULATION\": 92147}, {\"SEX\": \"M\", \"AGEGROUP\": \"0-9\", \"PROVINCE\": \"VlaamsBrabant\", \"CASES\": 8, \"MS_POPULATION\": 72250}, {\"SEX\": \"M\", \"AGEGROUP\": \"0-9\", \"PROVINCE\": \"WestVlaanderen\", \"CASES\": 9, \"MS_POPULATION\": 66786}, {\"SEX\": \"M\", \"AGEGROUP\": \"10-19\", \"PROVINCE\": \"Antwerpen\", \"CASES\": 18, \"MS_POPULATION\": 102852}, {\"SEX\": \"M\", \"AGEGROUP\": \"10-19\", \"PROVINCE\": \"BrabantWallon\", \"CASES\": 4, \"MS_POPULATION\": 25686}, {\"SEX\": \"M\", \"AGEGROUP\": \"10-19\", \"PROVINCE\": \"Hainaut\", \"CASES\": 10, \"MS_POPULATION\": 82404}, {\"SEX\": \"M\", \"AGEGROUP\": \"10-19\", \"PROVINCE\": \"Limburg\", \"CASES\": 11, \"MS_POPULATION\": 46386}, {\"SEX\": \"M\", \"AGEGROUP\": \"10-19\", \"PROVINCE\": \"Li\\u00e8ge\", \"CASES\": 15, \"MS_POPULATION\": 65391}, {\"SEX\": \"M\", \"AGEGROUP\": \"10-19\", \"PROVINCE\": \"Luxembourg\", \"CASES\": 5, \"MS_POPULATION\": 18572}, {\"SEX\": \"M\", \"AGEGROUP\": \"10-19\", \"PROVINCE\": \"Namur\", \"CASES\": 7, \"MS_POPULATION\": 30126}, {\"SEX\": \"M\", \"AGEGROUP\": \"10-19\", \"PROVINCE\": \"OostVlaanderen\", \"CASES\": 6, \"MS_POPULATION\": 83108}, {\"SEX\": \"M\", \"AGEGROUP\": \"10-19\", \"PROVINCE\": \"VlaamsBrabant\", \"CASES\": 32, \"MS_POPULATION\": 67462}, {\"SEX\": \"M\", \"AGEGROUP\": \"10-19\", \"PROVINCE\": \"WestVlaanderen\", \"CASES\": 15, \"MS_POPULATION\": 62137}, {\"SEX\": \"M\", \"AGEGROUP\": \"20-29\", \"PROVINCE\": \"Antwerpen\", \"CASES\": 84, \"MS_POPULATION\": 115579}, {\"SEX\": \"M\", \"AGEGROUP\": \"20-29\", \"PROVINCE\": \"BrabantWallon\", \"CASES\": 30, \"MS_POPULATION\": 24810}, {\"SEX\": \"M\", \"AGEGROUP\": \"20-29\", \"PROVINCE\": \"Hainaut\", \"CASES\": 81, \"MS_POPULATION\": 83150}, {\"SEX\": \"M\", \"AGEGROUP\": \"20-29\", \"PROVINCE\": \"Limburg\", \"CASES\": 103, \"MS_POPULATION\": 50634}, {\"SEX\": \"M\", \"AGEGROUP\": \"20-29\", \"PROVINCE\": \"Li\\u00e8ge\", \"CASES\": 124, \"MS_POPULATION\": 70573}, {\"SEX\": \"M\", \"AGEGROUP\": \"20-29\", \"PROVINCE\": \"Luxembourg\", \"CASES\": 32, \"MS_POPULATION\": 18821}, {\"SEX\": \"M\", \"AGEGROUP\": \"20-29\", \"PROVINCE\": \"Namur\", \"CASES\": 37, \"MS_POPULATION\": 31562}, {\"SEX\": \"M\", \"AGEGROUP\": \"20-29\", \"PROVINCE\": \"OostVlaanderen\", \"CASES\": 105, \"MS_POPULATION\": 93998}, {\"SEX\": \"M\", \"AGEGROUP\": \"20-29\", \"PROVINCE\": \"VlaamsBrabant\", \"CASES\": 81, \"MS_POPULATION\": 68028}, {\"SEX\": \"M\", \"AGEGROUP\": \"20-29\", \"PROVINCE\": \"WestVlaanderen\", \"CASES\": 105, \"MS_POPULATION\": 71055}, {\"SEX\": \"M\", \"AGEGROUP\": \"30-39\", \"PROVINCE\": \"Antwerpen\", \"CASES\": 140, \"MS_POPULATION\": 121528}, {\"SEX\": \"M\", \"AGEGROUP\": \"30-39\", \"PROVINCE\": \"BrabantWallon\", \"CASES\": 35, \"MS_POPULATION\": 23581}, {\"SEX\": \"M\", \"AGEGROUP\": \"30-39\", \"PROVINCE\": \"Hainaut\", \"CASES\": 117, \"MS_POPULATION\": 83704}, {\"SEX\": \"M\", \"AGEGROUP\": \"30-39\", \"PROVINCE\": \"Limburg\", \"CASES\": 97, \"MS_POPULATION\": 55582}, {\"SEX\": \"M\", \"AGEGROUP\": \"30-39\", \"PROVINCE\": \"Li\\u00e8ge\", \"CASES\": 159, \"MS_POPULATION\": 70086}, {\"SEX\": \"M\", \"AGEGROUP\": \"30-39\", \"PROVINCE\": \"Luxembourg\", \"CASES\": 54, \"MS_POPULATION\": 18359}, {\"SEX\": \"M\", \"AGEGROUP\": \"30-39\", \"PROVINCE\": \"Namur\", \"CASES\": 48, \"MS_POPULATION\": 31373}, {\"SEX\": \"M\", \"AGEGROUP\": \"30-39\", \"PROVINCE\": \"OostVlaanderen\", \"CASES\": 144, \"MS_POPULATION\": 98604}, {\"SEX\": \"M\", \"AGEGROUP\": \"30-39\", \"PROVINCE\": \"VlaamsBrabant\", \"CASES\": 107, \"MS_POPULATION\": 70303}, {\"SEX\": \"M\", \"AGEGROUP\": \"30-39\", \"PROVINCE\": \"WestVlaanderen\", \"CASES\": 107, \"MS_POPULATION\": 71014}, {\"SEX\": \"M\", \"AGEGROUP\": \"40-49\", \"PROVINCE\": \"Antwerpen\", \"CASES\": 206, \"MS_POPULATION\": 121067}, {\"SEX\": \"M\", \"AGEGROUP\": \"40-49\", \"PROVINCE\": \"BrabantWallon\", \"CASES\": 52, \"MS_POPULATION\": 26621}, {\"SEX\": \"M\", \"AGEGROUP\": \"40-49\", \"PROVINCE\": \"Hainaut\", \"CASES\": 196, \"MS_POPULATION\": 91355}, {\"SEX\": \"M\", \"AGEGROUP\": \"40-49\", \"PROVINCE\": \"Limburg\", \"CASES\": 193, \"MS_POPULATION\": 58026}, {\"SEX\": \"M\", \"AGEGROUP\": \"40-49\", \"PROVINCE\": \"Li\\u00e8ge\", \"CASES\": 235, \"MS_POPULATION\": 72725}, {\"SEX\": \"M\", \"AGEGROUP\": \"40-49\", \"PROVINCE\": \"Luxembourg\", \"CASES\": 66, \"MS_POPULATION\": 19512}, {\"SEX\": \"M\", \"AGEGROUP\": \"40-49\", \"PROVINCE\": \"Namur\", \"CASES\": 67, \"MS_POPULATION\": 32462}, {\"SEX\": \"M\", \"AGEGROUP\": \"40-49\", \"PROVINCE\": \"OostVlaanderen\", \"CASES\": 216, \"MS_POPULATION\": 102816}, {\"SEX\": \"M\", \"AGEGROUP\": \"40-49\", \"PROVINCE\": \"VlaamsBrabant\", \"CASES\": 158, \"MS_POPULATION\": 76199}, {\"SEX\": \"M\", \"AGEGROUP\": \"40-49\", \"PROVINCE\": \"WestVlaanderen\", \"CASES\": 150, \"MS_POPULATION\": 76238}, {\"SEX\": \"M\", \"AGEGROUP\": \"50-59\", \"PROVINCE\": \"Antwerpen\", \"CASES\": 350, \"MS_POPULATION\": 132717}, {\"SEX\": \"M\", \"AGEGROUP\": \"50-59\", \"PROVINCE\": \"BrabantWallon\", \"CASES\": 69, \"MS_POPULATION\": 27611}, {\"SEX\": \"M\", \"AGEGROUP\": \"50-59\", \"PROVINCE\": \"Hainaut\", \"CASES\": 243, \"MS_POPULATION\": 91404}, {\"SEX\": \"M\", \"AGEGROUP\": \"50-59\", \"PROVINCE\": \"Limburg\", \"CASES\": 297, \"MS_POPULATION\": 68198}, {\"SEX\": \"M\", \"AGEGROUP\": \"50-59\", \"PROVINCE\": \"Li\\u00e8ge\", \"CASES\": 289, \"MS_POPULATION\": 75997}, {\"SEX\": \"M\", \"AGEGROUP\": \"50-59\", \"PROVINCE\": \"Luxembourg\", \"CASES\": 65, \"MS_POPULATION\": 19737}, {\"SEX\": \"M\", \"AGEGROUP\": \"50-59\", \"PROVINCE\": \"Namur\", \"CASES\": 83, \"MS_POPULATION\": 34203}, {\"SEX\": \"M\", \"AGEGROUP\": \"50-59\", \"PROVINCE\": \"OostVlaanderen\", \"CASES\": 323, \"MS_POPULATION\": 108042}, {\"SEX\": \"M\", \"AGEGROUP\": \"50-59\", \"PROVINCE\": \"VlaamsBrabant\", \"CASES\": 262, \"MS_POPULATION\": 81771}, {\"SEX\": \"M\", \"AGEGROUP\": \"50-59\", \"PROVINCE\": \"WestVlaanderen\", \"CASES\": 308, \"MS_POPULATION\": 88775}, {\"SEX\": \"M\", \"AGEGROUP\": \"60-69\", \"PROVINCE\": \"Antwerpen\", \"CASES\": 370, \"MS_POPULATION\": 104236}, {\"SEX\": \"M\", \"AGEGROUP\": \"60-69\", \"PROVINCE\": \"BrabantWallon\", \"CASES\": 52, \"MS_POPULATION\": 21864}, {\"SEX\": \"M\", \"AGEGROUP\": \"60-69\", \"PROVINCE\": \"Hainaut\", \"CASES\": 280, \"MS_POPULATION\": 75054}, {\"SEX\": \"M\", \"AGEGROUP\": \"60-69\", \"PROVINCE\": \"Limburg\", \"CASES\": 274, \"MS_POPULATION\": 55339}, {\"SEX\": \"M\", \"AGEGROUP\": \"60-69\", \"PROVINCE\": \"Li\\u00e8ge\", \"CASES\": 313, \"MS_POPULATION\": 62795}, {\"SEX\": \"M\", \"AGEGROUP\": \"60-69\", \"PROVINCE\": \"Luxembourg\", \"CASES\": 64, \"MS_POPULATION\": 15101}, {\"SEX\": \"M\", \"AGEGROUP\": \"60-69\", \"PROVINCE\": \"Namur\", \"CASES\": 85, \"MS_POPULATION\": 28668}, {\"SEX\": \"M\", \"AGEGROUP\": \"60-69\", \"PROVINCE\": \"OostVlaanderen\", \"CASES\": 251, \"MS_POPULATION\": 84501}, {\"SEX\": \"M\", \"AGEGROUP\": \"60-69\", \"PROVINCE\": \"VlaamsBrabant\", \"CASES\": 241, \"MS_POPULATION\": 63019}, {\"SEX\": \"M\", \"AGEGROUP\": \"60-69\", \"PROVINCE\": \"WestVlaanderen\", \"CASES\": 236, \"MS_POPULATION\": 75047}, {\"SEX\": \"M\", \"AGEGROUP\": \"70-79\", \"PROVINCE\": \"Antwerpen\", \"CASES\": 371, \"MS_POPULATION\": 67535}, {\"SEX\": \"M\", \"AGEGROUP\": \"70-79\", \"PROVINCE\": \"BrabantWallon\", \"CASES\": 52, \"MS_POPULATION\": 13892}, {\"SEX\": \"M\", \"AGEGROUP\": \"70-79\", \"PROVINCE\": \"Hainaut\", \"CASES\": 288, \"MS_POPULATION\": 41795}, {\"SEX\": \"M\", \"AGEGROUP\": \"70-79\", \"PROVINCE\": \"Limburg\", \"CASES\": 353, \"MS_POPULATION\": 33651}, {\"SEX\": \"M\", \"AGEGROUP\": \"70-79\", \"PROVINCE\": \"Li\\u00e8ge\", \"CASES\": 288, \"MS_POPULATION\": 35865}, {\"SEX\": \"M\", \"AGEGROUP\": \"70-79\", \"PROVINCE\": \"Luxembourg\", \"CASES\": 69, \"MS_POPULATION\": 8340}, {\"SEX\": \"M\", \"AGEGROUP\": \"70-79\", \"PROVINCE\": \"Namur\", \"CASES\": 64, \"MS_POPULATION\": 15628}, {\"SEX\": \"M\", \"AGEGROUP\": \"70-79\", \"PROVINCE\": \"OostVlaanderen\", \"CASES\": 257, \"MS_POPULATION\": 55194}, {\"SEX\": \"M\", \"AGEGROUP\": \"70-79\", \"PROVINCE\": \"VlaamsBrabant\", \"CASES\": 225, \"MS_POPULATION\": 40155}, {\"SEX\": \"M\", \"AGEGROUP\": \"70-79\", \"PROVINCE\": \"WestVlaanderen\", \"CASES\": 269, \"MS_POPULATION\": 52423}, {\"SEX\": \"M\", \"AGEGROUP\": \"80-89\", \"PROVINCE\": \"Antwerpen\", \"CASES\": 410, \"MS_POPULATION\": 32894}, {\"SEX\": \"M\", \"AGEGROUP\": \"80-89\", \"PROVINCE\": \"BrabantWallon\", \"CASES\": 57, \"MS_POPULATION\": 6132}, {\"SEX\": \"M\", \"AGEGROUP\": \"80-89\", \"PROVINCE\": \"Hainaut\", \"CASES\": 246, \"MS_POPULATION\": 17698}, {\"SEX\": \"M\", \"AGEGROUP\": \"80-89\", \"PROVINCE\": \"Limburg\", \"CASES\": 377, \"MS_POPULATION\": 15492}, {\"SEX\": \"M\", \"AGEGROUP\": \"80-89\", \"PROVINCE\": \"Li\\u00e8ge\", \"CASES\": 313, \"MS_POPULATION\": 16297}, {\"SEX\": \"M\", \"AGEGROUP\": \"80-89\", \"PROVINCE\": \"Luxembourg\", \"CASES\": 79, \"MS_POPULATION\": 4041}, {\"SEX\": \"M\", \"AGEGROUP\": \"80-89\", \"PROVINCE\": \"Namur\", \"CASES\": 109, \"MS_POPULATION\": 6855}, {\"SEX\": \"M\", \"AGEGROUP\": \"80-89\", \"PROVINCE\": \"OostVlaanderen\", \"CASES\": 375, \"MS_POPULATION\": 26794}, {\"SEX\": \"M\", \"AGEGROUP\": \"80-89\", \"PROVINCE\": \"VlaamsBrabant\", \"CASES\": 310, \"MS_POPULATION\": 20216}, {\"SEX\": \"M\", \"AGEGROUP\": \"80-89\", \"PROVINCE\": \"WestVlaanderen\", \"CASES\": 357, \"MS_POPULATION\": 25926}, {\"SEX\": \"M\", \"AGEGROUP\": \"90+\", \"PROVINCE\": \"Antwerpen\", \"CASES\": 142, \"MS_POPULATION\": 3882}, {\"SEX\": \"M\", \"AGEGROUP\": \"90+\", \"PROVINCE\": \"BrabantWallon\", \"CASES\": 26, \"MS_POPULATION\": 809}, {\"SEX\": \"M\", \"AGEGROUP\": \"90+\", \"PROVINCE\": \"Hainaut\", \"CASES\": 92, \"MS_POPULATION\": 2277}, {\"SEX\": \"M\", \"AGEGROUP\": \"90+\", \"PROVINCE\": \"Limburg\", \"CASES\": 148, \"MS_POPULATION\": 1526}, {\"SEX\": \"M\", \"AGEGROUP\": \"90+\", \"PROVINCE\": \"Li\\u00e8ge\", \"CASES\": 92, \"MS_POPULATION\": 1934}, {\"SEX\": \"M\", \"AGEGROUP\": \"90+\", \"PROVINCE\": \"Luxembourg\", \"CASES\": 17, \"MS_POPULATION\": 469}, {\"SEX\": \"M\", \"AGEGROUP\": \"90+\", \"PROVINCE\": \"Namur\", \"CASES\": 27, \"MS_POPULATION\": 827}, {\"SEX\": \"M\", \"AGEGROUP\": \"90+\", \"PROVINCE\": \"OostVlaanderen\", \"CASES\": 102, \"MS_POPULATION\": 3105}, {\"SEX\": \"M\", \"AGEGROUP\": \"90+\", \"PROVINCE\": \"VlaamsBrabant\", \"CASES\": 129, \"MS_POPULATION\": 2611}, {\"SEX\": \"M\", \"AGEGROUP\": \"90+\", \"PROVINCE\": \"WestVlaanderen\", \"CASES\": 121, \"MS_POPULATION\": 3292}]}}, {\"mode\": \"vega-lite\"});\n",
              "</script>"
            ]
          },
          "metadata": {
            "tags": []
          },
          "execution_count": 18
        }
      ]
    },
    {
      "cell_type": "code",
      "metadata": {
        "id": "J3DM_WeZikc8",
        "colab_type": "code",
        "colab": {}
      },
      "source": [
        "df_plot['percentage'] = df_plot['CASES'] / df_plot['MS_POPULATION']"
      ],
      "execution_count": 0,
      "outputs": []
    },
    {
      "cell_type": "code",
      "metadata": {
        "id": "Cw2ROvLwjY6k",
        "colab_type": "code",
        "outputId": "10b8367b-8b00-4c44-dffa-f4886f7a4fd7",
        "colab": {
          "base_uri": "https://localhost:8080/",
          "height": 452
        }
      },
      "source": [
        "alt.Chart(df_plot).mark_bar().encode(x='AGEGROUP:N', y='percentage', color='SEX:N', column='PROVINCE:N')"
      ],
      "execution_count": 0,
      "outputs": [
        {
          "output_type": "execute_result",
          "data": {
            "text/plain": [
              "alt.Chart(...)"
            ],
            "text/html": [
              "\n",
              "<div id=\"altair-viz-2366eac619714ef6a8d8402921470a5d\"></div>\n",
              "<script type=\"text/javascript\">\n",
              "  (function(spec, embedOpt){\n",
              "    let outputDiv = document.currentScript.previousElementSibling;\n",
              "    if (outputDiv.id !== \"altair-viz-2366eac619714ef6a8d8402921470a5d\") {\n",
              "      outputDiv = document.getElementById(\"altair-viz-2366eac619714ef6a8d8402921470a5d\");\n",
              "    }\n",
              "    const paths = {\n",
              "      \"vega\": \"https://cdn.jsdelivr.net/npm//vega@5?noext\",\n",
              "      \"vega-lib\": \"https://cdn.jsdelivr.net/npm//vega-lib?noext\",\n",
              "      \"vega-lite\": \"https://cdn.jsdelivr.net/npm//vega-lite@4.8.1?noext\",\n",
              "      \"vega-embed\": \"https://cdn.jsdelivr.net/npm//vega-embed@6?noext\",\n",
              "    };\n",
              "\n",
              "    function loadScript(lib) {\n",
              "      return new Promise(function(resolve, reject) {\n",
              "        var s = document.createElement('script');\n",
              "        s.src = paths[lib];\n",
              "        s.async = true;\n",
              "        s.onload = () => resolve(paths[lib]);\n",
              "        s.onerror = () => reject(`Error loading script: ${paths[lib]}`);\n",
              "        document.getElementsByTagName(\"head\")[0].appendChild(s);\n",
              "      });\n",
              "    }\n",
              "\n",
              "    function showError(err) {\n",
              "      outputDiv.innerHTML = `<div class=\"error\" style=\"color:red;\">${err}</div>`;\n",
              "      throw err;\n",
              "    }\n",
              "\n",
              "    function displayChart(vegaEmbed) {\n",
              "      vegaEmbed(outputDiv, spec, embedOpt)\n",
              "        .catch(err => showError(`Javascript Error: ${err.message}<br>This usually means there's a typo in your chart specification. See the javascript console for the full traceback.`));\n",
              "    }\n",
              "\n",
              "    if(typeof define === \"function\" && define.amd) {\n",
              "      requirejs.config({paths});\n",
              "      require([\"vega-embed\"], displayChart, err => showError(`Error loading script: ${err.message}`));\n",
              "    } else if (typeof vegaEmbed === \"function\") {\n",
              "      displayChart(vegaEmbed);\n",
              "    } else {\n",
              "      loadScript(\"vega\")\n",
              "        .then(() => loadScript(\"vega-lite\"))\n",
              "        .then(() => loadScript(\"vega-embed\"))\n",
              "        .catch(showError)\n",
              "        .then(() => displayChart(vegaEmbed));\n",
              "    }\n",
              "  })({\"config\": {\"view\": {\"continuousWidth\": 400, \"continuousHeight\": 300}}, \"data\": {\"name\": \"data-8c4256b2c33a1fca2a5d94ca31a38873\"}, \"mark\": \"bar\", \"encoding\": {\"color\": {\"type\": \"nominal\", \"field\": \"SEX\"}, \"column\": {\"type\": \"nominal\", \"field\": \"PROVINCE\"}, \"x\": {\"type\": \"nominal\", \"field\": \"AGEGROUP\"}, \"y\": {\"type\": \"quantitative\", \"field\": \"percentage\"}}, \"$schema\": \"https://vega.github.io/schema/vega-lite/v4.8.1.json\", \"datasets\": {\"data-8c4256b2c33a1fca2a5d94ca31a38873\": [{\"SEX\": \"F\", \"AGEGROUP\": \"0-9\", \"PROVINCE\": \"Antwerpen\", \"CASES\": 9, \"MS_POPULATION\": 113851, \"percentage\": 7.90506890585063e-05}, {\"SEX\": \"F\", \"AGEGROUP\": \"0-9\", \"PROVINCE\": \"BrabantWallon\", \"CASES\": 3, \"MS_POPULATION\": 23744, \"percentage\": 0.0001263477088948787}, {\"SEX\": \"F\", \"AGEGROUP\": \"0-9\", \"PROVINCE\": \"Hainaut\", \"CASES\": 11, \"MS_POPULATION\": 81075, \"percentage\": 0.0001356768424298489}, {\"SEX\": \"F\", \"AGEGROUP\": \"0-9\", \"PROVINCE\": \"Limburg\", \"CASES\": 11, \"MS_POPULATION\": 48102, \"percentage\": 0.00022868072013637687}, {\"SEX\": \"F\", \"AGEGROUP\": \"0-9\", \"PROVINCE\": \"Li\\u00e8ge\", \"CASES\": 19, \"MS_POPULATION\": 67479, \"percentage\": 0.0002815690807510485}, {\"SEX\": \"F\", \"AGEGROUP\": \"0-9\", \"PROVINCE\": \"Luxembourg\", \"CASES\": 3, \"MS_POPULATION\": 17834, \"percentage\": 0.000168218010541662}, {\"SEX\": \"F\", \"AGEGROUP\": \"0-9\", \"PROVINCE\": \"Namur\", \"CASES\": 4, \"MS_POPULATION\": 29270, \"percentage\": 0.0001366586949094636}, {\"SEX\": \"F\", \"AGEGROUP\": \"0-9\", \"PROVINCE\": \"OostVlaanderen\", \"CASES\": 7, \"MS_POPULATION\": 88120, \"percentage\": 7.943713118474807e-05}, {\"SEX\": \"F\", \"AGEGROUP\": \"0-9\", \"PROVINCE\": \"VlaamsBrabant\", \"CASES\": 9, \"MS_POPULATION\": 69061, \"percentage\": 0.00013031957255180203}, {\"SEX\": \"F\", \"AGEGROUP\": \"0-9\", \"PROVINCE\": \"WestVlaanderen\", \"CASES\": 7, \"MS_POPULATION\": 63579, \"percentage\": 0.00011009924660658394}, {\"SEX\": \"F\", \"AGEGROUP\": \"10-19\", \"PROVINCE\": \"Antwerpen\", \"CASES\": 26, \"MS_POPULATION\": 97741, \"percentage\": 0.0002660091466221954}, {\"SEX\": \"F\", \"AGEGROUP\": \"10-19\", \"PROVINCE\": \"BrabantWallon\", \"CASES\": 5, \"MS_POPULATION\": 24368, \"percentage\": 0.00020518713066316482}, {\"SEX\": \"F\", \"AGEGROUP\": \"10-19\", \"PROVINCE\": \"Hainaut\", \"CASES\": 18, \"MS_POPULATION\": 78804, \"percentage\": 0.00022841480127912289}, {\"SEX\": \"F\", \"AGEGROUP\": \"10-19\", \"PROVINCE\": \"Limburg\", \"CASES\": 21, \"MS_POPULATION\": 43943, \"percentage\": 0.000477891814395922}, {\"SEX\": \"F\", \"AGEGROUP\": \"10-19\", \"PROVINCE\": \"Li\\u00e8ge\", \"CASES\": 22, \"MS_POPULATION\": 62761, \"percentage\": 0.0003505361609916987}, {\"SEX\": \"F\", \"AGEGROUP\": \"10-19\", \"PROVINCE\": \"Luxembourg\", \"CASES\": 10, \"MS_POPULATION\": 17617, \"percentage\": 0.0005676335357892944}, {\"SEX\": \"F\", \"AGEGROUP\": \"10-19\", \"PROVINCE\": \"Namur\", \"CASES\": 5, \"MS_POPULATION\": 28987, \"percentage\": 0.00017249111670748955}, {\"SEX\": \"F\", \"AGEGROUP\": \"10-19\", \"PROVINCE\": \"OostVlaanderen\", \"CASES\": 38, \"MS_POPULATION\": 79353, \"percentage\": 0.00047887288445301374}, {\"SEX\": \"F\", \"AGEGROUP\": \"10-19\", \"PROVINCE\": \"VlaamsBrabant\", \"CASES\": 22, \"MS_POPULATION\": 64641, \"percentage\": 0.00034034126947293515}, {\"SEX\": \"F\", \"AGEGROUP\": \"10-19\", \"PROVINCE\": \"WestVlaanderen\", \"CASES\": 25, \"MS_POPULATION\": 59104, \"percentage\": 0.0004229832160259881}, {\"SEX\": \"F\", \"AGEGROUP\": \"20-29\", \"PROVINCE\": \"Antwerpen\", \"CASES\": 299, \"MS_POPULATION\": 114364, \"percentage\": 0.0026144590955195692}, {\"SEX\": \"F\", \"AGEGROUP\": \"20-29\", \"PROVINCE\": \"BrabantWallon\", \"CASES\": 58, \"MS_POPULATION\": 23892, \"percentage\": 0.0024275908253808807}, {\"SEX\": \"F\", \"AGEGROUP\": \"20-29\", \"PROVINCE\": \"Hainaut\", \"CASES\": 257, \"MS_POPULATION\": 80946, \"percentage\": 0.0031749561436019073}, {\"SEX\": \"F\", \"AGEGROUP\": \"20-29\", \"PROVINCE\": \"Limburg\", \"CASES\": 294, \"MS_POPULATION\": 49202, \"percentage\": 0.005975366855005894}, {\"SEX\": \"F\", \"AGEGROUP\": \"20-29\", \"PROVINCE\": \"Li\\u00e8ge\", \"CASES\": 339, \"MS_POPULATION\": 70284, \"percentage\": 0.004823288372887143}, {\"SEX\": \"F\", \"AGEGROUP\": \"20-29\", \"PROVINCE\": \"Luxembourg\", \"CASES\": 75, \"MS_POPULATION\": 17671, \"percentage\": 0.004244241978382661}, {\"SEX\": \"F\", \"AGEGROUP\": \"20-29\", \"PROVINCE\": \"Namur\", \"CASES\": 106, \"MS_POPULATION\": 30639, \"percentage\": 0.0034596429387382093}, {\"SEX\": \"F\", \"AGEGROUP\": \"20-29\", \"PROVINCE\": \"OostVlaanderen\", \"CASES\": 318, \"MS_POPULATION\": 92829, \"percentage\": 0.0034256536211744173}, {\"SEX\": \"F\", \"AGEGROUP\": \"20-29\", \"PROVINCE\": \"VlaamsBrabant\", \"CASES\": 230, \"MS_POPULATION\": 67228, \"percentage\": 0.00342119355030642}, {\"SEX\": \"F\", \"AGEGROUP\": \"20-29\", \"PROVINCE\": \"WestVlaanderen\", \"CASES\": 311, \"MS_POPULATION\": 67252, \"percentage\": 0.004624397787426396}, {\"SEX\": \"F\", \"AGEGROUP\": \"30-39\", \"PROVINCE\": \"Antwerpen\", \"CASES\": 342, \"MS_POPULATION\": 120901, \"percentage\": 0.002828760721582121}, {\"SEX\": \"F\", \"AGEGROUP\": \"30-39\", \"PROVINCE\": \"BrabantWallon\", \"CASES\": 78, \"MS_POPULATION\": 24455, \"percentage\": 0.003189531793089348}, {\"SEX\": \"F\", \"AGEGROUP\": \"30-39\", \"PROVINCE\": \"Hainaut\", \"CASES\": 401, \"MS_POPULATION\": 83728, \"percentage\": 0.004789317790942098}, {\"SEX\": \"F\", \"AGEGROUP\": \"30-39\", \"PROVINCE\": \"Limburg\", \"CASES\": 322, \"MS_POPULATION\": 55322, \"percentage\": 0.005820469252738512}, {\"SEX\": \"F\", \"AGEGROUP\": \"30-39\", \"PROVINCE\": \"Li\\u00e8ge\", \"CASES\": 465, \"MS_POPULATION\": 70295, \"percentage\": 0.006614979728287929}, {\"SEX\": \"F\", \"AGEGROUP\": \"30-39\", \"PROVINCE\": \"Luxembourg\", \"CASES\": 95, \"MS_POPULATION\": 17849, \"percentage\": 0.0053224270267241865}, {\"SEX\": \"F\", \"AGEGROUP\": \"30-39\", \"PROVINCE\": \"Namur\", \"CASES\": 116, \"MS_POPULATION\": 31144, \"percentage\": 0.0037246339583868484}, {\"SEX\": \"F\", \"AGEGROUP\": \"30-39\", \"PROVINCE\": \"OostVlaanderen\", \"CASES\": 324, \"MS_POPULATION\": 97907, \"percentage\": 0.0033092628719090566}, {\"SEX\": \"F\", \"AGEGROUP\": \"30-39\", \"PROVINCE\": \"VlaamsBrabant\", \"CASES\": 246, \"MS_POPULATION\": 72520, \"percentage\": 0.0033921676778819634}, {\"SEX\": \"F\", \"AGEGROUP\": \"30-39\", \"PROVINCE\": \"WestVlaanderen\", \"CASES\": 316, \"MS_POPULATION\": 68094, \"percentage\": 0.0046406438159015476}, {\"SEX\": \"F\", \"AGEGROUP\": \"40-49\", \"PROVINCE\": \"Antwerpen\", \"CASES\": 348, \"MS_POPULATION\": 117869, \"percentage\": 0.0029524302403515766}, {\"SEX\": \"F\", \"AGEGROUP\": \"40-49\", \"PROVINCE\": \"BrabantWallon\", \"CASES\": 103, \"MS_POPULATION\": 28346, \"percentage\": 0.003633669653566641}, {\"SEX\": \"F\", \"AGEGROUP\": \"40-49\", \"PROVINCE\": \"Hainaut\", \"CASES\": 457, \"MS_POPULATION\": 90877, \"percentage\": 0.005028775157630644}, {\"SEX\": \"F\", \"AGEGROUP\": \"40-49\", \"PROVINCE\": \"Limburg\", \"CASES\": 372, \"MS_POPULATION\": 57203, \"percentage\": 0.006503155428911071}, {\"SEX\": \"F\", \"AGEGROUP\": \"40-49\", \"PROVINCE\": \"Li\\u00e8ge\", \"CASES\": 453, \"MS_POPULATION\": 71565, \"percentage\": 0.006329909872144205}, {\"SEX\": \"F\", \"AGEGROUP\": \"40-49\", \"PROVINCE\": \"Luxembourg\", \"CASES\": 93, \"MS_POPULATION\": 18961, \"percentage\": 0.00490480459891356}, {\"SEX\": \"F\", \"AGEGROUP\": \"40-49\", \"PROVINCE\": \"Namur\", \"CASES\": 152, \"MS_POPULATION\": 32384, \"percentage\": 0.004693675889328063}, {\"SEX\": \"F\", \"AGEGROUP\": \"40-49\", \"PROVINCE\": \"OostVlaanderen\", \"CASES\": 450, \"MS_POPULATION\": 99714, \"percentage\": 0.004512906913773392}, {\"SEX\": \"F\", \"AGEGROUP\": \"40-49\", \"PROVINCE\": \"VlaamsBrabant\", \"CASES\": 362, \"MS_POPULATION\": 77657, \"percentage\": 0.004661524395740242}, {\"SEX\": \"F\", \"AGEGROUP\": \"40-49\", \"PROVINCE\": \"WestVlaanderen\", \"CASES\": 385, \"MS_POPULATION\": 73584, \"percentage\": 0.0052321156773211565}, {\"SEX\": \"F\", \"AGEGROUP\": \"50-59\", \"PROVINCE\": \"Antwerpen\", \"CASES\": 419, \"MS_POPULATION\": 129704, \"percentage\": 0.0032304323690865353}, {\"SEX\": \"F\", \"AGEGROUP\": \"50-59\", \"PROVINCE\": \"BrabantWallon\", \"CASES\": 93, \"MS_POPULATION\": 29056, \"percentage\": 0.003200715859030837}, {\"SEX\": \"F\", \"AGEGROUP\": \"50-59\", \"PROVINCE\": \"Hainaut\", \"CASES\": 413, \"MS_POPULATION\": 93332, \"percentage\": 0.004425063215188789}, {\"SEX\": \"F\", \"AGEGROUP\": \"50-59\", \"PROVINCE\": \"Limburg\", \"CASES\": 472, \"MS_POPULATION\": 66159, \"percentage\": 0.0071343279070118955}, {\"SEX\": \"F\", \"AGEGROUP\": \"50-59\", \"PROVINCE\": \"Li\\u00e8ge\", \"CASES\": 440, \"MS_POPULATION\": 76876, \"percentage\": 0.005723502783703626}, {\"SEX\": \"F\", \"AGEGROUP\": \"50-59\", \"PROVINCE\": \"Luxembourg\", \"CASES\": 84, \"MS_POPULATION\": 19137, \"percentage\": 0.004389402727700266}, {\"SEX\": \"F\", \"AGEGROUP\": \"50-59\", \"PROVINCE\": \"Namur\", \"CASES\": 128, \"MS_POPULATION\": 34850, \"percentage\": 0.003672883787661406}, {\"SEX\": \"F\", \"AGEGROUP\": \"50-59\", \"PROVINCE\": \"OostVlaanderen\", \"CASES\": 474, \"MS_POPULATION\": 105453, \"percentage\": 0.004494893459645529}, {\"SEX\": \"F\", \"AGEGROUP\": \"50-59\", \"PROVINCE\": \"VlaamsBrabant\", \"CASES\": 387, \"MS_POPULATION\": 81649, \"percentage\": 0.004739800854878811}, {\"SEX\": \"F\", \"AGEGROUP\": \"50-59\", \"PROVINCE\": \"WestVlaanderen\", \"CASES\": 470, \"MS_POPULATION\": 85817, \"percentage\": 0.005476770336879639}, {\"SEX\": \"F\", \"AGEGROUP\": \"60-69\", \"PROVINCE\": \"Antwerpen\", \"CASES\": 227, \"MS_POPULATION\": 105349, \"percentage\": 0.002154742807240695}, {\"SEX\": \"F\", \"AGEGROUP\": \"60-69\", \"PROVINCE\": \"BrabantWallon\", \"CASES\": 54, \"MS_POPULATION\": 24653, \"percentage\": 0.0021904027907354074}, {\"SEX\": \"F\", \"AGEGROUP\": \"60-69\", \"PROVINCE\": \"Hainaut\", \"CASES\": 212, \"MS_POPULATION\": 84127, \"percentage\": 0.0025199995245283914}, {\"SEX\": \"F\", \"AGEGROUP\": \"60-69\", \"PROVINCE\": \"Limburg\", \"CASES\": 221, \"MS_POPULATION\": 55216, \"percentage\": 0.0040024630541871924}, {\"SEX\": \"F\", \"AGEGROUP\": \"60-69\", \"PROVINCE\": \"Li\\u00e8ge\", \"CASES\": 243, \"MS_POPULATION\": 66973, \"percentage\": 0.003628327833604587}, {\"SEX\": \"F\", \"AGEGROUP\": \"60-69\", \"PROVINCE\": \"Luxembourg\", \"CASES\": 49, \"MS_POPULATION\": 15653, \"percentage\": 0.0031303903405098064}, {\"SEX\": \"F\", \"AGEGROUP\": \"60-69\", \"PROVINCE\": \"Namur\", \"CASES\": 47, \"MS_POPULATION\": 30550, \"percentage\": 0.0015384615384615385}, {\"SEX\": \"F\", \"AGEGROUP\": \"60-69\", \"PROVINCE\": \"OostVlaanderen\", \"CASES\": 207, \"MS_POPULATION\": 86777, \"percentage\": 0.0023854247093123755}, {\"SEX\": \"F\", \"AGEGROUP\": \"60-69\", \"PROVINCE\": \"VlaamsBrabant\", \"CASES\": 177, \"MS_POPULATION\": 65934, \"percentage\": 0.0026845026845026846}, {\"SEX\": \"F\", \"AGEGROUP\": \"60-69\", \"PROVINCE\": \"WestVlaanderen\", \"CASES\": 190, \"MS_POPULATION\": 77019, \"percentage\": 0.0024669237460886273}, {\"SEX\": \"F\", \"AGEGROUP\": \"70-79\", \"PROVINCE\": \"Antwerpen\", \"CASES\": 303, \"MS_POPULATION\": 77129, \"percentage\": 0.003928483449804872}, {\"SEX\": \"F\", \"AGEGROUP\": \"70-79\", \"PROVINCE\": \"BrabantWallon\", \"CASES\": 46, \"MS_POPULATION\": 16999, \"percentage\": 0.002706041531854815}, {\"SEX\": \"F\", \"AGEGROUP\": \"70-79\", \"PROVINCE\": \"Hainaut\", \"CASES\": 273, \"MS_POPULATION\": 54498, \"percentage\": 0.005009358141583178}, {\"SEX\": \"F\", \"AGEGROUP\": \"70-79\", \"PROVINCE\": \"Limburg\", \"CASES\": 280, \"MS_POPULATION\": 36984, \"percentage\": 0.007570841444949167}, {\"SEX\": \"F\", \"AGEGROUP\": \"70-79\", \"PROVINCE\": \"Li\\u00e8ge\", \"CASES\": 298, \"MS_POPULATION\": 45051, \"percentage\": 0.0066147255332845}, {\"SEX\": \"F\", \"AGEGROUP\": \"70-79\", \"PROVINCE\": \"Luxembourg\", \"CASES\": 65, \"MS_POPULATION\": 9923, \"percentage\": 0.006550438375491283}, {\"SEX\": \"F\", \"AGEGROUP\": \"70-79\", \"PROVINCE\": \"Namur\", \"CASES\": 78, \"MS_POPULATION\": 19409, \"percentage\": 0.004018754186202277}, {\"SEX\": \"F\", \"AGEGROUP\": \"70-79\", \"PROVINCE\": \"OostVlaanderen\", \"CASES\": 278, \"MS_POPULATION\": 64518, \"percentage\": 0.004308875042623764}, {\"SEX\": \"F\", \"AGEGROUP\": \"70-79\", \"PROVINCE\": \"VlaamsBrabant\", \"CASES\": 205, \"MS_POPULATION\": 47305, \"percentage\": 0.004333579959835112}, {\"SEX\": \"F\", \"AGEGROUP\": \"70-79\", \"PROVINCE\": \"WestVlaanderen\", \"CASES\": 262, \"MS_POPULATION\": 60688, \"percentage\": 0.004317163195359874}, {\"SEX\": \"F\", \"AGEGROUP\": \"80-89\", \"PROVINCE\": \"Antwerpen\", \"CASES\": 627, \"MS_POPULATION\": 49568, \"percentage\": 0.012649289864428663}, {\"SEX\": \"F\", \"AGEGROUP\": \"80-89\", \"PROVINCE\": \"BrabantWallon\", \"CASES\": 100, \"MS_POPULATION\": 9920, \"percentage\": 0.010080645161290322}, {\"SEX\": \"F\", \"AGEGROUP\": \"80-89\", \"PROVINCE\": \"Hainaut\", \"CASES\": 572, \"MS_POPULATION\": 34639, \"percentage\": 0.01651317878691648}, {\"SEX\": \"F\", \"AGEGROUP\": \"80-89\", \"PROVINCE\": \"Limburg\", \"CASES\": 626, \"MS_POPULATION\": 22709, \"percentage\": 0.027566163195208947}, {\"SEX\": \"F\", \"AGEGROUP\": \"80-89\", \"PROVINCE\": \"Li\\u00e8ge\", \"CASES\": 659, \"MS_POPULATION\": 28095, \"percentage\": 0.023456130984160883}, {\"SEX\": \"F\", \"AGEGROUP\": \"80-89\", \"PROVINCE\": \"Luxembourg\", \"CASES\": 151, \"MS_POPULATION\": 6857, \"percentage\": 0.022021292110252298}, {\"SEX\": \"F\", \"AGEGROUP\": \"80-89\", \"PROVINCE\": \"Namur\", \"CASES\": 204, \"MS_POPULATION\": 12219, \"percentage\": 0.016695310581880677}, {\"SEX\": \"F\", \"AGEGROUP\": \"80-89\", \"PROVINCE\": \"OostVlaanderen\", \"CASES\": 687, \"MS_POPULATION\": 43514, \"percentage\": 0.015788022245714024}, {\"SEX\": \"F\", \"AGEGROUP\": \"80-89\", \"PROVINCE\": \"VlaamsBrabant\", \"CASES\": 550, \"MS_POPULATION\": 31804, \"percentage\": 0.017293422211042637}, {\"SEX\": \"F\", \"AGEGROUP\": \"80-89\", \"PROVINCE\": \"WestVlaanderen\", \"CASES\": 638, \"MS_POPULATION\": 39736, \"percentage\": 0.01605596939802698}, {\"SEX\": \"F\", \"AGEGROUP\": \"90+\", \"PROVINCE\": \"Antwerpen\", \"CASES\": 388, \"MS_POPULATION\": 9763, \"percentage\": 0.03974188261804773}, {\"SEX\": \"F\", \"AGEGROUP\": \"90+\", \"PROVINCE\": \"BrabantWallon\", \"CASES\": 66, \"MS_POPULATION\": 2250, \"percentage\": 0.029333333333333333}, {\"SEX\": \"F\", \"AGEGROUP\": \"90+\", \"PROVINCE\": \"Hainaut\", \"CASES\": 330, \"MS_POPULATION\": 8030, \"percentage\": 0.0410958904109589}, {\"SEX\": \"F\", \"AGEGROUP\": \"90+\", \"PROVINCE\": \"Limburg\", \"CASES\": 355, \"MS_POPULATION\": 3938, \"percentage\": 0.09014728288471305}, {\"SEX\": \"F\", \"AGEGROUP\": \"90+\", \"PROVINCE\": \"Li\\u00e8ge\", \"CASES\": 352, \"MS_POPULATION\": 5838, \"percentage\": 0.06029462144570058}, {\"SEX\": \"F\", \"AGEGROUP\": \"90+\", \"PROVINCE\": \"Luxembourg\", \"CASES\": 81, \"MS_POPULATION\": 1447, \"percentage\": 0.05597788527988943}, {\"SEX\": \"F\", \"AGEGROUP\": \"90+\", \"PROVINCE\": \"Namur\", \"CASES\": 104, \"MS_POPULATION\": 2672, \"percentage\": 0.038922155688622756}, {\"SEX\": \"F\", \"AGEGROUP\": \"90+\", \"PROVINCE\": \"OostVlaanderen\", \"CASES\": 392, \"MS_POPULATION\": 8570, \"percentage\": 0.04574095682613769}, {\"SEX\": \"F\", \"AGEGROUP\": \"90+\", \"PROVINCE\": \"VlaamsBrabant\", \"CASES\": 346, \"MS_POPULATION\": 6362, \"percentage\": 0.05438541339201509}, {\"SEX\": \"F\", \"AGEGROUP\": \"90+\", \"PROVINCE\": \"WestVlaanderen\", \"CASES\": 360, \"MS_POPULATION\": 8230, \"percentage\": 0.04374240583232078}, {\"SEX\": \"M\", \"AGEGROUP\": \"0-9\", \"PROVINCE\": \"Antwerpen\", \"CASES\": 24, \"MS_POPULATION\": 119457, \"percentage\": 0.00020090911373967202}, {\"SEX\": \"M\", \"AGEGROUP\": \"0-9\", \"PROVINCE\": \"BrabantWallon\", \"CASES\": 1, \"MS_POPULATION\": 24910, \"percentage\": 4.014452027298274e-05}, {\"SEX\": \"M\", \"AGEGROUP\": \"0-9\", \"PROVINCE\": \"Hainaut\", \"CASES\": 13, \"MS_POPULATION\": 85344, \"percentage\": 0.0001523247094113236}, {\"SEX\": \"M\", \"AGEGROUP\": \"0-9\", \"PROVINCE\": \"Limburg\", \"CASES\": 7, \"MS_POPULATION\": 50436, \"percentage\": 0.0001387897533507812}, {\"SEX\": \"M\", \"AGEGROUP\": \"0-9\", \"PROVINCE\": \"Li\\u00e8ge\", \"CASES\": 17, \"MS_POPULATION\": 70112, \"percentage\": 0.00024246919214970333}, {\"SEX\": \"M\", \"AGEGROUP\": \"0-9\", \"PROVINCE\": \"Luxembourg\", \"CASES\": 2, \"MS_POPULATION\": 18737, \"percentage\": 0.00010674067353365}, {\"SEX\": \"M\", \"AGEGROUP\": \"0-9\", \"PROVINCE\": \"Namur\", \"CASES\": 2, \"MS_POPULATION\": 30497, \"percentage\": 6.558022100534478e-05}, {\"SEX\": \"M\", \"AGEGROUP\": \"0-9\", \"PROVINCE\": \"OostVlaanderen\", \"CASES\": 8, \"MS_POPULATION\": 92147, \"percentage\": 8.681780199029811e-05}, {\"SEX\": \"M\", \"AGEGROUP\": \"0-9\", \"PROVINCE\": \"VlaamsBrabant\", \"CASES\": 8, \"MS_POPULATION\": 72250, \"percentage\": 0.00011072664359861591}, {\"SEX\": \"M\", \"AGEGROUP\": \"0-9\", \"PROVINCE\": \"WestVlaanderen\", \"CASES\": 9, \"MS_POPULATION\": 66786, \"percentage\": 0.0001347587817806127}, {\"SEX\": \"M\", \"AGEGROUP\": \"10-19\", \"PROVINCE\": \"Antwerpen\", \"CASES\": 18, \"MS_POPULATION\": 102852, \"percentage\": 0.00017500875043752187}, {\"SEX\": \"M\", \"AGEGROUP\": \"10-19\", \"PROVINCE\": \"BrabantWallon\", \"CASES\": 4, \"MS_POPULATION\": 25686, \"percentage\": 0.00015572685509616132}, {\"SEX\": \"M\", \"AGEGROUP\": \"10-19\", \"PROVINCE\": \"Hainaut\", \"CASES\": 10, \"MS_POPULATION\": 82404, \"percentage\": 0.00012135333236250667}, {\"SEX\": \"M\", \"AGEGROUP\": \"10-19\", \"PROVINCE\": \"Limburg\", \"CASES\": 11, \"MS_POPULATION\": 46386, \"percentage\": 0.00023714051653516148}, {\"SEX\": \"M\", \"AGEGROUP\": \"10-19\", \"PROVINCE\": \"Li\\u00e8ge\", \"CASES\": 15, \"MS_POPULATION\": 65391, \"percentage\": 0.000229389365509015}, {\"SEX\": \"M\", \"AGEGROUP\": \"10-19\", \"PROVINCE\": \"Luxembourg\", \"CASES\": 5, \"MS_POPULATION\": 18572, \"percentage\": 0.0002692224854619858}, {\"SEX\": \"M\", \"AGEGROUP\": \"10-19\", \"PROVINCE\": \"Namur\", \"CASES\": 7, \"MS_POPULATION\": 30126, \"percentage\": 0.0002323574321184359}, {\"SEX\": \"M\", \"AGEGROUP\": \"10-19\", \"PROVINCE\": \"OostVlaanderen\", \"CASES\": 6, \"MS_POPULATION\": 83108, \"percentage\": 7.219521586369543e-05}, {\"SEX\": \"M\", \"AGEGROUP\": \"10-19\", \"PROVINCE\": \"VlaamsBrabant\", \"CASES\": 32, \"MS_POPULATION\": 67462, \"percentage\": 0.0004743411105511251}, {\"SEX\": \"M\", \"AGEGROUP\": \"10-19\", \"PROVINCE\": \"WestVlaanderen\", \"CASES\": 15, \"MS_POPULATION\": 62137, \"percentage\": 0.00024140206318296666}, {\"SEX\": \"M\", \"AGEGROUP\": \"20-29\", \"PROVINCE\": \"Antwerpen\", \"CASES\": 84, \"MS_POPULATION\": 115579, \"percentage\": 0.000726775625329861}, {\"SEX\": \"M\", \"AGEGROUP\": \"20-29\", \"PROVINCE\": \"BrabantWallon\", \"CASES\": 30, \"MS_POPULATION\": 24810, \"percentage\": 0.0012091898428053204}, {\"SEX\": \"M\", \"AGEGROUP\": \"20-29\", \"PROVINCE\": \"Hainaut\", \"CASES\": 81, \"MS_POPULATION\": 83150, \"percentage\": 0.0009741431148526759}, {\"SEX\": \"M\", \"AGEGROUP\": \"20-29\", \"PROVINCE\": \"Limburg\", \"CASES\": 103, \"MS_POPULATION\": 50634, \"percentage\": 0.0020342062645653117}, {\"SEX\": \"M\", \"AGEGROUP\": \"20-29\", \"PROVINCE\": \"Li\\u00e8ge\", \"CASES\": 124, \"MS_POPULATION\": 70573, \"percentage\": 0.0017570458957391637}, {\"SEX\": \"M\", \"AGEGROUP\": \"20-29\", \"PROVINCE\": \"Luxembourg\", \"CASES\": 32, \"MS_POPULATION\": 18821, \"percentage\": 0.0017002284682004144}, {\"SEX\": \"M\", \"AGEGROUP\": \"20-29\", \"PROVINCE\": \"Namur\", \"CASES\": 37, \"MS_POPULATION\": 31562, \"percentage\": 0.0011722957987453267}, {\"SEX\": \"M\", \"AGEGROUP\": \"20-29\", \"PROVINCE\": \"OostVlaanderen\", \"CASES\": 105, \"MS_POPULATION\": 93998, \"percentage\": 0.001117045043511564}, {\"SEX\": \"M\", \"AGEGROUP\": \"20-29\", \"PROVINCE\": \"VlaamsBrabant\", \"CASES\": 81, \"MS_POPULATION\": 68028, \"percentage\": 0.0011906861880402186}, {\"SEX\": \"M\", \"AGEGROUP\": \"20-29\", \"PROVINCE\": \"WestVlaanderen\", \"CASES\": 105, \"MS_POPULATION\": 71055, \"percentage\": 0.001477728520160439}, {\"SEX\": \"M\", \"AGEGROUP\": \"30-39\", \"PROVINCE\": \"Antwerpen\", \"CASES\": 140, \"MS_POPULATION\": 121528, \"percentage\": 0.0011519978934895663}, {\"SEX\": \"M\", \"AGEGROUP\": \"30-39\", \"PROVINCE\": \"BrabantWallon\", \"CASES\": 35, \"MS_POPULATION\": 23581, \"percentage\": 0.0014842457911030066}, {\"SEX\": \"M\", \"AGEGROUP\": \"30-39\", \"PROVINCE\": \"Hainaut\", \"CASES\": 117, \"MS_POPULATION\": 83704, \"percentage\": 0.0013977826627162382}, {\"SEX\": \"M\", \"AGEGROUP\": \"30-39\", \"PROVINCE\": \"Limburg\", \"CASES\": 97, \"MS_POPULATION\": 55582, \"percentage\": 0.0017451692994134792}, {\"SEX\": \"M\", \"AGEGROUP\": \"30-39\", \"PROVINCE\": \"Li\\u00e8ge\", \"CASES\": 159, \"MS_POPULATION\": 70086, \"percentage\": 0.0022686413834431983}, {\"SEX\": \"M\", \"AGEGROUP\": \"30-39\", \"PROVINCE\": \"Luxembourg\", \"CASES\": 54, \"MS_POPULATION\": 18359, \"percentage\": 0.0029413366741107903}, {\"SEX\": \"M\", \"AGEGROUP\": \"30-39\", \"PROVINCE\": \"Namur\", \"CASES\": 48, \"MS_POPULATION\": 31373, \"percentage\": 0.0015299780065661556}, {\"SEX\": \"M\", \"AGEGROUP\": \"30-39\", \"PROVINCE\": \"OostVlaanderen\", \"CASES\": 144, \"MS_POPULATION\": 98604, \"percentage\": 0.0014603870025556773}, {\"SEX\": \"M\", \"AGEGROUP\": \"30-39\", \"PROVINCE\": \"VlaamsBrabant\", \"CASES\": 107, \"MS_POPULATION\": 70303, \"percentage\": 0.0015219834146480236}, {\"SEX\": \"M\", \"AGEGROUP\": \"30-39\", \"PROVINCE\": \"WestVlaanderen\", \"CASES\": 107, \"MS_POPULATION\": 71014, \"percentage\": 0.00150674514884389}, {\"SEX\": \"M\", \"AGEGROUP\": \"40-49\", \"PROVINCE\": \"Antwerpen\", \"CASES\": 206, \"MS_POPULATION\": 121067, \"percentage\": 0.0017015371653712407}, {\"SEX\": \"M\", \"AGEGROUP\": \"40-49\", \"PROVINCE\": \"BrabantWallon\", \"CASES\": 52, \"MS_POPULATION\": 26621, \"percentage\": 0.0019533451034897263}, {\"SEX\": \"M\", \"AGEGROUP\": \"40-49\", \"PROVINCE\": \"Hainaut\", \"CASES\": 196, \"MS_POPULATION\": 91355, \"percentage\": 0.0021454764380712606}, {\"SEX\": \"M\", \"AGEGROUP\": \"40-49\", \"PROVINCE\": \"Limburg\", \"CASES\": 193, \"MS_POPULATION\": 58026, \"percentage\": 0.003326095198704029}, {\"SEX\": \"M\", \"AGEGROUP\": \"40-49\", \"PROVINCE\": \"Li\\u00e8ge\", \"CASES\": 235, \"MS_POPULATION\": 72725, \"percentage\": 0.003231350979718116}, {\"SEX\": \"M\", \"AGEGROUP\": \"40-49\", \"PROVINCE\": \"Luxembourg\", \"CASES\": 66, \"MS_POPULATION\": 19512, \"percentage\": 0.0033825338253382535}, {\"SEX\": \"M\", \"AGEGROUP\": \"40-49\", \"PROVINCE\": \"Namur\", \"CASES\": 67, \"MS_POPULATION\": 32462, \"percentage\": 0.002063951697369232}, {\"SEX\": \"M\", \"AGEGROUP\": \"40-49\", \"PROVINCE\": \"OostVlaanderen\", \"CASES\": 216, \"MS_POPULATION\": 102816, \"percentage\": 0.0021008403361344537}, {\"SEX\": \"M\", \"AGEGROUP\": \"40-49\", \"PROVINCE\": \"VlaamsBrabant\", \"CASES\": 158, \"MS_POPULATION\": 76199, \"percentage\": 0.002073518025170934}, {\"SEX\": \"M\", \"AGEGROUP\": \"40-49\", \"PROVINCE\": \"WestVlaanderen\", \"CASES\": 150, \"MS_POPULATION\": 76238, \"percentage\": 0.0019675227576798973}, {\"SEX\": \"M\", \"AGEGROUP\": \"50-59\", \"PROVINCE\": \"Antwerpen\", \"CASES\": 350, \"MS_POPULATION\": 132717, \"percentage\": 0.0026371904126826252}, {\"SEX\": \"M\", \"AGEGROUP\": \"50-59\", \"PROVINCE\": \"BrabantWallon\", \"CASES\": 69, \"MS_POPULATION\": 27611, \"percentage\": 0.002499004020136902}, {\"SEX\": \"M\", \"AGEGROUP\": \"50-59\", \"PROVINCE\": \"Hainaut\", \"CASES\": 243, \"MS_POPULATION\": 91404, \"percentage\": 0.00265852697912564}, {\"SEX\": \"M\", \"AGEGROUP\": \"50-59\", \"PROVINCE\": \"Limburg\", \"CASES\": 297, \"MS_POPULATION\": 68198, \"percentage\": 0.004354966421302678}, {\"SEX\": \"M\", \"AGEGROUP\": \"50-59\", \"PROVINCE\": \"Li\\u00e8ge\", \"CASES\": 289, \"MS_POPULATION\": 75997, \"percentage\": 0.0038027816887508717}, {\"SEX\": \"M\", \"AGEGROUP\": \"50-59\", \"PROVINCE\": \"Luxembourg\", \"CASES\": 65, \"MS_POPULATION\": 19737, \"percentage\": 0.0032933069868774385}, {\"SEX\": \"M\", \"AGEGROUP\": \"50-59\", \"PROVINCE\": \"Namur\", \"CASES\": 83, \"MS_POPULATION\": 34203, \"percentage\": 0.0024266877174516856}, {\"SEX\": \"M\", \"AGEGROUP\": \"50-59\", \"PROVINCE\": \"OostVlaanderen\", \"CASES\": 323, \"MS_POPULATION\": 108042, \"percentage\": 0.0029895781270246756}, {\"SEX\": \"M\", \"AGEGROUP\": \"50-59\", \"PROVINCE\": \"VlaamsBrabant\", \"CASES\": 262, \"MS_POPULATION\": 81771, \"percentage\": 0.0032040699025326826}, {\"SEX\": \"M\", \"AGEGROUP\": \"50-59\", \"PROVINCE\": \"WestVlaanderen\", \"CASES\": 308, \"MS_POPULATION\": 88775, \"percentage\": 0.003469445226696705}, {\"SEX\": \"M\", \"AGEGROUP\": \"60-69\", \"PROVINCE\": \"Antwerpen\", \"CASES\": 370, \"MS_POPULATION\": 104236, \"percentage\": 0.0035496373613722707}, {\"SEX\": \"M\", \"AGEGROUP\": \"60-69\", \"PROVINCE\": \"BrabantWallon\", \"CASES\": 52, \"MS_POPULATION\": 21864, \"percentage\": 0.0023783388218075376}, {\"SEX\": \"M\", \"AGEGROUP\": \"60-69\", \"PROVINCE\": \"Hainaut\", \"CASES\": 280, \"MS_POPULATION\": 75054, \"percentage\": 0.003730647267300877}, {\"SEX\": \"M\", \"AGEGROUP\": \"60-69\", \"PROVINCE\": \"Limburg\", \"CASES\": 274, \"MS_POPULATION\": 55339, \"percentage\": 0.004951300168055079}, {\"SEX\": \"M\", \"AGEGROUP\": \"60-69\", \"PROVINCE\": \"Li\\u00e8ge\", \"CASES\": 313, \"MS_POPULATION\": 62795, \"percentage\": 0.004984473286089657}, {\"SEX\": \"M\", \"AGEGROUP\": \"60-69\", \"PROVINCE\": \"Luxembourg\", \"CASES\": 64, \"MS_POPULATION\": 15101, \"percentage\": 0.0042381299251705185}, {\"SEX\": \"M\", \"AGEGROUP\": \"60-69\", \"PROVINCE\": \"Namur\", \"CASES\": 85, \"MS_POPULATION\": 28668, \"percentage\": 0.0029649783730989255}, {\"SEX\": \"M\", \"AGEGROUP\": \"60-69\", \"PROVINCE\": \"OostVlaanderen\", \"CASES\": 251, \"MS_POPULATION\": 84501, \"percentage\": 0.0029703790487686536}, {\"SEX\": \"M\", \"AGEGROUP\": \"60-69\", \"PROVINCE\": \"VlaamsBrabant\", \"CASES\": 241, \"MS_POPULATION\": 63019, \"percentage\": 0.0038242434821244386}, {\"SEX\": \"M\", \"AGEGROUP\": \"60-69\", \"PROVINCE\": \"WestVlaanderen\", \"CASES\": 236, \"MS_POPULATION\": 75047, \"percentage\": 0.003144695990512612}, {\"SEX\": \"M\", \"AGEGROUP\": \"70-79\", \"PROVINCE\": \"Antwerpen\", \"CASES\": 371, \"MS_POPULATION\": 67535, \"percentage\": 0.005493447841859777}, {\"SEX\": \"M\", \"AGEGROUP\": \"70-79\", \"PROVINCE\": \"BrabantWallon\", \"CASES\": 52, \"MS_POPULATION\": 13892, \"percentage\": 0.003743161531816873}, {\"SEX\": \"M\", \"AGEGROUP\": \"70-79\", \"PROVINCE\": \"Hainaut\", \"CASES\": 288, \"MS_POPULATION\": 41795, \"percentage\": 0.006890776408661323}, {\"SEX\": \"M\", \"AGEGROUP\": \"70-79\", \"PROVINCE\": \"Limburg\", \"CASES\": 353, \"MS_POPULATION\": 33651, \"percentage\": 0.010490030013966896}, {\"SEX\": \"M\", \"AGEGROUP\": \"70-79\", \"PROVINCE\": \"Li\\u00e8ge\", \"CASES\": 288, \"MS_POPULATION\": 35865, \"percentage\": 0.008030112923462986}, {\"SEX\": \"M\", \"AGEGROUP\": \"70-79\", \"PROVINCE\": \"Luxembourg\", \"CASES\": 69, \"MS_POPULATION\": 8340, \"percentage\": 0.008273381294964029}, {\"SEX\": \"M\", \"AGEGROUP\": \"70-79\", \"PROVINCE\": \"Namur\", \"CASES\": 64, \"MS_POPULATION\": 15628, \"percentage\": 0.004095213718965958}, {\"SEX\": \"M\", \"AGEGROUP\": \"70-79\", \"PROVINCE\": \"OostVlaanderen\", \"CASES\": 257, \"MS_POPULATION\": 55194, \"percentage\": 0.004656303221364641}, {\"SEX\": \"M\", \"AGEGROUP\": \"70-79\", \"PROVINCE\": \"VlaamsBrabant\", \"CASES\": 225, \"MS_POPULATION\": 40155, \"percentage\": 0.0056032872618602915}, {\"SEX\": \"M\", \"AGEGROUP\": \"70-79\", \"PROVINCE\": \"WestVlaanderen\", \"CASES\": 269, \"MS_POPULATION\": 52423, \"percentage\": 0.005131335482517215}, {\"SEX\": \"M\", \"AGEGROUP\": \"80-89\", \"PROVINCE\": \"Antwerpen\", \"CASES\": 410, \"MS_POPULATION\": 32894, \"percentage\": 0.012464279199854076}, {\"SEX\": \"M\", \"AGEGROUP\": \"80-89\", \"PROVINCE\": \"BrabantWallon\", \"CASES\": 57, \"MS_POPULATION\": 6132, \"percentage\": 0.009295499021526418}, {\"SEX\": \"M\", \"AGEGROUP\": \"80-89\", \"PROVINCE\": \"Hainaut\", \"CASES\": 246, \"MS_POPULATION\": 17698, \"percentage\": 0.013899875692168606}, {\"SEX\": \"M\", \"AGEGROUP\": \"80-89\", \"PROVINCE\": \"Limburg\", \"CASES\": 377, \"MS_POPULATION\": 15492, \"percentage\": 0.024335140717789826}, {\"SEX\": \"M\", \"AGEGROUP\": \"80-89\", \"PROVINCE\": \"Li\\u00e8ge\", \"CASES\": 313, \"MS_POPULATION\": 16297, \"percentage\": 0.019205988832300423}, {\"SEX\": \"M\", \"AGEGROUP\": \"80-89\", \"PROVINCE\": \"Luxembourg\", \"CASES\": 79, \"MS_POPULATION\": 4041, \"percentage\": 0.019549616431576343}, {\"SEX\": \"M\", \"AGEGROUP\": \"80-89\", \"PROVINCE\": \"Namur\", \"CASES\": 109, \"MS_POPULATION\": 6855, \"percentage\": 0.015900802334062727}, {\"SEX\": \"M\", \"AGEGROUP\": \"80-89\", \"PROVINCE\": \"OostVlaanderen\", \"CASES\": 375, \"MS_POPULATION\": 26794, \"percentage\": 0.013995670672538627}, {\"SEX\": \"M\", \"AGEGROUP\": \"80-89\", \"PROVINCE\": \"VlaamsBrabant\", \"CASES\": 310, \"MS_POPULATION\": 20216, \"percentage\": 0.015334388603086665}, {\"SEX\": \"M\", \"AGEGROUP\": \"80-89\", \"PROVINCE\": \"WestVlaanderen\", \"CASES\": 357, \"MS_POPULATION\": 25926, \"percentage\": 0.013769960657255265}, {\"SEX\": \"M\", \"AGEGROUP\": \"90+\", \"PROVINCE\": \"Antwerpen\", \"CASES\": 142, \"MS_POPULATION\": 3882, \"percentage\": 0.03657908294693457}, {\"SEX\": \"M\", \"AGEGROUP\": \"90+\", \"PROVINCE\": \"BrabantWallon\", \"CASES\": 26, \"MS_POPULATION\": 809, \"percentage\": 0.032138442521631644}, {\"SEX\": \"M\", \"AGEGROUP\": \"90+\", \"PROVINCE\": \"Hainaut\", \"CASES\": 92, \"MS_POPULATION\": 2277, \"percentage\": 0.04040404040404041}, {\"SEX\": \"M\", \"AGEGROUP\": \"90+\", \"PROVINCE\": \"Limburg\", \"CASES\": 148, \"MS_POPULATION\": 1526, \"percentage\": 0.09698558322411534}, {\"SEX\": \"M\", \"AGEGROUP\": \"90+\", \"PROVINCE\": \"Li\\u00e8ge\", \"CASES\": 92, \"MS_POPULATION\": 1934, \"percentage\": 0.047569803516028956}, {\"SEX\": \"M\", \"AGEGROUP\": \"90+\", \"PROVINCE\": \"Luxembourg\", \"CASES\": 17, \"MS_POPULATION\": 469, \"percentage\": 0.03624733475479744}, {\"SEX\": \"M\", \"AGEGROUP\": \"90+\", \"PROVINCE\": \"Namur\", \"CASES\": 27, \"MS_POPULATION\": 827, \"percentage\": 0.032648125755743655}, {\"SEX\": \"M\", \"AGEGROUP\": \"90+\", \"PROVINCE\": \"OostVlaanderen\", \"CASES\": 102, \"MS_POPULATION\": 3105, \"percentage\": 0.03285024154589372}, {\"SEX\": \"M\", \"AGEGROUP\": \"90+\", \"PROVINCE\": \"VlaamsBrabant\", \"CASES\": 129, \"MS_POPULATION\": 2611, \"percentage\": 0.04940635771734968}, {\"SEX\": \"M\", \"AGEGROUP\": \"90+\", \"PROVINCE\": \"WestVlaanderen\", \"CASES\": 121, \"MS_POPULATION\": 3292, \"percentage\": 0.03675577156743621}]}}, {\"mode\": \"vega-lite\"});\n",
              "</script>"
            ]
          },
          "metadata": {
            "tags": []
          },
          "execution_count": 20
        }
      ]
    },
    {
      "cell_type": "markdown",
      "metadata": {
        "id": "gZuLCiIplF_S",
        "colab_type": "text"
      },
      "source": [
        "Let's add a colorscale the makes the male blue and female number pink."
      ]
    },
    {
      "cell_type": "code",
      "metadata": {
        "id": "6iwY1PBhjdO7",
        "colab_type": "code",
        "colab": {}
      },
      "source": [
        "color_scale = alt.Scale(domain=['M', 'F'],\n",
        "                        range=['#1f77b4', '#e377c2'])"
      ],
      "execution_count": 0,
      "outputs": []
    },
    {
      "cell_type": "code",
      "metadata": {
        "id": "FjYFCQFfkrcP",
        "colab_type": "code",
        "outputId": "6e0b911e-3049-4707-ea74-2dda67c85f38",
        "colab": {
          "base_uri": "https://localhost:8080/",
          "height": 452
        }
      },
      "source": [
        "alt.Chart(df_plot).mark_bar().encode(\n",
        "    x='AGEGROUP:N', \n",
        "    y='percentage', \n",
        "    color=alt.Color('SEX:N', scale=color_scale, legend=None),\n",
        "    column='PROVINCE:N')"
      ],
      "execution_count": 0,
      "outputs": [
        {
          "output_type": "execute_result",
          "data": {
            "text/plain": [
              "alt.Chart(...)"
            ],
            "text/html": [
              "\n",
              "<div id=\"altair-viz-a31b42ff7ea54ba6b534047220fe11b7\"></div>\n",
              "<script type=\"text/javascript\">\n",
              "  (function(spec, embedOpt){\n",
              "    let outputDiv = document.currentScript.previousElementSibling;\n",
              "    if (outputDiv.id !== \"altair-viz-a31b42ff7ea54ba6b534047220fe11b7\") {\n",
              "      outputDiv = document.getElementById(\"altair-viz-a31b42ff7ea54ba6b534047220fe11b7\");\n",
              "    }\n",
              "    const paths = {\n",
              "      \"vega\": \"https://cdn.jsdelivr.net/npm//vega@5?noext\",\n",
              "      \"vega-lib\": \"https://cdn.jsdelivr.net/npm//vega-lib?noext\",\n",
              "      \"vega-lite\": \"https://cdn.jsdelivr.net/npm//vega-lite@4.8.1?noext\",\n",
              "      \"vega-embed\": \"https://cdn.jsdelivr.net/npm//vega-embed@6?noext\",\n",
              "    };\n",
              "\n",
              "    function loadScript(lib) {\n",
              "      return new Promise(function(resolve, reject) {\n",
              "        var s = document.createElement('script');\n",
              "        s.src = paths[lib];\n",
              "        s.async = true;\n",
              "        s.onload = () => resolve(paths[lib]);\n",
              "        s.onerror = () => reject(`Error loading script: ${paths[lib]}`);\n",
              "        document.getElementsByTagName(\"head\")[0].appendChild(s);\n",
              "      });\n",
              "    }\n",
              "\n",
              "    function showError(err) {\n",
              "      outputDiv.innerHTML = `<div class=\"error\" style=\"color:red;\">${err}</div>`;\n",
              "      throw err;\n",
              "    }\n",
              "\n",
              "    function displayChart(vegaEmbed) {\n",
              "      vegaEmbed(outputDiv, spec, embedOpt)\n",
              "        .catch(err => showError(`Javascript Error: ${err.message}<br>This usually means there's a typo in your chart specification. See the javascript console for the full traceback.`));\n",
              "    }\n",
              "\n",
              "    if(typeof define === \"function\" && define.amd) {\n",
              "      requirejs.config({paths});\n",
              "      require([\"vega-embed\"], displayChart, err => showError(`Error loading script: ${err.message}`));\n",
              "    } else if (typeof vegaEmbed === \"function\") {\n",
              "      displayChart(vegaEmbed);\n",
              "    } else {\n",
              "      loadScript(\"vega\")\n",
              "        .then(() => loadScript(\"vega-lite\"))\n",
              "        .then(() => loadScript(\"vega-embed\"))\n",
              "        .catch(showError)\n",
              "        .then(() => displayChart(vegaEmbed));\n",
              "    }\n",
              "  })({\"config\": {\"view\": {\"continuousWidth\": 400, \"continuousHeight\": 300}}, \"data\": {\"name\": \"data-8c4256b2c33a1fca2a5d94ca31a38873\"}, \"mark\": \"bar\", \"encoding\": {\"color\": {\"type\": \"nominal\", \"field\": \"SEX\", \"legend\": null, \"scale\": {\"domain\": [\"M\", \"F\"], \"range\": [\"#1f77b4\", \"#e377c2\"]}}, \"column\": {\"type\": \"nominal\", \"field\": \"PROVINCE\"}, \"x\": {\"type\": \"nominal\", \"field\": \"AGEGROUP\"}, \"y\": {\"type\": \"quantitative\", \"field\": \"percentage\"}}, \"$schema\": \"https://vega.github.io/schema/vega-lite/v4.8.1.json\", \"datasets\": {\"data-8c4256b2c33a1fca2a5d94ca31a38873\": [{\"SEX\": \"F\", \"AGEGROUP\": \"0-9\", \"PROVINCE\": \"Antwerpen\", \"CASES\": 9, \"MS_POPULATION\": 113851, \"percentage\": 7.90506890585063e-05}, {\"SEX\": \"F\", \"AGEGROUP\": \"0-9\", \"PROVINCE\": \"BrabantWallon\", \"CASES\": 3, \"MS_POPULATION\": 23744, \"percentage\": 0.0001263477088948787}, {\"SEX\": \"F\", \"AGEGROUP\": \"0-9\", \"PROVINCE\": \"Hainaut\", \"CASES\": 11, \"MS_POPULATION\": 81075, \"percentage\": 0.0001356768424298489}, {\"SEX\": \"F\", \"AGEGROUP\": \"0-9\", \"PROVINCE\": \"Limburg\", \"CASES\": 11, \"MS_POPULATION\": 48102, \"percentage\": 0.00022868072013637687}, {\"SEX\": \"F\", \"AGEGROUP\": \"0-9\", \"PROVINCE\": \"Li\\u00e8ge\", \"CASES\": 19, \"MS_POPULATION\": 67479, \"percentage\": 0.0002815690807510485}, {\"SEX\": \"F\", \"AGEGROUP\": \"0-9\", \"PROVINCE\": \"Luxembourg\", \"CASES\": 3, \"MS_POPULATION\": 17834, \"percentage\": 0.000168218010541662}, {\"SEX\": \"F\", \"AGEGROUP\": \"0-9\", \"PROVINCE\": \"Namur\", \"CASES\": 4, \"MS_POPULATION\": 29270, \"percentage\": 0.0001366586949094636}, {\"SEX\": \"F\", \"AGEGROUP\": \"0-9\", \"PROVINCE\": \"OostVlaanderen\", \"CASES\": 7, \"MS_POPULATION\": 88120, \"percentage\": 7.943713118474807e-05}, {\"SEX\": \"F\", \"AGEGROUP\": \"0-9\", \"PROVINCE\": \"VlaamsBrabant\", \"CASES\": 9, \"MS_POPULATION\": 69061, \"percentage\": 0.00013031957255180203}, {\"SEX\": \"F\", \"AGEGROUP\": \"0-9\", \"PROVINCE\": \"WestVlaanderen\", \"CASES\": 7, \"MS_POPULATION\": 63579, \"percentage\": 0.00011009924660658394}, {\"SEX\": \"F\", \"AGEGROUP\": \"10-19\", \"PROVINCE\": \"Antwerpen\", \"CASES\": 26, \"MS_POPULATION\": 97741, \"percentage\": 0.0002660091466221954}, {\"SEX\": \"F\", \"AGEGROUP\": \"10-19\", \"PROVINCE\": \"BrabantWallon\", \"CASES\": 5, \"MS_POPULATION\": 24368, \"percentage\": 0.00020518713066316482}, {\"SEX\": \"F\", \"AGEGROUP\": \"10-19\", \"PROVINCE\": \"Hainaut\", \"CASES\": 18, \"MS_POPULATION\": 78804, \"percentage\": 0.00022841480127912289}, {\"SEX\": \"F\", \"AGEGROUP\": \"10-19\", \"PROVINCE\": \"Limburg\", \"CASES\": 21, \"MS_POPULATION\": 43943, \"percentage\": 0.000477891814395922}, {\"SEX\": \"F\", \"AGEGROUP\": \"10-19\", \"PROVINCE\": \"Li\\u00e8ge\", \"CASES\": 22, \"MS_POPULATION\": 62761, \"percentage\": 0.0003505361609916987}, {\"SEX\": \"F\", \"AGEGROUP\": \"10-19\", \"PROVINCE\": \"Luxembourg\", \"CASES\": 10, \"MS_POPULATION\": 17617, \"percentage\": 0.0005676335357892944}, {\"SEX\": \"F\", \"AGEGROUP\": \"10-19\", \"PROVINCE\": \"Namur\", \"CASES\": 5, \"MS_POPULATION\": 28987, \"percentage\": 0.00017249111670748955}, {\"SEX\": \"F\", \"AGEGROUP\": \"10-19\", \"PROVINCE\": \"OostVlaanderen\", \"CASES\": 38, \"MS_POPULATION\": 79353, \"percentage\": 0.00047887288445301374}, {\"SEX\": \"F\", \"AGEGROUP\": \"10-19\", \"PROVINCE\": \"VlaamsBrabant\", \"CASES\": 22, \"MS_POPULATION\": 64641, \"percentage\": 0.00034034126947293515}, {\"SEX\": \"F\", \"AGEGROUP\": \"10-19\", \"PROVINCE\": \"WestVlaanderen\", \"CASES\": 25, \"MS_POPULATION\": 59104, \"percentage\": 0.0004229832160259881}, {\"SEX\": \"F\", \"AGEGROUP\": \"20-29\", \"PROVINCE\": \"Antwerpen\", \"CASES\": 299, \"MS_POPULATION\": 114364, \"percentage\": 0.0026144590955195692}, {\"SEX\": \"F\", \"AGEGROUP\": \"20-29\", \"PROVINCE\": \"BrabantWallon\", \"CASES\": 58, \"MS_POPULATION\": 23892, \"percentage\": 0.0024275908253808807}, {\"SEX\": \"F\", \"AGEGROUP\": \"20-29\", \"PROVINCE\": \"Hainaut\", \"CASES\": 257, \"MS_POPULATION\": 80946, \"percentage\": 0.0031749561436019073}, {\"SEX\": \"F\", \"AGEGROUP\": \"20-29\", \"PROVINCE\": \"Limburg\", \"CASES\": 294, \"MS_POPULATION\": 49202, \"percentage\": 0.005975366855005894}, {\"SEX\": \"F\", \"AGEGROUP\": \"20-29\", \"PROVINCE\": \"Li\\u00e8ge\", \"CASES\": 339, \"MS_POPULATION\": 70284, \"percentage\": 0.004823288372887143}, {\"SEX\": \"F\", \"AGEGROUP\": \"20-29\", \"PROVINCE\": \"Luxembourg\", \"CASES\": 75, \"MS_POPULATION\": 17671, \"percentage\": 0.004244241978382661}, {\"SEX\": \"F\", \"AGEGROUP\": \"20-29\", \"PROVINCE\": \"Namur\", \"CASES\": 106, \"MS_POPULATION\": 30639, \"percentage\": 0.0034596429387382093}, {\"SEX\": \"F\", \"AGEGROUP\": \"20-29\", \"PROVINCE\": \"OostVlaanderen\", \"CASES\": 318, \"MS_POPULATION\": 92829, \"percentage\": 0.0034256536211744173}, {\"SEX\": \"F\", \"AGEGROUP\": \"20-29\", \"PROVINCE\": \"VlaamsBrabant\", \"CASES\": 230, \"MS_POPULATION\": 67228, \"percentage\": 0.00342119355030642}, {\"SEX\": \"F\", \"AGEGROUP\": \"20-29\", \"PROVINCE\": \"WestVlaanderen\", \"CASES\": 311, \"MS_POPULATION\": 67252, \"percentage\": 0.004624397787426396}, {\"SEX\": \"F\", \"AGEGROUP\": \"30-39\", \"PROVINCE\": \"Antwerpen\", \"CASES\": 342, \"MS_POPULATION\": 120901, \"percentage\": 0.002828760721582121}, {\"SEX\": \"F\", \"AGEGROUP\": \"30-39\", \"PROVINCE\": \"BrabantWallon\", \"CASES\": 78, \"MS_POPULATION\": 24455, \"percentage\": 0.003189531793089348}, {\"SEX\": \"F\", \"AGEGROUP\": \"30-39\", \"PROVINCE\": \"Hainaut\", \"CASES\": 401, \"MS_POPULATION\": 83728, \"percentage\": 0.004789317790942098}, {\"SEX\": \"F\", \"AGEGROUP\": \"30-39\", \"PROVINCE\": \"Limburg\", \"CASES\": 322, \"MS_POPULATION\": 55322, \"percentage\": 0.005820469252738512}, {\"SEX\": \"F\", \"AGEGROUP\": \"30-39\", \"PROVINCE\": \"Li\\u00e8ge\", \"CASES\": 465, \"MS_POPULATION\": 70295, \"percentage\": 0.006614979728287929}, {\"SEX\": \"F\", \"AGEGROUP\": \"30-39\", \"PROVINCE\": \"Luxembourg\", \"CASES\": 95, \"MS_POPULATION\": 17849, \"percentage\": 0.0053224270267241865}, {\"SEX\": \"F\", \"AGEGROUP\": \"30-39\", \"PROVINCE\": \"Namur\", \"CASES\": 116, \"MS_POPULATION\": 31144, \"percentage\": 0.0037246339583868484}, {\"SEX\": \"F\", \"AGEGROUP\": \"30-39\", \"PROVINCE\": \"OostVlaanderen\", \"CASES\": 324, \"MS_POPULATION\": 97907, \"percentage\": 0.0033092628719090566}, {\"SEX\": \"F\", \"AGEGROUP\": \"30-39\", \"PROVINCE\": \"VlaamsBrabant\", \"CASES\": 246, \"MS_POPULATION\": 72520, \"percentage\": 0.0033921676778819634}, {\"SEX\": \"F\", \"AGEGROUP\": \"30-39\", \"PROVINCE\": \"WestVlaanderen\", \"CASES\": 316, \"MS_POPULATION\": 68094, \"percentage\": 0.0046406438159015476}, {\"SEX\": \"F\", \"AGEGROUP\": \"40-49\", \"PROVINCE\": \"Antwerpen\", \"CASES\": 348, \"MS_POPULATION\": 117869, \"percentage\": 0.0029524302403515766}, {\"SEX\": \"F\", \"AGEGROUP\": \"40-49\", \"PROVINCE\": \"BrabantWallon\", \"CASES\": 103, \"MS_POPULATION\": 28346, \"percentage\": 0.003633669653566641}, {\"SEX\": \"F\", \"AGEGROUP\": \"40-49\", \"PROVINCE\": \"Hainaut\", \"CASES\": 457, \"MS_POPULATION\": 90877, \"percentage\": 0.005028775157630644}, {\"SEX\": \"F\", \"AGEGROUP\": \"40-49\", \"PROVINCE\": \"Limburg\", \"CASES\": 372, \"MS_POPULATION\": 57203, \"percentage\": 0.006503155428911071}, {\"SEX\": \"F\", \"AGEGROUP\": \"40-49\", \"PROVINCE\": \"Li\\u00e8ge\", \"CASES\": 453, \"MS_POPULATION\": 71565, \"percentage\": 0.006329909872144205}, {\"SEX\": \"F\", \"AGEGROUP\": \"40-49\", \"PROVINCE\": \"Luxembourg\", \"CASES\": 93, \"MS_POPULATION\": 18961, \"percentage\": 0.00490480459891356}, {\"SEX\": \"F\", \"AGEGROUP\": \"40-49\", \"PROVINCE\": \"Namur\", \"CASES\": 152, \"MS_POPULATION\": 32384, \"percentage\": 0.004693675889328063}, {\"SEX\": \"F\", \"AGEGROUP\": \"40-49\", \"PROVINCE\": \"OostVlaanderen\", \"CASES\": 450, \"MS_POPULATION\": 99714, \"percentage\": 0.004512906913773392}, {\"SEX\": \"F\", \"AGEGROUP\": \"40-49\", \"PROVINCE\": \"VlaamsBrabant\", \"CASES\": 362, \"MS_POPULATION\": 77657, \"percentage\": 0.004661524395740242}, {\"SEX\": \"F\", \"AGEGROUP\": \"40-49\", \"PROVINCE\": \"WestVlaanderen\", \"CASES\": 385, \"MS_POPULATION\": 73584, \"percentage\": 0.0052321156773211565}, {\"SEX\": \"F\", \"AGEGROUP\": \"50-59\", \"PROVINCE\": \"Antwerpen\", \"CASES\": 419, \"MS_POPULATION\": 129704, \"percentage\": 0.0032304323690865353}, {\"SEX\": \"F\", \"AGEGROUP\": \"50-59\", \"PROVINCE\": \"BrabantWallon\", \"CASES\": 93, \"MS_POPULATION\": 29056, \"percentage\": 0.003200715859030837}, {\"SEX\": \"F\", \"AGEGROUP\": \"50-59\", \"PROVINCE\": \"Hainaut\", \"CASES\": 413, \"MS_POPULATION\": 93332, \"percentage\": 0.004425063215188789}, {\"SEX\": \"F\", \"AGEGROUP\": \"50-59\", \"PROVINCE\": \"Limburg\", \"CASES\": 472, \"MS_POPULATION\": 66159, \"percentage\": 0.0071343279070118955}, {\"SEX\": \"F\", \"AGEGROUP\": \"50-59\", \"PROVINCE\": \"Li\\u00e8ge\", \"CASES\": 440, \"MS_POPULATION\": 76876, \"percentage\": 0.005723502783703626}, {\"SEX\": \"F\", \"AGEGROUP\": \"50-59\", \"PROVINCE\": \"Luxembourg\", \"CASES\": 84, \"MS_POPULATION\": 19137, \"percentage\": 0.004389402727700266}, {\"SEX\": \"F\", \"AGEGROUP\": \"50-59\", \"PROVINCE\": \"Namur\", \"CASES\": 128, \"MS_POPULATION\": 34850, \"percentage\": 0.003672883787661406}, {\"SEX\": \"F\", \"AGEGROUP\": \"50-59\", \"PROVINCE\": \"OostVlaanderen\", \"CASES\": 474, \"MS_POPULATION\": 105453, \"percentage\": 0.004494893459645529}, {\"SEX\": \"F\", \"AGEGROUP\": \"50-59\", \"PROVINCE\": \"VlaamsBrabant\", \"CASES\": 387, \"MS_POPULATION\": 81649, \"percentage\": 0.004739800854878811}, {\"SEX\": \"F\", \"AGEGROUP\": \"50-59\", \"PROVINCE\": \"WestVlaanderen\", \"CASES\": 470, \"MS_POPULATION\": 85817, \"percentage\": 0.005476770336879639}, {\"SEX\": \"F\", \"AGEGROUP\": \"60-69\", \"PROVINCE\": \"Antwerpen\", \"CASES\": 227, \"MS_POPULATION\": 105349, \"percentage\": 0.002154742807240695}, {\"SEX\": \"F\", \"AGEGROUP\": \"60-69\", \"PROVINCE\": \"BrabantWallon\", \"CASES\": 54, \"MS_POPULATION\": 24653, \"percentage\": 0.0021904027907354074}, {\"SEX\": \"F\", \"AGEGROUP\": \"60-69\", \"PROVINCE\": \"Hainaut\", \"CASES\": 212, \"MS_POPULATION\": 84127, \"percentage\": 0.0025199995245283914}, {\"SEX\": \"F\", \"AGEGROUP\": \"60-69\", \"PROVINCE\": \"Limburg\", \"CASES\": 221, \"MS_POPULATION\": 55216, \"percentage\": 0.0040024630541871924}, {\"SEX\": \"F\", \"AGEGROUP\": \"60-69\", \"PROVINCE\": \"Li\\u00e8ge\", \"CASES\": 243, \"MS_POPULATION\": 66973, \"percentage\": 0.003628327833604587}, {\"SEX\": \"F\", \"AGEGROUP\": \"60-69\", \"PROVINCE\": \"Luxembourg\", \"CASES\": 49, \"MS_POPULATION\": 15653, \"percentage\": 0.0031303903405098064}, {\"SEX\": \"F\", \"AGEGROUP\": \"60-69\", \"PROVINCE\": \"Namur\", \"CASES\": 47, \"MS_POPULATION\": 30550, \"percentage\": 0.0015384615384615385}, {\"SEX\": \"F\", \"AGEGROUP\": \"60-69\", \"PROVINCE\": \"OostVlaanderen\", \"CASES\": 207, \"MS_POPULATION\": 86777, \"percentage\": 0.0023854247093123755}, {\"SEX\": \"F\", \"AGEGROUP\": \"60-69\", \"PROVINCE\": \"VlaamsBrabant\", \"CASES\": 177, \"MS_POPULATION\": 65934, \"percentage\": 0.0026845026845026846}, {\"SEX\": \"F\", \"AGEGROUP\": \"60-69\", \"PROVINCE\": \"WestVlaanderen\", \"CASES\": 190, \"MS_POPULATION\": 77019, \"percentage\": 0.0024669237460886273}, {\"SEX\": \"F\", \"AGEGROUP\": \"70-79\", \"PROVINCE\": \"Antwerpen\", \"CASES\": 303, \"MS_POPULATION\": 77129, \"percentage\": 0.003928483449804872}, {\"SEX\": \"F\", \"AGEGROUP\": \"70-79\", \"PROVINCE\": \"BrabantWallon\", \"CASES\": 46, \"MS_POPULATION\": 16999, \"percentage\": 0.002706041531854815}, {\"SEX\": \"F\", \"AGEGROUP\": \"70-79\", \"PROVINCE\": \"Hainaut\", \"CASES\": 273, \"MS_POPULATION\": 54498, \"percentage\": 0.005009358141583178}, {\"SEX\": \"F\", \"AGEGROUP\": \"70-79\", \"PROVINCE\": \"Limburg\", \"CASES\": 280, \"MS_POPULATION\": 36984, \"percentage\": 0.007570841444949167}, {\"SEX\": \"F\", \"AGEGROUP\": \"70-79\", \"PROVINCE\": \"Li\\u00e8ge\", \"CASES\": 298, \"MS_POPULATION\": 45051, \"percentage\": 0.0066147255332845}, {\"SEX\": \"F\", \"AGEGROUP\": \"70-79\", \"PROVINCE\": \"Luxembourg\", \"CASES\": 65, \"MS_POPULATION\": 9923, \"percentage\": 0.006550438375491283}, {\"SEX\": \"F\", \"AGEGROUP\": \"70-79\", \"PROVINCE\": \"Namur\", \"CASES\": 78, \"MS_POPULATION\": 19409, \"percentage\": 0.004018754186202277}, {\"SEX\": \"F\", \"AGEGROUP\": \"70-79\", \"PROVINCE\": \"OostVlaanderen\", \"CASES\": 278, \"MS_POPULATION\": 64518, \"percentage\": 0.004308875042623764}, {\"SEX\": \"F\", \"AGEGROUP\": \"70-79\", \"PROVINCE\": \"VlaamsBrabant\", \"CASES\": 205, \"MS_POPULATION\": 47305, \"percentage\": 0.004333579959835112}, {\"SEX\": \"F\", \"AGEGROUP\": \"70-79\", \"PROVINCE\": \"WestVlaanderen\", \"CASES\": 262, \"MS_POPULATION\": 60688, \"percentage\": 0.004317163195359874}, {\"SEX\": \"F\", \"AGEGROUP\": \"80-89\", \"PROVINCE\": \"Antwerpen\", \"CASES\": 627, \"MS_POPULATION\": 49568, \"percentage\": 0.012649289864428663}, {\"SEX\": \"F\", \"AGEGROUP\": \"80-89\", \"PROVINCE\": \"BrabantWallon\", \"CASES\": 100, \"MS_POPULATION\": 9920, \"percentage\": 0.010080645161290322}, {\"SEX\": \"F\", \"AGEGROUP\": \"80-89\", \"PROVINCE\": \"Hainaut\", \"CASES\": 572, \"MS_POPULATION\": 34639, \"percentage\": 0.01651317878691648}, {\"SEX\": \"F\", \"AGEGROUP\": \"80-89\", \"PROVINCE\": \"Limburg\", \"CASES\": 626, \"MS_POPULATION\": 22709, \"percentage\": 0.027566163195208947}, {\"SEX\": \"F\", \"AGEGROUP\": \"80-89\", \"PROVINCE\": \"Li\\u00e8ge\", \"CASES\": 659, \"MS_POPULATION\": 28095, \"percentage\": 0.023456130984160883}, {\"SEX\": \"F\", \"AGEGROUP\": \"80-89\", \"PROVINCE\": \"Luxembourg\", \"CASES\": 151, \"MS_POPULATION\": 6857, \"percentage\": 0.022021292110252298}, {\"SEX\": \"F\", \"AGEGROUP\": \"80-89\", \"PROVINCE\": \"Namur\", \"CASES\": 204, \"MS_POPULATION\": 12219, \"percentage\": 0.016695310581880677}, {\"SEX\": \"F\", \"AGEGROUP\": \"80-89\", \"PROVINCE\": \"OostVlaanderen\", \"CASES\": 687, \"MS_POPULATION\": 43514, \"percentage\": 0.015788022245714024}, {\"SEX\": \"F\", \"AGEGROUP\": \"80-89\", \"PROVINCE\": \"VlaamsBrabant\", \"CASES\": 550, \"MS_POPULATION\": 31804, \"percentage\": 0.017293422211042637}, {\"SEX\": \"F\", \"AGEGROUP\": \"80-89\", \"PROVINCE\": \"WestVlaanderen\", \"CASES\": 638, \"MS_POPULATION\": 39736, \"percentage\": 0.01605596939802698}, {\"SEX\": \"F\", \"AGEGROUP\": \"90+\", \"PROVINCE\": \"Antwerpen\", \"CASES\": 388, \"MS_POPULATION\": 9763, \"percentage\": 0.03974188261804773}, {\"SEX\": \"F\", \"AGEGROUP\": \"90+\", \"PROVINCE\": \"BrabantWallon\", \"CASES\": 66, \"MS_POPULATION\": 2250, \"percentage\": 0.029333333333333333}, {\"SEX\": \"F\", \"AGEGROUP\": \"90+\", \"PROVINCE\": \"Hainaut\", \"CASES\": 330, \"MS_POPULATION\": 8030, \"percentage\": 0.0410958904109589}, {\"SEX\": \"F\", \"AGEGROUP\": \"90+\", \"PROVINCE\": \"Limburg\", \"CASES\": 355, \"MS_POPULATION\": 3938, \"percentage\": 0.09014728288471305}, {\"SEX\": \"F\", \"AGEGROUP\": \"90+\", \"PROVINCE\": \"Li\\u00e8ge\", \"CASES\": 352, \"MS_POPULATION\": 5838, \"percentage\": 0.06029462144570058}, {\"SEX\": \"F\", \"AGEGROUP\": \"90+\", \"PROVINCE\": \"Luxembourg\", \"CASES\": 81, \"MS_POPULATION\": 1447, \"percentage\": 0.05597788527988943}, {\"SEX\": \"F\", \"AGEGROUP\": \"90+\", \"PROVINCE\": \"Namur\", \"CASES\": 104, \"MS_POPULATION\": 2672, \"percentage\": 0.038922155688622756}, {\"SEX\": \"F\", \"AGEGROUP\": \"90+\", \"PROVINCE\": \"OostVlaanderen\", \"CASES\": 392, \"MS_POPULATION\": 8570, \"percentage\": 0.04574095682613769}, {\"SEX\": \"F\", \"AGEGROUP\": \"90+\", \"PROVINCE\": \"VlaamsBrabant\", \"CASES\": 346, \"MS_POPULATION\": 6362, \"percentage\": 0.05438541339201509}, {\"SEX\": \"F\", \"AGEGROUP\": \"90+\", \"PROVINCE\": \"WestVlaanderen\", \"CASES\": 360, \"MS_POPULATION\": 8230, \"percentage\": 0.04374240583232078}, {\"SEX\": \"M\", \"AGEGROUP\": \"0-9\", \"PROVINCE\": \"Antwerpen\", \"CASES\": 24, \"MS_POPULATION\": 119457, \"percentage\": 0.00020090911373967202}, {\"SEX\": \"M\", \"AGEGROUP\": \"0-9\", \"PROVINCE\": \"BrabantWallon\", \"CASES\": 1, \"MS_POPULATION\": 24910, \"percentage\": 4.014452027298274e-05}, {\"SEX\": \"M\", \"AGEGROUP\": \"0-9\", \"PROVINCE\": \"Hainaut\", \"CASES\": 13, \"MS_POPULATION\": 85344, \"percentage\": 0.0001523247094113236}, {\"SEX\": \"M\", \"AGEGROUP\": \"0-9\", \"PROVINCE\": \"Limburg\", \"CASES\": 7, \"MS_POPULATION\": 50436, \"percentage\": 0.0001387897533507812}, {\"SEX\": \"M\", \"AGEGROUP\": \"0-9\", \"PROVINCE\": \"Li\\u00e8ge\", \"CASES\": 17, \"MS_POPULATION\": 70112, \"percentage\": 0.00024246919214970333}, {\"SEX\": \"M\", \"AGEGROUP\": \"0-9\", \"PROVINCE\": \"Luxembourg\", \"CASES\": 2, \"MS_POPULATION\": 18737, \"percentage\": 0.00010674067353365}, {\"SEX\": \"M\", \"AGEGROUP\": \"0-9\", \"PROVINCE\": \"Namur\", \"CASES\": 2, \"MS_POPULATION\": 30497, \"percentage\": 6.558022100534478e-05}, {\"SEX\": \"M\", \"AGEGROUP\": \"0-9\", \"PROVINCE\": \"OostVlaanderen\", \"CASES\": 8, \"MS_POPULATION\": 92147, \"percentage\": 8.681780199029811e-05}, {\"SEX\": \"M\", \"AGEGROUP\": \"0-9\", \"PROVINCE\": \"VlaamsBrabant\", \"CASES\": 8, \"MS_POPULATION\": 72250, \"percentage\": 0.00011072664359861591}, {\"SEX\": \"M\", \"AGEGROUP\": \"0-9\", \"PROVINCE\": \"WestVlaanderen\", \"CASES\": 9, \"MS_POPULATION\": 66786, \"percentage\": 0.0001347587817806127}, {\"SEX\": \"M\", \"AGEGROUP\": \"10-19\", \"PROVINCE\": \"Antwerpen\", \"CASES\": 18, \"MS_POPULATION\": 102852, \"percentage\": 0.00017500875043752187}, {\"SEX\": \"M\", \"AGEGROUP\": \"10-19\", \"PROVINCE\": \"BrabantWallon\", \"CASES\": 4, \"MS_POPULATION\": 25686, \"percentage\": 0.00015572685509616132}, {\"SEX\": \"M\", \"AGEGROUP\": \"10-19\", \"PROVINCE\": \"Hainaut\", \"CASES\": 10, \"MS_POPULATION\": 82404, \"percentage\": 0.00012135333236250667}, {\"SEX\": \"M\", \"AGEGROUP\": \"10-19\", \"PROVINCE\": \"Limburg\", \"CASES\": 11, \"MS_POPULATION\": 46386, \"percentage\": 0.00023714051653516148}, {\"SEX\": \"M\", \"AGEGROUP\": \"10-19\", \"PROVINCE\": \"Li\\u00e8ge\", \"CASES\": 15, \"MS_POPULATION\": 65391, \"percentage\": 0.000229389365509015}, {\"SEX\": \"M\", \"AGEGROUP\": \"10-19\", \"PROVINCE\": \"Luxembourg\", \"CASES\": 5, \"MS_POPULATION\": 18572, \"percentage\": 0.0002692224854619858}, {\"SEX\": \"M\", \"AGEGROUP\": \"10-19\", \"PROVINCE\": \"Namur\", \"CASES\": 7, \"MS_POPULATION\": 30126, \"percentage\": 0.0002323574321184359}, {\"SEX\": \"M\", \"AGEGROUP\": \"10-19\", \"PROVINCE\": \"OostVlaanderen\", \"CASES\": 6, \"MS_POPULATION\": 83108, \"percentage\": 7.219521586369543e-05}, {\"SEX\": \"M\", \"AGEGROUP\": \"10-19\", \"PROVINCE\": \"VlaamsBrabant\", \"CASES\": 32, \"MS_POPULATION\": 67462, \"percentage\": 0.0004743411105511251}, {\"SEX\": \"M\", \"AGEGROUP\": \"10-19\", \"PROVINCE\": \"WestVlaanderen\", \"CASES\": 15, \"MS_POPULATION\": 62137, \"percentage\": 0.00024140206318296666}, {\"SEX\": \"M\", \"AGEGROUP\": \"20-29\", \"PROVINCE\": \"Antwerpen\", \"CASES\": 84, \"MS_POPULATION\": 115579, \"percentage\": 0.000726775625329861}, {\"SEX\": \"M\", \"AGEGROUP\": \"20-29\", \"PROVINCE\": \"BrabantWallon\", \"CASES\": 30, \"MS_POPULATION\": 24810, \"percentage\": 0.0012091898428053204}, {\"SEX\": \"M\", \"AGEGROUP\": \"20-29\", \"PROVINCE\": \"Hainaut\", \"CASES\": 81, \"MS_POPULATION\": 83150, \"percentage\": 0.0009741431148526759}, {\"SEX\": \"M\", \"AGEGROUP\": \"20-29\", \"PROVINCE\": \"Limburg\", \"CASES\": 103, \"MS_POPULATION\": 50634, \"percentage\": 0.0020342062645653117}, {\"SEX\": \"M\", \"AGEGROUP\": \"20-29\", \"PROVINCE\": \"Li\\u00e8ge\", \"CASES\": 124, \"MS_POPULATION\": 70573, \"percentage\": 0.0017570458957391637}, {\"SEX\": \"M\", \"AGEGROUP\": \"20-29\", \"PROVINCE\": \"Luxembourg\", \"CASES\": 32, \"MS_POPULATION\": 18821, \"percentage\": 0.0017002284682004144}, {\"SEX\": \"M\", \"AGEGROUP\": \"20-29\", \"PROVINCE\": \"Namur\", \"CASES\": 37, \"MS_POPULATION\": 31562, \"percentage\": 0.0011722957987453267}, {\"SEX\": \"M\", \"AGEGROUP\": \"20-29\", \"PROVINCE\": \"OostVlaanderen\", \"CASES\": 105, \"MS_POPULATION\": 93998, \"percentage\": 0.001117045043511564}, {\"SEX\": \"M\", \"AGEGROUP\": \"20-29\", \"PROVINCE\": \"VlaamsBrabant\", \"CASES\": 81, \"MS_POPULATION\": 68028, \"percentage\": 0.0011906861880402186}, {\"SEX\": \"M\", \"AGEGROUP\": \"20-29\", \"PROVINCE\": \"WestVlaanderen\", \"CASES\": 105, \"MS_POPULATION\": 71055, \"percentage\": 0.001477728520160439}, {\"SEX\": \"M\", \"AGEGROUP\": \"30-39\", \"PROVINCE\": \"Antwerpen\", \"CASES\": 140, \"MS_POPULATION\": 121528, \"percentage\": 0.0011519978934895663}, {\"SEX\": \"M\", \"AGEGROUP\": \"30-39\", \"PROVINCE\": \"BrabantWallon\", \"CASES\": 35, \"MS_POPULATION\": 23581, \"percentage\": 0.0014842457911030066}, {\"SEX\": \"M\", \"AGEGROUP\": \"30-39\", \"PROVINCE\": \"Hainaut\", \"CASES\": 117, \"MS_POPULATION\": 83704, \"percentage\": 0.0013977826627162382}, {\"SEX\": \"M\", \"AGEGROUP\": \"30-39\", \"PROVINCE\": \"Limburg\", \"CASES\": 97, \"MS_POPULATION\": 55582, \"percentage\": 0.0017451692994134792}, {\"SEX\": \"M\", \"AGEGROUP\": \"30-39\", \"PROVINCE\": \"Li\\u00e8ge\", \"CASES\": 159, \"MS_POPULATION\": 70086, \"percentage\": 0.0022686413834431983}, {\"SEX\": \"M\", \"AGEGROUP\": \"30-39\", \"PROVINCE\": \"Luxembourg\", \"CASES\": 54, \"MS_POPULATION\": 18359, \"percentage\": 0.0029413366741107903}, {\"SEX\": \"M\", \"AGEGROUP\": \"30-39\", \"PROVINCE\": \"Namur\", \"CASES\": 48, \"MS_POPULATION\": 31373, \"percentage\": 0.0015299780065661556}, {\"SEX\": \"M\", \"AGEGROUP\": \"30-39\", \"PROVINCE\": \"OostVlaanderen\", \"CASES\": 144, \"MS_POPULATION\": 98604, \"percentage\": 0.0014603870025556773}, {\"SEX\": \"M\", \"AGEGROUP\": \"30-39\", \"PROVINCE\": \"VlaamsBrabant\", \"CASES\": 107, \"MS_POPULATION\": 70303, \"percentage\": 0.0015219834146480236}, {\"SEX\": \"M\", \"AGEGROUP\": \"30-39\", \"PROVINCE\": \"WestVlaanderen\", \"CASES\": 107, \"MS_POPULATION\": 71014, \"percentage\": 0.00150674514884389}, {\"SEX\": \"M\", \"AGEGROUP\": \"40-49\", \"PROVINCE\": \"Antwerpen\", \"CASES\": 206, \"MS_POPULATION\": 121067, \"percentage\": 0.0017015371653712407}, {\"SEX\": \"M\", \"AGEGROUP\": \"40-49\", \"PROVINCE\": \"BrabantWallon\", \"CASES\": 52, \"MS_POPULATION\": 26621, \"percentage\": 0.0019533451034897263}, {\"SEX\": \"M\", \"AGEGROUP\": \"40-49\", \"PROVINCE\": \"Hainaut\", \"CASES\": 196, \"MS_POPULATION\": 91355, \"percentage\": 0.0021454764380712606}, {\"SEX\": \"M\", \"AGEGROUP\": \"40-49\", \"PROVINCE\": \"Limburg\", \"CASES\": 193, \"MS_POPULATION\": 58026, \"percentage\": 0.003326095198704029}, {\"SEX\": \"M\", \"AGEGROUP\": \"40-49\", \"PROVINCE\": \"Li\\u00e8ge\", \"CASES\": 235, \"MS_POPULATION\": 72725, \"percentage\": 0.003231350979718116}, {\"SEX\": \"M\", \"AGEGROUP\": \"40-49\", \"PROVINCE\": \"Luxembourg\", \"CASES\": 66, \"MS_POPULATION\": 19512, \"percentage\": 0.0033825338253382535}, {\"SEX\": \"M\", \"AGEGROUP\": \"40-49\", \"PROVINCE\": \"Namur\", \"CASES\": 67, \"MS_POPULATION\": 32462, \"percentage\": 0.002063951697369232}, {\"SEX\": \"M\", \"AGEGROUP\": \"40-49\", \"PROVINCE\": \"OostVlaanderen\", \"CASES\": 216, \"MS_POPULATION\": 102816, \"percentage\": 0.0021008403361344537}, {\"SEX\": \"M\", \"AGEGROUP\": \"40-49\", \"PROVINCE\": \"VlaamsBrabant\", \"CASES\": 158, \"MS_POPULATION\": 76199, \"percentage\": 0.002073518025170934}, {\"SEX\": \"M\", \"AGEGROUP\": \"40-49\", \"PROVINCE\": \"WestVlaanderen\", \"CASES\": 150, \"MS_POPULATION\": 76238, \"percentage\": 0.0019675227576798973}, {\"SEX\": \"M\", \"AGEGROUP\": \"50-59\", \"PROVINCE\": \"Antwerpen\", \"CASES\": 350, \"MS_POPULATION\": 132717, \"percentage\": 0.0026371904126826252}, {\"SEX\": \"M\", \"AGEGROUP\": \"50-59\", \"PROVINCE\": \"BrabantWallon\", \"CASES\": 69, \"MS_POPULATION\": 27611, \"percentage\": 0.002499004020136902}, {\"SEX\": \"M\", \"AGEGROUP\": \"50-59\", \"PROVINCE\": \"Hainaut\", \"CASES\": 243, \"MS_POPULATION\": 91404, \"percentage\": 0.00265852697912564}, {\"SEX\": \"M\", \"AGEGROUP\": \"50-59\", \"PROVINCE\": \"Limburg\", \"CASES\": 297, \"MS_POPULATION\": 68198, \"percentage\": 0.004354966421302678}, {\"SEX\": \"M\", \"AGEGROUP\": \"50-59\", \"PROVINCE\": \"Li\\u00e8ge\", \"CASES\": 289, \"MS_POPULATION\": 75997, \"percentage\": 0.0038027816887508717}, {\"SEX\": \"M\", \"AGEGROUP\": \"50-59\", \"PROVINCE\": \"Luxembourg\", \"CASES\": 65, \"MS_POPULATION\": 19737, \"percentage\": 0.0032933069868774385}, {\"SEX\": \"M\", \"AGEGROUP\": \"50-59\", \"PROVINCE\": \"Namur\", \"CASES\": 83, \"MS_POPULATION\": 34203, \"percentage\": 0.0024266877174516856}, {\"SEX\": \"M\", \"AGEGROUP\": \"50-59\", \"PROVINCE\": \"OostVlaanderen\", \"CASES\": 323, \"MS_POPULATION\": 108042, \"percentage\": 0.0029895781270246756}, {\"SEX\": \"M\", \"AGEGROUP\": \"50-59\", \"PROVINCE\": \"VlaamsBrabant\", \"CASES\": 262, \"MS_POPULATION\": 81771, \"percentage\": 0.0032040699025326826}, {\"SEX\": \"M\", \"AGEGROUP\": \"50-59\", \"PROVINCE\": \"WestVlaanderen\", \"CASES\": 308, \"MS_POPULATION\": 88775, \"percentage\": 0.003469445226696705}, {\"SEX\": \"M\", \"AGEGROUP\": \"60-69\", \"PROVINCE\": \"Antwerpen\", \"CASES\": 370, \"MS_POPULATION\": 104236, \"percentage\": 0.0035496373613722707}, {\"SEX\": \"M\", \"AGEGROUP\": \"60-69\", \"PROVINCE\": \"BrabantWallon\", \"CASES\": 52, \"MS_POPULATION\": 21864, \"percentage\": 0.0023783388218075376}, {\"SEX\": \"M\", \"AGEGROUP\": \"60-69\", \"PROVINCE\": \"Hainaut\", \"CASES\": 280, \"MS_POPULATION\": 75054, \"percentage\": 0.003730647267300877}, {\"SEX\": \"M\", \"AGEGROUP\": \"60-69\", \"PROVINCE\": \"Limburg\", \"CASES\": 274, \"MS_POPULATION\": 55339, \"percentage\": 0.004951300168055079}, {\"SEX\": \"M\", \"AGEGROUP\": \"60-69\", \"PROVINCE\": \"Li\\u00e8ge\", \"CASES\": 313, \"MS_POPULATION\": 62795, \"percentage\": 0.004984473286089657}, {\"SEX\": \"M\", \"AGEGROUP\": \"60-69\", \"PROVINCE\": \"Luxembourg\", \"CASES\": 64, \"MS_POPULATION\": 15101, \"percentage\": 0.0042381299251705185}, {\"SEX\": \"M\", \"AGEGROUP\": \"60-69\", \"PROVINCE\": \"Namur\", \"CASES\": 85, \"MS_POPULATION\": 28668, \"percentage\": 0.0029649783730989255}, {\"SEX\": \"M\", \"AGEGROUP\": \"60-69\", \"PROVINCE\": \"OostVlaanderen\", \"CASES\": 251, \"MS_POPULATION\": 84501, \"percentage\": 0.0029703790487686536}, {\"SEX\": \"M\", \"AGEGROUP\": \"60-69\", \"PROVINCE\": \"VlaamsBrabant\", \"CASES\": 241, \"MS_POPULATION\": 63019, \"percentage\": 0.0038242434821244386}, {\"SEX\": \"M\", \"AGEGROUP\": \"60-69\", \"PROVINCE\": \"WestVlaanderen\", \"CASES\": 236, \"MS_POPULATION\": 75047, \"percentage\": 0.003144695990512612}, {\"SEX\": \"M\", \"AGEGROUP\": \"70-79\", \"PROVINCE\": \"Antwerpen\", \"CASES\": 371, \"MS_POPULATION\": 67535, \"percentage\": 0.005493447841859777}, {\"SEX\": \"M\", \"AGEGROUP\": \"70-79\", \"PROVINCE\": \"BrabantWallon\", \"CASES\": 52, \"MS_POPULATION\": 13892, \"percentage\": 0.003743161531816873}, {\"SEX\": \"M\", \"AGEGROUP\": \"70-79\", \"PROVINCE\": \"Hainaut\", \"CASES\": 288, \"MS_POPULATION\": 41795, \"percentage\": 0.006890776408661323}, {\"SEX\": \"M\", \"AGEGROUP\": \"70-79\", \"PROVINCE\": \"Limburg\", \"CASES\": 353, \"MS_POPULATION\": 33651, \"percentage\": 0.010490030013966896}, {\"SEX\": \"M\", \"AGEGROUP\": \"70-79\", \"PROVINCE\": \"Li\\u00e8ge\", \"CASES\": 288, \"MS_POPULATION\": 35865, \"percentage\": 0.008030112923462986}, {\"SEX\": \"M\", \"AGEGROUP\": \"70-79\", \"PROVINCE\": \"Luxembourg\", \"CASES\": 69, \"MS_POPULATION\": 8340, \"percentage\": 0.008273381294964029}, {\"SEX\": \"M\", \"AGEGROUP\": \"70-79\", \"PROVINCE\": \"Namur\", \"CASES\": 64, \"MS_POPULATION\": 15628, \"percentage\": 0.004095213718965958}, {\"SEX\": \"M\", \"AGEGROUP\": \"70-79\", \"PROVINCE\": \"OostVlaanderen\", \"CASES\": 257, \"MS_POPULATION\": 55194, \"percentage\": 0.004656303221364641}, {\"SEX\": \"M\", \"AGEGROUP\": \"70-79\", \"PROVINCE\": \"VlaamsBrabant\", \"CASES\": 225, \"MS_POPULATION\": 40155, \"percentage\": 0.0056032872618602915}, {\"SEX\": \"M\", \"AGEGROUP\": \"70-79\", \"PROVINCE\": \"WestVlaanderen\", \"CASES\": 269, \"MS_POPULATION\": 52423, \"percentage\": 0.005131335482517215}, {\"SEX\": \"M\", \"AGEGROUP\": \"80-89\", \"PROVINCE\": \"Antwerpen\", \"CASES\": 410, \"MS_POPULATION\": 32894, \"percentage\": 0.012464279199854076}, {\"SEX\": \"M\", \"AGEGROUP\": \"80-89\", \"PROVINCE\": \"BrabantWallon\", \"CASES\": 57, \"MS_POPULATION\": 6132, \"percentage\": 0.009295499021526418}, {\"SEX\": \"M\", \"AGEGROUP\": \"80-89\", \"PROVINCE\": \"Hainaut\", \"CASES\": 246, \"MS_POPULATION\": 17698, \"percentage\": 0.013899875692168606}, {\"SEX\": \"M\", \"AGEGROUP\": \"80-89\", \"PROVINCE\": \"Limburg\", \"CASES\": 377, \"MS_POPULATION\": 15492, \"percentage\": 0.024335140717789826}, {\"SEX\": \"M\", \"AGEGROUP\": \"80-89\", \"PROVINCE\": \"Li\\u00e8ge\", \"CASES\": 313, \"MS_POPULATION\": 16297, \"percentage\": 0.019205988832300423}, {\"SEX\": \"M\", \"AGEGROUP\": \"80-89\", \"PROVINCE\": \"Luxembourg\", \"CASES\": 79, \"MS_POPULATION\": 4041, \"percentage\": 0.019549616431576343}, {\"SEX\": \"M\", \"AGEGROUP\": \"80-89\", \"PROVINCE\": \"Namur\", \"CASES\": 109, \"MS_POPULATION\": 6855, \"percentage\": 0.015900802334062727}, {\"SEX\": \"M\", \"AGEGROUP\": \"80-89\", \"PROVINCE\": \"OostVlaanderen\", \"CASES\": 375, \"MS_POPULATION\": 26794, \"percentage\": 0.013995670672538627}, {\"SEX\": \"M\", \"AGEGROUP\": \"80-89\", \"PROVINCE\": \"VlaamsBrabant\", \"CASES\": 310, \"MS_POPULATION\": 20216, \"percentage\": 0.015334388603086665}, {\"SEX\": \"M\", \"AGEGROUP\": \"80-89\", \"PROVINCE\": \"WestVlaanderen\", \"CASES\": 357, \"MS_POPULATION\": 25926, \"percentage\": 0.013769960657255265}, {\"SEX\": \"M\", \"AGEGROUP\": \"90+\", \"PROVINCE\": \"Antwerpen\", \"CASES\": 142, \"MS_POPULATION\": 3882, \"percentage\": 0.03657908294693457}, {\"SEX\": \"M\", \"AGEGROUP\": \"90+\", \"PROVINCE\": \"BrabantWallon\", \"CASES\": 26, \"MS_POPULATION\": 809, \"percentage\": 0.032138442521631644}, {\"SEX\": \"M\", \"AGEGROUP\": \"90+\", \"PROVINCE\": \"Hainaut\", \"CASES\": 92, \"MS_POPULATION\": 2277, \"percentage\": 0.04040404040404041}, {\"SEX\": \"M\", \"AGEGROUP\": \"90+\", \"PROVINCE\": \"Limburg\", \"CASES\": 148, \"MS_POPULATION\": 1526, \"percentage\": 0.09698558322411534}, {\"SEX\": \"M\", \"AGEGROUP\": \"90+\", \"PROVINCE\": \"Li\\u00e8ge\", \"CASES\": 92, \"MS_POPULATION\": 1934, \"percentage\": 0.047569803516028956}, {\"SEX\": \"M\", \"AGEGROUP\": \"90+\", \"PROVINCE\": \"Luxembourg\", \"CASES\": 17, \"MS_POPULATION\": 469, \"percentage\": 0.03624733475479744}, {\"SEX\": \"M\", \"AGEGROUP\": \"90+\", \"PROVINCE\": \"Namur\", \"CASES\": 27, \"MS_POPULATION\": 827, \"percentage\": 0.032648125755743655}, {\"SEX\": \"M\", \"AGEGROUP\": \"90+\", \"PROVINCE\": \"OostVlaanderen\", \"CASES\": 102, \"MS_POPULATION\": 3105, \"percentage\": 0.03285024154589372}, {\"SEX\": \"M\", \"AGEGROUP\": \"90+\", \"PROVINCE\": \"VlaamsBrabant\", \"CASES\": 129, \"MS_POPULATION\": 2611, \"percentage\": 0.04940635771734968}, {\"SEX\": \"M\", \"AGEGROUP\": \"90+\", \"PROVINCE\": \"WestVlaanderen\", \"CASES\": 121, \"MS_POPULATION\": 3292, \"percentage\": 0.03675577156743621}]}}, {\"mode\": \"vega-lite\"});\n",
              "</script>"
            ]
          },
          "metadata": {
            "tags": []
          },
          "execution_count": 22
        }
      ]
    },
    {
      "cell_type": "markdown",
      "metadata": {
        "id": "5AE75N3-lQg1",
        "colab_type": "text"
      },
      "source": [
        "The graph's get to wide. Let's use faceting to make two rows.\n",
        "\n",
        "Inspired and based on https://altair-viz.github.io/gallery/us_population_pyramid_over_time.html"
      ]
    },
    {
      "cell_type": "code",
      "metadata": {
        "id": "do0wrrTqlP4C",
        "colab_type": "code",
        "outputId": "f797e1a9-b3a6-42b9-8875-addbf440a48c",
        "colab": {
          "base_uri": "https://localhost:8080/",
          "height": 282
        }
      },
      "source": [
        "#slider = alt.binding_range(min=1850, max=2000, step=10)\n",
        "# select_province = alt.selection_single(name='PROVINCE', fields=['PROVINCE'],\n",
        "#                                    bind=slider, init={'PROVINCE': 'Antwerpen'})\n",
        "color_scale = alt.Scale(domain=['Male', 'Female'],\n",
        "                        range=['#1f77b4', '#e377c2'])\n",
        "\n",
        "select_province = alt.selection_multi(fields=['PROVINCE'], bind='legend')\n",
        "\n",
        "base = alt.Chart(df_plot).add_selection(\n",
        "    select_province\n",
        ").transform_filter(\n",
        "    select_province\n",
        ").transform_calculate(\n",
        "    gender=alt.expr.if_(alt.datum.SEX == 'M', 'Male', 'Female')\n",
        ").properties(\n",
        "    width=250\n",
        ")\n",
        "\n",
        "left = base.transform_filter(\n",
        "    alt.datum.gender == 'Female'\n",
        ").encode(\n",
        "    y=alt.Y('AGEGROUP:O', axis=None),\n",
        "    x=alt.X('percentage:Q', axis=alt.Axis(format='.0%'),\n",
        "            title='Percentage',\n",
        "            sort=alt.SortOrder('descending'),\n",
        "            ),\n",
        "    color=alt.Color('gender:N', scale=color_scale, legend=None),\n",
        ").mark_bar().properties(title='Female')\n",
        "\n",
        "middle = base.encode(\n",
        "    y=alt.Y('AGEGROUP:O', axis=None),\n",
        "    text=alt.Text('AGEGROUP:O'),\n",
        ").mark_text().properties(width=20)\n",
        "\n",
        "right = base.transform_filter(\n",
        "    alt.datum.gender == 'Male'\n",
        ").encode(\n",
        "    y=alt.Y('AGEGROUP:O', axis=None),\n",
        "    x=alt.X('percentage:Q', title='Percentage', axis=alt.Axis(format='.0%'),),\n",
        "    color=alt.Color('gender:N', scale=color_scale, legend=None)\n",
        ").mark_bar().properties(title='Male')\n",
        "\n",
        "# legend = alt.Chart(df_plot).mark_text().encode(\n",
        "#     y=alt.Y('PROVINCE:N', axis=None),\n",
        "#     text=alt.Text('PROVINCE:N'),\n",
        "#     color=alt.Color('PROVINCE:N', legend=alt.Legend(title=\"Provincie\"))\n",
        "# )\n",
        "\n",
        "alt.concat(left, middle, right, spacing=5)\n",
        "\n",
        "#legend=alt.Legend(title=\"Species by color\")"
      ],
      "execution_count": 0,
      "outputs": [
        {
          "output_type": "execute_result",
          "data": {
            "text/plain": [
              "alt.ConcatChart(...)"
            ],
            "text/html": [
              "\n",
              "<div id=\"altair-viz-9448ccb88b834869a56dfe88c2457a96\"></div>\n",
              "<script type=\"text/javascript\">\n",
              "  (function(spec, embedOpt){\n",
              "    let outputDiv = document.currentScript.previousElementSibling;\n",
              "    if (outputDiv.id !== \"altair-viz-9448ccb88b834869a56dfe88c2457a96\") {\n",
              "      outputDiv = document.getElementById(\"altair-viz-9448ccb88b834869a56dfe88c2457a96\");\n",
              "    }\n",
              "    const paths = {\n",
              "      \"vega\": \"https://cdn.jsdelivr.net/npm//vega@5?noext\",\n",
              "      \"vega-lib\": \"https://cdn.jsdelivr.net/npm//vega-lib?noext\",\n",
              "      \"vega-lite\": \"https://cdn.jsdelivr.net/npm//vega-lite@4.8.1?noext\",\n",
              "      \"vega-embed\": \"https://cdn.jsdelivr.net/npm//vega-embed@6?noext\",\n",
              "    };\n",
              "\n",
              "    function loadScript(lib) {\n",
              "      return new Promise(function(resolve, reject) {\n",
              "        var s = document.createElement('script');\n",
              "        s.src = paths[lib];\n",
              "        s.async = true;\n",
              "        s.onload = () => resolve(paths[lib]);\n",
              "        s.onerror = () => reject(`Error loading script: ${paths[lib]}`);\n",
              "        document.getElementsByTagName(\"head\")[0].appendChild(s);\n",
              "      });\n",
              "    }\n",
              "\n",
              "    function showError(err) {\n",
              "      outputDiv.innerHTML = `<div class=\"error\" style=\"color:red;\">${err}</div>`;\n",
              "      throw err;\n",
              "    }\n",
              "\n",
              "    function displayChart(vegaEmbed) {\n",
              "      vegaEmbed(outputDiv, spec, embedOpt)\n",
              "        .catch(err => showError(`Javascript Error: ${err.message}<br>This usually means there's a typo in your chart specification. See the javascript console for the full traceback.`));\n",
              "    }\n",
              "\n",
              "    if(typeof define === \"function\" && define.amd) {\n",
              "      requirejs.config({paths});\n",
              "      require([\"vega-embed\"], displayChart, err => showError(`Error loading script: ${err.message}`));\n",
              "    } else if (typeof vegaEmbed === \"function\") {\n",
              "      displayChart(vegaEmbed);\n",
              "    } else {\n",
              "      loadScript(\"vega\")\n",
              "        .then(() => loadScript(\"vega-lite\"))\n",
              "        .then(() => loadScript(\"vega-embed\"))\n",
              "        .catch(showError)\n",
              "        .then(() => displayChart(vegaEmbed));\n",
              "    }\n",
              "  })({\"config\": {\"view\": {\"continuousWidth\": 400, \"continuousHeight\": 300}}, \"concat\": [{\"mark\": \"bar\", \"encoding\": {\"color\": {\"type\": \"nominal\", \"field\": \"gender\", \"legend\": null, \"scale\": {\"domain\": [\"Male\", \"Female\"], \"range\": [\"#1f77b4\", \"#e377c2\"]}}, \"x\": {\"type\": \"quantitative\", \"axis\": {\"format\": \".0%\"}, \"field\": \"percentage\", \"sort\": \"descending\", \"title\": \"Percentage\"}, \"y\": {\"type\": \"ordinal\", \"axis\": null, \"field\": \"AGEGROUP\"}}, \"selection\": {\"selector001\": {\"type\": \"multi\", \"fields\": [\"PROVINCE\"], \"bind\": \"legend\"}}, \"title\": \"Female\", \"transform\": [{\"filter\": {\"selection\": \"selector001\"}}, {\"calculate\": \"if((datum.SEX === 'M'),'Male','Female')\", \"as\": \"gender\"}, {\"filter\": \"(datum.gender === 'Female')\"}], \"width\": 250}, {\"mark\": \"text\", \"encoding\": {\"text\": {\"type\": \"ordinal\", \"field\": \"AGEGROUP\"}, \"y\": {\"type\": \"ordinal\", \"axis\": null, \"field\": \"AGEGROUP\"}}, \"selection\": {\"selector001\": {\"type\": \"multi\", \"fields\": [\"PROVINCE\"], \"bind\": \"legend\"}}, \"transform\": [{\"filter\": {\"selection\": \"selector001\"}}, {\"calculate\": \"if((datum.SEX === 'M'),'Male','Female')\", \"as\": \"gender\"}], \"width\": 20}, {\"mark\": \"bar\", \"encoding\": {\"color\": {\"type\": \"nominal\", \"field\": \"gender\", \"legend\": null, \"scale\": {\"domain\": [\"Male\", \"Female\"], \"range\": [\"#1f77b4\", \"#e377c2\"]}}, \"x\": {\"type\": \"quantitative\", \"axis\": {\"format\": \".0%\"}, \"field\": \"percentage\", \"title\": \"Percentage\"}, \"y\": {\"type\": \"ordinal\", \"axis\": null, \"field\": \"AGEGROUP\"}}, \"selection\": {\"selector001\": {\"type\": \"multi\", \"fields\": [\"PROVINCE\"], \"bind\": \"legend\"}}, \"title\": \"Male\", \"transform\": [{\"filter\": {\"selection\": \"selector001\"}}, {\"calculate\": \"if((datum.SEX === 'M'),'Male','Female')\", \"as\": \"gender\"}, {\"filter\": \"(datum.gender === 'Male')\"}], \"width\": 250}], \"data\": {\"name\": \"data-8c4256b2c33a1fca2a5d94ca31a38873\"}, \"spacing\": 5, \"$schema\": \"https://vega.github.io/schema/vega-lite/v4.8.1.json\", \"datasets\": {\"data-8c4256b2c33a1fca2a5d94ca31a38873\": [{\"SEX\": \"F\", \"AGEGROUP\": \"0-9\", \"PROVINCE\": \"Antwerpen\", \"CASES\": 9, \"MS_POPULATION\": 113851, \"percentage\": 7.90506890585063e-05}, {\"SEX\": \"F\", \"AGEGROUP\": \"0-9\", \"PROVINCE\": \"BrabantWallon\", \"CASES\": 3, \"MS_POPULATION\": 23744, \"percentage\": 0.0001263477088948787}, {\"SEX\": \"F\", \"AGEGROUP\": \"0-9\", \"PROVINCE\": \"Hainaut\", \"CASES\": 11, \"MS_POPULATION\": 81075, \"percentage\": 0.0001356768424298489}, {\"SEX\": \"F\", \"AGEGROUP\": \"0-9\", \"PROVINCE\": \"Limburg\", \"CASES\": 11, \"MS_POPULATION\": 48102, \"percentage\": 0.00022868072013637687}, {\"SEX\": \"F\", \"AGEGROUP\": \"0-9\", \"PROVINCE\": \"Li\\u00e8ge\", \"CASES\": 19, \"MS_POPULATION\": 67479, \"percentage\": 0.0002815690807510485}, {\"SEX\": \"F\", \"AGEGROUP\": \"0-9\", \"PROVINCE\": \"Luxembourg\", \"CASES\": 3, \"MS_POPULATION\": 17834, \"percentage\": 0.000168218010541662}, {\"SEX\": \"F\", \"AGEGROUP\": \"0-9\", \"PROVINCE\": \"Namur\", \"CASES\": 4, \"MS_POPULATION\": 29270, \"percentage\": 0.0001366586949094636}, {\"SEX\": \"F\", \"AGEGROUP\": \"0-9\", \"PROVINCE\": \"OostVlaanderen\", \"CASES\": 7, \"MS_POPULATION\": 88120, \"percentage\": 7.943713118474807e-05}, {\"SEX\": \"F\", \"AGEGROUP\": \"0-9\", \"PROVINCE\": \"VlaamsBrabant\", \"CASES\": 9, \"MS_POPULATION\": 69061, \"percentage\": 0.00013031957255180203}, {\"SEX\": \"F\", \"AGEGROUP\": \"0-9\", \"PROVINCE\": \"WestVlaanderen\", \"CASES\": 7, \"MS_POPULATION\": 63579, \"percentage\": 0.00011009924660658394}, {\"SEX\": \"F\", \"AGEGROUP\": \"10-19\", \"PROVINCE\": \"Antwerpen\", \"CASES\": 26, \"MS_POPULATION\": 97741, \"percentage\": 0.0002660091466221954}, {\"SEX\": \"F\", \"AGEGROUP\": \"10-19\", \"PROVINCE\": \"BrabantWallon\", \"CASES\": 5, \"MS_POPULATION\": 24368, \"percentage\": 0.00020518713066316482}, {\"SEX\": \"F\", \"AGEGROUP\": \"10-19\", \"PROVINCE\": \"Hainaut\", \"CASES\": 18, \"MS_POPULATION\": 78804, \"percentage\": 0.00022841480127912289}, {\"SEX\": \"F\", \"AGEGROUP\": \"10-19\", \"PROVINCE\": \"Limburg\", \"CASES\": 21, \"MS_POPULATION\": 43943, \"percentage\": 0.000477891814395922}, {\"SEX\": \"F\", \"AGEGROUP\": \"10-19\", \"PROVINCE\": \"Li\\u00e8ge\", \"CASES\": 22, \"MS_POPULATION\": 62761, \"percentage\": 0.0003505361609916987}, {\"SEX\": \"F\", \"AGEGROUP\": \"10-19\", \"PROVINCE\": \"Luxembourg\", \"CASES\": 10, \"MS_POPULATION\": 17617, \"percentage\": 0.0005676335357892944}, {\"SEX\": \"F\", \"AGEGROUP\": \"10-19\", \"PROVINCE\": \"Namur\", \"CASES\": 5, \"MS_POPULATION\": 28987, \"percentage\": 0.00017249111670748955}, {\"SEX\": \"F\", \"AGEGROUP\": \"10-19\", \"PROVINCE\": \"OostVlaanderen\", \"CASES\": 38, \"MS_POPULATION\": 79353, \"percentage\": 0.00047887288445301374}, {\"SEX\": \"F\", \"AGEGROUP\": \"10-19\", \"PROVINCE\": \"VlaamsBrabant\", \"CASES\": 22, \"MS_POPULATION\": 64641, \"percentage\": 0.00034034126947293515}, {\"SEX\": \"F\", \"AGEGROUP\": \"10-19\", \"PROVINCE\": \"WestVlaanderen\", \"CASES\": 25, \"MS_POPULATION\": 59104, \"percentage\": 0.0004229832160259881}, {\"SEX\": \"F\", \"AGEGROUP\": \"20-29\", \"PROVINCE\": \"Antwerpen\", \"CASES\": 299, \"MS_POPULATION\": 114364, \"percentage\": 0.0026144590955195692}, {\"SEX\": \"F\", \"AGEGROUP\": \"20-29\", \"PROVINCE\": \"BrabantWallon\", \"CASES\": 58, \"MS_POPULATION\": 23892, \"percentage\": 0.0024275908253808807}, {\"SEX\": \"F\", \"AGEGROUP\": \"20-29\", \"PROVINCE\": \"Hainaut\", \"CASES\": 257, \"MS_POPULATION\": 80946, \"percentage\": 0.0031749561436019073}, {\"SEX\": \"F\", \"AGEGROUP\": \"20-29\", \"PROVINCE\": \"Limburg\", \"CASES\": 294, \"MS_POPULATION\": 49202, \"percentage\": 0.005975366855005894}, {\"SEX\": \"F\", \"AGEGROUP\": \"20-29\", \"PROVINCE\": \"Li\\u00e8ge\", \"CASES\": 339, \"MS_POPULATION\": 70284, \"percentage\": 0.004823288372887143}, {\"SEX\": \"F\", \"AGEGROUP\": \"20-29\", \"PROVINCE\": \"Luxembourg\", \"CASES\": 75, \"MS_POPULATION\": 17671, \"percentage\": 0.004244241978382661}, {\"SEX\": \"F\", \"AGEGROUP\": \"20-29\", \"PROVINCE\": \"Namur\", \"CASES\": 106, \"MS_POPULATION\": 30639, \"percentage\": 0.0034596429387382093}, {\"SEX\": \"F\", \"AGEGROUP\": \"20-29\", \"PROVINCE\": \"OostVlaanderen\", \"CASES\": 318, \"MS_POPULATION\": 92829, \"percentage\": 0.0034256536211744173}, {\"SEX\": \"F\", \"AGEGROUP\": \"20-29\", \"PROVINCE\": \"VlaamsBrabant\", \"CASES\": 230, \"MS_POPULATION\": 67228, \"percentage\": 0.00342119355030642}, {\"SEX\": \"F\", \"AGEGROUP\": \"20-29\", \"PROVINCE\": \"WestVlaanderen\", \"CASES\": 311, \"MS_POPULATION\": 67252, \"percentage\": 0.004624397787426396}, {\"SEX\": \"F\", \"AGEGROUP\": \"30-39\", \"PROVINCE\": \"Antwerpen\", \"CASES\": 342, \"MS_POPULATION\": 120901, \"percentage\": 0.002828760721582121}, {\"SEX\": \"F\", \"AGEGROUP\": \"30-39\", \"PROVINCE\": \"BrabantWallon\", \"CASES\": 78, \"MS_POPULATION\": 24455, \"percentage\": 0.003189531793089348}, {\"SEX\": \"F\", \"AGEGROUP\": \"30-39\", \"PROVINCE\": \"Hainaut\", \"CASES\": 401, \"MS_POPULATION\": 83728, \"percentage\": 0.004789317790942098}, {\"SEX\": \"F\", \"AGEGROUP\": \"30-39\", \"PROVINCE\": \"Limburg\", \"CASES\": 322, \"MS_POPULATION\": 55322, \"percentage\": 0.005820469252738512}, {\"SEX\": \"F\", \"AGEGROUP\": \"30-39\", \"PROVINCE\": \"Li\\u00e8ge\", \"CASES\": 465, \"MS_POPULATION\": 70295, \"percentage\": 0.006614979728287929}, {\"SEX\": \"F\", \"AGEGROUP\": \"30-39\", \"PROVINCE\": \"Luxembourg\", \"CASES\": 95, \"MS_POPULATION\": 17849, \"percentage\": 0.0053224270267241865}, {\"SEX\": \"F\", \"AGEGROUP\": \"30-39\", \"PROVINCE\": \"Namur\", \"CASES\": 116, \"MS_POPULATION\": 31144, \"percentage\": 0.0037246339583868484}, {\"SEX\": \"F\", \"AGEGROUP\": \"30-39\", \"PROVINCE\": \"OostVlaanderen\", \"CASES\": 324, \"MS_POPULATION\": 97907, \"percentage\": 0.0033092628719090566}, {\"SEX\": \"F\", \"AGEGROUP\": \"30-39\", \"PROVINCE\": \"VlaamsBrabant\", \"CASES\": 246, \"MS_POPULATION\": 72520, \"percentage\": 0.0033921676778819634}, {\"SEX\": \"F\", \"AGEGROUP\": \"30-39\", \"PROVINCE\": \"WestVlaanderen\", \"CASES\": 316, \"MS_POPULATION\": 68094, \"percentage\": 0.0046406438159015476}, {\"SEX\": \"F\", \"AGEGROUP\": \"40-49\", \"PROVINCE\": \"Antwerpen\", \"CASES\": 348, \"MS_POPULATION\": 117869, \"percentage\": 0.0029524302403515766}, {\"SEX\": \"F\", \"AGEGROUP\": \"40-49\", \"PROVINCE\": \"BrabantWallon\", \"CASES\": 103, \"MS_POPULATION\": 28346, \"percentage\": 0.003633669653566641}, {\"SEX\": \"F\", \"AGEGROUP\": \"40-49\", \"PROVINCE\": \"Hainaut\", \"CASES\": 457, \"MS_POPULATION\": 90877, \"percentage\": 0.005028775157630644}, {\"SEX\": \"F\", \"AGEGROUP\": \"40-49\", \"PROVINCE\": \"Limburg\", \"CASES\": 372, \"MS_POPULATION\": 57203, \"percentage\": 0.006503155428911071}, {\"SEX\": \"F\", \"AGEGROUP\": \"40-49\", \"PROVINCE\": \"Li\\u00e8ge\", \"CASES\": 453, \"MS_POPULATION\": 71565, \"percentage\": 0.006329909872144205}, {\"SEX\": \"F\", \"AGEGROUP\": \"40-49\", \"PROVINCE\": \"Luxembourg\", \"CASES\": 93, \"MS_POPULATION\": 18961, \"percentage\": 0.00490480459891356}, {\"SEX\": \"F\", \"AGEGROUP\": \"40-49\", \"PROVINCE\": \"Namur\", \"CASES\": 152, \"MS_POPULATION\": 32384, \"percentage\": 0.004693675889328063}, {\"SEX\": \"F\", \"AGEGROUP\": \"40-49\", \"PROVINCE\": \"OostVlaanderen\", \"CASES\": 450, \"MS_POPULATION\": 99714, \"percentage\": 0.004512906913773392}, {\"SEX\": \"F\", \"AGEGROUP\": \"40-49\", \"PROVINCE\": \"VlaamsBrabant\", \"CASES\": 362, \"MS_POPULATION\": 77657, \"percentage\": 0.004661524395740242}, {\"SEX\": \"F\", \"AGEGROUP\": \"40-49\", \"PROVINCE\": \"WestVlaanderen\", \"CASES\": 385, \"MS_POPULATION\": 73584, \"percentage\": 0.0052321156773211565}, {\"SEX\": \"F\", \"AGEGROUP\": \"50-59\", \"PROVINCE\": \"Antwerpen\", \"CASES\": 419, \"MS_POPULATION\": 129704, \"percentage\": 0.0032304323690865353}, {\"SEX\": \"F\", \"AGEGROUP\": \"50-59\", \"PROVINCE\": \"BrabantWallon\", \"CASES\": 93, \"MS_POPULATION\": 29056, \"percentage\": 0.003200715859030837}, {\"SEX\": \"F\", \"AGEGROUP\": \"50-59\", \"PROVINCE\": \"Hainaut\", \"CASES\": 413, \"MS_POPULATION\": 93332, \"percentage\": 0.004425063215188789}, {\"SEX\": \"F\", \"AGEGROUP\": \"50-59\", \"PROVINCE\": \"Limburg\", \"CASES\": 472, \"MS_POPULATION\": 66159, \"percentage\": 0.0071343279070118955}, {\"SEX\": \"F\", \"AGEGROUP\": \"50-59\", \"PROVINCE\": \"Li\\u00e8ge\", \"CASES\": 440, \"MS_POPULATION\": 76876, \"percentage\": 0.005723502783703626}, {\"SEX\": \"F\", \"AGEGROUP\": \"50-59\", \"PROVINCE\": \"Luxembourg\", \"CASES\": 84, \"MS_POPULATION\": 19137, \"percentage\": 0.004389402727700266}, {\"SEX\": \"F\", \"AGEGROUP\": \"50-59\", \"PROVINCE\": \"Namur\", \"CASES\": 128, \"MS_POPULATION\": 34850, \"percentage\": 0.003672883787661406}, {\"SEX\": \"F\", \"AGEGROUP\": \"50-59\", \"PROVINCE\": \"OostVlaanderen\", \"CASES\": 474, \"MS_POPULATION\": 105453, \"percentage\": 0.004494893459645529}, {\"SEX\": \"F\", \"AGEGROUP\": \"50-59\", \"PROVINCE\": \"VlaamsBrabant\", \"CASES\": 387, \"MS_POPULATION\": 81649, \"percentage\": 0.004739800854878811}, {\"SEX\": \"F\", \"AGEGROUP\": \"50-59\", \"PROVINCE\": \"WestVlaanderen\", \"CASES\": 470, \"MS_POPULATION\": 85817, \"percentage\": 0.005476770336879639}, {\"SEX\": \"F\", \"AGEGROUP\": \"60-69\", \"PROVINCE\": \"Antwerpen\", \"CASES\": 227, \"MS_POPULATION\": 105349, \"percentage\": 0.002154742807240695}, {\"SEX\": \"F\", \"AGEGROUP\": \"60-69\", \"PROVINCE\": \"BrabantWallon\", \"CASES\": 54, \"MS_POPULATION\": 24653, \"percentage\": 0.0021904027907354074}, {\"SEX\": \"F\", \"AGEGROUP\": \"60-69\", \"PROVINCE\": \"Hainaut\", \"CASES\": 212, \"MS_POPULATION\": 84127, \"percentage\": 0.0025199995245283914}, {\"SEX\": \"F\", \"AGEGROUP\": \"60-69\", \"PROVINCE\": \"Limburg\", \"CASES\": 221, \"MS_POPULATION\": 55216, \"percentage\": 0.0040024630541871924}, {\"SEX\": \"F\", \"AGEGROUP\": \"60-69\", \"PROVINCE\": \"Li\\u00e8ge\", \"CASES\": 243, \"MS_POPULATION\": 66973, \"percentage\": 0.003628327833604587}, {\"SEX\": \"F\", \"AGEGROUP\": \"60-69\", \"PROVINCE\": \"Luxembourg\", \"CASES\": 49, \"MS_POPULATION\": 15653, \"percentage\": 0.0031303903405098064}, {\"SEX\": \"F\", \"AGEGROUP\": \"60-69\", \"PROVINCE\": \"Namur\", \"CASES\": 47, \"MS_POPULATION\": 30550, \"percentage\": 0.0015384615384615385}, {\"SEX\": \"F\", \"AGEGROUP\": \"60-69\", \"PROVINCE\": \"OostVlaanderen\", \"CASES\": 207, \"MS_POPULATION\": 86777, \"percentage\": 0.0023854247093123755}, {\"SEX\": \"F\", \"AGEGROUP\": \"60-69\", \"PROVINCE\": \"VlaamsBrabant\", \"CASES\": 177, \"MS_POPULATION\": 65934, \"percentage\": 0.0026845026845026846}, {\"SEX\": \"F\", \"AGEGROUP\": \"60-69\", \"PROVINCE\": \"WestVlaanderen\", \"CASES\": 190, \"MS_POPULATION\": 77019, \"percentage\": 0.0024669237460886273}, {\"SEX\": \"F\", \"AGEGROUP\": \"70-79\", \"PROVINCE\": \"Antwerpen\", \"CASES\": 303, \"MS_POPULATION\": 77129, \"percentage\": 0.003928483449804872}, {\"SEX\": \"F\", \"AGEGROUP\": \"70-79\", \"PROVINCE\": \"BrabantWallon\", \"CASES\": 46, \"MS_POPULATION\": 16999, \"percentage\": 0.002706041531854815}, {\"SEX\": \"F\", \"AGEGROUP\": \"70-79\", \"PROVINCE\": \"Hainaut\", \"CASES\": 273, \"MS_POPULATION\": 54498, \"percentage\": 0.005009358141583178}, {\"SEX\": \"F\", \"AGEGROUP\": \"70-79\", \"PROVINCE\": \"Limburg\", \"CASES\": 280, \"MS_POPULATION\": 36984, \"percentage\": 0.007570841444949167}, {\"SEX\": \"F\", \"AGEGROUP\": \"70-79\", \"PROVINCE\": \"Li\\u00e8ge\", \"CASES\": 298, \"MS_POPULATION\": 45051, \"percentage\": 0.0066147255332845}, {\"SEX\": \"F\", \"AGEGROUP\": \"70-79\", \"PROVINCE\": \"Luxembourg\", \"CASES\": 65, \"MS_POPULATION\": 9923, \"percentage\": 0.006550438375491283}, {\"SEX\": \"F\", \"AGEGROUP\": \"70-79\", \"PROVINCE\": \"Namur\", \"CASES\": 78, \"MS_POPULATION\": 19409, \"percentage\": 0.004018754186202277}, {\"SEX\": \"F\", \"AGEGROUP\": \"70-79\", \"PROVINCE\": \"OostVlaanderen\", \"CASES\": 278, \"MS_POPULATION\": 64518, \"percentage\": 0.004308875042623764}, {\"SEX\": \"F\", \"AGEGROUP\": \"70-79\", \"PROVINCE\": \"VlaamsBrabant\", \"CASES\": 205, \"MS_POPULATION\": 47305, \"percentage\": 0.004333579959835112}, {\"SEX\": \"F\", \"AGEGROUP\": \"70-79\", \"PROVINCE\": \"WestVlaanderen\", \"CASES\": 262, \"MS_POPULATION\": 60688, \"percentage\": 0.004317163195359874}, {\"SEX\": \"F\", \"AGEGROUP\": \"80-89\", \"PROVINCE\": \"Antwerpen\", \"CASES\": 627, \"MS_POPULATION\": 49568, \"percentage\": 0.012649289864428663}, {\"SEX\": \"F\", \"AGEGROUP\": \"80-89\", \"PROVINCE\": \"BrabantWallon\", \"CASES\": 100, \"MS_POPULATION\": 9920, \"percentage\": 0.010080645161290322}, {\"SEX\": \"F\", \"AGEGROUP\": \"80-89\", \"PROVINCE\": \"Hainaut\", \"CASES\": 572, \"MS_POPULATION\": 34639, \"percentage\": 0.01651317878691648}, {\"SEX\": \"F\", \"AGEGROUP\": \"80-89\", \"PROVINCE\": \"Limburg\", \"CASES\": 626, \"MS_POPULATION\": 22709, \"percentage\": 0.027566163195208947}, {\"SEX\": \"F\", \"AGEGROUP\": \"80-89\", \"PROVINCE\": \"Li\\u00e8ge\", \"CASES\": 659, \"MS_POPULATION\": 28095, \"percentage\": 0.023456130984160883}, {\"SEX\": \"F\", \"AGEGROUP\": \"80-89\", \"PROVINCE\": \"Luxembourg\", \"CASES\": 151, \"MS_POPULATION\": 6857, \"percentage\": 0.022021292110252298}, {\"SEX\": \"F\", \"AGEGROUP\": \"80-89\", \"PROVINCE\": \"Namur\", \"CASES\": 204, \"MS_POPULATION\": 12219, \"percentage\": 0.016695310581880677}, {\"SEX\": \"F\", \"AGEGROUP\": \"80-89\", \"PROVINCE\": \"OostVlaanderen\", \"CASES\": 687, \"MS_POPULATION\": 43514, \"percentage\": 0.015788022245714024}, {\"SEX\": \"F\", \"AGEGROUP\": \"80-89\", \"PROVINCE\": \"VlaamsBrabant\", \"CASES\": 550, \"MS_POPULATION\": 31804, \"percentage\": 0.017293422211042637}, {\"SEX\": \"F\", \"AGEGROUP\": \"80-89\", \"PROVINCE\": \"WestVlaanderen\", \"CASES\": 638, \"MS_POPULATION\": 39736, \"percentage\": 0.01605596939802698}, {\"SEX\": \"F\", \"AGEGROUP\": \"90+\", \"PROVINCE\": \"Antwerpen\", \"CASES\": 388, \"MS_POPULATION\": 9763, \"percentage\": 0.03974188261804773}, {\"SEX\": \"F\", \"AGEGROUP\": \"90+\", \"PROVINCE\": \"BrabantWallon\", \"CASES\": 66, \"MS_POPULATION\": 2250, \"percentage\": 0.029333333333333333}, {\"SEX\": \"F\", \"AGEGROUP\": \"90+\", \"PROVINCE\": \"Hainaut\", \"CASES\": 330, \"MS_POPULATION\": 8030, \"percentage\": 0.0410958904109589}, {\"SEX\": \"F\", \"AGEGROUP\": \"90+\", \"PROVINCE\": \"Limburg\", \"CASES\": 355, \"MS_POPULATION\": 3938, \"percentage\": 0.09014728288471305}, {\"SEX\": \"F\", \"AGEGROUP\": \"90+\", \"PROVINCE\": \"Li\\u00e8ge\", \"CASES\": 352, \"MS_POPULATION\": 5838, \"percentage\": 0.06029462144570058}, {\"SEX\": \"F\", \"AGEGROUP\": \"90+\", \"PROVINCE\": \"Luxembourg\", \"CASES\": 81, \"MS_POPULATION\": 1447, \"percentage\": 0.05597788527988943}, {\"SEX\": \"F\", \"AGEGROUP\": \"90+\", \"PROVINCE\": \"Namur\", \"CASES\": 104, \"MS_POPULATION\": 2672, \"percentage\": 0.038922155688622756}, {\"SEX\": \"F\", \"AGEGROUP\": \"90+\", \"PROVINCE\": \"OostVlaanderen\", \"CASES\": 392, \"MS_POPULATION\": 8570, \"percentage\": 0.04574095682613769}, {\"SEX\": \"F\", \"AGEGROUP\": \"90+\", \"PROVINCE\": \"VlaamsBrabant\", \"CASES\": 346, \"MS_POPULATION\": 6362, \"percentage\": 0.05438541339201509}, {\"SEX\": \"F\", \"AGEGROUP\": \"90+\", \"PROVINCE\": \"WestVlaanderen\", \"CASES\": 360, \"MS_POPULATION\": 8230, \"percentage\": 0.04374240583232078}, {\"SEX\": \"M\", \"AGEGROUP\": \"0-9\", \"PROVINCE\": \"Antwerpen\", \"CASES\": 24, \"MS_POPULATION\": 119457, \"percentage\": 0.00020090911373967202}, {\"SEX\": \"M\", \"AGEGROUP\": \"0-9\", \"PROVINCE\": \"BrabantWallon\", \"CASES\": 1, \"MS_POPULATION\": 24910, \"percentage\": 4.014452027298274e-05}, {\"SEX\": \"M\", \"AGEGROUP\": \"0-9\", \"PROVINCE\": \"Hainaut\", \"CASES\": 13, \"MS_POPULATION\": 85344, \"percentage\": 0.0001523247094113236}, {\"SEX\": \"M\", \"AGEGROUP\": \"0-9\", \"PROVINCE\": \"Limburg\", \"CASES\": 7, \"MS_POPULATION\": 50436, \"percentage\": 0.0001387897533507812}, {\"SEX\": \"M\", \"AGEGROUP\": \"0-9\", \"PROVINCE\": \"Li\\u00e8ge\", \"CASES\": 17, \"MS_POPULATION\": 70112, \"percentage\": 0.00024246919214970333}, {\"SEX\": \"M\", \"AGEGROUP\": \"0-9\", \"PROVINCE\": \"Luxembourg\", \"CASES\": 2, \"MS_POPULATION\": 18737, \"percentage\": 0.00010674067353365}, {\"SEX\": \"M\", \"AGEGROUP\": \"0-9\", \"PROVINCE\": \"Namur\", \"CASES\": 2, \"MS_POPULATION\": 30497, \"percentage\": 6.558022100534478e-05}, {\"SEX\": \"M\", \"AGEGROUP\": \"0-9\", \"PROVINCE\": \"OostVlaanderen\", \"CASES\": 8, \"MS_POPULATION\": 92147, \"percentage\": 8.681780199029811e-05}, {\"SEX\": \"M\", \"AGEGROUP\": \"0-9\", \"PROVINCE\": \"VlaamsBrabant\", \"CASES\": 8, \"MS_POPULATION\": 72250, \"percentage\": 0.00011072664359861591}, {\"SEX\": \"M\", \"AGEGROUP\": \"0-9\", \"PROVINCE\": \"WestVlaanderen\", \"CASES\": 9, \"MS_POPULATION\": 66786, \"percentage\": 0.0001347587817806127}, {\"SEX\": \"M\", \"AGEGROUP\": \"10-19\", \"PROVINCE\": \"Antwerpen\", \"CASES\": 18, \"MS_POPULATION\": 102852, \"percentage\": 0.00017500875043752187}, {\"SEX\": \"M\", \"AGEGROUP\": \"10-19\", \"PROVINCE\": \"BrabantWallon\", \"CASES\": 4, \"MS_POPULATION\": 25686, \"percentage\": 0.00015572685509616132}, {\"SEX\": \"M\", \"AGEGROUP\": \"10-19\", \"PROVINCE\": \"Hainaut\", \"CASES\": 10, \"MS_POPULATION\": 82404, \"percentage\": 0.00012135333236250667}, {\"SEX\": \"M\", \"AGEGROUP\": \"10-19\", \"PROVINCE\": \"Limburg\", \"CASES\": 11, \"MS_POPULATION\": 46386, \"percentage\": 0.00023714051653516148}, {\"SEX\": \"M\", \"AGEGROUP\": \"10-19\", \"PROVINCE\": \"Li\\u00e8ge\", \"CASES\": 15, \"MS_POPULATION\": 65391, \"percentage\": 0.000229389365509015}, {\"SEX\": \"M\", \"AGEGROUP\": \"10-19\", \"PROVINCE\": \"Luxembourg\", \"CASES\": 5, \"MS_POPULATION\": 18572, \"percentage\": 0.0002692224854619858}, {\"SEX\": \"M\", \"AGEGROUP\": \"10-19\", \"PROVINCE\": \"Namur\", \"CASES\": 7, \"MS_POPULATION\": 30126, \"percentage\": 0.0002323574321184359}, {\"SEX\": \"M\", \"AGEGROUP\": \"10-19\", \"PROVINCE\": \"OostVlaanderen\", \"CASES\": 6, \"MS_POPULATION\": 83108, \"percentage\": 7.219521586369543e-05}, {\"SEX\": \"M\", \"AGEGROUP\": \"10-19\", \"PROVINCE\": \"VlaamsBrabant\", \"CASES\": 32, \"MS_POPULATION\": 67462, \"percentage\": 0.0004743411105511251}, {\"SEX\": \"M\", \"AGEGROUP\": \"10-19\", \"PROVINCE\": \"WestVlaanderen\", \"CASES\": 15, \"MS_POPULATION\": 62137, \"percentage\": 0.00024140206318296666}, {\"SEX\": \"M\", \"AGEGROUP\": \"20-29\", \"PROVINCE\": \"Antwerpen\", \"CASES\": 84, \"MS_POPULATION\": 115579, \"percentage\": 0.000726775625329861}, {\"SEX\": \"M\", \"AGEGROUP\": \"20-29\", \"PROVINCE\": \"BrabantWallon\", \"CASES\": 30, \"MS_POPULATION\": 24810, \"percentage\": 0.0012091898428053204}, {\"SEX\": \"M\", \"AGEGROUP\": \"20-29\", \"PROVINCE\": \"Hainaut\", \"CASES\": 81, \"MS_POPULATION\": 83150, \"percentage\": 0.0009741431148526759}, {\"SEX\": \"M\", \"AGEGROUP\": \"20-29\", \"PROVINCE\": \"Limburg\", \"CASES\": 103, \"MS_POPULATION\": 50634, \"percentage\": 0.0020342062645653117}, {\"SEX\": \"M\", \"AGEGROUP\": \"20-29\", \"PROVINCE\": \"Li\\u00e8ge\", \"CASES\": 124, \"MS_POPULATION\": 70573, \"percentage\": 0.0017570458957391637}, {\"SEX\": \"M\", \"AGEGROUP\": \"20-29\", \"PROVINCE\": \"Luxembourg\", \"CASES\": 32, \"MS_POPULATION\": 18821, \"percentage\": 0.0017002284682004144}, {\"SEX\": \"M\", \"AGEGROUP\": \"20-29\", \"PROVINCE\": \"Namur\", \"CASES\": 37, \"MS_POPULATION\": 31562, \"percentage\": 0.0011722957987453267}, {\"SEX\": \"M\", \"AGEGROUP\": \"20-29\", \"PROVINCE\": \"OostVlaanderen\", \"CASES\": 105, \"MS_POPULATION\": 93998, \"percentage\": 0.001117045043511564}, {\"SEX\": \"M\", \"AGEGROUP\": \"20-29\", \"PROVINCE\": \"VlaamsBrabant\", \"CASES\": 81, \"MS_POPULATION\": 68028, \"percentage\": 0.0011906861880402186}, {\"SEX\": \"M\", \"AGEGROUP\": \"20-29\", \"PROVINCE\": \"WestVlaanderen\", \"CASES\": 105, \"MS_POPULATION\": 71055, \"percentage\": 0.001477728520160439}, {\"SEX\": \"M\", \"AGEGROUP\": \"30-39\", \"PROVINCE\": \"Antwerpen\", \"CASES\": 140, \"MS_POPULATION\": 121528, \"percentage\": 0.0011519978934895663}, {\"SEX\": \"M\", \"AGEGROUP\": \"30-39\", \"PROVINCE\": \"BrabantWallon\", \"CASES\": 35, \"MS_POPULATION\": 23581, \"percentage\": 0.0014842457911030066}, {\"SEX\": \"M\", \"AGEGROUP\": \"30-39\", \"PROVINCE\": \"Hainaut\", \"CASES\": 117, \"MS_POPULATION\": 83704, \"percentage\": 0.0013977826627162382}, {\"SEX\": \"M\", \"AGEGROUP\": \"30-39\", \"PROVINCE\": \"Limburg\", \"CASES\": 97, \"MS_POPULATION\": 55582, \"percentage\": 0.0017451692994134792}, {\"SEX\": \"M\", \"AGEGROUP\": \"30-39\", \"PROVINCE\": \"Li\\u00e8ge\", \"CASES\": 159, \"MS_POPULATION\": 70086, \"percentage\": 0.0022686413834431983}, {\"SEX\": \"M\", \"AGEGROUP\": \"30-39\", \"PROVINCE\": \"Luxembourg\", \"CASES\": 54, \"MS_POPULATION\": 18359, \"percentage\": 0.0029413366741107903}, {\"SEX\": \"M\", \"AGEGROUP\": \"30-39\", \"PROVINCE\": \"Namur\", \"CASES\": 48, \"MS_POPULATION\": 31373, \"percentage\": 0.0015299780065661556}, {\"SEX\": \"M\", \"AGEGROUP\": \"30-39\", \"PROVINCE\": \"OostVlaanderen\", \"CASES\": 144, \"MS_POPULATION\": 98604, \"percentage\": 0.0014603870025556773}, {\"SEX\": \"M\", \"AGEGROUP\": \"30-39\", \"PROVINCE\": \"VlaamsBrabant\", \"CASES\": 107, \"MS_POPULATION\": 70303, \"percentage\": 0.0015219834146480236}, {\"SEX\": \"M\", \"AGEGROUP\": \"30-39\", \"PROVINCE\": \"WestVlaanderen\", \"CASES\": 107, \"MS_POPULATION\": 71014, \"percentage\": 0.00150674514884389}, {\"SEX\": \"M\", \"AGEGROUP\": \"40-49\", \"PROVINCE\": \"Antwerpen\", \"CASES\": 206, \"MS_POPULATION\": 121067, \"percentage\": 0.0017015371653712407}, {\"SEX\": \"M\", \"AGEGROUP\": \"40-49\", \"PROVINCE\": \"BrabantWallon\", \"CASES\": 52, \"MS_POPULATION\": 26621, \"percentage\": 0.0019533451034897263}, {\"SEX\": \"M\", \"AGEGROUP\": \"40-49\", \"PROVINCE\": \"Hainaut\", \"CASES\": 196, \"MS_POPULATION\": 91355, \"percentage\": 0.0021454764380712606}, {\"SEX\": \"M\", \"AGEGROUP\": \"40-49\", \"PROVINCE\": \"Limburg\", \"CASES\": 193, \"MS_POPULATION\": 58026, \"percentage\": 0.003326095198704029}, {\"SEX\": \"M\", \"AGEGROUP\": \"40-49\", \"PROVINCE\": \"Li\\u00e8ge\", \"CASES\": 235, \"MS_POPULATION\": 72725, \"percentage\": 0.003231350979718116}, {\"SEX\": \"M\", \"AGEGROUP\": \"40-49\", \"PROVINCE\": \"Luxembourg\", \"CASES\": 66, \"MS_POPULATION\": 19512, \"percentage\": 0.0033825338253382535}, {\"SEX\": \"M\", \"AGEGROUP\": \"40-49\", \"PROVINCE\": \"Namur\", \"CASES\": 67, \"MS_POPULATION\": 32462, \"percentage\": 0.002063951697369232}, {\"SEX\": \"M\", \"AGEGROUP\": \"40-49\", \"PROVINCE\": \"OostVlaanderen\", \"CASES\": 216, \"MS_POPULATION\": 102816, \"percentage\": 0.0021008403361344537}, {\"SEX\": \"M\", \"AGEGROUP\": \"40-49\", \"PROVINCE\": \"VlaamsBrabant\", \"CASES\": 158, \"MS_POPULATION\": 76199, \"percentage\": 0.002073518025170934}, {\"SEX\": \"M\", \"AGEGROUP\": \"40-49\", \"PROVINCE\": \"WestVlaanderen\", \"CASES\": 150, \"MS_POPULATION\": 76238, \"percentage\": 0.0019675227576798973}, {\"SEX\": \"M\", \"AGEGROUP\": \"50-59\", \"PROVINCE\": \"Antwerpen\", \"CASES\": 350, \"MS_POPULATION\": 132717, \"percentage\": 0.0026371904126826252}, {\"SEX\": \"M\", \"AGEGROUP\": \"50-59\", \"PROVINCE\": \"BrabantWallon\", \"CASES\": 69, \"MS_POPULATION\": 27611, \"percentage\": 0.002499004020136902}, {\"SEX\": \"M\", \"AGEGROUP\": \"50-59\", \"PROVINCE\": \"Hainaut\", \"CASES\": 243, \"MS_POPULATION\": 91404, \"percentage\": 0.00265852697912564}, {\"SEX\": \"M\", \"AGEGROUP\": \"50-59\", \"PROVINCE\": \"Limburg\", \"CASES\": 297, \"MS_POPULATION\": 68198, \"percentage\": 0.004354966421302678}, {\"SEX\": \"M\", \"AGEGROUP\": \"50-59\", \"PROVINCE\": \"Li\\u00e8ge\", \"CASES\": 289, \"MS_POPULATION\": 75997, \"percentage\": 0.0038027816887508717}, {\"SEX\": \"M\", \"AGEGROUP\": \"50-59\", \"PROVINCE\": \"Luxembourg\", \"CASES\": 65, \"MS_POPULATION\": 19737, \"percentage\": 0.0032933069868774385}, {\"SEX\": \"M\", \"AGEGROUP\": \"50-59\", \"PROVINCE\": \"Namur\", \"CASES\": 83, \"MS_POPULATION\": 34203, \"percentage\": 0.0024266877174516856}, {\"SEX\": \"M\", \"AGEGROUP\": \"50-59\", \"PROVINCE\": \"OostVlaanderen\", \"CASES\": 323, \"MS_POPULATION\": 108042, \"percentage\": 0.0029895781270246756}, {\"SEX\": \"M\", \"AGEGROUP\": \"50-59\", \"PROVINCE\": \"VlaamsBrabant\", \"CASES\": 262, \"MS_POPULATION\": 81771, \"percentage\": 0.0032040699025326826}, {\"SEX\": \"M\", \"AGEGROUP\": \"50-59\", \"PROVINCE\": \"WestVlaanderen\", \"CASES\": 308, \"MS_POPULATION\": 88775, \"percentage\": 0.003469445226696705}, {\"SEX\": \"M\", \"AGEGROUP\": \"60-69\", \"PROVINCE\": \"Antwerpen\", \"CASES\": 370, \"MS_POPULATION\": 104236, \"percentage\": 0.0035496373613722707}, {\"SEX\": \"M\", \"AGEGROUP\": \"60-69\", \"PROVINCE\": \"BrabantWallon\", \"CASES\": 52, \"MS_POPULATION\": 21864, \"percentage\": 0.0023783388218075376}, {\"SEX\": \"M\", \"AGEGROUP\": \"60-69\", \"PROVINCE\": \"Hainaut\", \"CASES\": 280, \"MS_POPULATION\": 75054, \"percentage\": 0.003730647267300877}, {\"SEX\": \"M\", \"AGEGROUP\": \"60-69\", \"PROVINCE\": \"Limburg\", \"CASES\": 274, \"MS_POPULATION\": 55339, \"percentage\": 0.004951300168055079}, {\"SEX\": \"M\", \"AGEGROUP\": \"60-69\", \"PROVINCE\": \"Li\\u00e8ge\", \"CASES\": 313, \"MS_POPULATION\": 62795, \"percentage\": 0.004984473286089657}, {\"SEX\": \"M\", \"AGEGROUP\": \"60-69\", \"PROVINCE\": \"Luxembourg\", \"CASES\": 64, \"MS_POPULATION\": 15101, \"percentage\": 0.0042381299251705185}, {\"SEX\": \"M\", \"AGEGROUP\": \"60-69\", \"PROVINCE\": \"Namur\", \"CASES\": 85, \"MS_POPULATION\": 28668, \"percentage\": 0.0029649783730989255}, {\"SEX\": \"M\", \"AGEGROUP\": \"60-69\", \"PROVINCE\": \"OostVlaanderen\", \"CASES\": 251, \"MS_POPULATION\": 84501, \"percentage\": 0.0029703790487686536}, {\"SEX\": \"M\", \"AGEGROUP\": \"60-69\", \"PROVINCE\": \"VlaamsBrabant\", \"CASES\": 241, \"MS_POPULATION\": 63019, \"percentage\": 0.0038242434821244386}, {\"SEX\": \"M\", \"AGEGROUP\": \"60-69\", \"PROVINCE\": \"WestVlaanderen\", \"CASES\": 236, \"MS_POPULATION\": 75047, \"percentage\": 0.003144695990512612}, {\"SEX\": \"M\", \"AGEGROUP\": \"70-79\", \"PROVINCE\": \"Antwerpen\", \"CASES\": 371, \"MS_POPULATION\": 67535, \"percentage\": 0.005493447841859777}, {\"SEX\": \"M\", \"AGEGROUP\": \"70-79\", \"PROVINCE\": \"BrabantWallon\", \"CASES\": 52, \"MS_POPULATION\": 13892, \"percentage\": 0.003743161531816873}, {\"SEX\": \"M\", \"AGEGROUP\": \"70-79\", \"PROVINCE\": \"Hainaut\", \"CASES\": 288, \"MS_POPULATION\": 41795, \"percentage\": 0.006890776408661323}, {\"SEX\": \"M\", \"AGEGROUP\": \"70-79\", \"PROVINCE\": \"Limburg\", \"CASES\": 353, \"MS_POPULATION\": 33651, \"percentage\": 0.010490030013966896}, {\"SEX\": \"M\", \"AGEGROUP\": \"70-79\", \"PROVINCE\": \"Li\\u00e8ge\", \"CASES\": 288, \"MS_POPULATION\": 35865, \"percentage\": 0.008030112923462986}, {\"SEX\": \"M\", \"AGEGROUP\": \"70-79\", \"PROVINCE\": \"Luxembourg\", \"CASES\": 69, \"MS_POPULATION\": 8340, \"percentage\": 0.008273381294964029}, {\"SEX\": \"M\", \"AGEGROUP\": \"70-79\", \"PROVINCE\": \"Namur\", \"CASES\": 64, \"MS_POPULATION\": 15628, \"percentage\": 0.004095213718965958}, {\"SEX\": \"M\", \"AGEGROUP\": \"70-79\", \"PROVINCE\": \"OostVlaanderen\", \"CASES\": 257, \"MS_POPULATION\": 55194, \"percentage\": 0.004656303221364641}, {\"SEX\": \"M\", \"AGEGROUP\": \"70-79\", \"PROVINCE\": \"VlaamsBrabant\", \"CASES\": 225, \"MS_POPULATION\": 40155, \"percentage\": 0.0056032872618602915}, {\"SEX\": \"M\", \"AGEGROUP\": \"70-79\", \"PROVINCE\": \"WestVlaanderen\", \"CASES\": 269, \"MS_POPULATION\": 52423, \"percentage\": 0.005131335482517215}, {\"SEX\": \"M\", \"AGEGROUP\": \"80-89\", \"PROVINCE\": \"Antwerpen\", \"CASES\": 410, \"MS_POPULATION\": 32894, \"percentage\": 0.012464279199854076}, {\"SEX\": \"M\", \"AGEGROUP\": \"80-89\", \"PROVINCE\": \"BrabantWallon\", \"CASES\": 57, \"MS_POPULATION\": 6132, \"percentage\": 0.009295499021526418}, {\"SEX\": \"M\", \"AGEGROUP\": \"80-89\", \"PROVINCE\": \"Hainaut\", \"CASES\": 246, \"MS_POPULATION\": 17698, \"percentage\": 0.013899875692168606}, {\"SEX\": \"M\", \"AGEGROUP\": \"80-89\", \"PROVINCE\": \"Limburg\", \"CASES\": 377, \"MS_POPULATION\": 15492, \"percentage\": 0.024335140717789826}, {\"SEX\": \"M\", \"AGEGROUP\": \"80-89\", \"PROVINCE\": \"Li\\u00e8ge\", \"CASES\": 313, \"MS_POPULATION\": 16297, \"percentage\": 0.019205988832300423}, {\"SEX\": \"M\", \"AGEGROUP\": \"80-89\", \"PROVINCE\": \"Luxembourg\", \"CASES\": 79, \"MS_POPULATION\": 4041, \"percentage\": 0.019549616431576343}, {\"SEX\": \"M\", \"AGEGROUP\": \"80-89\", \"PROVINCE\": \"Namur\", \"CASES\": 109, \"MS_POPULATION\": 6855, \"percentage\": 0.015900802334062727}, {\"SEX\": \"M\", \"AGEGROUP\": \"80-89\", \"PROVINCE\": \"OostVlaanderen\", \"CASES\": 375, \"MS_POPULATION\": 26794, \"percentage\": 0.013995670672538627}, {\"SEX\": \"M\", \"AGEGROUP\": \"80-89\", \"PROVINCE\": \"VlaamsBrabant\", \"CASES\": 310, \"MS_POPULATION\": 20216, \"percentage\": 0.015334388603086665}, {\"SEX\": \"M\", \"AGEGROUP\": \"80-89\", \"PROVINCE\": \"WestVlaanderen\", \"CASES\": 357, \"MS_POPULATION\": 25926, \"percentage\": 0.013769960657255265}, {\"SEX\": \"M\", \"AGEGROUP\": \"90+\", \"PROVINCE\": \"Antwerpen\", \"CASES\": 142, \"MS_POPULATION\": 3882, \"percentage\": 0.03657908294693457}, {\"SEX\": \"M\", \"AGEGROUP\": \"90+\", \"PROVINCE\": \"BrabantWallon\", \"CASES\": 26, \"MS_POPULATION\": 809, \"percentage\": 0.032138442521631644}, {\"SEX\": \"M\", \"AGEGROUP\": \"90+\", \"PROVINCE\": \"Hainaut\", \"CASES\": 92, \"MS_POPULATION\": 2277, \"percentage\": 0.04040404040404041}, {\"SEX\": \"M\", \"AGEGROUP\": \"90+\", \"PROVINCE\": \"Limburg\", \"CASES\": 148, \"MS_POPULATION\": 1526, \"percentage\": 0.09698558322411534}, {\"SEX\": \"M\", \"AGEGROUP\": \"90+\", \"PROVINCE\": \"Li\\u00e8ge\", \"CASES\": 92, \"MS_POPULATION\": 1934, \"percentage\": 0.047569803516028956}, {\"SEX\": \"M\", \"AGEGROUP\": \"90+\", \"PROVINCE\": \"Luxembourg\", \"CASES\": 17, \"MS_POPULATION\": 469, \"percentage\": 0.03624733475479744}, {\"SEX\": \"M\", \"AGEGROUP\": \"90+\", \"PROVINCE\": \"Namur\", \"CASES\": 27, \"MS_POPULATION\": 827, \"percentage\": 0.032648125755743655}, {\"SEX\": \"M\", \"AGEGROUP\": \"90+\", \"PROVINCE\": \"OostVlaanderen\", \"CASES\": 102, \"MS_POPULATION\": 3105, \"percentage\": 0.03285024154589372}, {\"SEX\": \"M\", \"AGEGROUP\": \"90+\", \"PROVINCE\": \"VlaamsBrabant\", \"CASES\": 129, \"MS_POPULATION\": 2611, \"percentage\": 0.04940635771734968}, {\"SEX\": \"M\", \"AGEGROUP\": \"90+\", \"PROVINCE\": \"WestVlaanderen\", \"CASES\": 121, \"MS_POPULATION\": 3292, \"percentage\": 0.03675577156743621}]}}, {\"mode\": \"vega-lite\"});\n",
              "</script>"
            ]
          },
          "metadata": {
            "tags": []
          },
          "execution_count": 23
        }
      ]
    },
    {
      "cell_type": "code",
      "metadata": {
        "id": "3JDRpZaLk38h",
        "colab_type": "code",
        "outputId": "a6e08732-93a1-409a-eebc-1afd7dc434ec",
        "colab": {
          "base_uri": "https://localhost:8080/",
          "height": 318
        }
      },
      "source": [
        "provinces = df_plot['PROVINCE'].unique()\n",
        "select_province = alt.selection_single(\n",
        "    name='Select', # name the selection 'Select'\n",
        "    fields=['PROVINCE'], # limit selection to the Major_Genre field\n",
        "    init={'PROVINCE': 'Antwerpen'}, # use first genre entry as initial value\n",
        "    bind=alt.binding_select(options=provinces) # bind to a menu of unique provence values\n",
        ")\n",
        "\n",
        "\n",
        "base = alt.Chart(df_plot).add_selection(\n",
        "    select_province\n",
        ").transform_filter(\n",
        "    select_province\n",
        ").transform_calculate(\n",
        "    gender=alt.expr.if_(alt.datum.SEX == 'M', 'Male', 'Female')\n",
        ").properties(\n",
        "    width=250\n",
        ")\n",
        "\n",
        "left = base.transform_filter(\n",
        "    alt.datum.gender == 'Female'\n",
        ").encode(\n",
        "    y=alt.Y('AGEGROUP:O', axis=None),\n",
        "    x=alt.X('percentage:Q', axis=alt.Axis(format='.0%'),\n",
        "            title='Percentage',\n",
        "            sort=alt.SortOrder('descending'),\n",
        "            scale=alt.Scale(domain=(0.0, 0.1), clamp=True)\n",
        "            ),\n",
        "    color=alt.Color('gender:N', scale=color_scale, legend=None),\n",
        "    tooltip=[alt.Tooltip('percentage', format='.1%')]\n",
        ").mark_bar().properties(title='Female')\n",
        "\n",
        "middle = base.encode(\n",
        "    y=alt.Y('AGEGROUP:O', axis=None),\n",
        "    text=alt.Text('AGEGROUP:O'),\n",
        ").mark_text().properties(width=20)\n",
        "\n",
        "right = base.transform_filter(\n",
        "    alt.datum.gender == 'Male'\n",
        ").encode(\n",
        "    y=alt.Y('AGEGROUP:O', axis=None),\n",
        "    x=alt.X('percentage:Q', title='Percentage', axis=alt.Axis(format='.1%'), scale=alt.Scale(domain=(0.0, 0.1), clamp=True)),\n",
        "    color=alt.Color('gender:N', scale=color_scale, legend=None),\n",
        "    tooltip=[alt.Tooltip('percentage', format='.1%')]\n",
        ").mark_bar().properties(title='Male')\n",
        "\n",
        "alt.concat(left, middle, right, spacing=5).properties(title='Percentage of covid-19 cases per province, gender and age grup in Belgium')"
      ],
      "execution_count": 0,
      "outputs": [
        {
          "output_type": "execute_result",
          "data": {
            "text/plain": [
              "alt.ConcatChart(...)"
            ],
            "text/html": [
              "\n",
              "<div id=\"altair-viz-c31051fb4ca94bf1be8426805634988e\"></div>\n",
              "<script type=\"text/javascript\">\n",
              "  (function(spec, embedOpt){\n",
              "    let outputDiv = document.currentScript.previousElementSibling;\n",
              "    if (outputDiv.id !== \"altair-viz-c31051fb4ca94bf1be8426805634988e\") {\n",
              "      outputDiv = document.getElementById(\"altair-viz-c31051fb4ca94bf1be8426805634988e\");\n",
              "    }\n",
              "    const paths = {\n",
              "      \"vega\": \"https://cdn.jsdelivr.net/npm//vega@5?noext\",\n",
              "      \"vega-lib\": \"https://cdn.jsdelivr.net/npm//vega-lib?noext\",\n",
              "      \"vega-lite\": \"https://cdn.jsdelivr.net/npm//vega-lite@4.8.1?noext\",\n",
              "      \"vega-embed\": \"https://cdn.jsdelivr.net/npm//vega-embed@6?noext\",\n",
              "    };\n",
              "\n",
              "    function loadScript(lib) {\n",
              "      return new Promise(function(resolve, reject) {\n",
              "        var s = document.createElement('script');\n",
              "        s.src = paths[lib];\n",
              "        s.async = true;\n",
              "        s.onload = () => resolve(paths[lib]);\n",
              "        s.onerror = () => reject(`Error loading script: ${paths[lib]}`);\n",
              "        document.getElementsByTagName(\"head\")[0].appendChild(s);\n",
              "      });\n",
              "    }\n",
              "\n",
              "    function showError(err) {\n",
              "      outputDiv.innerHTML = `<div class=\"error\" style=\"color:red;\">${err}</div>`;\n",
              "      throw err;\n",
              "    }\n",
              "\n",
              "    function displayChart(vegaEmbed) {\n",
              "      vegaEmbed(outputDiv, spec, embedOpt)\n",
              "        .catch(err => showError(`Javascript Error: ${err.message}<br>This usually means there's a typo in your chart specification. See the javascript console for the full traceback.`));\n",
              "    }\n",
              "\n",
              "    if(typeof define === \"function\" && define.amd) {\n",
              "      requirejs.config({paths});\n",
              "      require([\"vega-embed\"], displayChart, err => showError(`Error loading script: ${err.message}`));\n",
              "    } else if (typeof vegaEmbed === \"function\") {\n",
              "      displayChart(vegaEmbed);\n",
              "    } else {\n",
              "      loadScript(\"vega\")\n",
              "        .then(() => loadScript(\"vega-lite\"))\n",
              "        .then(() => loadScript(\"vega-embed\"))\n",
              "        .catch(showError)\n",
              "        .then(() => displayChart(vegaEmbed));\n",
              "    }\n",
              "  })({\"config\": {\"view\": {\"continuousWidth\": 400, \"continuousHeight\": 300}}, \"concat\": [{\"mark\": \"bar\", \"encoding\": {\"color\": {\"type\": \"nominal\", \"field\": \"gender\", \"legend\": null, \"scale\": {\"domain\": [\"Male\", \"Female\"], \"range\": [\"#1f77b4\", \"#e377c2\"]}}, \"tooltip\": [{\"type\": \"quantitative\", \"field\": \"percentage\", \"format\": \".1%\"}], \"x\": {\"type\": \"quantitative\", \"axis\": {\"format\": \".0%\"}, \"field\": \"percentage\", \"scale\": {\"clamp\": true, \"domain\": [0.0, 0.1]}, \"sort\": \"descending\", \"title\": \"Percentage\"}, \"y\": {\"type\": \"ordinal\", \"axis\": null, \"field\": \"AGEGROUP\"}}, \"selection\": {\"Select\": {\"type\": \"single\", \"fields\": [\"PROVINCE\"], \"init\": {\"PROVINCE\": \"Antwerpen\"}, \"bind\": {\"input\": \"select\", \"options\": [\"Antwerpen\", \"BrabantWallon\", \"Hainaut\", \"Limburg\", \"Li\\u00e8ge\", \"Luxembourg\", \"Namur\", \"OostVlaanderen\", \"VlaamsBrabant\", \"WestVlaanderen\"]}}}, \"title\": \"Female\", \"transform\": [{\"filter\": {\"selection\": \"Select\"}}, {\"calculate\": \"if((datum.SEX === 'M'),'Male','Female')\", \"as\": \"gender\"}, {\"filter\": \"(datum.gender === 'Female')\"}], \"width\": 250}, {\"mark\": \"text\", \"encoding\": {\"text\": {\"type\": \"ordinal\", \"field\": \"AGEGROUP\"}, \"y\": {\"type\": \"ordinal\", \"axis\": null, \"field\": \"AGEGROUP\"}}, \"selection\": {\"Select\": {\"type\": \"single\", \"fields\": [\"PROVINCE\"], \"init\": {\"PROVINCE\": \"Antwerpen\"}, \"bind\": {\"input\": \"select\", \"options\": [\"Antwerpen\", \"BrabantWallon\", \"Hainaut\", \"Limburg\", \"Li\\u00e8ge\", \"Luxembourg\", \"Namur\", \"OostVlaanderen\", \"VlaamsBrabant\", \"WestVlaanderen\"]}}}, \"transform\": [{\"filter\": {\"selection\": \"Select\"}}, {\"calculate\": \"if((datum.SEX === 'M'),'Male','Female')\", \"as\": \"gender\"}], \"width\": 20}, {\"mark\": \"bar\", \"encoding\": {\"color\": {\"type\": \"nominal\", \"field\": \"gender\", \"legend\": null, \"scale\": {\"domain\": [\"Male\", \"Female\"], \"range\": [\"#1f77b4\", \"#e377c2\"]}}, \"tooltip\": [{\"type\": \"quantitative\", \"field\": \"percentage\", \"format\": \".1%\"}], \"x\": {\"type\": \"quantitative\", \"axis\": {\"format\": \".1%\"}, \"field\": \"percentage\", \"scale\": {\"clamp\": true, \"domain\": [0.0, 0.1]}, \"title\": \"Percentage\"}, \"y\": {\"type\": \"ordinal\", \"axis\": null, \"field\": \"AGEGROUP\"}}, \"selection\": {\"Select\": {\"type\": \"single\", \"fields\": [\"PROVINCE\"], \"init\": {\"PROVINCE\": \"Antwerpen\"}, \"bind\": {\"input\": \"select\", \"options\": [\"Antwerpen\", \"BrabantWallon\", \"Hainaut\", \"Limburg\", \"Li\\u00e8ge\", \"Luxembourg\", \"Namur\", \"OostVlaanderen\", \"VlaamsBrabant\", \"WestVlaanderen\"]}}}, \"title\": \"Male\", \"transform\": [{\"filter\": {\"selection\": \"Select\"}}, {\"calculate\": \"if((datum.SEX === 'M'),'Male','Female')\", \"as\": \"gender\"}, {\"filter\": \"(datum.gender === 'Male')\"}], \"width\": 250}], \"data\": {\"name\": \"data-8c4256b2c33a1fca2a5d94ca31a38873\"}, \"spacing\": 5, \"title\": \"Percentage of covid-19 cases per province, gender and age grup in Belgium\", \"$schema\": \"https://vega.github.io/schema/vega-lite/v4.8.1.json\", \"datasets\": {\"data-8c4256b2c33a1fca2a5d94ca31a38873\": [{\"SEX\": \"F\", \"AGEGROUP\": \"0-9\", \"PROVINCE\": \"Antwerpen\", \"CASES\": 9, \"MS_POPULATION\": 113851, \"percentage\": 7.90506890585063e-05}, {\"SEX\": \"F\", \"AGEGROUP\": \"0-9\", \"PROVINCE\": \"BrabantWallon\", \"CASES\": 3, \"MS_POPULATION\": 23744, \"percentage\": 0.0001263477088948787}, {\"SEX\": \"F\", \"AGEGROUP\": \"0-9\", \"PROVINCE\": \"Hainaut\", \"CASES\": 11, \"MS_POPULATION\": 81075, \"percentage\": 0.0001356768424298489}, {\"SEX\": \"F\", \"AGEGROUP\": \"0-9\", \"PROVINCE\": \"Limburg\", \"CASES\": 11, \"MS_POPULATION\": 48102, \"percentage\": 0.00022868072013637687}, {\"SEX\": \"F\", \"AGEGROUP\": \"0-9\", \"PROVINCE\": \"Li\\u00e8ge\", \"CASES\": 19, \"MS_POPULATION\": 67479, \"percentage\": 0.0002815690807510485}, {\"SEX\": \"F\", \"AGEGROUP\": \"0-9\", \"PROVINCE\": \"Luxembourg\", \"CASES\": 3, \"MS_POPULATION\": 17834, \"percentage\": 0.000168218010541662}, {\"SEX\": \"F\", \"AGEGROUP\": \"0-9\", \"PROVINCE\": \"Namur\", \"CASES\": 4, \"MS_POPULATION\": 29270, \"percentage\": 0.0001366586949094636}, {\"SEX\": \"F\", \"AGEGROUP\": \"0-9\", \"PROVINCE\": \"OostVlaanderen\", \"CASES\": 7, \"MS_POPULATION\": 88120, \"percentage\": 7.943713118474807e-05}, {\"SEX\": \"F\", \"AGEGROUP\": \"0-9\", \"PROVINCE\": \"VlaamsBrabant\", \"CASES\": 9, \"MS_POPULATION\": 69061, \"percentage\": 0.00013031957255180203}, {\"SEX\": \"F\", \"AGEGROUP\": \"0-9\", \"PROVINCE\": \"WestVlaanderen\", \"CASES\": 7, \"MS_POPULATION\": 63579, \"percentage\": 0.00011009924660658394}, {\"SEX\": \"F\", \"AGEGROUP\": \"10-19\", \"PROVINCE\": \"Antwerpen\", \"CASES\": 26, \"MS_POPULATION\": 97741, \"percentage\": 0.0002660091466221954}, {\"SEX\": \"F\", \"AGEGROUP\": \"10-19\", \"PROVINCE\": \"BrabantWallon\", \"CASES\": 5, \"MS_POPULATION\": 24368, \"percentage\": 0.00020518713066316482}, {\"SEX\": \"F\", \"AGEGROUP\": \"10-19\", \"PROVINCE\": \"Hainaut\", \"CASES\": 18, \"MS_POPULATION\": 78804, \"percentage\": 0.00022841480127912289}, {\"SEX\": \"F\", \"AGEGROUP\": \"10-19\", \"PROVINCE\": \"Limburg\", \"CASES\": 21, \"MS_POPULATION\": 43943, \"percentage\": 0.000477891814395922}, {\"SEX\": \"F\", \"AGEGROUP\": \"10-19\", \"PROVINCE\": \"Li\\u00e8ge\", \"CASES\": 22, \"MS_POPULATION\": 62761, \"percentage\": 0.0003505361609916987}, {\"SEX\": \"F\", \"AGEGROUP\": \"10-19\", \"PROVINCE\": \"Luxembourg\", \"CASES\": 10, \"MS_POPULATION\": 17617, \"percentage\": 0.0005676335357892944}, {\"SEX\": \"F\", \"AGEGROUP\": \"10-19\", \"PROVINCE\": \"Namur\", \"CASES\": 5, \"MS_POPULATION\": 28987, \"percentage\": 0.00017249111670748955}, {\"SEX\": \"F\", \"AGEGROUP\": \"10-19\", \"PROVINCE\": \"OostVlaanderen\", \"CASES\": 38, \"MS_POPULATION\": 79353, \"percentage\": 0.00047887288445301374}, {\"SEX\": \"F\", \"AGEGROUP\": \"10-19\", \"PROVINCE\": \"VlaamsBrabant\", \"CASES\": 22, \"MS_POPULATION\": 64641, \"percentage\": 0.00034034126947293515}, {\"SEX\": \"F\", \"AGEGROUP\": \"10-19\", \"PROVINCE\": \"WestVlaanderen\", \"CASES\": 25, \"MS_POPULATION\": 59104, \"percentage\": 0.0004229832160259881}, {\"SEX\": \"F\", \"AGEGROUP\": \"20-29\", \"PROVINCE\": \"Antwerpen\", \"CASES\": 299, \"MS_POPULATION\": 114364, \"percentage\": 0.0026144590955195692}, {\"SEX\": \"F\", \"AGEGROUP\": \"20-29\", \"PROVINCE\": \"BrabantWallon\", \"CASES\": 58, \"MS_POPULATION\": 23892, \"percentage\": 0.0024275908253808807}, {\"SEX\": \"F\", \"AGEGROUP\": \"20-29\", \"PROVINCE\": \"Hainaut\", \"CASES\": 257, \"MS_POPULATION\": 80946, \"percentage\": 0.0031749561436019073}, {\"SEX\": \"F\", \"AGEGROUP\": \"20-29\", \"PROVINCE\": \"Limburg\", \"CASES\": 294, \"MS_POPULATION\": 49202, \"percentage\": 0.005975366855005894}, {\"SEX\": \"F\", \"AGEGROUP\": \"20-29\", \"PROVINCE\": \"Li\\u00e8ge\", \"CASES\": 339, \"MS_POPULATION\": 70284, \"percentage\": 0.004823288372887143}, {\"SEX\": \"F\", \"AGEGROUP\": \"20-29\", \"PROVINCE\": \"Luxembourg\", \"CASES\": 75, \"MS_POPULATION\": 17671, \"percentage\": 0.004244241978382661}, {\"SEX\": \"F\", \"AGEGROUP\": \"20-29\", \"PROVINCE\": \"Namur\", \"CASES\": 106, \"MS_POPULATION\": 30639, \"percentage\": 0.0034596429387382093}, {\"SEX\": \"F\", \"AGEGROUP\": \"20-29\", \"PROVINCE\": \"OostVlaanderen\", \"CASES\": 318, \"MS_POPULATION\": 92829, \"percentage\": 0.0034256536211744173}, {\"SEX\": \"F\", \"AGEGROUP\": \"20-29\", \"PROVINCE\": \"VlaamsBrabant\", \"CASES\": 230, \"MS_POPULATION\": 67228, \"percentage\": 0.00342119355030642}, {\"SEX\": \"F\", \"AGEGROUP\": \"20-29\", \"PROVINCE\": \"WestVlaanderen\", \"CASES\": 311, \"MS_POPULATION\": 67252, \"percentage\": 0.004624397787426396}, {\"SEX\": \"F\", \"AGEGROUP\": \"30-39\", \"PROVINCE\": \"Antwerpen\", \"CASES\": 342, \"MS_POPULATION\": 120901, \"percentage\": 0.002828760721582121}, {\"SEX\": \"F\", \"AGEGROUP\": \"30-39\", \"PROVINCE\": \"BrabantWallon\", \"CASES\": 78, \"MS_POPULATION\": 24455, \"percentage\": 0.003189531793089348}, {\"SEX\": \"F\", \"AGEGROUP\": \"30-39\", \"PROVINCE\": \"Hainaut\", \"CASES\": 401, \"MS_POPULATION\": 83728, \"percentage\": 0.004789317790942098}, {\"SEX\": \"F\", \"AGEGROUP\": \"30-39\", \"PROVINCE\": \"Limburg\", \"CASES\": 322, \"MS_POPULATION\": 55322, \"percentage\": 0.005820469252738512}, {\"SEX\": \"F\", \"AGEGROUP\": \"30-39\", \"PROVINCE\": \"Li\\u00e8ge\", \"CASES\": 465, \"MS_POPULATION\": 70295, \"percentage\": 0.006614979728287929}, {\"SEX\": \"F\", \"AGEGROUP\": \"30-39\", \"PROVINCE\": \"Luxembourg\", \"CASES\": 95, \"MS_POPULATION\": 17849, \"percentage\": 0.0053224270267241865}, {\"SEX\": \"F\", \"AGEGROUP\": \"30-39\", \"PROVINCE\": \"Namur\", \"CASES\": 116, \"MS_POPULATION\": 31144, \"percentage\": 0.0037246339583868484}, {\"SEX\": \"F\", \"AGEGROUP\": \"30-39\", \"PROVINCE\": \"OostVlaanderen\", \"CASES\": 324, \"MS_POPULATION\": 97907, \"percentage\": 0.0033092628719090566}, {\"SEX\": \"F\", \"AGEGROUP\": \"30-39\", \"PROVINCE\": \"VlaamsBrabant\", \"CASES\": 246, \"MS_POPULATION\": 72520, \"percentage\": 0.0033921676778819634}, {\"SEX\": \"F\", \"AGEGROUP\": \"30-39\", \"PROVINCE\": \"WestVlaanderen\", \"CASES\": 316, \"MS_POPULATION\": 68094, \"percentage\": 0.0046406438159015476}, {\"SEX\": \"F\", \"AGEGROUP\": \"40-49\", \"PROVINCE\": \"Antwerpen\", \"CASES\": 348, \"MS_POPULATION\": 117869, \"percentage\": 0.0029524302403515766}, {\"SEX\": \"F\", \"AGEGROUP\": \"40-49\", \"PROVINCE\": \"BrabantWallon\", \"CASES\": 103, \"MS_POPULATION\": 28346, \"percentage\": 0.003633669653566641}, {\"SEX\": \"F\", \"AGEGROUP\": \"40-49\", \"PROVINCE\": \"Hainaut\", \"CASES\": 457, \"MS_POPULATION\": 90877, \"percentage\": 0.005028775157630644}, {\"SEX\": \"F\", \"AGEGROUP\": \"40-49\", \"PROVINCE\": \"Limburg\", \"CASES\": 372, \"MS_POPULATION\": 57203, \"percentage\": 0.006503155428911071}, {\"SEX\": \"F\", \"AGEGROUP\": \"40-49\", \"PROVINCE\": \"Li\\u00e8ge\", \"CASES\": 453, \"MS_POPULATION\": 71565, \"percentage\": 0.006329909872144205}, {\"SEX\": \"F\", \"AGEGROUP\": \"40-49\", \"PROVINCE\": \"Luxembourg\", \"CASES\": 93, \"MS_POPULATION\": 18961, \"percentage\": 0.00490480459891356}, {\"SEX\": \"F\", \"AGEGROUP\": \"40-49\", \"PROVINCE\": \"Namur\", \"CASES\": 152, \"MS_POPULATION\": 32384, \"percentage\": 0.004693675889328063}, {\"SEX\": \"F\", \"AGEGROUP\": \"40-49\", \"PROVINCE\": \"OostVlaanderen\", \"CASES\": 450, \"MS_POPULATION\": 99714, \"percentage\": 0.004512906913773392}, {\"SEX\": \"F\", \"AGEGROUP\": \"40-49\", \"PROVINCE\": \"VlaamsBrabant\", \"CASES\": 362, \"MS_POPULATION\": 77657, \"percentage\": 0.004661524395740242}, {\"SEX\": \"F\", \"AGEGROUP\": \"40-49\", \"PROVINCE\": \"WestVlaanderen\", \"CASES\": 385, \"MS_POPULATION\": 73584, \"percentage\": 0.0052321156773211565}, {\"SEX\": \"F\", \"AGEGROUP\": \"50-59\", \"PROVINCE\": \"Antwerpen\", \"CASES\": 419, \"MS_POPULATION\": 129704, \"percentage\": 0.0032304323690865353}, {\"SEX\": \"F\", \"AGEGROUP\": \"50-59\", \"PROVINCE\": \"BrabantWallon\", \"CASES\": 93, \"MS_POPULATION\": 29056, \"percentage\": 0.003200715859030837}, {\"SEX\": \"F\", \"AGEGROUP\": \"50-59\", \"PROVINCE\": \"Hainaut\", \"CASES\": 413, \"MS_POPULATION\": 93332, \"percentage\": 0.004425063215188789}, {\"SEX\": \"F\", \"AGEGROUP\": \"50-59\", \"PROVINCE\": \"Limburg\", \"CASES\": 472, \"MS_POPULATION\": 66159, \"percentage\": 0.0071343279070118955}, {\"SEX\": \"F\", \"AGEGROUP\": \"50-59\", \"PROVINCE\": \"Li\\u00e8ge\", \"CASES\": 440, \"MS_POPULATION\": 76876, \"percentage\": 0.005723502783703626}, {\"SEX\": \"F\", \"AGEGROUP\": \"50-59\", \"PROVINCE\": \"Luxembourg\", \"CASES\": 84, \"MS_POPULATION\": 19137, \"percentage\": 0.004389402727700266}, {\"SEX\": \"F\", \"AGEGROUP\": \"50-59\", \"PROVINCE\": \"Namur\", \"CASES\": 128, \"MS_POPULATION\": 34850, \"percentage\": 0.003672883787661406}, {\"SEX\": \"F\", \"AGEGROUP\": \"50-59\", \"PROVINCE\": \"OostVlaanderen\", \"CASES\": 474, \"MS_POPULATION\": 105453, \"percentage\": 0.004494893459645529}, {\"SEX\": \"F\", \"AGEGROUP\": \"50-59\", \"PROVINCE\": \"VlaamsBrabant\", \"CASES\": 387, \"MS_POPULATION\": 81649, \"percentage\": 0.004739800854878811}, {\"SEX\": \"F\", \"AGEGROUP\": \"50-59\", \"PROVINCE\": \"WestVlaanderen\", \"CASES\": 470, \"MS_POPULATION\": 85817, \"percentage\": 0.005476770336879639}, {\"SEX\": \"F\", \"AGEGROUP\": \"60-69\", \"PROVINCE\": \"Antwerpen\", \"CASES\": 227, \"MS_POPULATION\": 105349, \"percentage\": 0.002154742807240695}, {\"SEX\": \"F\", \"AGEGROUP\": \"60-69\", \"PROVINCE\": \"BrabantWallon\", \"CASES\": 54, \"MS_POPULATION\": 24653, \"percentage\": 0.0021904027907354074}, {\"SEX\": \"F\", \"AGEGROUP\": \"60-69\", \"PROVINCE\": \"Hainaut\", \"CASES\": 212, \"MS_POPULATION\": 84127, \"percentage\": 0.0025199995245283914}, {\"SEX\": \"F\", \"AGEGROUP\": \"60-69\", \"PROVINCE\": \"Limburg\", \"CASES\": 221, \"MS_POPULATION\": 55216, \"percentage\": 0.0040024630541871924}, {\"SEX\": \"F\", \"AGEGROUP\": \"60-69\", \"PROVINCE\": \"Li\\u00e8ge\", \"CASES\": 243, \"MS_POPULATION\": 66973, \"percentage\": 0.003628327833604587}, {\"SEX\": \"F\", \"AGEGROUP\": \"60-69\", \"PROVINCE\": \"Luxembourg\", \"CASES\": 49, \"MS_POPULATION\": 15653, \"percentage\": 0.0031303903405098064}, {\"SEX\": \"F\", \"AGEGROUP\": \"60-69\", \"PROVINCE\": \"Namur\", \"CASES\": 47, \"MS_POPULATION\": 30550, \"percentage\": 0.0015384615384615385}, {\"SEX\": \"F\", \"AGEGROUP\": \"60-69\", \"PROVINCE\": \"OostVlaanderen\", \"CASES\": 207, \"MS_POPULATION\": 86777, \"percentage\": 0.0023854247093123755}, {\"SEX\": \"F\", \"AGEGROUP\": \"60-69\", \"PROVINCE\": \"VlaamsBrabant\", \"CASES\": 177, \"MS_POPULATION\": 65934, \"percentage\": 0.0026845026845026846}, {\"SEX\": \"F\", \"AGEGROUP\": \"60-69\", \"PROVINCE\": \"WestVlaanderen\", \"CASES\": 190, \"MS_POPULATION\": 77019, \"percentage\": 0.0024669237460886273}, {\"SEX\": \"F\", \"AGEGROUP\": \"70-79\", \"PROVINCE\": \"Antwerpen\", \"CASES\": 303, \"MS_POPULATION\": 77129, \"percentage\": 0.003928483449804872}, {\"SEX\": \"F\", \"AGEGROUP\": \"70-79\", \"PROVINCE\": \"BrabantWallon\", \"CASES\": 46, \"MS_POPULATION\": 16999, \"percentage\": 0.002706041531854815}, {\"SEX\": \"F\", \"AGEGROUP\": \"70-79\", \"PROVINCE\": \"Hainaut\", \"CASES\": 273, \"MS_POPULATION\": 54498, \"percentage\": 0.005009358141583178}, {\"SEX\": \"F\", \"AGEGROUP\": \"70-79\", \"PROVINCE\": \"Limburg\", \"CASES\": 280, \"MS_POPULATION\": 36984, \"percentage\": 0.007570841444949167}, {\"SEX\": \"F\", \"AGEGROUP\": \"70-79\", \"PROVINCE\": \"Li\\u00e8ge\", \"CASES\": 298, \"MS_POPULATION\": 45051, \"percentage\": 0.0066147255332845}, {\"SEX\": \"F\", \"AGEGROUP\": \"70-79\", \"PROVINCE\": \"Luxembourg\", \"CASES\": 65, \"MS_POPULATION\": 9923, \"percentage\": 0.006550438375491283}, {\"SEX\": \"F\", \"AGEGROUP\": \"70-79\", \"PROVINCE\": \"Namur\", \"CASES\": 78, \"MS_POPULATION\": 19409, \"percentage\": 0.004018754186202277}, {\"SEX\": \"F\", \"AGEGROUP\": \"70-79\", \"PROVINCE\": \"OostVlaanderen\", \"CASES\": 278, \"MS_POPULATION\": 64518, \"percentage\": 0.004308875042623764}, {\"SEX\": \"F\", \"AGEGROUP\": \"70-79\", \"PROVINCE\": \"VlaamsBrabant\", \"CASES\": 205, \"MS_POPULATION\": 47305, \"percentage\": 0.004333579959835112}, {\"SEX\": \"F\", \"AGEGROUP\": \"70-79\", \"PROVINCE\": \"WestVlaanderen\", \"CASES\": 262, \"MS_POPULATION\": 60688, \"percentage\": 0.004317163195359874}, {\"SEX\": \"F\", \"AGEGROUP\": \"80-89\", \"PROVINCE\": \"Antwerpen\", \"CASES\": 627, \"MS_POPULATION\": 49568, \"percentage\": 0.012649289864428663}, {\"SEX\": \"F\", \"AGEGROUP\": \"80-89\", \"PROVINCE\": \"BrabantWallon\", \"CASES\": 100, \"MS_POPULATION\": 9920, \"percentage\": 0.010080645161290322}, {\"SEX\": \"F\", \"AGEGROUP\": \"80-89\", \"PROVINCE\": \"Hainaut\", \"CASES\": 572, \"MS_POPULATION\": 34639, \"percentage\": 0.01651317878691648}, {\"SEX\": \"F\", \"AGEGROUP\": \"80-89\", \"PROVINCE\": \"Limburg\", \"CASES\": 626, \"MS_POPULATION\": 22709, \"percentage\": 0.027566163195208947}, {\"SEX\": \"F\", \"AGEGROUP\": \"80-89\", \"PROVINCE\": \"Li\\u00e8ge\", \"CASES\": 659, \"MS_POPULATION\": 28095, \"percentage\": 0.023456130984160883}, {\"SEX\": \"F\", \"AGEGROUP\": \"80-89\", \"PROVINCE\": \"Luxembourg\", \"CASES\": 151, \"MS_POPULATION\": 6857, \"percentage\": 0.022021292110252298}, {\"SEX\": \"F\", \"AGEGROUP\": \"80-89\", \"PROVINCE\": \"Namur\", \"CASES\": 204, \"MS_POPULATION\": 12219, \"percentage\": 0.016695310581880677}, {\"SEX\": \"F\", \"AGEGROUP\": \"80-89\", \"PROVINCE\": \"OostVlaanderen\", \"CASES\": 687, \"MS_POPULATION\": 43514, \"percentage\": 0.015788022245714024}, {\"SEX\": \"F\", \"AGEGROUP\": \"80-89\", \"PROVINCE\": \"VlaamsBrabant\", \"CASES\": 550, \"MS_POPULATION\": 31804, \"percentage\": 0.017293422211042637}, {\"SEX\": \"F\", \"AGEGROUP\": \"80-89\", \"PROVINCE\": \"WestVlaanderen\", \"CASES\": 638, \"MS_POPULATION\": 39736, \"percentage\": 0.01605596939802698}, {\"SEX\": \"F\", \"AGEGROUP\": \"90+\", \"PROVINCE\": \"Antwerpen\", \"CASES\": 388, \"MS_POPULATION\": 9763, \"percentage\": 0.03974188261804773}, {\"SEX\": \"F\", \"AGEGROUP\": \"90+\", \"PROVINCE\": \"BrabantWallon\", \"CASES\": 66, \"MS_POPULATION\": 2250, \"percentage\": 0.029333333333333333}, {\"SEX\": \"F\", \"AGEGROUP\": \"90+\", \"PROVINCE\": \"Hainaut\", \"CASES\": 330, \"MS_POPULATION\": 8030, \"percentage\": 0.0410958904109589}, {\"SEX\": \"F\", \"AGEGROUP\": \"90+\", \"PROVINCE\": \"Limburg\", \"CASES\": 355, \"MS_POPULATION\": 3938, \"percentage\": 0.09014728288471305}, {\"SEX\": \"F\", \"AGEGROUP\": \"90+\", \"PROVINCE\": \"Li\\u00e8ge\", \"CASES\": 352, \"MS_POPULATION\": 5838, \"percentage\": 0.06029462144570058}, {\"SEX\": \"F\", \"AGEGROUP\": \"90+\", \"PROVINCE\": \"Luxembourg\", \"CASES\": 81, \"MS_POPULATION\": 1447, \"percentage\": 0.05597788527988943}, {\"SEX\": \"F\", \"AGEGROUP\": \"90+\", \"PROVINCE\": \"Namur\", \"CASES\": 104, \"MS_POPULATION\": 2672, \"percentage\": 0.038922155688622756}, {\"SEX\": \"F\", \"AGEGROUP\": \"90+\", \"PROVINCE\": \"OostVlaanderen\", \"CASES\": 392, \"MS_POPULATION\": 8570, \"percentage\": 0.04574095682613769}, {\"SEX\": \"F\", \"AGEGROUP\": \"90+\", \"PROVINCE\": \"VlaamsBrabant\", \"CASES\": 346, \"MS_POPULATION\": 6362, \"percentage\": 0.05438541339201509}, {\"SEX\": \"F\", \"AGEGROUP\": \"90+\", \"PROVINCE\": \"WestVlaanderen\", \"CASES\": 360, \"MS_POPULATION\": 8230, \"percentage\": 0.04374240583232078}, {\"SEX\": \"M\", \"AGEGROUP\": \"0-9\", \"PROVINCE\": \"Antwerpen\", \"CASES\": 24, \"MS_POPULATION\": 119457, \"percentage\": 0.00020090911373967202}, {\"SEX\": \"M\", \"AGEGROUP\": \"0-9\", \"PROVINCE\": \"BrabantWallon\", \"CASES\": 1, \"MS_POPULATION\": 24910, \"percentage\": 4.014452027298274e-05}, {\"SEX\": \"M\", \"AGEGROUP\": \"0-9\", \"PROVINCE\": \"Hainaut\", \"CASES\": 13, \"MS_POPULATION\": 85344, \"percentage\": 0.0001523247094113236}, {\"SEX\": \"M\", \"AGEGROUP\": \"0-9\", \"PROVINCE\": \"Limburg\", \"CASES\": 7, \"MS_POPULATION\": 50436, \"percentage\": 0.0001387897533507812}, {\"SEX\": \"M\", \"AGEGROUP\": \"0-9\", \"PROVINCE\": \"Li\\u00e8ge\", \"CASES\": 17, \"MS_POPULATION\": 70112, \"percentage\": 0.00024246919214970333}, {\"SEX\": \"M\", \"AGEGROUP\": \"0-9\", \"PROVINCE\": \"Luxembourg\", \"CASES\": 2, \"MS_POPULATION\": 18737, \"percentage\": 0.00010674067353365}, {\"SEX\": \"M\", \"AGEGROUP\": \"0-9\", \"PROVINCE\": \"Namur\", \"CASES\": 2, \"MS_POPULATION\": 30497, \"percentage\": 6.558022100534478e-05}, {\"SEX\": \"M\", \"AGEGROUP\": \"0-9\", \"PROVINCE\": \"OostVlaanderen\", \"CASES\": 8, \"MS_POPULATION\": 92147, \"percentage\": 8.681780199029811e-05}, {\"SEX\": \"M\", \"AGEGROUP\": \"0-9\", \"PROVINCE\": \"VlaamsBrabant\", \"CASES\": 8, \"MS_POPULATION\": 72250, \"percentage\": 0.00011072664359861591}, {\"SEX\": \"M\", \"AGEGROUP\": \"0-9\", \"PROVINCE\": \"WestVlaanderen\", \"CASES\": 9, \"MS_POPULATION\": 66786, \"percentage\": 0.0001347587817806127}, {\"SEX\": \"M\", \"AGEGROUP\": \"10-19\", \"PROVINCE\": \"Antwerpen\", \"CASES\": 18, \"MS_POPULATION\": 102852, \"percentage\": 0.00017500875043752187}, {\"SEX\": \"M\", \"AGEGROUP\": \"10-19\", \"PROVINCE\": \"BrabantWallon\", \"CASES\": 4, \"MS_POPULATION\": 25686, \"percentage\": 0.00015572685509616132}, {\"SEX\": \"M\", \"AGEGROUP\": \"10-19\", \"PROVINCE\": \"Hainaut\", \"CASES\": 10, \"MS_POPULATION\": 82404, \"percentage\": 0.00012135333236250667}, {\"SEX\": \"M\", \"AGEGROUP\": \"10-19\", \"PROVINCE\": \"Limburg\", \"CASES\": 11, \"MS_POPULATION\": 46386, \"percentage\": 0.00023714051653516148}, {\"SEX\": \"M\", \"AGEGROUP\": \"10-19\", \"PROVINCE\": \"Li\\u00e8ge\", \"CASES\": 15, \"MS_POPULATION\": 65391, \"percentage\": 0.000229389365509015}, {\"SEX\": \"M\", \"AGEGROUP\": \"10-19\", \"PROVINCE\": \"Luxembourg\", \"CASES\": 5, \"MS_POPULATION\": 18572, \"percentage\": 0.0002692224854619858}, {\"SEX\": \"M\", \"AGEGROUP\": \"10-19\", \"PROVINCE\": \"Namur\", \"CASES\": 7, \"MS_POPULATION\": 30126, \"percentage\": 0.0002323574321184359}, {\"SEX\": \"M\", \"AGEGROUP\": \"10-19\", \"PROVINCE\": \"OostVlaanderen\", \"CASES\": 6, \"MS_POPULATION\": 83108, \"percentage\": 7.219521586369543e-05}, {\"SEX\": \"M\", \"AGEGROUP\": \"10-19\", \"PROVINCE\": \"VlaamsBrabant\", \"CASES\": 32, \"MS_POPULATION\": 67462, \"percentage\": 0.0004743411105511251}, {\"SEX\": \"M\", \"AGEGROUP\": \"10-19\", \"PROVINCE\": \"WestVlaanderen\", \"CASES\": 15, \"MS_POPULATION\": 62137, \"percentage\": 0.00024140206318296666}, {\"SEX\": \"M\", \"AGEGROUP\": \"20-29\", \"PROVINCE\": \"Antwerpen\", \"CASES\": 84, \"MS_POPULATION\": 115579, \"percentage\": 0.000726775625329861}, {\"SEX\": \"M\", \"AGEGROUP\": \"20-29\", \"PROVINCE\": \"BrabantWallon\", \"CASES\": 30, \"MS_POPULATION\": 24810, \"percentage\": 0.0012091898428053204}, {\"SEX\": \"M\", \"AGEGROUP\": \"20-29\", \"PROVINCE\": \"Hainaut\", \"CASES\": 81, \"MS_POPULATION\": 83150, \"percentage\": 0.0009741431148526759}, {\"SEX\": \"M\", \"AGEGROUP\": \"20-29\", \"PROVINCE\": \"Limburg\", \"CASES\": 103, \"MS_POPULATION\": 50634, \"percentage\": 0.0020342062645653117}, {\"SEX\": \"M\", \"AGEGROUP\": \"20-29\", \"PROVINCE\": \"Li\\u00e8ge\", \"CASES\": 124, \"MS_POPULATION\": 70573, \"percentage\": 0.0017570458957391637}, {\"SEX\": \"M\", \"AGEGROUP\": \"20-29\", \"PROVINCE\": \"Luxembourg\", \"CASES\": 32, \"MS_POPULATION\": 18821, \"percentage\": 0.0017002284682004144}, {\"SEX\": \"M\", \"AGEGROUP\": \"20-29\", \"PROVINCE\": \"Namur\", \"CASES\": 37, \"MS_POPULATION\": 31562, \"percentage\": 0.0011722957987453267}, {\"SEX\": \"M\", \"AGEGROUP\": \"20-29\", \"PROVINCE\": \"OostVlaanderen\", \"CASES\": 105, \"MS_POPULATION\": 93998, \"percentage\": 0.001117045043511564}, {\"SEX\": \"M\", \"AGEGROUP\": \"20-29\", \"PROVINCE\": \"VlaamsBrabant\", \"CASES\": 81, \"MS_POPULATION\": 68028, \"percentage\": 0.0011906861880402186}, {\"SEX\": \"M\", \"AGEGROUP\": \"20-29\", \"PROVINCE\": \"WestVlaanderen\", \"CASES\": 105, \"MS_POPULATION\": 71055, \"percentage\": 0.001477728520160439}, {\"SEX\": \"M\", \"AGEGROUP\": \"30-39\", \"PROVINCE\": \"Antwerpen\", \"CASES\": 140, \"MS_POPULATION\": 121528, \"percentage\": 0.0011519978934895663}, {\"SEX\": \"M\", \"AGEGROUP\": \"30-39\", \"PROVINCE\": \"BrabantWallon\", \"CASES\": 35, \"MS_POPULATION\": 23581, \"percentage\": 0.0014842457911030066}, {\"SEX\": \"M\", \"AGEGROUP\": \"30-39\", \"PROVINCE\": \"Hainaut\", \"CASES\": 117, \"MS_POPULATION\": 83704, \"percentage\": 0.0013977826627162382}, {\"SEX\": \"M\", \"AGEGROUP\": \"30-39\", \"PROVINCE\": \"Limburg\", \"CASES\": 97, \"MS_POPULATION\": 55582, \"percentage\": 0.0017451692994134792}, {\"SEX\": \"M\", \"AGEGROUP\": \"30-39\", \"PROVINCE\": \"Li\\u00e8ge\", \"CASES\": 159, \"MS_POPULATION\": 70086, \"percentage\": 0.0022686413834431983}, {\"SEX\": \"M\", \"AGEGROUP\": \"30-39\", \"PROVINCE\": \"Luxembourg\", \"CASES\": 54, \"MS_POPULATION\": 18359, \"percentage\": 0.0029413366741107903}, {\"SEX\": \"M\", \"AGEGROUP\": \"30-39\", \"PROVINCE\": \"Namur\", \"CASES\": 48, \"MS_POPULATION\": 31373, \"percentage\": 0.0015299780065661556}, {\"SEX\": \"M\", \"AGEGROUP\": \"30-39\", \"PROVINCE\": \"OostVlaanderen\", \"CASES\": 144, \"MS_POPULATION\": 98604, \"percentage\": 0.0014603870025556773}, {\"SEX\": \"M\", \"AGEGROUP\": \"30-39\", \"PROVINCE\": \"VlaamsBrabant\", \"CASES\": 107, \"MS_POPULATION\": 70303, \"percentage\": 0.0015219834146480236}, {\"SEX\": \"M\", \"AGEGROUP\": \"30-39\", \"PROVINCE\": \"WestVlaanderen\", \"CASES\": 107, \"MS_POPULATION\": 71014, \"percentage\": 0.00150674514884389}, {\"SEX\": \"M\", \"AGEGROUP\": \"40-49\", \"PROVINCE\": \"Antwerpen\", \"CASES\": 206, \"MS_POPULATION\": 121067, \"percentage\": 0.0017015371653712407}, {\"SEX\": \"M\", \"AGEGROUP\": \"40-49\", \"PROVINCE\": \"BrabantWallon\", \"CASES\": 52, \"MS_POPULATION\": 26621, \"percentage\": 0.0019533451034897263}, {\"SEX\": \"M\", \"AGEGROUP\": \"40-49\", \"PROVINCE\": \"Hainaut\", \"CASES\": 196, \"MS_POPULATION\": 91355, \"percentage\": 0.0021454764380712606}, {\"SEX\": \"M\", \"AGEGROUP\": \"40-49\", \"PROVINCE\": \"Limburg\", \"CASES\": 193, \"MS_POPULATION\": 58026, \"percentage\": 0.003326095198704029}, {\"SEX\": \"M\", \"AGEGROUP\": \"40-49\", \"PROVINCE\": \"Li\\u00e8ge\", \"CASES\": 235, \"MS_POPULATION\": 72725, \"percentage\": 0.003231350979718116}, {\"SEX\": \"M\", \"AGEGROUP\": \"40-49\", \"PROVINCE\": \"Luxembourg\", \"CASES\": 66, \"MS_POPULATION\": 19512, \"percentage\": 0.0033825338253382535}, {\"SEX\": \"M\", \"AGEGROUP\": \"40-49\", \"PROVINCE\": \"Namur\", \"CASES\": 67, \"MS_POPULATION\": 32462, \"percentage\": 0.002063951697369232}, {\"SEX\": \"M\", \"AGEGROUP\": \"40-49\", \"PROVINCE\": \"OostVlaanderen\", \"CASES\": 216, \"MS_POPULATION\": 102816, \"percentage\": 0.0021008403361344537}, {\"SEX\": \"M\", \"AGEGROUP\": \"40-49\", \"PROVINCE\": \"VlaamsBrabant\", \"CASES\": 158, \"MS_POPULATION\": 76199, \"percentage\": 0.002073518025170934}, {\"SEX\": \"M\", \"AGEGROUP\": \"40-49\", \"PROVINCE\": \"WestVlaanderen\", \"CASES\": 150, \"MS_POPULATION\": 76238, \"percentage\": 0.0019675227576798973}, {\"SEX\": \"M\", \"AGEGROUP\": \"50-59\", \"PROVINCE\": \"Antwerpen\", \"CASES\": 350, \"MS_POPULATION\": 132717, \"percentage\": 0.0026371904126826252}, {\"SEX\": \"M\", \"AGEGROUP\": \"50-59\", \"PROVINCE\": \"BrabantWallon\", \"CASES\": 69, \"MS_POPULATION\": 27611, \"percentage\": 0.002499004020136902}, {\"SEX\": \"M\", \"AGEGROUP\": \"50-59\", \"PROVINCE\": \"Hainaut\", \"CASES\": 243, \"MS_POPULATION\": 91404, \"percentage\": 0.00265852697912564}, {\"SEX\": \"M\", \"AGEGROUP\": \"50-59\", \"PROVINCE\": \"Limburg\", \"CASES\": 297, \"MS_POPULATION\": 68198, \"percentage\": 0.004354966421302678}, {\"SEX\": \"M\", \"AGEGROUP\": \"50-59\", \"PROVINCE\": \"Li\\u00e8ge\", \"CASES\": 289, \"MS_POPULATION\": 75997, \"percentage\": 0.0038027816887508717}, {\"SEX\": \"M\", \"AGEGROUP\": \"50-59\", \"PROVINCE\": \"Luxembourg\", \"CASES\": 65, \"MS_POPULATION\": 19737, \"percentage\": 0.0032933069868774385}, {\"SEX\": \"M\", \"AGEGROUP\": \"50-59\", \"PROVINCE\": \"Namur\", \"CASES\": 83, \"MS_POPULATION\": 34203, \"percentage\": 0.0024266877174516856}, {\"SEX\": \"M\", \"AGEGROUP\": \"50-59\", \"PROVINCE\": \"OostVlaanderen\", \"CASES\": 323, \"MS_POPULATION\": 108042, \"percentage\": 0.0029895781270246756}, {\"SEX\": \"M\", \"AGEGROUP\": \"50-59\", \"PROVINCE\": \"VlaamsBrabant\", \"CASES\": 262, \"MS_POPULATION\": 81771, \"percentage\": 0.0032040699025326826}, {\"SEX\": \"M\", \"AGEGROUP\": \"50-59\", \"PROVINCE\": \"WestVlaanderen\", \"CASES\": 308, \"MS_POPULATION\": 88775, \"percentage\": 0.003469445226696705}, {\"SEX\": \"M\", \"AGEGROUP\": \"60-69\", \"PROVINCE\": \"Antwerpen\", \"CASES\": 370, \"MS_POPULATION\": 104236, \"percentage\": 0.0035496373613722707}, {\"SEX\": \"M\", \"AGEGROUP\": \"60-69\", \"PROVINCE\": \"BrabantWallon\", \"CASES\": 52, \"MS_POPULATION\": 21864, \"percentage\": 0.0023783388218075376}, {\"SEX\": \"M\", \"AGEGROUP\": \"60-69\", \"PROVINCE\": \"Hainaut\", \"CASES\": 280, \"MS_POPULATION\": 75054, \"percentage\": 0.003730647267300877}, {\"SEX\": \"M\", \"AGEGROUP\": \"60-69\", \"PROVINCE\": \"Limburg\", \"CASES\": 274, \"MS_POPULATION\": 55339, \"percentage\": 0.004951300168055079}, {\"SEX\": \"M\", \"AGEGROUP\": \"60-69\", \"PROVINCE\": \"Li\\u00e8ge\", \"CASES\": 313, \"MS_POPULATION\": 62795, \"percentage\": 0.004984473286089657}, {\"SEX\": \"M\", \"AGEGROUP\": \"60-69\", \"PROVINCE\": \"Luxembourg\", \"CASES\": 64, \"MS_POPULATION\": 15101, \"percentage\": 0.0042381299251705185}, {\"SEX\": \"M\", \"AGEGROUP\": \"60-69\", \"PROVINCE\": \"Namur\", \"CASES\": 85, \"MS_POPULATION\": 28668, \"percentage\": 0.0029649783730989255}, {\"SEX\": \"M\", \"AGEGROUP\": \"60-69\", \"PROVINCE\": \"OostVlaanderen\", \"CASES\": 251, \"MS_POPULATION\": 84501, \"percentage\": 0.0029703790487686536}, {\"SEX\": \"M\", \"AGEGROUP\": \"60-69\", \"PROVINCE\": \"VlaamsBrabant\", \"CASES\": 241, \"MS_POPULATION\": 63019, \"percentage\": 0.0038242434821244386}, {\"SEX\": \"M\", \"AGEGROUP\": \"60-69\", \"PROVINCE\": \"WestVlaanderen\", \"CASES\": 236, \"MS_POPULATION\": 75047, \"percentage\": 0.003144695990512612}, {\"SEX\": \"M\", \"AGEGROUP\": \"70-79\", \"PROVINCE\": \"Antwerpen\", \"CASES\": 371, \"MS_POPULATION\": 67535, \"percentage\": 0.005493447841859777}, {\"SEX\": \"M\", \"AGEGROUP\": \"70-79\", \"PROVINCE\": \"BrabantWallon\", \"CASES\": 52, \"MS_POPULATION\": 13892, \"percentage\": 0.003743161531816873}, {\"SEX\": \"M\", \"AGEGROUP\": \"70-79\", \"PROVINCE\": \"Hainaut\", \"CASES\": 288, \"MS_POPULATION\": 41795, \"percentage\": 0.006890776408661323}, {\"SEX\": \"M\", \"AGEGROUP\": \"70-79\", \"PROVINCE\": \"Limburg\", \"CASES\": 353, \"MS_POPULATION\": 33651, \"percentage\": 0.010490030013966896}, {\"SEX\": \"M\", \"AGEGROUP\": \"70-79\", \"PROVINCE\": \"Li\\u00e8ge\", \"CASES\": 288, \"MS_POPULATION\": 35865, \"percentage\": 0.008030112923462986}, {\"SEX\": \"M\", \"AGEGROUP\": \"70-79\", \"PROVINCE\": \"Luxembourg\", \"CASES\": 69, \"MS_POPULATION\": 8340, \"percentage\": 0.008273381294964029}, {\"SEX\": \"M\", \"AGEGROUP\": \"70-79\", \"PROVINCE\": \"Namur\", \"CASES\": 64, \"MS_POPULATION\": 15628, \"percentage\": 0.004095213718965958}, {\"SEX\": \"M\", \"AGEGROUP\": \"70-79\", \"PROVINCE\": \"OostVlaanderen\", \"CASES\": 257, \"MS_POPULATION\": 55194, \"percentage\": 0.004656303221364641}, {\"SEX\": \"M\", \"AGEGROUP\": \"70-79\", \"PROVINCE\": \"VlaamsBrabant\", \"CASES\": 225, \"MS_POPULATION\": 40155, \"percentage\": 0.0056032872618602915}, {\"SEX\": \"M\", \"AGEGROUP\": \"70-79\", \"PROVINCE\": \"WestVlaanderen\", \"CASES\": 269, \"MS_POPULATION\": 52423, \"percentage\": 0.005131335482517215}, {\"SEX\": \"M\", \"AGEGROUP\": \"80-89\", \"PROVINCE\": \"Antwerpen\", \"CASES\": 410, \"MS_POPULATION\": 32894, \"percentage\": 0.012464279199854076}, {\"SEX\": \"M\", \"AGEGROUP\": \"80-89\", \"PROVINCE\": \"BrabantWallon\", \"CASES\": 57, \"MS_POPULATION\": 6132, \"percentage\": 0.009295499021526418}, {\"SEX\": \"M\", \"AGEGROUP\": \"80-89\", \"PROVINCE\": \"Hainaut\", \"CASES\": 246, \"MS_POPULATION\": 17698, \"percentage\": 0.013899875692168606}, {\"SEX\": \"M\", \"AGEGROUP\": \"80-89\", \"PROVINCE\": \"Limburg\", \"CASES\": 377, \"MS_POPULATION\": 15492, \"percentage\": 0.024335140717789826}, {\"SEX\": \"M\", \"AGEGROUP\": \"80-89\", \"PROVINCE\": \"Li\\u00e8ge\", \"CASES\": 313, \"MS_POPULATION\": 16297, \"percentage\": 0.019205988832300423}, {\"SEX\": \"M\", \"AGEGROUP\": \"80-89\", \"PROVINCE\": \"Luxembourg\", \"CASES\": 79, \"MS_POPULATION\": 4041, \"percentage\": 0.019549616431576343}, {\"SEX\": \"M\", \"AGEGROUP\": \"80-89\", \"PROVINCE\": \"Namur\", \"CASES\": 109, \"MS_POPULATION\": 6855, \"percentage\": 0.015900802334062727}, {\"SEX\": \"M\", \"AGEGROUP\": \"80-89\", \"PROVINCE\": \"OostVlaanderen\", \"CASES\": 375, \"MS_POPULATION\": 26794, \"percentage\": 0.013995670672538627}, {\"SEX\": \"M\", \"AGEGROUP\": \"80-89\", \"PROVINCE\": \"VlaamsBrabant\", \"CASES\": 310, \"MS_POPULATION\": 20216, \"percentage\": 0.015334388603086665}, {\"SEX\": \"M\", \"AGEGROUP\": \"80-89\", \"PROVINCE\": \"WestVlaanderen\", \"CASES\": 357, \"MS_POPULATION\": 25926, \"percentage\": 0.013769960657255265}, {\"SEX\": \"M\", \"AGEGROUP\": \"90+\", \"PROVINCE\": \"Antwerpen\", \"CASES\": 142, \"MS_POPULATION\": 3882, \"percentage\": 0.03657908294693457}, {\"SEX\": \"M\", \"AGEGROUP\": \"90+\", \"PROVINCE\": \"BrabantWallon\", \"CASES\": 26, \"MS_POPULATION\": 809, \"percentage\": 0.032138442521631644}, {\"SEX\": \"M\", \"AGEGROUP\": \"90+\", \"PROVINCE\": \"Hainaut\", \"CASES\": 92, \"MS_POPULATION\": 2277, \"percentage\": 0.04040404040404041}, {\"SEX\": \"M\", \"AGEGROUP\": \"90+\", \"PROVINCE\": \"Limburg\", \"CASES\": 148, \"MS_POPULATION\": 1526, \"percentage\": 0.09698558322411534}, {\"SEX\": \"M\", \"AGEGROUP\": \"90+\", \"PROVINCE\": \"Li\\u00e8ge\", \"CASES\": 92, \"MS_POPULATION\": 1934, \"percentage\": 0.047569803516028956}, {\"SEX\": \"M\", \"AGEGROUP\": \"90+\", \"PROVINCE\": \"Luxembourg\", \"CASES\": 17, \"MS_POPULATION\": 469, \"percentage\": 0.03624733475479744}, {\"SEX\": \"M\", \"AGEGROUP\": \"90+\", \"PROVINCE\": \"Namur\", \"CASES\": 27, \"MS_POPULATION\": 827, \"percentage\": 0.032648125755743655}, {\"SEX\": \"M\", \"AGEGROUP\": \"90+\", \"PROVINCE\": \"OostVlaanderen\", \"CASES\": 102, \"MS_POPULATION\": 3105, \"percentage\": 0.03285024154589372}, {\"SEX\": \"M\", \"AGEGROUP\": \"90+\", \"PROVINCE\": \"VlaamsBrabant\", \"CASES\": 129, \"MS_POPULATION\": 2611, \"percentage\": 0.04940635771734968}, {\"SEX\": \"M\", \"AGEGROUP\": \"90+\", \"PROVINCE\": \"WestVlaanderen\", \"CASES\": 121, \"MS_POPULATION\": 3292, \"percentage\": 0.03675577156743621}]}}, {\"mode\": \"vega-lite\"});\n",
              "</script>"
            ]
          },
          "metadata": {
            "tags": []
          },
          "execution_count": 24
        }
      ]
    },
    {
      "cell_type": "markdown",
      "metadata": {
        "id": "bdkCkSXDSNIi",
        "colab_type": "text"
      },
      "source": [
        "# Mortality"
      ]
    },
    {
      "cell_type": "code",
      "metadata": {
        "id": "Mmp1QQ4NSMDC",
        "colab_type": "code",
        "colab": {}
      },
      "source": [
        "# https://epistat.wiv-isp.be/covid/\n",
        "# Dataset of mortality by date, age, sex, and region\n",
        "df_dead_sc = pd.read_csv('https://epistat.sciensano.be/Data/COVID19BE_MORT.csv')"
      ],
      "execution_count": 0,
      "outputs": []
    },
    {
      "cell_type": "code",
      "metadata": {
        "id": "4aWopuTzSgYI",
        "colab_type": "code",
        "outputId": "e7089ca1-c67e-475c-fa61-6146881d0b61",
        "colab": {
          "base_uri": "https://localhost:8080/",
          "height": 195
        }
      },
      "source": [
        "df_dead_sc.head()"
      ],
      "execution_count": 0,
      "outputs": [
        {
          "output_type": "execute_result",
          "data": {
            "text/html": [
              "<div>\n",
              "<style scoped>\n",
              "    .dataframe tbody tr th:only-of-type {\n",
              "        vertical-align: middle;\n",
              "    }\n",
              "\n",
              "    .dataframe tbody tr th {\n",
              "        vertical-align: top;\n",
              "    }\n",
              "\n",
              "    .dataframe thead th {\n",
              "        text-align: right;\n",
              "    }\n",
              "</style>\n",
              "<table border=\"1\" class=\"dataframe\">\n",
              "  <thead>\n",
              "    <tr style=\"text-align: right;\">\n",
              "      <th></th>\n",
              "      <th>DATE</th>\n",
              "      <th>REGION</th>\n",
              "      <th>AGEGROUP</th>\n",
              "      <th>SEX</th>\n",
              "      <th>DEATHS</th>\n",
              "    </tr>\n",
              "  </thead>\n",
              "  <tbody>\n",
              "    <tr>\n",
              "      <th>0</th>\n",
              "      <td>2020-03-10</td>\n",
              "      <td>Brussels</td>\n",
              "      <td>85+</td>\n",
              "      <td>F</td>\n",
              "      <td>1</td>\n",
              "    </tr>\n",
              "    <tr>\n",
              "      <th>1</th>\n",
              "      <td>2020-03-11</td>\n",
              "      <td>Flanders</td>\n",
              "      <td>85+</td>\n",
              "      <td>F</td>\n",
              "      <td>1</td>\n",
              "    </tr>\n",
              "    <tr>\n",
              "      <th>2</th>\n",
              "      <td>2020-03-11</td>\n",
              "      <td>Brussels</td>\n",
              "      <td>75-84</td>\n",
              "      <td>M</td>\n",
              "      <td>1</td>\n",
              "    </tr>\n",
              "    <tr>\n",
              "      <th>3</th>\n",
              "      <td>2020-03-11</td>\n",
              "      <td>Brussels</td>\n",
              "      <td>85+</td>\n",
              "      <td>F</td>\n",
              "      <td>1</td>\n",
              "    </tr>\n",
              "    <tr>\n",
              "      <th>4</th>\n",
              "      <td>2020-03-12</td>\n",
              "      <td>Brussels</td>\n",
              "      <td>75-84</td>\n",
              "      <td>M</td>\n",
              "      <td>1</td>\n",
              "    </tr>\n",
              "  </tbody>\n",
              "</table>\n",
              "</div>"
            ],
            "text/plain": [
              "         DATE    REGION AGEGROUP SEX  DEATHS\n",
              "0  2020-03-10  Brussels      85+   F       1\n",
              "1  2020-03-11  Flanders      85+   F       1\n",
              "2  2020-03-11  Brussels    75-84   M       1\n",
              "3  2020-03-11  Brussels      85+   F       1\n",
              "4  2020-03-12  Brussels    75-84   M       1"
            ]
          },
          "metadata": {
            "tags": []
          },
          "execution_count": 26
        }
      ]
    },
    {
      "cell_type": "code",
      "metadata": {
        "id": "_T3uLfMvSiyI",
        "colab_type": "code",
        "outputId": "567a095d-0bcb-41c0-bddc-9b68b7049c3c",
        "colab": {
          "base_uri": "https://localhost:8080/",
          "height": 84
        }
      },
      "source": [
        "df_dead_sc['REGION'].value_counts()"
      ],
      "execution_count": 0,
      "outputs": [
        {
          "output_type": "execute_result",
          "data": {
            "text/plain": [
              "Wallonia    291\n",
              "Flanders    275\n",
              "Brussels    271\n",
              "Name: REGION, dtype: int64"
            ]
          },
          "metadata": {
            "tags": []
          },
          "execution_count": 27
        }
      ]
    },
    {
      "cell_type": "code",
      "metadata": {
        "id": "vfCaTOwBSo8I",
        "colab_type": "code",
        "outputId": "a1032171-31f0-4ebe-e4a3-e33d1851ebe2",
        "colab": {
          "base_uri": "https://localhost:8080/",
          "height": 134
        }
      },
      "source": [
        "df_dead_sc['AGEGROUP'].value_counts()"
      ],
      "execution_count": 0,
      "outputs": [
        {
          "output_type": "execute_result",
          "data": {
            "text/plain": [
              "85+      223\n",
              "75-84    205\n",
              "65-74    179\n",
              "45-64    132\n",
              "25-44     19\n",
              "0-24       1\n",
              "Name: AGEGROUP, dtype: int64"
            ]
          },
          "metadata": {
            "tags": []
          },
          "execution_count": 28
        }
      ]
    },
    {
      "cell_type": "code",
      "metadata": {
        "id": "yPa9HmTOSsg4",
        "colab_type": "code",
        "colab": {}
      },
      "source": [
        "df_inhab['AGEGROUP_sc'] =pd.cut(df_inhab['CD_AGE'], bins=[0,24,44,64,74,84,200], labels=['0-24','25-44','45-64','65-74','75-84','85+'], include_lowest=True)"
      ],
      "execution_count": 0,
      "outputs": []
    },
    {
      "cell_type": "code",
      "metadata": {
        "id": "nAu4p7nuTQzC",
        "colab_type": "code",
        "outputId": "a016ea76-b5fc-41ae-842f-d34c79a010a2",
        "colab": {
          "base_uri": "https://localhost:8080/",
          "height": 254
        }
      },
      "source": [
        "df_inhab.groupby('AGEGROUP_sc').agg(lowest_age=('CD_AGE', 'min'), highest_age=('CD_AGE', max))"
      ],
      "execution_count": 0,
      "outputs": [
        {
          "output_type": "execute_result",
          "data": {
            "text/html": [
              "<div>\n",
              "<style scoped>\n",
              "    .dataframe tbody tr th:only-of-type {\n",
              "        vertical-align: middle;\n",
              "    }\n",
              "\n",
              "    .dataframe tbody tr th {\n",
              "        vertical-align: top;\n",
              "    }\n",
              "\n",
              "    .dataframe thead th {\n",
              "        text-align: right;\n",
              "    }\n",
              "</style>\n",
              "<table border=\"1\" class=\"dataframe\">\n",
              "  <thead>\n",
              "    <tr style=\"text-align: right;\">\n",
              "      <th></th>\n",
              "      <th>lowest_age</th>\n",
              "      <th>highest_age</th>\n",
              "    </tr>\n",
              "    <tr>\n",
              "      <th>AGEGROUP_sc</th>\n",
              "      <th></th>\n",
              "      <th></th>\n",
              "    </tr>\n",
              "  </thead>\n",
              "  <tbody>\n",
              "    <tr>\n",
              "      <th>0-24</th>\n",
              "      <td>0</td>\n",
              "      <td>24</td>\n",
              "    </tr>\n",
              "    <tr>\n",
              "      <th>25-44</th>\n",
              "      <td>25</td>\n",
              "      <td>44</td>\n",
              "    </tr>\n",
              "    <tr>\n",
              "      <th>45-64</th>\n",
              "      <td>45</td>\n",
              "      <td>64</td>\n",
              "    </tr>\n",
              "    <tr>\n",
              "      <th>65-74</th>\n",
              "      <td>65</td>\n",
              "      <td>74</td>\n",
              "    </tr>\n",
              "    <tr>\n",
              "      <th>75-84</th>\n",
              "      <td>75</td>\n",
              "      <td>84</td>\n",
              "    </tr>\n",
              "    <tr>\n",
              "      <th>85+</th>\n",
              "      <td>85</td>\n",
              "      <td>110</td>\n",
              "    </tr>\n",
              "  </tbody>\n",
              "</table>\n",
              "</div>"
            ],
            "text/plain": [
              "             lowest_age  highest_age\n",
              "AGEGROUP_sc                         \n",
              "0-24                  0           24\n",
              "25-44                25           44\n",
              "45-64                45           64\n",
              "65-74                65           74\n",
              "75-84                75           84\n",
              "85+                  85          110"
            ]
          },
          "metadata": {
            "tags": []
          },
          "execution_count": 30
        }
      ]
    },
    {
      "cell_type": "code",
      "metadata": {
        "id": "ev3L3cbUTfmP",
        "colab_type": "code",
        "outputId": "30b1d917-7ebd-44ea-ade2-76dc995496fe",
        "colab": {
          "base_uri": "https://localhost:8080/",
          "height": 299
        }
      },
      "source": [
        "df_inhab.head()"
      ],
      "execution_count": 0,
      "outputs": [
        {
          "output_type": "execute_result",
          "data": {
            "text/html": [
              "<div>\n",
              "<style scoped>\n",
              "    .dataframe tbody tr th:only-of-type {\n",
              "        vertical-align: middle;\n",
              "    }\n",
              "\n",
              "    .dataframe tbody tr th {\n",
              "        vertical-align: top;\n",
              "    }\n",
              "\n",
              "    .dataframe thead th {\n",
              "        text-align: right;\n",
              "    }\n",
              "</style>\n",
              "<table border=\"1\" class=\"dataframe\">\n",
              "  <thead>\n",
              "    <tr style=\"text-align: right;\">\n",
              "      <th></th>\n",
              "      <th>CD_REFNIS</th>\n",
              "      <th>TX_DESCR_NL</th>\n",
              "      <th>TX_DESCR_FR</th>\n",
              "      <th>CD_DSTR_REFNIS</th>\n",
              "      <th>TX_ADM_DSTR_DESCR_NL</th>\n",
              "      <th>TX_ADM_DSTR_DESCR_FR</th>\n",
              "      <th>CD_PROV_REFNIS</th>\n",
              "      <th>TX_PROV_DESCR_NL</th>\n",
              "      <th>TX_PROV_DESCR_FR</th>\n",
              "      <th>CD_RGN_REFNIS</th>\n",
              "      <th>TX_RGN_DESCR_NL</th>\n",
              "      <th>TX_RGN_DESCR_FR</th>\n",
              "      <th>CD_SEX</th>\n",
              "      <th>CD_NATLTY</th>\n",
              "      <th>TX_NATLTY_NL</th>\n",
              "      <th>TX_NATLTY_FR</th>\n",
              "      <th>CD_CIV_STS</th>\n",
              "      <th>TX_CIV_STS_NL</th>\n",
              "      <th>TX_CIV_STS_FR</th>\n",
              "      <th>CD_AGE</th>\n",
              "      <th>MS_POPULATION</th>\n",
              "      <th>sc_provence</th>\n",
              "      <th>AGEGROUP</th>\n",
              "      <th>AGEGROUP_sc</th>\n",
              "    </tr>\n",
              "  </thead>\n",
              "  <tbody>\n",
              "    <tr>\n",
              "      <th>0</th>\n",
              "      <td>11001</td>\n",
              "      <td>Aartselaar</td>\n",
              "      <td>Aartselaar</td>\n",
              "      <td>11000</td>\n",
              "      <td>Arrondissement Antwerpen</td>\n",
              "      <td>Arrondissement d’Anvers</td>\n",
              "      <td>10000.0</td>\n",
              "      <td>Provincie Antwerpen</td>\n",
              "      <td>Province d’Anvers</td>\n",
              "      <td>2000</td>\n",
              "      <td>Vlaams Gewest</td>\n",
              "      <td>Région flamande</td>\n",
              "      <td>F</td>\n",
              "      <td>BEL</td>\n",
              "      <td>Belgen</td>\n",
              "      <td>Belges</td>\n",
              "      <td>4</td>\n",
              "      <td>Gescheiden</td>\n",
              "      <td>Divorcé</td>\n",
              "      <td>69</td>\n",
              "      <td>11</td>\n",
              "      <td>Antwerpen</td>\n",
              "      <td>60-69</td>\n",
              "      <td>65-74</td>\n",
              "    </tr>\n",
              "    <tr>\n",
              "      <th>1</th>\n",
              "      <td>11001</td>\n",
              "      <td>Aartselaar</td>\n",
              "      <td>Aartselaar</td>\n",
              "      <td>11000</td>\n",
              "      <td>Arrondissement Antwerpen</td>\n",
              "      <td>Arrondissement d’Anvers</td>\n",
              "      <td>10000.0</td>\n",
              "      <td>Provincie Antwerpen</td>\n",
              "      <td>Province d’Anvers</td>\n",
              "      <td>2000</td>\n",
              "      <td>Vlaams Gewest</td>\n",
              "      <td>Région flamande</td>\n",
              "      <td>F</td>\n",
              "      <td>BEL</td>\n",
              "      <td>Belgen</td>\n",
              "      <td>Belges</td>\n",
              "      <td>4</td>\n",
              "      <td>Gescheiden</td>\n",
              "      <td>Divorcé</td>\n",
              "      <td>80</td>\n",
              "      <td>3</td>\n",
              "      <td>Antwerpen</td>\n",
              "      <td>70-79</td>\n",
              "      <td>75-84</td>\n",
              "    </tr>\n",
              "    <tr>\n",
              "      <th>2</th>\n",
              "      <td>11001</td>\n",
              "      <td>Aartselaar</td>\n",
              "      <td>Aartselaar</td>\n",
              "      <td>11000</td>\n",
              "      <td>Arrondissement Antwerpen</td>\n",
              "      <td>Arrondissement d’Anvers</td>\n",
              "      <td>10000.0</td>\n",
              "      <td>Provincie Antwerpen</td>\n",
              "      <td>Province d’Anvers</td>\n",
              "      <td>2000</td>\n",
              "      <td>Vlaams Gewest</td>\n",
              "      <td>Région flamande</td>\n",
              "      <td>M</td>\n",
              "      <td>BEL</td>\n",
              "      <td>Belgen</td>\n",
              "      <td>Belges</td>\n",
              "      <td>4</td>\n",
              "      <td>Gescheiden</td>\n",
              "      <td>Divorcé</td>\n",
              "      <td>30</td>\n",
              "      <td>2</td>\n",
              "      <td>Antwerpen</td>\n",
              "      <td>20-29</td>\n",
              "      <td>25-44</td>\n",
              "    </tr>\n",
              "    <tr>\n",
              "      <th>3</th>\n",
              "      <td>11001</td>\n",
              "      <td>Aartselaar</td>\n",
              "      <td>Aartselaar</td>\n",
              "      <td>11000</td>\n",
              "      <td>Arrondissement Antwerpen</td>\n",
              "      <td>Arrondissement d’Anvers</td>\n",
              "      <td>10000.0</td>\n",
              "      <td>Provincie Antwerpen</td>\n",
              "      <td>Province d’Anvers</td>\n",
              "      <td>2000</td>\n",
              "      <td>Vlaams Gewest</td>\n",
              "      <td>Région flamande</td>\n",
              "      <td>F</td>\n",
              "      <td>BEL</td>\n",
              "      <td>Belgen</td>\n",
              "      <td>Belges</td>\n",
              "      <td>4</td>\n",
              "      <td>Gescheiden</td>\n",
              "      <td>Divorcé</td>\n",
              "      <td>48</td>\n",
              "      <td>26</td>\n",
              "      <td>Antwerpen</td>\n",
              "      <td>40-49</td>\n",
              "      <td>45-64</td>\n",
              "    </tr>\n",
              "    <tr>\n",
              "      <th>4</th>\n",
              "      <td>11001</td>\n",
              "      <td>Aartselaar</td>\n",
              "      <td>Aartselaar</td>\n",
              "      <td>11000</td>\n",
              "      <td>Arrondissement Antwerpen</td>\n",
              "      <td>Arrondissement d’Anvers</td>\n",
              "      <td>10000.0</td>\n",
              "      <td>Provincie Antwerpen</td>\n",
              "      <td>Province d’Anvers</td>\n",
              "      <td>2000</td>\n",
              "      <td>Vlaams Gewest</td>\n",
              "      <td>Région flamande</td>\n",
              "      <td>F</td>\n",
              "      <td>BEL</td>\n",
              "      <td>Belgen</td>\n",
              "      <td>Belges</td>\n",
              "      <td>4</td>\n",
              "      <td>Gescheiden</td>\n",
              "      <td>Divorcé</td>\n",
              "      <td>76</td>\n",
              "      <td>2</td>\n",
              "      <td>Antwerpen</td>\n",
              "      <td>70-79</td>\n",
              "      <td>75-84</td>\n",
              "    </tr>\n",
              "  </tbody>\n",
              "</table>\n",
              "</div>"
            ],
            "text/plain": [
              "   CD_REFNIS TX_DESCR_NL TX_DESCR_FR  ...  sc_provence AGEGROUP AGEGROUP_sc\n",
              "0      11001  Aartselaar  Aartselaar  ...    Antwerpen    60-69       65-74\n",
              "1      11001  Aartselaar  Aartselaar  ...    Antwerpen    70-79       75-84\n",
              "2      11001  Aartselaar  Aartselaar  ...    Antwerpen    20-29       25-44\n",
              "3      11001  Aartselaar  Aartselaar  ...    Antwerpen    40-49       45-64\n",
              "4      11001  Aartselaar  Aartselaar  ...    Antwerpen    70-79       75-84\n",
              "\n",
              "[5 rows x 24 columns]"
            ]
          },
          "metadata": {
            "tags": []
          },
          "execution_count": 31
        }
      ]
    },
    {
      "cell_type": "code",
      "metadata": {
        "id": "jlEfYNJKUash",
        "colab_type": "code",
        "outputId": "089e60db-5a31-4909-e94d-0199a45395d6",
        "colab": {
          "base_uri": "https://localhost:8080/",
          "height": 34
        }
      },
      "source": [
        "df_dead_sc['REGION'].unique()"
      ],
      "execution_count": 0,
      "outputs": [
        {
          "output_type": "execute_result",
          "data": {
            "text/plain": [
              "array(['Brussels', 'Flanders', 'Wallonia'], dtype=object)"
            ]
          },
          "metadata": {
            "tags": []
          },
          "execution_count": 32
        }
      ]
    },
    {
      "cell_type": "code",
      "metadata": {
        "id": "f_q_DyCPUEeC",
        "colab_type": "code",
        "outputId": "d675e12e-0606-459b-bb5c-f27de8ad3eea",
        "colab": {
          "base_uri": "https://localhost:8080/",
          "height": 84
        }
      },
      "source": [
        "df_inhab['TX_RGN_DESCR_NL'].value_counts()"
      ],
      "execution_count": 0,
      "outputs": [
        {
          "output_type": "execute_result",
          "data": {
            "text/plain": [
              "Vlaams Gewest                     242865\n",
              "Waals Gewest                      199003\n",
              "Brussels Hoofdstedelijk Gewest     21513\n",
              "Name: TX_RGN_DESCR_NL, dtype: int64"
            ]
          },
          "metadata": {
            "tags": []
          },
          "execution_count": 33
        }
      ]
    },
    {
      "cell_type": "code",
      "metadata": {
        "id": "5t-1wUIEV_EM",
        "colab_type": "code",
        "colab": {}
      },
      "source": [
        "df_inhab_gender_prov = df_inhab.groupby(['TX_RGN_DESCR_NL', 'CD_SEX', 'AGEGROUP_sc'])['MS_POPULATION'].sum().reset_index()"
      ],
      "execution_count": 0,
      "outputs": []
    },
    {
      "cell_type": "code",
      "metadata": {
        "id": "t71Fi_w0Ub1q",
        "colab_type": "code",
        "colab": {}
      },
      "source": [
        "region_sc_to_region_inhad = {'Flanders':'Vlaams Gewest', 'Wallonia':'Waals Gewest', 'Brussels':'Brussels Hoofdstedelijk Gewest'}"
      ],
      "execution_count": 0,
      "outputs": []
    },
    {
      "cell_type": "code",
      "metadata": {
        "id": "NNbhiBl6UN_v",
        "colab_type": "code",
        "colab": {}
      },
      "source": [
        "df_dead_sc['TX_RGN_DESCR_NL'] = df_dead_sc['REGION'].map(region_sc_to_region_inhad)"
      ],
      "execution_count": 0,
      "outputs": []
    },
    {
      "cell_type": "code",
      "metadata": {
        "id": "bWY7St4FUxvy",
        "colab_type": "code",
        "outputId": "0b0090e1-71fd-4f46-c741-42feefc2ce5f",
        "colab": {
          "base_uri": "https://localhost:8080/",
          "height": 571
        }
      },
      "source": [
        "df_dead_sc.groupby(['TX_RGN_DESCR_NL', 'AGEGROUP', 'SEX'])['DEATHS'].sum()"
      ],
      "execution_count": 0,
      "outputs": [
        {
          "output_type": "execute_result",
          "data": {
            "text/plain": [
              "TX_RGN_DESCR_NL                 AGEGROUP  SEX\n",
              "Brussels Hoofdstedelijk Gewest  25-44     F        1\n",
              "                                          M        4\n",
              "                                45-64     F       21\n",
              "                                          M       43\n",
              "                                65-74     F       42\n",
              "                                          M       71\n",
              "                                75-84     F      128\n",
              "                                          M      170\n",
              "                                85+       F      270\n",
              "                                          M      186\n",
              "Vlaams Gewest                   0-24      F        1\n",
              "                                25-44     F        2\n",
              "                                          M        3\n",
              "                                45-64     F       27\n",
              "                                          M       63\n",
              "                                65-74     F       67\n",
              "                                          M      130\n",
              "                                75-84     F      199\n",
              "                                          M      335\n",
              "                                85+       F      232\n",
              "                                          M      309\n",
              "Waals Gewest                    25-44     F        5\n",
              "                                          M        4\n",
              "                                45-64     F       41\n",
              "                                          M       89\n",
              "                                65-74     F       98\n",
              "                                          M      186\n",
              "                                75-84     F      290\n",
              "                                          M      300\n",
              "                                85+       F      704\n",
              "                                          M      421\n",
              "Name: DEATHS, dtype: int64"
            ]
          },
          "metadata": {
            "tags": []
          },
          "execution_count": 37
        }
      ]
    },
    {
      "cell_type": "code",
      "metadata": {
        "id": "0o0V6jvQVGqX",
        "colab_type": "code",
        "colab": {}
      },
      "source": [
        "df_dead_sc_region_agegroup_gender = df_dead_sc.groupby(['TX_RGN_DESCR_NL', 'AGEGROUP', 'SEX'])['DEATHS'].sum().reset_index()"
      ],
      "execution_count": 0,
      "outputs": []
    },
    {
      "cell_type": "code",
      "metadata": {
        "id": "0D-Rax8AVWa3",
        "colab_type": "code",
        "colab": {}
      },
      "source": [
        "df_inhab_gender_prov_deaths = pd.merge(df_inhab_gender_prov, df_dead_sc_region_agegroup_gender, left_on=['TX_RGN_DESCR_NL', 'AGEGROUP_sc', 'CD_SEX'], right_on=['TX_RGN_DESCR_NL', 'AGEGROUP', 'SEX'])"
      ],
      "execution_count": 0,
      "outputs": []
    },
    {
      "cell_type": "code",
      "metadata": {
        "id": "eUtdaeB8W-lM",
        "colab_type": "code",
        "outputId": "9fe5af88-25e1-4961-a207-46c8d847000b",
        "colab": {
          "base_uri": "https://localhost:8080/",
          "height": 34
        }
      },
      "source": [
        "df_inhab_gender_prov_deaths['MS_POPULATION'].sum()"
      ],
      "execution_count": 0,
      "outputs": [
        {
          "output_type": "execute_result",
          "data": {
            "text/plain": [
              "9077403"
            ]
          },
          "metadata": {
            "tags": []
          },
          "execution_count": 40
        }
      ]
    },
    {
      "cell_type": "code",
      "metadata": {
        "id": "JobWsLcMXiIO",
        "colab_type": "code",
        "outputId": "fff93843-0190-4b78-eeb6-2fdb391630d1",
        "colab": {
          "base_uri": "https://localhost:8080/",
          "height": 34
        }
      },
      "source": [
        "df_inhab_gender_prov_deaths['DEATHS'].sum()"
      ],
      "execution_count": 0,
      "outputs": [
        {
          "output_type": "execute_result",
          "data": {
            "text/plain": [
              "4442"
            ]
          },
          "metadata": {
            "tags": []
          },
          "execution_count": 41
        }
      ]
    },
    {
      "cell_type": "code",
      "metadata": {
        "id": "tx1D1WpNYCeL",
        "colab_type": "code",
        "outputId": "a8174851-65cf-444e-ef09-aa50f06b74fd",
        "colab": {
          "base_uri": "https://localhost:8080/",
          "height": 965
        }
      },
      "source": [
        "df_inhab_gender_prov_deaths"
      ],
      "execution_count": 0,
      "outputs": [
        {
          "output_type": "execute_result",
          "data": {
            "text/html": [
              "<div>\n",
              "<style scoped>\n",
              "    .dataframe tbody tr th:only-of-type {\n",
              "        vertical-align: middle;\n",
              "    }\n",
              "\n",
              "    .dataframe tbody tr th {\n",
              "        vertical-align: top;\n",
              "    }\n",
              "\n",
              "    .dataframe thead th {\n",
              "        text-align: right;\n",
              "    }\n",
              "</style>\n",
              "<table border=\"1\" class=\"dataframe\">\n",
              "  <thead>\n",
              "    <tr style=\"text-align: right;\">\n",
              "      <th></th>\n",
              "      <th>TX_RGN_DESCR_NL</th>\n",
              "      <th>CD_SEX</th>\n",
              "      <th>AGEGROUP_sc</th>\n",
              "      <th>MS_POPULATION</th>\n",
              "      <th>AGEGROUP</th>\n",
              "      <th>SEX</th>\n",
              "      <th>DEATHS</th>\n",
              "    </tr>\n",
              "  </thead>\n",
              "  <tbody>\n",
              "    <tr>\n",
              "      <th>0</th>\n",
              "      <td>Brussels Hoofdstedelijk Gewest</td>\n",
              "      <td>F</td>\n",
              "      <td>25-44</td>\n",
              "      <td>197579</td>\n",
              "      <td>25-44</td>\n",
              "      <td>F</td>\n",
              "      <td>1</td>\n",
              "    </tr>\n",
              "    <tr>\n",
              "      <th>1</th>\n",
              "      <td>Brussels Hoofdstedelijk Gewest</td>\n",
              "      <td>F</td>\n",
              "      <td>45-64</td>\n",
              "      <td>137628</td>\n",
              "      <td>45-64</td>\n",
              "      <td>F</td>\n",
              "      <td>21</td>\n",
              "    </tr>\n",
              "    <tr>\n",
              "      <th>2</th>\n",
              "      <td>Brussels Hoofdstedelijk Gewest</td>\n",
              "      <td>F</td>\n",
              "      <td>65-74</td>\n",
              "      <td>45214</td>\n",
              "      <td>65-74</td>\n",
              "      <td>F</td>\n",
              "      <td>42</td>\n",
              "    </tr>\n",
              "    <tr>\n",
              "      <th>3</th>\n",
              "      <td>Brussels Hoofdstedelijk Gewest</td>\n",
              "      <td>F</td>\n",
              "      <td>75-84</td>\n",
              "      <td>30059</td>\n",
              "      <td>75-84</td>\n",
              "      <td>F</td>\n",
              "      <td>128</td>\n",
              "    </tr>\n",
              "    <tr>\n",
              "      <th>4</th>\n",
              "      <td>Brussels Hoofdstedelijk Gewest</td>\n",
              "      <td>F</td>\n",
              "      <td>85+</td>\n",
              "      <td>18811</td>\n",
              "      <td>85+</td>\n",
              "      <td>F</td>\n",
              "      <td>270</td>\n",
              "    </tr>\n",
              "    <tr>\n",
              "      <th>5</th>\n",
              "      <td>Brussels Hoofdstedelijk Gewest</td>\n",
              "      <td>M</td>\n",
              "      <td>25-44</td>\n",
              "      <td>194988</td>\n",
              "      <td>25-44</td>\n",
              "      <td>M</td>\n",
              "      <td>4</td>\n",
              "    </tr>\n",
              "    <tr>\n",
              "      <th>6</th>\n",
              "      <td>Brussels Hoofdstedelijk Gewest</td>\n",
              "      <td>M</td>\n",
              "      <td>45-64</td>\n",
              "      <td>140348</td>\n",
              "      <td>45-64</td>\n",
              "      <td>M</td>\n",
              "      <td>43</td>\n",
              "    </tr>\n",
              "    <tr>\n",
              "      <th>7</th>\n",
              "      <td>Brussels Hoofdstedelijk Gewest</td>\n",
              "      <td>M</td>\n",
              "      <td>65-74</td>\n",
              "      <td>36698</td>\n",
              "      <td>65-74</td>\n",
              "      <td>M</td>\n",
              "      <td>71</td>\n",
              "    </tr>\n",
              "    <tr>\n",
              "      <th>8</th>\n",
              "      <td>Brussels Hoofdstedelijk Gewest</td>\n",
              "      <td>M</td>\n",
              "      <td>75-84</td>\n",
              "      <td>19969</td>\n",
              "      <td>75-84</td>\n",
              "      <td>M</td>\n",
              "      <td>170</td>\n",
              "    </tr>\n",
              "    <tr>\n",
              "      <th>9</th>\n",
              "      <td>Brussels Hoofdstedelijk Gewest</td>\n",
              "      <td>M</td>\n",
              "      <td>85+</td>\n",
              "      <td>7918</td>\n",
              "      <td>85+</td>\n",
              "      <td>M</td>\n",
              "      <td>186</td>\n",
              "    </tr>\n",
              "    <tr>\n",
              "      <th>10</th>\n",
              "      <td>Vlaams Gewest</td>\n",
              "      <td>F</td>\n",
              "      <td>0-24</td>\n",
              "      <td>874891</td>\n",
              "      <td>0-24</td>\n",
              "      <td>F</td>\n",
              "      <td>1</td>\n",
              "    </tr>\n",
              "    <tr>\n",
              "      <th>11</th>\n",
              "      <td>Vlaams Gewest</td>\n",
              "      <td>F</td>\n",
              "      <td>25-44</td>\n",
              "      <td>820036</td>\n",
              "      <td>25-44</td>\n",
              "      <td>F</td>\n",
              "      <td>2</td>\n",
              "    </tr>\n",
              "    <tr>\n",
              "      <th>12</th>\n",
              "      <td>Vlaams Gewest</td>\n",
              "      <td>F</td>\n",
              "      <td>45-64</td>\n",
              "      <td>901554</td>\n",
              "      <td>45-64</td>\n",
              "      <td>F</td>\n",
              "      <td>27</td>\n",
              "    </tr>\n",
              "    <tr>\n",
              "      <th>13</th>\n",
              "      <td>Vlaams Gewest</td>\n",
              "      <td>F</td>\n",
              "      <td>65-74</td>\n",
              "      <td>353925</td>\n",
              "      <td>65-74</td>\n",
              "      <td>F</td>\n",
              "      <td>67</td>\n",
              "    </tr>\n",
              "    <tr>\n",
              "      <th>14</th>\n",
              "      <td>Vlaams Gewest</td>\n",
              "      <td>F</td>\n",
              "      <td>75-84</td>\n",
              "      <td>245981</td>\n",
              "      <td>75-84</td>\n",
              "      <td>F</td>\n",
              "      <td>199</td>\n",
              "    </tr>\n",
              "    <tr>\n",
              "      <th>15</th>\n",
              "      <td>Vlaams Gewest</td>\n",
              "      <td>F</td>\n",
              "      <td>85+</td>\n",
              "      <td>132649</td>\n",
              "      <td>85+</td>\n",
              "      <td>F</td>\n",
              "      <td>232</td>\n",
              "    </tr>\n",
              "    <tr>\n",
              "      <th>16</th>\n",
              "      <td>Vlaams Gewest</td>\n",
              "      <td>M</td>\n",
              "      <td>25-44</td>\n",
              "      <td>827281</td>\n",
              "      <td>25-44</td>\n",
              "      <td>M</td>\n",
              "      <td>3</td>\n",
              "    </tr>\n",
              "    <tr>\n",
              "      <th>17</th>\n",
              "      <td>Vlaams Gewest</td>\n",
              "      <td>M</td>\n",
              "      <td>45-64</td>\n",
              "      <td>917008</td>\n",
              "      <td>45-64</td>\n",
              "      <td>M</td>\n",
              "      <td>63</td>\n",
              "    </tr>\n",
              "    <tr>\n",
              "      <th>18</th>\n",
              "      <td>Vlaams Gewest</td>\n",
              "      <td>M</td>\n",
              "      <td>65-74</td>\n",
              "      <td>336242</td>\n",
              "      <td>65-74</td>\n",
              "      <td>M</td>\n",
              "      <td>130</td>\n",
              "    </tr>\n",
              "    <tr>\n",
              "      <th>19</th>\n",
              "      <td>Vlaams Gewest</td>\n",
              "      <td>M</td>\n",
              "      <td>75-84</td>\n",
              "      <td>193576</td>\n",
              "      <td>75-84</td>\n",
              "      <td>M</td>\n",
              "      <td>335</td>\n",
              "    </tr>\n",
              "    <tr>\n",
              "      <th>20</th>\n",
              "      <td>Vlaams Gewest</td>\n",
              "      <td>M</td>\n",
              "      <td>85+</td>\n",
              "      <td>69678</td>\n",
              "      <td>85+</td>\n",
              "      <td>M</td>\n",
              "      <td>309</td>\n",
              "    </tr>\n",
              "    <tr>\n",
              "      <th>21</th>\n",
              "      <td>Waals Gewest</td>\n",
              "      <td>F</td>\n",
              "      <td>25-44</td>\n",
              "      <td>457356</td>\n",
              "      <td>25-44</td>\n",
              "      <td>F</td>\n",
              "      <td>5</td>\n",
              "    </tr>\n",
              "    <tr>\n",
              "      <th>22</th>\n",
              "      <td>Waals Gewest</td>\n",
              "      <td>F</td>\n",
              "      <td>45-64</td>\n",
              "      <td>496668</td>\n",
              "      <td>45-64</td>\n",
              "      <td>F</td>\n",
              "      <td>41</td>\n",
              "    </tr>\n",
              "    <tr>\n",
              "      <th>23</th>\n",
              "      <td>Waals Gewest</td>\n",
              "      <td>F</td>\n",
              "      <td>65-74</td>\n",
              "      <td>199422</td>\n",
              "      <td>65-74</td>\n",
              "      <td>F</td>\n",
              "      <td>98</td>\n",
              "    </tr>\n",
              "    <tr>\n",
              "      <th>24</th>\n",
              "      <td>Waals Gewest</td>\n",
              "      <td>F</td>\n",
              "      <td>75-84</td>\n",
              "      <td>118224</td>\n",
              "      <td>75-84</td>\n",
              "      <td>F</td>\n",
              "      <td>290</td>\n",
              "    </tr>\n",
              "    <tr>\n",
              "      <th>25</th>\n",
              "      <td>Waals Gewest</td>\n",
              "      <td>F</td>\n",
              "      <td>85+</td>\n",
              "      <td>68502</td>\n",
              "      <td>85+</td>\n",
              "      <td>F</td>\n",
              "      <td>704</td>\n",
              "    </tr>\n",
              "    <tr>\n",
              "      <th>26</th>\n",
              "      <td>Waals Gewest</td>\n",
              "      <td>M</td>\n",
              "      <td>25-44</td>\n",
              "      <td>459444</td>\n",
              "      <td>25-44</td>\n",
              "      <td>M</td>\n",
              "      <td>4</td>\n",
              "    </tr>\n",
              "    <tr>\n",
              "      <th>27</th>\n",
              "      <td>Waals Gewest</td>\n",
              "      <td>M</td>\n",
              "      <td>45-64</td>\n",
              "      <td>487322</td>\n",
              "      <td>45-64</td>\n",
              "      <td>M</td>\n",
              "      <td>89</td>\n",
              "    </tr>\n",
              "    <tr>\n",
              "      <th>28</th>\n",
              "      <td>Waals Gewest</td>\n",
              "      <td>M</td>\n",
              "      <td>65-74</td>\n",
              "      <td>175508</td>\n",
              "      <td>65-74</td>\n",
              "      <td>M</td>\n",
              "      <td>186</td>\n",
              "    </tr>\n",
              "    <tr>\n",
              "      <th>29</th>\n",
              "      <td>Waals Gewest</td>\n",
              "      <td>M</td>\n",
              "      <td>75-84</td>\n",
              "      <td>82876</td>\n",
              "      <td>75-84</td>\n",
              "      <td>M</td>\n",
              "      <td>300</td>\n",
              "    </tr>\n",
              "    <tr>\n",
              "      <th>30</th>\n",
              "      <td>Waals Gewest</td>\n",
              "      <td>M</td>\n",
              "      <td>85+</td>\n",
              "      <td>30048</td>\n",
              "      <td>85+</td>\n",
              "      <td>M</td>\n",
              "      <td>421</td>\n",
              "    </tr>\n",
              "  </tbody>\n",
              "</table>\n",
              "</div>"
            ],
            "text/plain": [
              "                   TX_RGN_DESCR_NL CD_SEX AGEGROUP_sc  ...  AGEGROUP SEX DEATHS\n",
              "0   Brussels Hoofdstedelijk Gewest      F       25-44  ...     25-44   F      1\n",
              "1   Brussels Hoofdstedelijk Gewest      F       45-64  ...     45-64   F     21\n",
              "2   Brussels Hoofdstedelijk Gewest      F       65-74  ...     65-74   F     42\n",
              "3   Brussels Hoofdstedelijk Gewest      F       75-84  ...     75-84   F    128\n",
              "4   Brussels Hoofdstedelijk Gewest      F         85+  ...       85+   F    270\n",
              "5   Brussels Hoofdstedelijk Gewest      M       25-44  ...     25-44   M      4\n",
              "6   Brussels Hoofdstedelijk Gewest      M       45-64  ...     45-64   M     43\n",
              "7   Brussels Hoofdstedelijk Gewest      M       65-74  ...     65-74   M     71\n",
              "8   Brussels Hoofdstedelijk Gewest      M       75-84  ...     75-84   M    170\n",
              "9   Brussels Hoofdstedelijk Gewest      M         85+  ...       85+   M    186\n",
              "10                   Vlaams Gewest      F        0-24  ...      0-24   F      1\n",
              "11                   Vlaams Gewest      F       25-44  ...     25-44   F      2\n",
              "12                   Vlaams Gewest      F       45-64  ...     45-64   F     27\n",
              "13                   Vlaams Gewest      F       65-74  ...     65-74   F     67\n",
              "14                   Vlaams Gewest      F       75-84  ...     75-84   F    199\n",
              "15                   Vlaams Gewest      F         85+  ...       85+   F    232\n",
              "16                   Vlaams Gewest      M       25-44  ...     25-44   M      3\n",
              "17                   Vlaams Gewest      M       45-64  ...     45-64   M     63\n",
              "18                   Vlaams Gewest      M       65-74  ...     65-74   M    130\n",
              "19                   Vlaams Gewest      M       75-84  ...     75-84   M    335\n",
              "20                   Vlaams Gewest      M         85+  ...       85+   M    309\n",
              "21                    Waals Gewest      F       25-44  ...     25-44   F      5\n",
              "22                    Waals Gewest      F       45-64  ...     45-64   F     41\n",
              "23                    Waals Gewest      F       65-74  ...     65-74   F     98\n",
              "24                    Waals Gewest      F       75-84  ...     75-84   F    290\n",
              "25                    Waals Gewest      F         85+  ...       85+   F    704\n",
              "26                    Waals Gewest      M       25-44  ...     25-44   M      4\n",
              "27                    Waals Gewest      M       45-64  ...     45-64   M     89\n",
              "28                    Waals Gewest      M       65-74  ...     65-74   M    186\n",
              "29                    Waals Gewest      M       75-84  ...     75-84   M    300\n",
              "30                    Waals Gewest      M         85+  ...       85+   M    421\n",
              "\n",
              "[31 rows x 7 columns]"
            ]
          },
          "metadata": {
            "tags": []
          },
          "execution_count": 42
        }
      ]
    },
    {
      "cell_type": "code",
      "metadata": {
        "id": "bydeB_LbXcaM",
        "colab_type": "code",
        "colab": {}
      },
      "source": [
        "df_inhab_gender_prov_deaths['percentage'] = df_inhab_gender_prov_deaths['DEATHS']/df_inhab_gender_prov_deaths['MS_POPULATION']"
      ],
      "execution_count": 0,
      "outputs": []
    },
    {
      "cell_type": "code",
      "metadata": {
        "id": "MCxmCX_BXwJl",
        "colab_type": "code",
        "colab": {}
      },
      "source": [
        "df_plot = df_inhab_gender_prov_deaths"
      ],
      "execution_count": 0,
      "outputs": []
    },
    {
      "cell_type": "code",
      "metadata": {
        "id": "Nb1bCKzKWUnG",
        "colab_type": "code",
        "outputId": "4857cf13-ce15-4997-c910-3340df13afd8",
        "colab": {
          "base_uri": "https://localhost:8080/",
          "height": 238
        }
      },
      "source": [
        "regions = df_plot['TX_RGN_DESCR_NL'].unique()\n",
        "select_province = alt.selection_single(\n",
        "    name='Select', # name the selection 'Select'\n",
        "    fields=['TX_RGN_DESCR_NL'], # limit selection to the Major_Genre field\n",
        "    init={'TX_RGN_DESCR_NL': 'Vlaams Gewest'}, # use first genre entry as initial value\n",
        "    bind=alt.binding_select(options=regions) # bind to a menu of unique provence values\n",
        ")\n",
        "\n",
        "base = alt.Chart(df_plot).add_selection(\n",
        "    select_province\n",
        ").transform_filter(\n",
        "    select_province\n",
        ").transform_calculate(\n",
        "    gender=alt.expr.if_(alt.datum.SEX == 'M', 'Male', 'Female')\n",
        ").properties(\n",
        "    width=250\n",
        ")\n",
        "\n",
        "left = base.transform_filter(\n",
        "    alt.datum.gender == 'Female'\n",
        ").encode(\n",
        "    y=alt.Y('AGEGROUP:O', axis=None),\n",
        "    x=alt.X('percentage:Q', axis=alt.Axis(format='.2%'),\n",
        "            title='Percentage',\n",
        "            sort=alt.SortOrder('descending'),\n",
        "            # scale=alt.Scale(domain=(0.0, 0.02), clamp=True)\n",
        "            ),\n",
        "    color=alt.Color('gender:N', scale=color_scale, legend=None),\n",
        "    tooltip=[alt.Tooltip('percentage', format='.2%')]\n",
        ").mark_bar().properties(title='Female')\n",
        "\n",
        "middle = base.encode(\n",
        "    y=alt.Y('AGEGROUP:O', axis=None),\n",
        "    text=alt.Text('AGEGROUP:O'),\n",
        ").mark_text().properties(width=20)\n",
        "\n",
        "right = base.transform_filter(\n",
        "    alt.datum.gender == 'Male'\n",
        ").encode(\n",
        "    y=alt.Y('AGEGROUP:O', axis=None),\n",
        "    # x=alt.X('percentage:Q', title='Percentage', axis=alt.Axis(format='.2%'), scale=alt.Scale(domain=(0.0, 0.02), clamp=True)),\n",
        "    x=alt.X('percentage:Q', title='Percentage', axis=alt.Axis(format='.2%')),\n",
        "    color=alt.Color('gender:N', scale=color_scale, legend=None),\n",
        "    tooltip=[alt.Tooltip('percentage', format='.2%')]\n",
        ").mark_bar().properties(title='Male')\n",
        "\n",
        "alt.concat(left, middle, right, spacing=5).properties(title='Percentage of covid-19 deaths per province, gender and age group relative to number of inhabitants in Belgium')"
      ],
      "execution_count": 0,
      "outputs": [
        {
          "output_type": "execute_result",
          "data": {
            "text/plain": [
              "alt.ConcatChart(...)"
            ],
            "text/html": [
              "\n",
              "<div id=\"altair-viz-2dad2a5aef0a428894b0b92b6d97b4df\"></div>\n",
              "<script type=\"text/javascript\">\n",
              "  (function(spec, embedOpt){\n",
              "    let outputDiv = document.currentScript.previousElementSibling;\n",
              "    if (outputDiv.id !== \"altair-viz-2dad2a5aef0a428894b0b92b6d97b4df\") {\n",
              "      outputDiv = document.getElementById(\"altair-viz-2dad2a5aef0a428894b0b92b6d97b4df\");\n",
              "    }\n",
              "    const paths = {\n",
              "      \"vega\": \"https://cdn.jsdelivr.net/npm//vega@5?noext\",\n",
              "      \"vega-lib\": \"https://cdn.jsdelivr.net/npm//vega-lib?noext\",\n",
              "      \"vega-lite\": \"https://cdn.jsdelivr.net/npm//vega-lite@4.8.1?noext\",\n",
              "      \"vega-embed\": \"https://cdn.jsdelivr.net/npm//vega-embed@6?noext\",\n",
              "    };\n",
              "\n",
              "    function loadScript(lib) {\n",
              "      return new Promise(function(resolve, reject) {\n",
              "        var s = document.createElement('script');\n",
              "        s.src = paths[lib];\n",
              "        s.async = true;\n",
              "        s.onload = () => resolve(paths[lib]);\n",
              "        s.onerror = () => reject(`Error loading script: ${paths[lib]}`);\n",
              "        document.getElementsByTagName(\"head\")[0].appendChild(s);\n",
              "      });\n",
              "    }\n",
              "\n",
              "    function showError(err) {\n",
              "      outputDiv.innerHTML = `<div class=\"error\" style=\"color:red;\">${err}</div>`;\n",
              "      throw err;\n",
              "    }\n",
              "\n",
              "    function displayChart(vegaEmbed) {\n",
              "      vegaEmbed(outputDiv, spec, embedOpt)\n",
              "        .catch(err => showError(`Javascript Error: ${err.message}<br>This usually means there's a typo in your chart specification. See the javascript console for the full traceback.`));\n",
              "    }\n",
              "\n",
              "    if(typeof define === \"function\" && define.amd) {\n",
              "      requirejs.config({paths});\n",
              "      require([\"vega-embed\"], displayChart, err => showError(`Error loading script: ${err.message}`));\n",
              "    } else if (typeof vegaEmbed === \"function\") {\n",
              "      displayChart(vegaEmbed);\n",
              "    } else {\n",
              "      loadScript(\"vega\")\n",
              "        .then(() => loadScript(\"vega-lite\"))\n",
              "        .then(() => loadScript(\"vega-embed\"))\n",
              "        .catch(showError)\n",
              "        .then(() => displayChart(vegaEmbed));\n",
              "    }\n",
              "  })({\"config\": {\"view\": {\"continuousWidth\": 400, \"continuousHeight\": 300}}, \"concat\": [{\"mark\": \"bar\", \"encoding\": {\"color\": {\"type\": \"nominal\", \"field\": \"gender\", \"legend\": null, \"scale\": {\"domain\": [\"Male\", \"Female\"], \"range\": [\"#1f77b4\", \"#e377c2\"]}}, \"tooltip\": [{\"type\": \"quantitative\", \"field\": \"percentage\", \"format\": \".2%\"}], \"x\": {\"type\": \"quantitative\", \"axis\": {\"format\": \".2%\"}, \"field\": \"percentage\", \"sort\": \"descending\", \"title\": \"Percentage\"}, \"y\": {\"type\": \"ordinal\", \"axis\": null, \"field\": \"AGEGROUP\"}}, \"selection\": {\"Select\": {\"type\": \"single\", \"fields\": [\"TX_RGN_DESCR_NL\"], \"init\": {\"TX_RGN_DESCR_NL\": \"Vlaams Gewest\"}, \"bind\": {\"input\": \"select\", \"options\": [\"Brussels Hoofdstedelijk Gewest\", \"Vlaams Gewest\", \"Waals Gewest\"]}}}, \"title\": \"Female\", \"transform\": [{\"filter\": {\"selection\": \"Select\"}}, {\"calculate\": \"if((datum.SEX === 'M'),'Male','Female')\", \"as\": \"gender\"}, {\"filter\": \"(datum.gender === 'Female')\"}], \"width\": 250}, {\"mark\": \"text\", \"encoding\": {\"text\": {\"type\": \"ordinal\", \"field\": \"AGEGROUP\"}, \"y\": {\"type\": \"ordinal\", \"axis\": null, \"field\": \"AGEGROUP\"}}, \"selection\": {\"Select\": {\"type\": \"single\", \"fields\": [\"TX_RGN_DESCR_NL\"], \"init\": {\"TX_RGN_DESCR_NL\": \"Vlaams Gewest\"}, \"bind\": {\"input\": \"select\", \"options\": [\"Brussels Hoofdstedelijk Gewest\", \"Vlaams Gewest\", \"Waals Gewest\"]}}}, \"transform\": [{\"filter\": {\"selection\": \"Select\"}}, {\"calculate\": \"if((datum.SEX === 'M'),'Male','Female')\", \"as\": \"gender\"}], \"width\": 20}, {\"mark\": \"bar\", \"encoding\": {\"color\": {\"type\": \"nominal\", \"field\": \"gender\", \"legend\": null, \"scale\": {\"domain\": [\"Male\", \"Female\"], \"range\": [\"#1f77b4\", \"#e377c2\"]}}, \"tooltip\": [{\"type\": \"quantitative\", \"field\": \"percentage\", \"format\": \".2%\"}], \"x\": {\"type\": \"quantitative\", \"axis\": {\"format\": \".2%\"}, \"field\": \"percentage\", \"title\": \"Percentage\"}, \"y\": {\"type\": \"ordinal\", \"axis\": null, \"field\": \"AGEGROUP\"}}, \"selection\": {\"Select\": {\"type\": \"single\", \"fields\": [\"TX_RGN_DESCR_NL\"], \"init\": {\"TX_RGN_DESCR_NL\": \"Vlaams Gewest\"}, \"bind\": {\"input\": \"select\", \"options\": [\"Brussels Hoofdstedelijk Gewest\", \"Vlaams Gewest\", \"Waals Gewest\"]}}}, \"title\": \"Male\", \"transform\": [{\"filter\": {\"selection\": \"Select\"}}, {\"calculate\": \"if((datum.SEX === 'M'),'Male','Female')\", \"as\": \"gender\"}, {\"filter\": \"(datum.gender === 'Male')\"}], \"width\": 250}], \"data\": {\"name\": \"data-ed3089c1cca1599e394e5b0dc87c3c00\"}, \"spacing\": 5, \"title\": \"Percentage of covid-19 deaths per province, gender and age group relative to number of inhabitants in Belgium\", \"$schema\": \"https://vega.github.io/schema/vega-lite/v4.8.1.json\", \"datasets\": {\"data-ed3089c1cca1599e394e5b0dc87c3c00\": [{\"TX_RGN_DESCR_NL\": \"Brussels Hoofdstedelijk Gewest\", \"CD_SEX\": \"F\", \"AGEGROUP_sc\": \"25-44\", \"MS_POPULATION\": 197579, \"AGEGROUP\": \"25-44\", \"SEX\": \"F\", \"DEATHS\": 1, \"percentage\": 5.061266632587471e-06}, {\"TX_RGN_DESCR_NL\": \"Brussels Hoofdstedelijk Gewest\", \"CD_SEX\": \"F\", \"AGEGROUP_sc\": \"45-64\", \"MS_POPULATION\": 137628, \"AGEGROUP\": \"45-64\", \"SEX\": \"F\", \"DEATHS\": 21, \"percentage\": 0.00015258522974976024}, {\"TX_RGN_DESCR_NL\": \"Brussels Hoofdstedelijk Gewest\", \"CD_SEX\": \"F\", \"AGEGROUP_sc\": \"65-74\", \"MS_POPULATION\": 45214, \"AGEGROUP\": \"65-74\", \"SEX\": \"F\", \"DEATHS\": 42, \"percentage\": 0.0009289158225328438}, {\"TX_RGN_DESCR_NL\": \"Brussels Hoofdstedelijk Gewest\", \"CD_SEX\": \"F\", \"AGEGROUP_sc\": \"75-84\", \"MS_POPULATION\": 30059, \"AGEGROUP\": \"75-84\", \"SEX\": \"F\", \"DEATHS\": 128, \"percentage\": 0.004258292025682823}, {\"TX_RGN_DESCR_NL\": \"Brussels Hoofdstedelijk Gewest\", \"CD_SEX\": \"F\", \"AGEGROUP_sc\": \"85+\", \"MS_POPULATION\": 18811, \"AGEGROUP\": \"85+\", \"SEX\": \"F\", \"DEATHS\": 270, \"percentage\": 0.014353303917920366}, {\"TX_RGN_DESCR_NL\": \"Brussels Hoofdstedelijk Gewest\", \"CD_SEX\": \"M\", \"AGEGROUP_sc\": \"25-44\", \"MS_POPULATION\": 194988, \"AGEGROUP\": \"25-44\", \"SEX\": \"M\", \"DEATHS\": 4, \"percentage\": 2.0514082917923155e-05}, {\"TX_RGN_DESCR_NL\": \"Brussels Hoofdstedelijk Gewest\", \"CD_SEX\": \"M\", \"AGEGROUP_sc\": \"45-64\", \"MS_POPULATION\": 140348, \"AGEGROUP\": \"45-64\", \"SEX\": \"M\", \"DEATHS\": 43, \"percentage\": 0.00030638128081625674}, {\"TX_RGN_DESCR_NL\": \"Brussels Hoofdstedelijk Gewest\", \"CD_SEX\": \"M\", \"AGEGROUP_sc\": \"65-74\", \"MS_POPULATION\": 36698, \"AGEGROUP\": \"65-74\", \"SEX\": \"M\", \"DEATHS\": 71, \"percentage\": 0.001934710338438062}, {\"TX_RGN_DESCR_NL\": \"Brussels Hoofdstedelijk Gewest\", \"CD_SEX\": \"M\", \"AGEGROUP_sc\": \"75-84\", \"MS_POPULATION\": 19969, \"AGEGROUP\": \"75-84\", \"SEX\": \"M\", \"DEATHS\": 170, \"percentage\": 0.008513195452952076}, {\"TX_RGN_DESCR_NL\": \"Brussels Hoofdstedelijk Gewest\", \"CD_SEX\": \"M\", \"AGEGROUP_sc\": \"85+\", \"MS_POPULATION\": 7918, \"AGEGROUP\": \"85+\", \"SEX\": \"M\", \"DEATHS\": 186, \"percentage\": 0.023490780500126294}, {\"TX_RGN_DESCR_NL\": \"Vlaams Gewest\", \"CD_SEX\": \"F\", \"AGEGROUP_sc\": \"0-24\", \"MS_POPULATION\": 874891, \"AGEGROUP\": \"0-24\", \"SEX\": \"F\", \"DEATHS\": 1, \"percentage\": 1.142999527941195e-06}, {\"TX_RGN_DESCR_NL\": \"Vlaams Gewest\", \"CD_SEX\": \"F\", \"AGEGROUP_sc\": \"25-44\", \"MS_POPULATION\": 820036, \"AGEGROUP\": \"25-44\", \"SEX\": \"F\", \"DEATHS\": 2, \"percentage\": 2.438917315825159e-06}, {\"TX_RGN_DESCR_NL\": \"Vlaams Gewest\", \"CD_SEX\": \"F\", \"AGEGROUP_sc\": \"45-64\", \"MS_POPULATION\": 901554, \"AGEGROUP\": \"45-64\", \"SEX\": \"F\", \"DEATHS\": 27, \"percentage\": 2.994828928716416e-05}, {\"TX_RGN_DESCR_NL\": \"Vlaams Gewest\", \"CD_SEX\": \"F\", \"AGEGROUP_sc\": \"65-74\", \"MS_POPULATION\": 353925, \"AGEGROUP\": \"65-74\", \"SEX\": \"F\", \"DEATHS\": 67, \"percentage\": 0.0001893056438510984}, {\"TX_RGN_DESCR_NL\": \"Vlaams Gewest\", \"CD_SEX\": \"F\", \"AGEGROUP_sc\": \"75-84\", \"MS_POPULATION\": 245981, \"AGEGROUP\": \"75-84\", \"SEX\": \"F\", \"DEATHS\": 199, \"percentage\": 0.0008090055736012131}, {\"TX_RGN_DESCR_NL\": \"Vlaams Gewest\", \"CD_SEX\": \"F\", \"AGEGROUP_sc\": \"85+\", \"MS_POPULATION\": 132649, \"AGEGROUP\": \"85+\", \"SEX\": \"F\", \"DEATHS\": 232, \"percentage\": 0.0017489766225150586}, {\"TX_RGN_DESCR_NL\": \"Vlaams Gewest\", \"CD_SEX\": \"M\", \"AGEGROUP_sc\": \"25-44\", \"MS_POPULATION\": 827281, \"AGEGROUP\": \"25-44\", \"SEX\": \"M\", \"DEATHS\": 3, \"percentage\": 3.626337362999996e-06}, {\"TX_RGN_DESCR_NL\": \"Vlaams Gewest\", \"CD_SEX\": \"M\", \"AGEGROUP_sc\": \"45-64\", \"MS_POPULATION\": 917008, \"AGEGROUP\": \"45-64\", \"SEX\": \"M\", \"DEATHS\": 63, \"percentage\": 6.870169071589342e-05}, {\"TX_RGN_DESCR_NL\": \"Vlaams Gewest\", \"CD_SEX\": \"M\", \"AGEGROUP_sc\": \"65-74\", \"MS_POPULATION\": 336242, \"AGEGROUP\": \"65-74\", \"SEX\": \"M\", \"DEATHS\": 130, \"percentage\": 0.0003866262989156619}, {\"TX_RGN_DESCR_NL\": \"Vlaams Gewest\", \"CD_SEX\": \"M\", \"AGEGROUP_sc\": \"75-84\", \"MS_POPULATION\": 193576, \"AGEGROUP\": \"75-84\", \"SEX\": \"M\", \"DEATHS\": 335, \"percentage\": 0.001730586436335083}, {\"TX_RGN_DESCR_NL\": \"Vlaams Gewest\", \"CD_SEX\": \"M\", \"AGEGROUP_sc\": \"85+\", \"MS_POPULATION\": 69678, \"AGEGROUP\": \"85+\", \"SEX\": \"M\", \"DEATHS\": 309, \"percentage\": 0.004434685266511668}, {\"TX_RGN_DESCR_NL\": \"Waals Gewest\", \"CD_SEX\": \"F\", \"AGEGROUP_sc\": \"25-44\", \"MS_POPULATION\": 457356, \"AGEGROUP\": \"25-44\", \"SEX\": \"F\", \"DEATHS\": 5, \"percentage\": 1.0932402767209788e-05}, {\"TX_RGN_DESCR_NL\": \"Waals Gewest\", \"CD_SEX\": \"F\", \"AGEGROUP_sc\": \"45-64\", \"MS_POPULATION\": 496668, \"AGEGROUP\": \"45-64\", \"SEX\": \"F\", \"DEATHS\": 41, \"percentage\": 8.255011395942561e-05}, {\"TX_RGN_DESCR_NL\": \"Waals Gewest\", \"CD_SEX\": \"F\", \"AGEGROUP_sc\": \"65-74\", \"MS_POPULATION\": 199422, \"AGEGROUP\": \"65-74\", \"SEX\": \"F\", \"DEATHS\": 98, \"percentage\": 0.0004914202043906891}, {\"TX_RGN_DESCR_NL\": \"Waals Gewest\", \"CD_SEX\": \"F\", \"AGEGROUP_sc\": \"75-84\", \"MS_POPULATION\": 118224, \"AGEGROUP\": \"75-84\", \"SEX\": \"F\", \"DEATHS\": 290, \"percentage\": 0.002452970632020571}, {\"TX_RGN_DESCR_NL\": \"Waals Gewest\", \"CD_SEX\": \"F\", \"AGEGROUP_sc\": \"85+\", \"MS_POPULATION\": 68502, \"AGEGROUP\": \"85+\", \"SEX\": \"F\", \"DEATHS\": 704, \"percentage\": 0.010277072202271467}, {\"TX_RGN_DESCR_NL\": \"Waals Gewest\", \"CD_SEX\": \"M\", \"AGEGROUP_sc\": \"25-44\", \"MS_POPULATION\": 459444, \"AGEGROUP\": \"25-44\", \"SEX\": \"M\", \"DEATHS\": 4, \"percentage\": 8.706175290133292e-06}, {\"TX_RGN_DESCR_NL\": \"Waals Gewest\", \"CD_SEX\": \"M\", \"AGEGROUP_sc\": \"45-64\", \"MS_POPULATION\": 487322, \"AGEGROUP\": \"45-64\", \"SEX\": \"M\", \"DEATHS\": 89, \"percentage\": 0.0001826307862152745}, {\"TX_RGN_DESCR_NL\": \"Waals Gewest\", \"CD_SEX\": \"M\", \"AGEGROUP_sc\": \"65-74\", \"MS_POPULATION\": 175508, \"AGEGROUP\": \"65-74\", \"SEX\": \"M\", \"DEATHS\": 186, \"percentage\": 0.0010597807507350093}, {\"TX_RGN_DESCR_NL\": \"Waals Gewest\", \"CD_SEX\": \"M\", \"AGEGROUP_sc\": \"75-84\", \"MS_POPULATION\": 82876, \"AGEGROUP\": \"75-84\", \"SEX\": \"M\", \"DEATHS\": 300, \"percentage\": 0.003619865823640137}, {\"TX_RGN_DESCR_NL\": \"Waals Gewest\", \"CD_SEX\": \"M\", \"AGEGROUP_sc\": \"85+\", \"MS_POPULATION\": 30048, \"AGEGROUP\": \"85+\", \"SEX\": \"M\", \"DEATHS\": 421, \"percentage\": 0.014010915867944621}]}}, {\"mode\": \"vega-lite\"});\n",
              "</script>"
            ]
          },
          "metadata": {
            "tags": []
          },
          "execution_count": 45
        }
      ]
    },
    {
      "cell_type": "code",
      "metadata": {
        "id": "XDn8zO0nXuVm",
        "colab_type": "code",
        "colab": {}
      },
      "source": [
        ""
      ],
      "execution_count": 0,
      "outputs": []
    }
  ]
}